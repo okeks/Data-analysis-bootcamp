{
 "cells": [
  {
   "cell_type": "markdown",
   "metadata": {},
   "source": [
    "___\n",
    "\n",
    "<a href='http://www.pieriandata.com'> <img src='../Pierian_Data_Logo.png' /></a>\n",
    "___\n",
    "# Plotly and Cufflinks"
   ]
  },
  {
   "cell_type": "markdown",
   "metadata": {},
   "source": [
    "Plotly is a library that allows you to create interactive plots that you can use in dashboards or websites (you can save them as html files or static images).\n",
    "\n",
    "## Installation\n",
    "\n",
    "In order for this all to work, you'll need to install plotly and cufflinks to call plots directly off of a pandas dataframe. These libraries are not currently available through **conda** but are available through **pip**. Install the libraries at your command line/terminal using:\n",
    "\n",
    "    pip install plotly\n",
    "    pip install cufflinks\n",
    "\n",
    "** NOTE: Make sure you only have one installation of Python on your computer when you do this, otherwise the installation may not work. **\n",
    "\n",
    "## Imports and Set-up"
   ]
  },
  {
   "cell_type": "code",
   "execution_count": 2,
   "metadata": {},
   "outputs": [],
   "source": [
    "import pandas as pd\n",
    "import numpy as np\n",
    "%matplotlib inline"
   ]
  },
  {
   "cell_type": "code",
   "execution_count": 3,
   "metadata": {},
   "outputs": [
    {
     "name": "stdout",
     "output_type": "stream",
     "text": [
      "4.6.0\n"
     ]
    }
   ],
   "source": [
    "from plotly import __version__\n",
    "from plotly.offline import download_plotlyjs, init_notebook_mode, plot, iplot\n",
    "\n",
    "print(__version__) # requires version >= 1.9.0"
   ]
  },
  {
   "cell_type": "code",
   "execution_count": 4,
   "metadata": {},
   "outputs": [],
   "source": [
    "import cufflinks as cf"
   ]
  },
  {
   "cell_type": "code",
   "execution_count": 5,
   "metadata": {},
   "outputs": [
    {
     "data": {
      "text/html": [
       "        <script type=\"text/javascript\">\n",
       "        window.PlotlyConfig = {MathJaxConfig: 'local'};\n",
       "        if (window.MathJax) {MathJax.Hub.Config({SVG: {font: \"STIX-Web\"}});}\n",
       "        if (typeof require !== 'undefined') {\n",
       "        require.undef(\"plotly\");\n",
       "        requirejs.config({\n",
       "            paths: {\n",
       "                'plotly': ['https://cdn.plot.ly/plotly-latest.min']\n",
       "            }\n",
       "        });\n",
       "        require(['plotly'], function(Plotly) {\n",
       "            window._Plotly = Plotly;\n",
       "        });\n",
       "        }\n",
       "        </script>\n",
       "        "
      ]
     },
     "metadata": {},
     "output_type": "display_data"
    }
   ],
   "source": [
    "# For Notebooks\n",
    "init_notebook_mode(connected=True)"
   ]
  },
  {
   "cell_type": "code",
   "execution_count": 6,
   "metadata": {},
   "outputs": [
    {
     "data": {
      "text/html": [
       "        <script type=\"text/javascript\">\n",
       "        window.PlotlyConfig = {MathJaxConfig: 'local'};\n",
       "        if (window.MathJax) {MathJax.Hub.Config({SVG: {font: \"STIX-Web\"}});}\n",
       "        if (typeof require !== 'undefined') {\n",
       "        require.undef(\"plotly\");\n",
       "        requirejs.config({\n",
       "            paths: {\n",
       "                'plotly': ['https://cdn.plot.ly/plotly-latest.min']\n",
       "            }\n",
       "        });\n",
       "        require(['plotly'], function(Plotly) {\n",
       "            window._Plotly = Plotly;\n",
       "        });\n",
       "        }\n",
       "        </script>\n",
       "        "
      ]
     },
     "metadata": {},
     "output_type": "display_data"
    }
   ],
   "source": [
    "# For offline use\n",
    "cf.go_offline()"
   ]
  },
  {
   "cell_type": "markdown",
   "metadata": {},
   "source": [
    "### Fake Data"
   ]
  },
  {
   "cell_type": "code",
   "execution_count": 7,
   "metadata": {},
   "outputs": [],
   "source": [
    "df = pd.DataFrame(np.random.randn(100,4),columns='A B C D'.split())"
   ]
  },
  {
   "cell_type": "code",
   "execution_count": 8,
   "metadata": {},
   "outputs": [
    {
     "data": {
      "text/html": [
       "<div>\n",
       "<style scoped>\n",
       "    .dataframe tbody tr th:only-of-type {\n",
       "        vertical-align: middle;\n",
       "    }\n",
       "\n",
       "    .dataframe tbody tr th {\n",
       "        vertical-align: top;\n",
       "    }\n",
       "\n",
       "    .dataframe thead th {\n",
       "        text-align: right;\n",
       "    }\n",
       "</style>\n",
       "<table border=\"1\" class=\"dataframe\">\n",
       "  <thead>\n",
       "    <tr style=\"text-align: right;\">\n",
       "      <th></th>\n",
       "      <th>A</th>\n",
       "      <th>B</th>\n",
       "      <th>C</th>\n",
       "      <th>D</th>\n",
       "    </tr>\n",
       "  </thead>\n",
       "  <tbody>\n",
       "    <tr>\n",
       "      <th>0</th>\n",
       "      <td>-2.345414</td>\n",
       "      <td>-1.211692</td>\n",
       "      <td>-1.355844</td>\n",
       "      <td>-0.538535</td>\n",
       "    </tr>\n",
       "    <tr>\n",
       "      <th>1</th>\n",
       "      <td>0.623778</td>\n",
       "      <td>-2.418226</td>\n",
       "      <td>-0.875998</td>\n",
       "      <td>0.545901</td>\n",
       "    </tr>\n",
       "    <tr>\n",
       "      <th>2</th>\n",
       "      <td>0.508467</td>\n",
       "      <td>-0.446709</td>\n",
       "      <td>-1.522658</td>\n",
       "      <td>-0.484353</td>\n",
       "    </tr>\n",
       "    <tr>\n",
       "      <th>3</th>\n",
       "      <td>1.007738</td>\n",
       "      <td>-1.939243</td>\n",
       "      <td>0.685991</td>\n",
       "      <td>-0.461908</td>\n",
       "    </tr>\n",
       "    <tr>\n",
       "      <th>4</th>\n",
       "      <td>-1.596863</td>\n",
       "      <td>0.945709</td>\n",
       "      <td>-1.474533</td>\n",
       "      <td>-0.986447</td>\n",
       "    </tr>\n",
       "  </tbody>\n",
       "</table>\n",
       "</div>"
      ],
      "text/plain": [
       "          A         B         C         D\n",
       "0 -2.345414 -1.211692 -1.355844 -0.538535\n",
       "1  0.623778 -2.418226 -0.875998  0.545901\n",
       "2  0.508467 -0.446709 -1.522658 -0.484353\n",
       "3  1.007738 -1.939243  0.685991 -0.461908\n",
       "4 -1.596863  0.945709 -1.474533 -0.986447"
      ]
     },
     "execution_count": 8,
     "metadata": {},
     "output_type": "execute_result"
    }
   ],
   "source": [
    "df.head()"
   ]
  },
  {
   "cell_type": "code",
   "execution_count": 9,
   "metadata": {},
   "outputs": [],
   "source": [
    "df2 = pd.DataFrame({'Category':['A','B','C'],'Values':[32,43,50]})"
   ]
  },
  {
   "cell_type": "code",
   "execution_count": 10,
   "metadata": {},
   "outputs": [
    {
     "data": {
      "text/html": [
       "<div>\n",
       "<style scoped>\n",
       "    .dataframe tbody tr th:only-of-type {\n",
       "        vertical-align: middle;\n",
       "    }\n",
       "\n",
       "    .dataframe tbody tr th {\n",
       "        vertical-align: top;\n",
       "    }\n",
       "\n",
       "    .dataframe thead th {\n",
       "        text-align: right;\n",
       "    }\n",
       "</style>\n",
       "<table border=\"1\" class=\"dataframe\">\n",
       "  <thead>\n",
       "    <tr style=\"text-align: right;\">\n",
       "      <th></th>\n",
       "      <th>Category</th>\n",
       "      <th>Values</th>\n",
       "    </tr>\n",
       "  </thead>\n",
       "  <tbody>\n",
       "    <tr>\n",
       "      <th>0</th>\n",
       "      <td>A</td>\n",
       "      <td>32</td>\n",
       "    </tr>\n",
       "    <tr>\n",
       "      <th>1</th>\n",
       "      <td>B</td>\n",
       "      <td>43</td>\n",
       "    </tr>\n",
       "    <tr>\n",
       "      <th>2</th>\n",
       "      <td>C</td>\n",
       "      <td>50</td>\n",
       "    </tr>\n",
       "  </tbody>\n",
       "</table>\n",
       "</div>"
      ],
      "text/plain": [
       "  Category  Values\n",
       "0        A      32\n",
       "1        B      43\n",
       "2        C      50"
      ]
     },
     "execution_count": 10,
     "metadata": {},
     "output_type": "execute_result"
    }
   ],
   "source": [
    "df2.head()"
   ]
  },
  {
   "cell_type": "markdown",
   "metadata": {},
   "source": [
    "## Using Cufflinks and iplot()\n",
    "\n",
    "* scatter\n",
    "* bar\n",
    "* box\n",
    "* spread\n",
    "* ratio\n",
    "* heatmap\n",
    "* surface\n",
    "* histogram\n",
    "* bubble"
   ]
  },
  {
   "cell_type": "markdown",
   "metadata": {},
   "source": [
    "## Scatter"
   ]
  },
  {
   "cell_type": "code",
   "execution_count": 12,
   "metadata": {},
   "outputs": [
    {
     "data": {
      "application/vnd.plotly.v1+json": {
       "config": {
        "linkText": "Export to plot.ly",
        "plotlyServerURL": "https://plot.ly",
        "showLink": true
       },
       "data": [
        {
         "line": {
          "color": "rgba(255, 153, 51, 1.0)",
          "dash": "solid",
          "shape": "linear",
          "width": 1.3
         },
         "marker": {
          "size": 10,
          "symbol": "circle"
         },
         "mode": "markers",
         "name": "B",
         "text": "",
         "type": "scatter",
         "x": [
          -2.3454141693589876,
          0.6237775380275742,
          0.5084665209175578,
          1.0077383239871212,
          -1.596862641714782,
          -2.374942969830823,
          -1.3706328842809488,
          1.3747352172717342,
          -0.7622432557064147,
          -1.9184039896950638,
          1.5017960911885953,
          -0.7114451376865186,
          -0.29446634553217194,
          -1.4876954594826903,
          0.6995466429849003,
          -0.9080622620621699,
          0.0037148475874004623,
          -0.8606836096783335,
          1.5500856254168882,
          0.8681259238151428,
          -0.25157963103361447,
          -0.6950867661351647,
          -1.2977326913712255,
          1.0792884415738364,
          1.9215810061890053,
          1.6391562586670962,
          0.8532070522380638,
          0.9960034559394392,
          1.0384819480958472,
          -0.4416790016043128,
          0.6272585044640208,
          1.6568382627476808,
          0.17604804120284398,
          -0.12173009136600939,
          1.786145195510604,
          1.0620956079199924,
          -1.6487794157955151,
          0.5134853837511637,
          -0.09341126386297298,
          0.5748210842959969,
          -0.34773144268786665,
          1.4495352760328146,
          0.55589609988229,
          -0.19407908794453177,
          1.954553549389376,
          -1.4401496294154514,
          -1.687016031719059,
          0.9152212524783871,
          -0.9701130342584917,
          0.2781872419962723,
          -0.42465351126078166,
          0.21363104414796674,
          0.6798391516567996,
          -0.21693900500613778,
          1.1253269510990103,
          -0.4364919033627248,
          0.5070307915178102,
          -0.6938482394362632,
          -1.4709020923143088,
          -0.3005468309159597,
          0.10117735963741527,
          -0.2739784055963156,
          -1.592983100175776,
          -0.7550289749943683,
          -1.8804241568882007,
          0.09895966465769129,
          1.280991037813301,
          0.18446847622744528,
          2.514156053080135,
          0.887922034620755,
          0.22026729871991257,
          -0.058148079602631304,
          0.11519546694262874,
          1.3733167398735402,
          0.7719722757739921,
          -0.11131557918308087,
          0.12928439944667708,
          0.656916890088794,
          1.2254282520039692,
          -2.3574405969002927,
          0.520182684697464,
          0.49226230720825487,
          -0.2946532839128033,
          1.5850905733271186,
          -0.4894593363475711,
          2.6413792649821013,
          0.13735097170865115,
          -0.9828018800837163,
          0.13801858167033576,
          -0.6215647789215498,
          -0.15010559951578073,
          0.39313077400096924,
          -0.9745423404621509,
          -0.41287483235514105,
          1.406315163167479,
          0.13788703768854482,
          1.2731159007446353,
          -0.2163497464314463,
          1.0853126714886798,
          0.5353673129325547
         ],
         "y": [
          -1.2116920522282546,
          -2.4182256642840154,
          -0.4467089062786822,
          -1.9392425928013934,
          0.9457088641174468,
          -1.4107952784259432,
          0.7722514959948863,
          -0.45758893217485086,
          -1.3697226133349176,
          -2.046223214968447,
          -0.9579602434170336,
          1.4299651060248795,
          0.6747291885765265,
          -2.446185003930176,
          -0.4786337657758917,
          -0.4937053710053525,
          0.2403915067061822,
          0.1756572084243671,
          -0.9455598067160645,
          -0.056992586205770676,
          1.0699334051439484,
          1.673208526089509,
          -0.6395578941823503,
          0.25843104956249363,
          0.9463770770249402,
          -1.173249590196306,
          -1.3898254730875272,
          -1.9485443421261375,
          -0.7990195508075936,
          -0.31886903775938763,
          -0.08574570155079406,
          1.3516886194648055,
          2.2149074403731497,
          -0.7949499836639242,
          0.6349268210678864,
          -1.2078356601723703,
          0.3787942389731917,
          -0.6891367639313457,
          1.3739612750682195,
          1.049897380525511,
          -0.018372121788850865,
          -0.2245124095889812,
          -1.1217196388681876,
          0.13626183916315088,
          0.7831733334090794,
          -0.29080499799221227,
          0.4448251856275786,
          1.146475088094464,
          -0.3875437175635493,
          -1.619961941950166,
          1.9877975354122728,
          0.3112587438792633,
          -1.0975621453609536,
          1.3884885691095525,
          -2.253520984677293,
          0.8172734212747151,
          0.6798692585838515,
          0.9418421759704245,
          -1.3652789631659974,
          1.2276374079163535,
          -0.948723105258126,
          1.2325710575478996,
          1.6427249926188614,
          -0.008728784354691151,
          1.5770304307221095,
          -0.9423567084179673,
          0.36669310906068375,
          1.4950786618013892,
          0.04239700440360714,
          0.7492246927132604,
          0.9362248498051818,
          -1.0210447539510035,
          -0.557769626378885,
          0.8585655547526226,
          0.5500178298829814,
          0.49205297793010305,
          -1.8099585130722016,
          0.6170410700662037,
          0.4698120642968544,
          0.6243133179356815,
          -0.23817960494236465,
          -1.5594009134291225,
          -1.1132549789519153,
          0.037206911943428185,
          -0.44926998300567894,
          -0.7848515495976766,
          0.1280030808290587,
          0.7618062697149731,
          -1.2480442658733897,
          -0.5126732212013174,
          -1.8977786099295044,
          0.9258361552336678,
          0.17023070984428282,
          0.5668693240350743,
          -1.2976881194121161,
          -0.2908984427086773,
          -0.32529334782616276,
          2.208923211463274,
          -0.3527371000449035,
          0.017930464472224805
         ]
        }
       ],
       "layout": {
        "legend": {
         "bgcolor": "#F5F6F9",
         "font": {
          "color": "#4D5663"
         }
        },
        "paper_bgcolor": "#F5F6F9",
        "plot_bgcolor": "#F5F6F9",
        "template": {
         "data": {
          "bar": [
           {
            "error_x": {
             "color": "#2a3f5f"
            },
            "error_y": {
             "color": "#2a3f5f"
            },
            "marker": {
             "line": {
              "color": "#E5ECF6",
              "width": 0.5
             }
            },
            "type": "bar"
           }
          ],
          "barpolar": [
           {
            "marker": {
             "line": {
              "color": "#E5ECF6",
              "width": 0.5
             }
            },
            "type": "barpolar"
           }
          ],
          "carpet": [
           {
            "aaxis": {
             "endlinecolor": "#2a3f5f",
             "gridcolor": "white",
             "linecolor": "white",
             "minorgridcolor": "white",
             "startlinecolor": "#2a3f5f"
            },
            "baxis": {
             "endlinecolor": "#2a3f5f",
             "gridcolor": "white",
             "linecolor": "white",
             "minorgridcolor": "white",
             "startlinecolor": "#2a3f5f"
            },
            "type": "carpet"
           }
          ],
          "choropleth": [
           {
            "colorbar": {
             "outlinewidth": 0,
             "ticks": ""
            },
            "type": "choropleth"
           }
          ],
          "contour": [
           {
            "colorbar": {
             "outlinewidth": 0,
             "ticks": ""
            },
            "colorscale": [
             [
              0,
              "#0d0887"
             ],
             [
              0.1111111111111111,
              "#46039f"
             ],
             [
              0.2222222222222222,
              "#7201a8"
             ],
             [
              0.3333333333333333,
              "#9c179e"
             ],
             [
              0.4444444444444444,
              "#bd3786"
             ],
             [
              0.5555555555555556,
              "#d8576b"
             ],
             [
              0.6666666666666666,
              "#ed7953"
             ],
             [
              0.7777777777777778,
              "#fb9f3a"
             ],
             [
              0.8888888888888888,
              "#fdca26"
             ],
             [
              1,
              "#f0f921"
             ]
            ],
            "type": "contour"
           }
          ],
          "contourcarpet": [
           {
            "colorbar": {
             "outlinewidth": 0,
             "ticks": ""
            },
            "type": "contourcarpet"
           }
          ],
          "heatmap": [
           {
            "colorbar": {
             "outlinewidth": 0,
             "ticks": ""
            },
            "colorscale": [
             [
              0,
              "#0d0887"
             ],
             [
              0.1111111111111111,
              "#46039f"
             ],
             [
              0.2222222222222222,
              "#7201a8"
             ],
             [
              0.3333333333333333,
              "#9c179e"
             ],
             [
              0.4444444444444444,
              "#bd3786"
             ],
             [
              0.5555555555555556,
              "#d8576b"
             ],
             [
              0.6666666666666666,
              "#ed7953"
             ],
             [
              0.7777777777777778,
              "#fb9f3a"
             ],
             [
              0.8888888888888888,
              "#fdca26"
             ],
             [
              1,
              "#f0f921"
             ]
            ],
            "type": "heatmap"
           }
          ],
          "heatmapgl": [
           {
            "colorbar": {
             "outlinewidth": 0,
             "ticks": ""
            },
            "colorscale": [
             [
              0,
              "#0d0887"
             ],
             [
              0.1111111111111111,
              "#46039f"
             ],
             [
              0.2222222222222222,
              "#7201a8"
             ],
             [
              0.3333333333333333,
              "#9c179e"
             ],
             [
              0.4444444444444444,
              "#bd3786"
             ],
             [
              0.5555555555555556,
              "#d8576b"
             ],
             [
              0.6666666666666666,
              "#ed7953"
             ],
             [
              0.7777777777777778,
              "#fb9f3a"
             ],
             [
              0.8888888888888888,
              "#fdca26"
             ],
             [
              1,
              "#f0f921"
             ]
            ],
            "type": "heatmapgl"
           }
          ],
          "histogram": [
           {
            "marker": {
             "colorbar": {
              "outlinewidth": 0,
              "ticks": ""
             }
            },
            "type": "histogram"
           }
          ],
          "histogram2d": [
           {
            "colorbar": {
             "outlinewidth": 0,
             "ticks": ""
            },
            "colorscale": [
             [
              0,
              "#0d0887"
             ],
             [
              0.1111111111111111,
              "#46039f"
             ],
             [
              0.2222222222222222,
              "#7201a8"
             ],
             [
              0.3333333333333333,
              "#9c179e"
             ],
             [
              0.4444444444444444,
              "#bd3786"
             ],
             [
              0.5555555555555556,
              "#d8576b"
             ],
             [
              0.6666666666666666,
              "#ed7953"
             ],
             [
              0.7777777777777778,
              "#fb9f3a"
             ],
             [
              0.8888888888888888,
              "#fdca26"
             ],
             [
              1,
              "#f0f921"
             ]
            ],
            "type": "histogram2d"
           }
          ],
          "histogram2dcontour": [
           {
            "colorbar": {
             "outlinewidth": 0,
             "ticks": ""
            },
            "colorscale": [
             [
              0,
              "#0d0887"
             ],
             [
              0.1111111111111111,
              "#46039f"
             ],
             [
              0.2222222222222222,
              "#7201a8"
             ],
             [
              0.3333333333333333,
              "#9c179e"
             ],
             [
              0.4444444444444444,
              "#bd3786"
             ],
             [
              0.5555555555555556,
              "#d8576b"
             ],
             [
              0.6666666666666666,
              "#ed7953"
             ],
             [
              0.7777777777777778,
              "#fb9f3a"
             ],
             [
              0.8888888888888888,
              "#fdca26"
             ],
             [
              1,
              "#f0f921"
             ]
            ],
            "type": "histogram2dcontour"
           }
          ],
          "mesh3d": [
           {
            "colorbar": {
             "outlinewidth": 0,
             "ticks": ""
            },
            "type": "mesh3d"
           }
          ],
          "parcoords": [
           {
            "line": {
             "colorbar": {
              "outlinewidth": 0,
              "ticks": ""
             }
            },
            "type": "parcoords"
           }
          ],
          "pie": [
           {
            "automargin": true,
            "type": "pie"
           }
          ],
          "scatter": [
           {
            "marker": {
             "colorbar": {
              "outlinewidth": 0,
              "ticks": ""
             }
            },
            "type": "scatter"
           }
          ],
          "scatter3d": [
           {
            "line": {
             "colorbar": {
              "outlinewidth": 0,
              "ticks": ""
             }
            },
            "marker": {
             "colorbar": {
              "outlinewidth": 0,
              "ticks": ""
             }
            },
            "type": "scatter3d"
           }
          ],
          "scattercarpet": [
           {
            "marker": {
             "colorbar": {
              "outlinewidth": 0,
              "ticks": ""
             }
            },
            "type": "scattercarpet"
           }
          ],
          "scattergeo": [
           {
            "marker": {
             "colorbar": {
              "outlinewidth": 0,
              "ticks": ""
             }
            },
            "type": "scattergeo"
           }
          ],
          "scattergl": [
           {
            "marker": {
             "colorbar": {
              "outlinewidth": 0,
              "ticks": ""
             }
            },
            "type": "scattergl"
           }
          ],
          "scattermapbox": [
           {
            "marker": {
             "colorbar": {
              "outlinewidth": 0,
              "ticks": ""
             }
            },
            "type": "scattermapbox"
           }
          ],
          "scatterpolar": [
           {
            "marker": {
             "colorbar": {
              "outlinewidth": 0,
              "ticks": ""
             }
            },
            "type": "scatterpolar"
           }
          ],
          "scatterpolargl": [
           {
            "marker": {
             "colorbar": {
              "outlinewidth": 0,
              "ticks": ""
             }
            },
            "type": "scatterpolargl"
           }
          ],
          "scatterternary": [
           {
            "marker": {
             "colorbar": {
              "outlinewidth": 0,
              "ticks": ""
             }
            },
            "type": "scatterternary"
           }
          ],
          "surface": [
           {
            "colorbar": {
             "outlinewidth": 0,
             "ticks": ""
            },
            "colorscale": [
             [
              0,
              "#0d0887"
             ],
             [
              0.1111111111111111,
              "#46039f"
             ],
             [
              0.2222222222222222,
              "#7201a8"
             ],
             [
              0.3333333333333333,
              "#9c179e"
             ],
             [
              0.4444444444444444,
              "#bd3786"
             ],
             [
              0.5555555555555556,
              "#d8576b"
             ],
             [
              0.6666666666666666,
              "#ed7953"
             ],
             [
              0.7777777777777778,
              "#fb9f3a"
             ],
             [
              0.8888888888888888,
              "#fdca26"
             ],
             [
              1,
              "#f0f921"
             ]
            ],
            "type": "surface"
           }
          ],
          "table": [
           {
            "cells": {
             "fill": {
              "color": "#EBF0F8"
             },
             "line": {
              "color": "white"
             }
            },
            "header": {
             "fill": {
              "color": "#C8D4E3"
             },
             "line": {
              "color": "white"
             }
            },
            "type": "table"
           }
          ]
         },
         "layout": {
          "annotationdefaults": {
           "arrowcolor": "#2a3f5f",
           "arrowhead": 0,
           "arrowwidth": 1
          },
          "coloraxis": {
           "colorbar": {
            "outlinewidth": 0,
            "ticks": ""
           }
          },
          "colorscale": {
           "diverging": [
            [
             0,
             "#8e0152"
            ],
            [
             0.1,
             "#c51b7d"
            ],
            [
             0.2,
             "#de77ae"
            ],
            [
             0.3,
             "#f1b6da"
            ],
            [
             0.4,
             "#fde0ef"
            ],
            [
             0.5,
             "#f7f7f7"
            ],
            [
             0.6,
             "#e6f5d0"
            ],
            [
             0.7,
             "#b8e186"
            ],
            [
             0.8,
             "#7fbc41"
            ],
            [
             0.9,
             "#4d9221"
            ],
            [
             1,
             "#276419"
            ]
           ],
           "sequential": [
            [
             0,
             "#0d0887"
            ],
            [
             0.1111111111111111,
             "#46039f"
            ],
            [
             0.2222222222222222,
             "#7201a8"
            ],
            [
             0.3333333333333333,
             "#9c179e"
            ],
            [
             0.4444444444444444,
             "#bd3786"
            ],
            [
             0.5555555555555556,
             "#d8576b"
            ],
            [
             0.6666666666666666,
             "#ed7953"
            ],
            [
             0.7777777777777778,
             "#fb9f3a"
            ],
            [
             0.8888888888888888,
             "#fdca26"
            ],
            [
             1,
             "#f0f921"
            ]
           ],
           "sequentialminus": [
            [
             0,
             "#0d0887"
            ],
            [
             0.1111111111111111,
             "#46039f"
            ],
            [
             0.2222222222222222,
             "#7201a8"
            ],
            [
             0.3333333333333333,
             "#9c179e"
            ],
            [
             0.4444444444444444,
             "#bd3786"
            ],
            [
             0.5555555555555556,
             "#d8576b"
            ],
            [
             0.6666666666666666,
             "#ed7953"
            ],
            [
             0.7777777777777778,
             "#fb9f3a"
            ],
            [
             0.8888888888888888,
             "#fdca26"
            ],
            [
             1,
             "#f0f921"
            ]
           ]
          },
          "colorway": [
           "#636efa",
           "#EF553B",
           "#00cc96",
           "#ab63fa",
           "#FFA15A",
           "#19d3f3",
           "#FF6692",
           "#B6E880",
           "#FF97FF",
           "#FECB52"
          ],
          "font": {
           "color": "#2a3f5f"
          },
          "geo": {
           "bgcolor": "white",
           "lakecolor": "white",
           "landcolor": "#E5ECF6",
           "showlakes": true,
           "showland": true,
           "subunitcolor": "white"
          },
          "hoverlabel": {
           "align": "left"
          },
          "hovermode": "closest",
          "mapbox": {
           "style": "light"
          },
          "paper_bgcolor": "white",
          "plot_bgcolor": "#E5ECF6",
          "polar": {
           "angularaxis": {
            "gridcolor": "white",
            "linecolor": "white",
            "ticks": ""
           },
           "bgcolor": "#E5ECF6",
           "radialaxis": {
            "gridcolor": "white",
            "linecolor": "white",
            "ticks": ""
           }
          },
          "scene": {
           "xaxis": {
            "backgroundcolor": "#E5ECF6",
            "gridcolor": "white",
            "gridwidth": 2,
            "linecolor": "white",
            "showbackground": true,
            "ticks": "",
            "zerolinecolor": "white"
           },
           "yaxis": {
            "backgroundcolor": "#E5ECF6",
            "gridcolor": "white",
            "gridwidth": 2,
            "linecolor": "white",
            "showbackground": true,
            "ticks": "",
            "zerolinecolor": "white"
           },
           "zaxis": {
            "backgroundcolor": "#E5ECF6",
            "gridcolor": "white",
            "gridwidth": 2,
            "linecolor": "white",
            "showbackground": true,
            "ticks": "",
            "zerolinecolor": "white"
           }
          },
          "shapedefaults": {
           "line": {
            "color": "#2a3f5f"
           }
          },
          "ternary": {
           "aaxis": {
            "gridcolor": "white",
            "linecolor": "white",
            "ticks": ""
           },
           "baxis": {
            "gridcolor": "white",
            "linecolor": "white",
            "ticks": ""
           },
           "bgcolor": "#E5ECF6",
           "caxis": {
            "gridcolor": "white",
            "linecolor": "white",
            "ticks": ""
           }
          },
          "title": {
           "x": 0.05
          },
          "xaxis": {
           "automargin": true,
           "gridcolor": "white",
           "linecolor": "white",
           "ticks": "",
           "title": {
            "standoff": 15
           },
           "zerolinecolor": "white",
           "zerolinewidth": 2
          },
          "yaxis": {
           "automargin": true,
           "gridcolor": "white",
           "linecolor": "white",
           "ticks": "",
           "title": {
            "standoff": 15
           },
           "zerolinecolor": "white",
           "zerolinewidth": 2
          }
         }
        },
        "title": {
         "font": {
          "color": "#4D5663"
         }
        },
        "xaxis": {
         "gridcolor": "#E1E5ED",
         "showgrid": true,
         "tickfont": {
          "color": "#4D5663"
         },
         "title": {
          "font": {
           "color": "#4D5663"
          },
          "text": ""
         },
         "zerolinecolor": "#E1E5ED"
        },
        "yaxis": {
         "gridcolor": "#E1E5ED",
         "showgrid": true,
         "tickfont": {
          "color": "#4D5663"
         },
         "title": {
          "font": {
           "color": "#4D5663"
          },
          "text": ""
         },
         "zerolinecolor": "#E1E5ED"
        }
       }
      },
      "text/html": [
       "<div>\n",
       "        \n",
       "        \n",
       "            <div id=\"f873edfd-3b16-46e9-b75e-e0f2520e5529\" class=\"plotly-graph-div\" style=\"height:525px; width:100%;\"></div>\n",
       "            <script type=\"text/javascript\">\n",
       "                require([\"plotly\"], function(Plotly) {\n",
       "                    window.PLOTLYENV=window.PLOTLYENV || {};\n",
       "                    window.PLOTLYENV.BASE_URL='https://plot.ly';\n",
       "                    \n",
       "                if (document.getElementById(\"f873edfd-3b16-46e9-b75e-e0f2520e5529\")) {\n",
       "                    Plotly.newPlot(\n",
       "                        'f873edfd-3b16-46e9-b75e-e0f2520e5529',\n",
       "                        [{\"line\": {\"color\": \"rgba(255, 153, 51, 1.0)\", \"dash\": \"solid\", \"shape\": \"linear\", \"width\": 1.3}, \"marker\": {\"size\": 10, \"symbol\": \"circle\"}, \"mode\": \"markers\", \"name\": \"B\", \"text\": \"\", \"type\": \"scatter\", \"x\": [-2.3454141693589876, 0.6237775380275742, 0.5084665209175578, 1.0077383239871212, -1.596862641714782, -2.374942969830823, -1.3706328842809488, 1.3747352172717342, -0.7622432557064147, -1.9184039896950638, 1.5017960911885953, -0.7114451376865186, -0.29446634553217194, -1.4876954594826903, 0.6995466429849003, -0.9080622620621699, 0.0037148475874004623, -0.8606836096783335, 1.5500856254168882, 0.8681259238151428, -0.25157963103361447, -0.6950867661351647, -1.2977326913712255, 1.0792884415738364, 1.9215810061890053, 1.6391562586670962, 0.8532070522380638, 0.9960034559394392, 1.0384819480958472, -0.4416790016043128, 0.6272585044640208, 1.6568382627476808, 0.17604804120284398, -0.12173009136600939, 1.786145195510604, 1.0620956079199924, -1.6487794157955151, 0.5134853837511637, -0.09341126386297298, 0.5748210842959969, -0.34773144268786665, 1.4495352760328146, 0.55589609988229, -0.19407908794453177, 1.954553549389376, -1.4401496294154514, -1.687016031719059, 0.9152212524783871, -0.9701130342584917, 0.2781872419962723, -0.42465351126078166, 0.21363104414796674, 0.6798391516567996, -0.21693900500613778, 1.1253269510990103, -0.4364919033627248, 0.5070307915178102, -0.6938482394362632, -1.4709020923143088, -0.3005468309159597, 0.10117735963741527, -0.2739784055963156, -1.592983100175776, -0.7550289749943683, -1.8804241568882007, 0.09895966465769129, 1.280991037813301, 0.18446847622744528, 2.514156053080135, 0.887922034620755, 0.22026729871991257, -0.058148079602631304, 0.11519546694262874, 1.3733167398735402, 0.7719722757739921, -0.11131557918308087, 0.12928439944667708, 0.656916890088794, 1.2254282520039692, -2.3574405969002927, 0.520182684697464, 0.49226230720825487, -0.2946532839128033, 1.5850905733271186, -0.4894593363475711, 2.6413792649821013, 0.13735097170865115, -0.9828018800837163, 0.13801858167033576, -0.6215647789215498, -0.15010559951578073, 0.39313077400096924, -0.9745423404621509, -0.41287483235514105, 1.406315163167479, 0.13788703768854482, 1.2731159007446353, -0.2163497464314463, 1.0853126714886798, 0.5353673129325547], \"y\": [-1.2116920522282546, -2.4182256642840154, -0.4467089062786822, -1.9392425928013934, 0.9457088641174468, -1.4107952784259432, 0.7722514959948863, -0.45758893217485086, -1.3697226133349176, -2.046223214968447, -0.9579602434170336, 1.4299651060248795, 0.6747291885765265, -2.446185003930176, -0.4786337657758917, -0.4937053710053525, 0.2403915067061822, 0.1756572084243671, -0.9455598067160645, -0.056992586205770676, 1.0699334051439484, 1.673208526089509, -0.6395578941823503, 0.25843104956249363, 0.9463770770249402, -1.173249590196306, -1.3898254730875272, -1.9485443421261375, -0.7990195508075936, -0.31886903775938763, -0.08574570155079406, 1.3516886194648055, 2.2149074403731497, -0.7949499836639242, 0.6349268210678864, -1.2078356601723703, 0.3787942389731917, -0.6891367639313457, 1.3739612750682195, 1.049897380525511, -0.018372121788850865, -0.2245124095889812, -1.1217196388681876, 0.13626183916315088, 0.7831733334090794, -0.29080499799221227, 0.4448251856275786, 1.146475088094464, -0.3875437175635493, -1.619961941950166, 1.9877975354122728, 0.3112587438792633, -1.0975621453609536, 1.3884885691095525, -2.253520984677293, 0.8172734212747151, 0.6798692585838515, 0.9418421759704245, -1.3652789631659974, 1.2276374079163535, -0.948723105258126, 1.2325710575478996, 1.6427249926188614, -0.008728784354691151, 1.5770304307221095, -0.9423567084179673, 0.36669310906068375, 1.4950786618013892, 0.04239700440360714, 0.7492246927132604, 0.9362248498051818, -1.0210447539510035, -0.557769626378885, 0.8585655547526226, 0.5500178298829814, 0.49205297793010305, -1.8099585130722016, 0.6170410700662037, 0.4698120642968544, 0.6243133179356815, -0.23817960494236465, -1.5594009134291225, -1.1132549789519153, 0.037206911943428185, -0.44926998300567894, -0.7848515495976766, 0.1280030808290587, 0.7618062697149731, -1.2480442658733897, -0.5126732212013174, -1.8977786099295044, 0.9258361552336678, 0.17023070984428282, 0.5668693240350743, -1.2976881194121161, -0.2908984427086773, -0.32529334782616276, 2.208923211463274, -0.3527371000449035, 0.017930464472224805]}],\n",
       "                        {\"legend\": {\"bgcolor\": \"#F5F6F9\", \"font\": {\"color\": \"#4D5663\"}}, \"paper_bgcolor\": \"#F5F6F9\", \"plot_bgcolor\": \"#F5F6F9\", \"template\": {\"data\": {\"bar\": [{\"error_x\": {\"color\": \"#2a3f5f\"}, \"error_y\": {\"color\": \"#2a3f5f\"}, \"marker\": {\"line\": {\"color\": \"#E5ECF6\", \"width\": 0.5}}, \"type\": \"bar\"}], \"barpolar\": [{\"marker\": {\"line\": {\"color\": \"#E5ECF6\", \"width\": 0.5}}, \"type\": \"barpolar\"}], \"carpet\": [{\"aaxis\": {\"endlinecolor\": \"#2a3f5f\", \"gridcolor\": \"white\", \"linecolor\": \"white\", \"minorgridcolor\": \"white\", \"startlinecolor\": \"#2a3f5f\"}, \"baxis\": {\"endlinecolor\": \"#2a3f5f\", \"gridcolor\": \"white\", \"linecolor\": \"white\", \"minorgridcolor\": \"white\", \"startlinecolor\": \"#2a3f5f\"}, \"type\": \"carpet\"}], \"choropleth\": [{\"colorbar\": {\"outlinewidth\": 0, \"ticks\": \"\"}, \"type\": \"choropleth\"}], \"contour\": [{\"colorbar\": {\"outlinewidth\": 0, \"ticks\": \"\"}, \"colorscale\": [[0.0, \"#0d0887\"], [0.1111111111111111, \"#46039f\"], [0.2222222222222222, \"#7201a8\"], [0.3333333333333333, \"#9c179e\"], [0.4444444444444444, \"#bd3786\"], [0.5555555555555556, \"#d8576b\"], [0.6666666666666666, \"#ed7953\"], [0.7777777777777778, \"#fb9f3a\"], [0.8888888888888888, \"#fdca26\"], [1.0, \"#f0f921\"]], \"type\": \"contour\"}], \"contourcarpet\": [{\"colorbar\": {\"outlinewidth\": 0, \"ticks\": \"\"}, \"type\": \"contourcarpet\"}], \"heatmap\": [{\"colorbar\": {\"outlinewidth\": 0, \"ticks\": \"\"}, \"colorscale\": [[0.0, \"#0d0887\"], [0.1111111111111111, \"#46039f\"], [0.2222222222222222, \"#7201a8\"], [0.3333333333333333, \"#9c179e\"], [0.4444444444444444, \"#bd3786\"], [0.5555555555555556, \"#d8576b\"], [0.6666666666666666, \"#ed7953\"], [0.7777777777777778, \"#fb9f3a\"], [0.8888888888888888, \"#fdca26\"], [1.0, \"#f0f921\"]], \"type\": \"heatmap\"}], \"heatmapgl\": [{\"colorbar\": {\"outlinewidth\": 0, \"ticks\": \"\"}, \"colorscale\": [[0.0, \"#0d0887\"], [0.1111111111111111, \"#46039f\"], [0.2222222222222222, \"#7201a8\"], [0.3333333333333333, \"#9c179e\"], [0.4444444444444444, \"#bd3786\"], [0.5555555555555556, \"#d8576b\"], [0.6666666666666666, \"#ed7953\"], [0.7777777777777778, \"#fb9f3a\"], [0.8888888888888888, \"#fdca26\"], [1.0, \"#f0f921\"]], \"type\": \"heatmapgl\"}], \"histogram\": [{\"marker\": {\"colorbar\": {\"outlinewidth\": 0, \"ticks\": \"\"}}, \"type\": \"histogram\"}], \"histogram2d\": [{\"colorbar\": {\"outlinewidth\": 0, \"ticks\": \"\"}, \"colorscale\": [[0.0, \"#0d0887\"], [0.1111111111111111, \"#46039f\"], [0.2222222222222222, \"#7201a8\"], [0.3333333333333333, \"#9c179e\"], [0.4444444444444444, \"#bd3786\"], [0.5555555555555556, \"#d8576b\"], [0.6666666666666666, \"#ed7953\"], [0.7777777777777778, \"#fb9f3a\"], [0.8888888888888888, \"#fdca26\"], [1.0, \"#f0f921\"]], \"type\": \"histogram2d\"}], \"histogram2dcontour\": [{\"colorbar\": {\"outlinewidth\": 0, \"ticks\": \"\"}, \"colorscale\": [[0.0, \"#0d0887\"], [0.1111111111111111, \"#46039f\"], [0.2222222222222222, \"#7201a8\"], [0.3333333333333333, \"#9c179e\"], [0.4444444444444444, \"#bd3786\"], [0.5555555555555556, \"#d8576b\"], [0.6666666666666666, \"#ed7953\"], [0.7777777777777778, \"#fb9f3a\"], [0.8888888888888888, \"#fdca26\"], [1.0, \"#f0f921\"]], \"type\": \"histogram2dcontour\"}], \"mesh3d\": [{\"colorbar\": {\"outlinewidth\": 0, \"ticks\": \"\"}, \"type\": \"mesh3d\"}], \"parcoords\": [{\"line\": {\"colorbar\": {\"outlinewidth\": 0, \"ticks\": \"\"}}, \"type\": \"parcoords\"}], \"pie\": [{\"automargin\": true, \"type\": \"pie\"}], \"scatter\": [{\"marker\": {\"colorbar\": {\"outlinewidth\": 0, \"ticks\": \"\"}}, \"type\": \"scatter\"}], \"scatter3d\": [{\"line\": {\"colorbar\": {\"outlinewidth\": 0, \"ticks\": \"\"}}, \"marker\": {\"colorbar\": {\"outlinewidth\": 0, \"ticks\": \"\"}}, \"type\": \"scatter3d\"}], \"scattercarpet\": [{\"marker\": {\"colorbar\": {\"outlinewidth\": 0, \"ticks\": \"\"}}, \"type\": \"scattercarpet\"}], \"scattergeo\": [{\"marker\": {\"colorbar\": {\"outlinewidth\": 0, \"ticks\": \"\"}}, \"type\": \"scattergeo\"}], \"scattergl\": [{\"marker\": {\"colorbar\": {\"outlinewidth\": 0, \"ticks\": \"\"}}, \"type\": \"scattergl\"}], \"scattermapbox\": [{\"marker\": {\"colorbar\": {\"outlinewidth\": 0, \"ticks\": \"\"}}, \"type\": \"scattermapbox\"}], \"scatterpolar\": [{\"marker\": {\"colorbar\": {\"outlinewidth\": 0, \"ticks\": \"\"}}, \"type\": \"scatterpolar\"}], \"scatterpolargl\": [{\"marker\": {\"colorbar\": {\"outlinewidth\": 0, \"ticks\": \"\"}}, \"type\": \"scatterpolargl\"}], \"scatterternary\": [{\"marker\": {\"colorbar\": {\"outlinewidth\": 0, \"ticks\": \"\"}}, \"type\": \"scatterternary\"}], \"surface\": [{\"colorbar\": {\"outlinewidth\": 0, \"ticks\": \"\"}, \"colorscale\": [[0.0, \"#0d0887\"], [0.1111111111111111, \"#46039f\"], [0.2222222222222222, \"#7201a8\"], [0.3333333333333333, \"#9c179e\"], [0.4444444444444444, \"#bd3786\"], [0.5555555555555556, \"#d8576b\"], [0.6666666666666666, \"#ed7953\"], [0.7777777777777778, \"#fb9f3a\"], [0.8888888888888888, \"#fdca26\"], [1.0, \"#f0f921\"]], \"type\": \"surface\"}], \"table\": [{\"cells\": {\"fill\": {\"color\": \"#EBF0F8\"}, \"line\": {\"color\": \"white\"}}, \"header\": {\"fill\": {\"color\": \"#C8D4E3\"}, \"line\": {\"color\": \"white\"}}, \"type\": \"table\"}]}, \"layout\": {\"annotationdefaults\": {\"arrowcolor\": \"#2a3f5f\", \"arrowhead\": 0, \"arrowwidth\": 1}, \"coloraxis\": {\"colorbar\": {\"outlinewidth\": 0, \"ticks\": \"\"}}, \"colorscale\": {\"diverging\": [[0, \"#8e0152\"], [0.1, \"#c51b7d\"], [0.2, \"#de77ae\"], [0.3, \"#f1b6da\"], [0.4, \"#fde0ef\"], [0.5, \"#f7f7f7\"], [0.6, \"#e6f5d0\"], [0.7, \"#b8e186\"], [0.8, \"#7fbc41\"], [0.9, \"#4d9221\"], [1, \"#276419\"]], \"sequential\": [[0.0, \"#0d0887\"], [0.1111111111111111, \"#46039f\"], [0.2222222222222222, \"#7201a8\"], [0.3333333333333333, \"#9c179e\"], [0.4444444444444444, \"#bd3786\"], [0.5555555555555556, \"#d8576b\"], [0.6666666666666666, \"#ed7953\"], [0.7777777777777778, \"#fb9f3a\"], [0.8888888888888888, \"#fdca26\"], [1.0, \"#f0f921\"]], \"sequentialminus\": [[0.0, \"#0d0887\"], [0.1111111111111111, \"#46039f\"], [0.2222222222222222, \"#7201a8\"], [0.3333333333333333, \"#9c179e\"], [0.4444444444444444, \"#bd3786\"], [0.5555555555555556, \"#d8576b\"], [0.6666666666666666, \"#ed7953\"], [0.7777777777777778, \"#fb9f3a\"], [0.8888888888888888, \"#fdca26\"], [1.0, \"#f0f921\"]]}, \"colorway\": [\"#636efa\", \"#EF553B\", \"#00cc96\", \"#ab63fa\", \"#FFA15A\", \"#19d3f3\", \"#FF6692\", \"#B6E880\", \"#FF97FF\", \"#FECB52\"], \"font\": {\"color\": \"#2a3f5f\"}, \"geo\": {\"bgcolor\": \"white\", \"lakecolor\": \"white\", \"landcolor\": \"#E5ECF6\", \"showlakes\": true, \"showland\": true, \"subunitcolor\": \"white\"}, \"hoverlabel\": {\"align\": \"left\"}, \"hovermode\": \"closest\", \"mapbox\": {\"style\": \"light\"}, \"paper_bgcolor\": \"white\", \"plot_bgcolor\": \"#E5ECF6\", \"polar\": {\"angularaxis\": {\"gridcolor\": \"white\", \"linecolor\": \"white\", \"ticks\": \"\"}, \"bgcolor\": \"#E5ECF6\", \"radialaxis\": {\"gridcolor\": \"white\", \"linecolor\": \"white\", \"ticks\": \"\"}}, \"scene\": {\"xaxis\": {\"backgroundcolor\": \"#E5ECF6\", \"gridcolor\": \"white\", \"gridwidth\": 2, \"linecolor\": \"white\", \"showbackground\": true, \"ticks\": \"\", \"zerolinecolor\": \"white\"}, \"yaxis\": {\"backgroundcolor\": \"#E5ECF6\", \"gridcolor\": \"white\", \"gridwidth\": 2, \"linecolor\": \"white\", \"showbackground\": true, \"ticks\": \"\", \"zerolinecolor\": \"white\"}, \"zaxis\": {\"backgroundcolor\": \"#E5ECF6\", \"gridcolor\": \"white\", \"gridwidth\": 2, \"linecolor\": \"white\", \"showbackground\": true, \"ticks\": \"\", \"zerolinecolor\": \"white\"}}, \"shapedefaults\": {\"line\": {\"color\": \"#2a3f5f\"}}, \"ternary\": {\"aaxis\": {\"gridcolor\": \"white\", \"linecolor\": \"white\", \"ticks\": \"\"}, \"baxis\": {\"gridcolor\": \"white\", \"linecolor\": \"white\", \"ticks\": \"\"}, \"bgcolor\": \"#E5ECF6\", \"caxis\": {\"gridcolor\": \"white\", \"linecolor\": \"white\", \"ticks\": \"\"}}, \"title\": {\"x\": 0.05}, \"xaxis\": {\"automargin\": true, \"gridcolor\": \"white\", \"linecolor\": \"white\", \"ticks\": \"\", \"title\": {\"standoff\": 15}, \"zerolinecolor\": \"white\", \"zerolinewidth\": 2}, \"yaxis\": {\"automargin\": true, \"gridcolor\": \"white\", \"linecolor\": \"white\", \"ticks\": \"\", \"title\": {\"standoff\": 15}, \"zerolinecolor\": \"white\", \"zerolinewidth\": 2}}}, \"title\": {\"font\": {\"color\": \"#4D5663\"}}, \"xaxis\": {\"gridcolor\": \"#E1E5ED\", \"showgrid\": true, \"tickfont\": {\"color\": \"#4D5663\"}, \"title\": {\"font\": {\"color\": \"#4D5663\"}, \"text\": \"\"}, \"zerolinecolor\": \"#E1E5ED\"}, \"yaxis\": {\"gridcolor\": \"#E1E5ED\", \"showgrid\": true, \"tickfont\": {\"color\": \"#4D5663\"}, \"title\": {\"font\": {\"color\": \"#4D5663\"}, \"text\": \"\"}, \"zerolinecolor\": \"#E1E5ED\"}},\n",
       "                        {\"showLink\": true, \"linkText\": \"Export to plot.ly\", \"plotlyServerURL\": \"https://plot.ly\", \"responsive\": true}\n",
       "                    ).then(function(){\n",
       "                            \n",
       "var gd = document.getElementById('f873edfd-3b16-46e9-b75e-e0f2520e5529');\n",
       "var x = new MutationObserver(function (mutations, observer) {{\n",
       "        var display = window.getComputedStyle(gd).display;\n",
       "        if (!display || display === 'none') {{\n",
       "            console.log([gd, 'removed!']);\n",
       "            Plotly.purge(gd);\n",
       "            observer.disconnect();\n",
       "        }}\n",
       "}});\n",
       "\n",
       "// Listen for the removal of the full notebook cells\n",
       "var notebookContainer = gd.closest('#notebook-container');\n",
       "if (notebookContainer) {{\n",
       "    x.observe(notebookContainer, {childList: true});\n",
       "}}\n",
       "\n",
       "// Listen for the clearing of the current output cell\n",
       "var outputEl = gd.closest('.output');\n",
       "if (outputEl) {{\n",
       "    x.observe(outputEl, {childList: true});\n",
       "}}\n",
       "\n",
       "                        })\n",
       "                };\n",
       "                });\n",
       "            </script>\n",
       "        </div>"
      ]
     },
     "metadata": {},
     "output_type": "display_data"
    }
   ],
   "source": [
    "df.iplot(kind='scatter',x='A',y='B',mode='markers',size=10)"
   ]
  },
  {
   "cell_type": "markdown",
   "metadata": {},
   "source": [
    "## Bar Plots"
   ]
  },
  {
   "cell_type": "code",
   "execution_count": 13,
   "metadata": {},
   "outputs": [
    {
     "data": {
      "application/vnd.plotly.v1+json": {
       "config": {
        "linkText": "Export to plot.ly",
        "plotlyServerURL": "https://plot.ly",
        "showLink": true
       },
       "data": [
        {
         "marker": {
          "color": "rgba(255, 153, 51, 0.6)",
          "line": {
           "color": "rgba(255, 153, 51, 1.0)",
           "width": 1
          }
         },
         "name": "Values",
         "orientation": "v",
         "text": "",
         "type": "bar",
         "x": [
          "A",
          "B",
          "C"
         ],
         "y": [
          32,
          43,
          50
         ]
        }
       ],
       "layout": {
        "legend": {
         "bgcolor": "#F5F6F9",
         "font": {
          "color": "#4D5663"
         }
        },
        "paper_bgcolor": "#F5F6F9",
        "plot_bgcolor": "#F5F6F9",
        "template": {
         "data": {
          "bar": [
           {
            "error_x": {
             "color": "#2a3f5f"
            },
            "error_y": {
             "color": "#2a3f5f"
            },
            "marker": {
             "line": {
              "color": "#E5ECF6",
              "width": 0.5
             }
            },
            "type": "bar"
           }
          ],
          "barpolar": [
           {
            "marker": {
             "line": {
              "color": "#E5ECF6",
              "width": 0.5
             }
            },
            "type": "barpolar"
           }
          ],
          "carpet": [
           {
            "aaxis": {
             "endlinecolor": "#2a3f5f",
             "gridcolor": "white",
             "linecolor": "white",
             "minorgridcolor": "white",
             "startlinecolor": "#2a3f5f"
            },
            "baxis": {
             "endlinecolor": "#2a3f5f",
             "gridcolor": "white",
             "linecolor": "white",
             "minorgridcolor": "white",
             "startlinecolor": "#2a3f5f"
            },
            "type": "carpet"
           }
          ],
          "choropleth": [
           {
            "colorbar": {
             "outlinewidth": 0,
             "ticks": ""
            },
            "type": "choropleth"
           }
          ],
          "contour": [
           {
            "colorbar": {
             "outlinewidth": 0,
             "ticks": ""
            },
            "colorscale": [
             [
              0,
              "#0d0887"
             ],
             [
              0.1111111111111111,
              "#46039f"
             ],
             [
              0.2222222222222222,
              "#7201a8"
             ],
             [
              0.3333333333333333,
              "#9c179e"
             ],
             [
              0.4444444444444444,
              "#bd3786"
             ],
             [
              0.5555555555555556,
              "#d8576b"
             ],
             [
              0.6666666666666666,
              "#ed7953"
             ],
             [
              0.7777777777777778,
              "#fb9f3a"
             ],
             [
              0.8888888888888888,
              "#fdca26"
             ],
             [
              1,
              "#f0f921"
             ]
            ],
            "type": "contour"
           }
          ],
          "contourcarpet": [
           {
            "colorbar": {
             "outlinewidth": 0,
             "ticks": ""
            },
            "type": "contourcarpet"
           }
          ],
          "heatmap": [
           {
            "colorbar": {
             "outlinewidth": 0,
             "ticks": ""
            },
            "colorscale": [
             [
              0,
              "#0d0887"
             ],
             [
              0.1111111111111111,
              "#46039f"
             ],
             [
              0.2222222222222222,
              "#7201a8"
             ],
             [
              0.3333333333333333,
              "#9c179e"
             ],
             [
              0.4444444444444444,
              "#bd3786"
             ],
             [
              0.5555555555555556,
              "#d8576b"
             ],
             [
              0.6666666666666666,
              "#ed7953"
             ],
             [
              0.7777777777777778,
              "#fb9f3a"
             ],
             [
              0.8888888888888888,
              "#fdca26"
             ],
             [
              1,
              "#f0f921"
             ]
            ],
            "type": "heatmap"
           }
          ],
          "heatmapgl": [
           {
            "colorbar": {
             "outlinewidth": 0,
             "ticks": ""
            },
            "colorscale": [
             [
              0,
              "#0d0887"
             ],
             [
              0.1111111111111111,
              "#46039f"
             ],
             [
              0.2222222222222222,
              "#7201a8"
             ],
             [
              0.3333333333333333,
              "#9c179e"
             ],
             [
              0.4444444444444444,
              "#bd3786"
             ],
             [
              0.5555555555555556,
              "#d8576b"
             ],
             [
              0.6666666666666666,
              "#ed7953"
             ],
             [
              0.7777777777777778,
              "#fb9f3a"
             ],
             [
              0.8888888888888888,
              "#fdca26"
             ],
             [
              1,
              "#f0f921"
             ]
            ],
            "type": "heatmapgl"
           }
          ],
          "histogram": [
           {
            "marker": {
             "colorbar": {
              "outlinewidth": 0,
              "ticks": ""
             }
            },
            "type": "histogram"
           }
          ],
          "histogram2d": [
           {
            "colorbar": {
             "outlinewidth": 0,
             "ticks": ""
            },
            "colorscale": [
             [
              0,
              "#0d0887"
             ],
             [
              0.1111111111111111,
              "#46039f"
             ],
             [
              0.2222222222222222,
              "#7201a8"
             ],
             [
              0.3333333333333333,
              "#9c179e"
             ],
             [
              0.4444444444444444,
              "#bd3786"
             ],
             [
              0.5555555555555556,
              "#d8576b"
             ],
             [
              0.6666666666666666,
              "#ed7953"
             ],
             [
              0.7777777777777778,
              "#fb9f3a"
             ],
             [
              0.8888888888888888,
              "#fdca26"
             ],
             [
              1,
              "#f0f921"
             ]
            ],
            "type": "histogram2d"
           }
          ],
          "histogram2dcontour": [
           {
            "colorbar": {
             "outlinewidth": 0,
             "ticks": ""
            },
            "colorscale": [
             [
              0,
              "#0d0887"
             ],
             [
              0.1111111111111111,
              "#46039f"
             ],
             [
              0.2222222222222222,
              "#7201a8"
             ],
             [
              0.3333333333333333,
              "#9c179e"
             ],
             [
              0.4444444444444444,
              "#bd3786"
             ],
             [
              0.5555555555555556,
              "#d8576b"
             ],
             [
              0.6666666666666666,
              "#ed7953"
             ],
             [
              0.7777777777777778,
              "#fb9f3a"
             ],
             [
              0.8888888888888888,
              "#fdca26"
             ],
             [
              1,
              "#f0f921"
             ]
            ],
            "type": "histogram2dcontour"
           }
          ],
          "mesh3d": [
           {
            "colorbar": {
             "outlinewidth": 0,
             "ticks": ""
            },
            "type": "mesh3d"
           }
          ],
          "parcoords": [
           {
            "line": {
             "colorbar": {
              "outlinewidth": 0,
              "ticks": ""
             }
            },
            "type": "parcoords"
           }
          ],
          "pie": [
           {
            "automargin": true,
            "type": "pie"
           }
          ],
          "scatter": [
           {
            "marker": {
             "colorbar": {
              "outlinewidth": 0,
              "ticks": ""
             }
            },
            "type": "scatter"
           }
          ],
          "scatter3d": [
           {
            "line": {
             "colorbar": {
              "outlinewidth": 0,
              "ticks": ""
             }
            },
            "marker": {
             "colorbar": {
              "outlinewidth": 0,
              "ticks": ""
             }
            },
            "type": "scatter3d"
           }
          ],
          "scattercarpet": [
           {
            "marker": {
             "colorbar": {
              "outlinewidth": 0,
              "ticks": ""
             }
            },
            "type": "scattercarpet"
           }
          ],
          "scattergeo": [
           {
            "marker": {
             "colorbar": {
              "outlinewidth": 0,
              "ticks": ""
             }
            },
            "type": "scattergeo"
           }
          ],
          "scattergl": [
           {
            "marker": {
             "colorbar": {
              "outlinewidth": 0,
              "ticks": ""
             }
            },
            "type": "scattergl"
           }
          ],
          "scattermapbox": [
           {
            "marker": {
             "colorbar": {
              "outlinewidth": 0,
              "ticks": ""
             }
            },
            "type": "scattermapbox"
           }
          ],
          "scatterpolar": [
           {
            "marker": {
             "colorbar": {
              "outlinewidth": 0,
              "ticks": ""
             }
            },
            "type": "scatterpolar"
           }
          ],
          "scatterpolargl": [
           {
            "marker": {
             "colorbar": {
              "outlinewidth": 0,
              "ticks": ""
             }
            },
            "type": "scatterpolargl"
           }
          ],
          "scatterternary": [
           {
            "marker": {
             "colorbar": {
              "outlinewidth": 0,
              "ticks": ""
             }
            },
            "type": "scatterternary"
           }
          ],
          "surface": [
           {
            "colorbar": {
             "outlinewidth": 0,
             "ticks": ""
            },
            "colorscale": [
             [
              0,
              "#0d0887"
             ],
             [
              0.1111111111111111,
              "#46039f"
             ],
             [
              0.2222222222222222,
              "#7201a8"
             ],
             [
              0.3333333333333333,
              "#9c179e"
             ],
             [
              0.4444444444444444,
              "#bd3786"
             ],
             [
              0.5555555555555556,
              "#d8576b"
             ],
             [
              0.6666666666666666,
              "#ed7953"
             ],
             [
              0.7777777777777778,
              "#fb9f3a"
             ],
             [
              0.8888888888888888,
              "#fdca26"
             ],
             [
              1,
              "#f0f921"
             ]
            ],
            "type": "surface"
           }
          ],
          "table": [
           {
            "cells": {
             "fill": {
              "color": "#EBF0F8"
             },
             "line": {
              "color": "white"
             }
            },
            "header": {
             "fill": {
              "color": "#C8D4E3"
             },
             "line": {
              "color": "white"
             }
            },
            "type": "table"
           }
          ]
         },
         "layout": {
          "annotationdefaults": {
           "arrowcolor": "#2a3f5f",
           "arrowhead": 0,
           "arrowwidth": 1
          },
          "coloraxis": {
           "colorbar": {
            "outlinewidth": 0,
            "ticks": ""
           }
          },
          "colorscale": {
           "diverging": [
            [
             0,
             "#8e0152"
            ],
            [
             0.1,
             "#c51b7d"
            ],
            [
             0.2,
             "#de77ae"
            ],
            [
             0.3,
             "#f1b6da"
            ],
            [
             0.4,
             "#fde0ef"
            ],
            [
             0.5,
             "#f7f7f7"
            ],
            [
             0.6,
             "#e6f5d0"
            ],
            [
             0.7,
             "#b8e186"
            ],
            [
             0.8,
             "#7fbc41"
            ],
            [
             0.9,
             "#4d9221"
            ],
            [
             1,
             "#276419"
            ]
           ],
           "sequential": [
            [
             0,
             "#0d0887"
            ],
            [
             0.1111111111111111,
             "#46039f"
            ],
            [
             0.2222222222222222,
             "#7201a8"
            ],
            [
             0.3333333333333333,
             "#9c179e"
            ],
            [
             0.4444444444444444,
             "#bd3786"
            ],
            [
             0.5555555555555556,
             "#d8576b"
            ],
            [
             0.6666666666666666,
             "#ed7953"
            ],
            [
             0.7777777777777778,
             "#fb9f3a"
            ],
            [
             0.8888888888888888,
             "#fdca26"
            ],
            [
             1,
             "#f0f921"
            ]
           ],
           "sequentialminus": [
            [
             0,
             "#0d0887"
            ],
            [
             0.1111111111111111,
             "#46039f"
            ],
            [
             0.2222222222222222,
             "#7201a8"
            ],
            [
             0.3333333333333333,
             "#9c179e"
            ],
            [
             0.4444444444444444,
             "#bd3786"
            ],
            [
             0.5555555555555556,
             "#d8576b"
            ],
            [
             0.6666666666666666,
             "#ed7953"
            ],
            [
             0.7777777777777778,
             "#fb9f3a"
            ],
            [
             0.8888888888888888,
             "#fdca26"
            ],
            [
             1,
             "#f0f921"
            ]
           ]
          },
          "colorway": [
           "#636efa",
           "#EF553B",
           "#00cc96",
           "#ab63fa",
           "#FFA15A",
           "#19d3f3",
           "#FF6692",
           "#B6E880",
           "#FF97FF",
           "#FECB52"
          ],
          "font": {
           "color": "#2a3f5f"
          },
          "geo": {
           "bgcolor": "white",
           "lakecolor": "white",
           "landcolor": "#E5ECF6",
           "showlakes": true,
           "showland": true,
           "subunitcolor": "white"
          },
          "hoverlabel": {
           "align": "left"
          },
          "hovermode": "closest",
          "mapbox": {
           "style": "light"
          },
          "paper_bgcolor": "white",
          "plot_bgcolor": "#E5ECF6",
          "polar": {
           "angularaxis": {
            "gridcolor": "white",
            "linecolor": "white",
            "ticks": ""
           },
           "bgcolor": "#E5ECF6",
           "radialaxis": {
            "gridcolor": "white",
            "linecolor": "white",
            "ticks": ""
           }
          },
          "scene": {
           "xaxis": {
            "backgroundcolor": "#E5ECF6",
            "gridcolor": "white",
            "gridwidth": 2,
            "linecolor": "white",
            "showbackground": true,
            "ticks": "",
            "zerolinecolor": "white"
           },
           "yaxis": {
            "backgroundcolor": "#E5ECF6",
            "gridcolor": "white",
            "gridwidth": 2,
            "linecolor": "white",
            "showbackground": true,
            "ticks": "",
            "zerolinecolor": "white"
           },
           "zaxis": {
            "backgroundcolor": "#E5ECF6",
            "gridcolor": "white",
            "gridwidth": 2,
            "linecolor": "white",
            "showbackground": true,
            "ticks": "",
            "zerolinecolor": "white"
           }
          },
          "shapedefaults": {
           "line": {
            "color": "#2a3f5f"
           }
          },
          "ternary": {
           "aaxis": {
            "gridcolor": "white",
            "linecolor": "white",
            "ticks": ""
           },
           "baxis": {
            "gridcolor": "white",
            "linecolor": "white",
            "ticks": ""
           },
           "bgcolor": "#E5ECF6",
           "caxis": {
            "gridcolor": "white",
            "linecolor": "white",
            "ticks": ""
           }
          },
          "title": {
           "x": 0.05
          },
          "xaxis": {
           "automargin": true,
           "gridcolor": "white",
           "linecolor": "white",
           "ticks": "",
           "title": {
            "standoff": 15
           },
           "zerolinecolor": "white",
           "zerolinewidth": 2
          },
          "yaxis": {
           "automargin": true,
           "gridcolor": "white",
           "linecolor": "white",
           "ticks": "",
           "title": {
            "standoff": 15
           },
           "zerolinecolor": "white",
           "zerolinewidth": 2
          }
         }
        },
        "title": {
         "font": {
          "color": "#4D5663"
         }
        },
        "xaxis": {
         "gridcolor": "#E1E5ED",
         "showgrid": true,
         "tickfont": {
          "color": "#4D5663"
         },
         "title": {
          "font": {
           "color": "#4D5663"
          },
          "text": ""
         },
         "zerolinecolor": "#E1E5ED"
        },
        "yaxis": {
         "gridcolor": "#E1E5ED",
         "showgrid": true,
         "tickfont": {
          "color": "#4D5663"
         },
         "title": {
          "font": {
           "color": "#4D5663"
          },
          "text": ""
         },
         "zerolinecolor": "#E1E5ED"
        }
       }
      },
      "text/html": [
       "<div>\n",
       "        \n",
       "        \n",
       "            <div id=\"ac8f56a3-4aee-4a38-8f28-050359f7468e\" class=\"plotly-graph-div\" style=\"height:525px; width:100%;\"></div>\n",
       "            <script type=\"text/javascript\">\n",
       "                require([\"plotly\"], function(Plotly) {\n",
       "                    window.PLOTLYENV=window.PLOTLYENV || {};\n",
       "                    window.PLOTLYENV.BASE_URL='https://plot.ly';\n",
       "                    \n",
       "                if (document.getElementById(\"ac8f56a3-4aee-4a38-8f28-050359f7468e\")) {\n",
       "                    Plotly.newPlot(\n",
       "                        'ac8f56a3-4aee-4a38-8f28-050359f7468e',\n",
       "                        [{\"marker\": {\"color\": \"rgba(255, 153, 51, 0.6)\", \"line\": {\"color\": \"rgba(255, 153, 51, 1.0)\", \"width\": 1}}, \"name\": \"Values\", \"orientation\": \"v\", \"text\": \"\", \"type\": \"bar\", \"x\": [\"A\", \"B\", \"C\"], \"y\": [32, 43, 50]}],\n",
       "                        {\"legend\": {\"bgcolor\": \"#F5F6F9\", \"font\": {\"color\": \"#4D5663\"}}, \"paper_bgcolor\": \"#F5F6F9\", \"plot_bgcolor\": \"#F5F6F9\", \"template\": {\"data\": {\"bar\": [{\"error_x\": {\"color\": \"#2a3f5f\"}, \"error_y\": {\"color\": \"#2a3f5f\"}, \"marker\": {\"line\": {\"color\": \"#E5ECF6\", \"width\": 0.5}}, \"type\": \"bar\"}], \"barpolar\": [{\"marker\": {\"line\": {\"color\": \"#E5ECF6\", \"width\": 0.5}}, \"type\": \"barpolar\"}], \"carpet\": [{\"aaxis\": {\"endlinecolor\": \"#2a3f5f\", \"gridcolor\": \"white\", \"linecolor\": \"white\", \"minorgridcolor\": \"white\", \"startlinecolor\": \"#2a3f5f\"}, \"baxis\": {\"endlinecolor\": \"#2a3f5f\", \"gridcolor\": \"white\", \"linecolor\": \"white\", \"minorgridcolor\": \"white\", \"startlinecolor\": \"#2a3f5f\"}, \"type\": \"carpet\"}], \"choropleth\": [{\"colorbar\": {\"outlinewidth\": 0, \"ticks\": \"\"}, \"type\": \"choropleth\"}], \"contour\": [{\"colorbar\": {\"outlinewidth\": 0, \"ticks\": \"\"}, \"colorscale\": [[0.0, \"#0d0887\"], [0.1111111111111111, \"#46039f\"], [0.2222222222222222, \"#7201a8\"], [0.3333333333333333, \"#9c179e\"], [0.4444444444444444, \"#bd3786\"], [0.5555555555555556, \"#d8576b\"], [0.6666666666666666, \"#ed7953\"], [0.7777777777777778, \"#fb9f3a\"], [0.8888888888888888, \"#fdca26\"], [1.0, \"#f0f921\"]], \"type\": \"contour\"}], \"contourcarpet\": [{\"colorbar\": {\"outlinewidth\": 0, \"ticks\": \"\"}, \"type\": \"contourcarpet\"}], \"heatmap\": [{\"colorbar\": {\"outlinewidth\": 0, \"ticks\": \"\"}, \"colorscale\": [[0.0, \"#0d0887\"], [0.1111111111111111, \"#46039f\"], [0.2222222222222222, \"#7201a8\"], [0.3333333333333333, \"#9c179e\"], [0.4444444444444444, \"#bd3786\"], [0.5555555555555556, \"#d8576b\"], [0.6666666666666666, \"#ed7953\"], [0.7777777777777778, \"#fb9f3a\"], [0.8888888888888888, \"#fdca26\"], [1.0, \"#f0f921\"]], \"type\": \"heatmap\"}], \"heatmapgl\": [{\"colorbar\": {\"outlinewidth\": 0, \"ticks\": \"\"}, \"colorscale\": [[0.0, \"#0d0887\"], [0.1111111111111111, \"#46039f\"], [0.2222222222222222, \"#7201a8\"], [0.3333333333333333, \"#9c179e\"], [0.4444444444444444, \"#bd3786\"], [0.5555555555555556, \"#d8576b\"], [0.6666666666666666, \"#ed7953\"], [0.7777777777777778, \"#fb9f3a\"], [0.8888888888888888, \"#fdca26\"], [1.0, \"#f0f921\"]], \"type\": \"heatmapgl\"}], \"histogram\": [{\"marker\": {\"colorbar\": {\"outlinewidth\": 0, \"ticks\": \"\"}}, \"type\": \"histogram\"}], \"histogram2d\": [{\"colorbar\": {\"outlinewidth\": 0, \"ticks\": \"\"}, \"colorscale\": [[0.0, \"#0d0887\"], [0.1111111111111111, \"#46039f\"], [0.2222222222222222, \"#7201a8\"], [0.3333333333333333, \"#9c179e\"], [0.4444444444444444, \"#bd3786\"], [0.5555555555555556, \"#d8576b\"], [0.6666666666666666, \"#ed7953\"], [0.7777777777777778, \"#fb9f3a\"], [0.8888888888888888, \"#fdca26\"], [1.0, \"#f0f921\"]], \"type\": \"histogram2d\"}], \"histogram2dcontour\": [{\"colorbar\": {\"outlinewidth\": 0, \"ticks\": \"\"}, \"colorscale\": [[0.0, \"#0d0887\"], [0.1111111111111111, \"#46039f\"], [0.2222222222222222, \"#7201a8\"], [0.3333333333333333, \"#9c179e\"], [0.4444444444444444, \"#bd3786\"], [0.5555555555555556, \"#d8576b\"], [0.6666666666666666, \"#ed7953\"], [0.7777777777777778, \"#fb9f3a\"], [0.8888888888888888, \"#fdca26\"], [1.0, \"#f0f921\"]], \"type\": \"histogram2dcontour\"}], \"mesh3d\": [{\"colorbar\": {\"outlinewidth\": 0, \"ticks\": \"\"}, \"type\": \"mesh3d\"}], \"parcoords\": [{\"line\": {\"colorbar\": {\"outlinewidth\": 0, \"ticks\": \"\"}}, \"type\": \"parcoords\"}], \"pie\": [{\"automargin\": true, \"type\": \"pie\"}], \"scatter\": [{\"marker\": {\"colorbar\": {\"outlinewidth\": 0, \"ticks\": \"\"}}, \"type\": \"scatter\"}], \"scatter3d\": [{\"line\": {\"colorbar\": {\"outlinewidth\": 0, \"ticks\": \"\"}}, \"marker\": {\"colorbar\": {\"outlinewidth\": 0, \"ticks\": \"\"}}, \"type\": \"scatter3d\"}], \"scattercarpet\": [{\"marker\": {\"colorbar\": {\"outlinewidth\": 0, \"ticks\": \"\"}}, \"type\": \"scattercarpet\"}], \"scattergeo\": [{\"marker\": {\"colorbar\": {\"outlinewidth\": 0, \"ticks\": \"\"}}, \"type\": \"scattergeo\"}], \"scattergl\": [{\"marker\": {\"colorbar\": {\"outlinewidth\": 0, \"ticks\": \"\"}}, \"type\": \"scattergl\"}], \"scattermapbox\": [{\"marker\": {\"colorbar\": {\"outlinewidth\": 0, \"ticks\": \"\"}}, \"type\": \"scattermapbox\"}], \"scatterpolar\": [{\"marker\": {\"colorbar\": {\"outlinewidth\": 0, \"ticks\": \"\"}}, \"type\": \"scatterpolar\"}], \"scatterpolargl\": [{\"marker\": {\"colorbar\": {\"outlinewidth\": 0, \"ticks\": \"\"}}, \"type\": \"scatterpolargl\"}], \"scatterternary\": [{\"marker\": {\"colorbar\": {\"outlinewidth\": 0, \"ticks\": \"\"}}, \"type\": \"scatterternary\"}], \"surface\": [{\"colorbar\": {\"outlinewidth\": 0, \"ticks\": \"\"}, \"colorscale\": [[0.0, \"#0d0887\"], [0.1111111111111111, \"#46039f\"], [0.2222222222222222, \"#7201a8\"], [0.3333333333333333, \"#9c179e\"], [0.4444444444444444, \"#bd3786\"], [0.5555555555555556, \"#d8576b\"], [0.6666666666666666, \"#ed7953\"], [0.7777777777777778, \"#fb9f3a\"], [0.8888888888888888, \"#fdca26\"], [1.0, \"#f0f921\"]], \"type\": \"surface\"}], \"table\": [{\"cells\": {\"fill\": {\"color\": \"#EBF0F8\"}, \"line\": {\"color\": \"white\"}}, \"header\": {\"fill\": {\"color\": \"#C8D4E3\"}, \"line\": {\"color\": \"white\"}}, \"type\": \"table\"}]}, \"layout\": {\"annotationdefaults\": {\"arrowcolor\": \"#2a3f5f\", \"arrowhead\": 0, \"arrowwidth\": 1}, \"coloraxis\": {\"colorbar\": {\"outlinewidth\": 0, \"ticks\": \"\"}}, \"colorscale\": {\"diverging\": [[0, \"#8e0152\"], [0.1, \"#c51b7d\"], [0.2, \"#de77ae\"], [0.3, \"#f1b6da\"], [0.4, \"#fde0ef\"], [0.5, \"#f7f7f7\"], [0.6, \"#e6f5d0\"], [0.7, \"#b8e186\"], [0.8, \"#7fbc41\"], [0.9, \"#4d9221\"], [1, \"#276419\"]], \"sequential\": [[0.0, \"#0d0887\"], [0.1111111111111111, \"#46039f\"], [0.2222222222222222, \"#7201a8\"], [0.3333333333333333, \"#9c179e\"], [0.4444444444444444, \"#bd3786\"], [0.5555555555555556, \"#d8576b\"], [0.6666666666666666, \"#ed7953\"], [0.7777777777777778, \"#fb9f3a\"], [0.8888888888888888, \"#fdca26\"], [1.0, \"#f0f921\"]], \"sequentialminus\": [[0.0, \"#0d0887\"], [0.1111111111111111, \"#46039f\"], [0.2222222222222222, \"#7201a8\"], [0.3333333333333333, \"#9c179e\"], [0.4444444444444444, \"#bd3786\"], [0.5555555555555556, \"#d8576b\"], [0.6666666666666666, \"#ed7953\"], [0.7777777777777778, \"#fb9f3a\"], [0.8888888888888888, \"#fdca26\"], [1.0, \"#f0f921\"]]}, \"colorway\": [\"#636efa\", \"#EF553B\", \"#00cc96\", \"#ab63fa\", \"#FFA15A\", \"#19d3f3\", \"#FF6692\", \"#B6E880\", \"#FF97FF\", \"#FECB52\"], \"font\": {\"color\": \"#2a3f5f\"}, \"geo\": {\"bgcolor\": \"white\", \"lakecolor\": \"white\", \"landcolor\": \"#E5ECF6\", \"showlakes\": true, \"showland\": true, \"subunitcolor\": \"white\"}, \"hoverlabel\": {\"align\": \"left\"}, \"hovermode\": \"closest\", \"mapbox\": {\"style\": \"light\"}, \"paper_bgcolor\": \"white\", \"plot_bgcolor\": \"#E5ECF6\", \"polar\": {\"angularaxis\": {\"gridcolor\": \"white\", \"linecolor\": \"white\", \"ticks\": \"\"}, \"bgcolor\": \"#E5ECF6\", \"radialaxis\": {\"gridcolor\": \"white\", \"linecolor\": \"white\", \"ticks\": \"\"}}, \"scene\": {\"xaxis\": {\"backgroundcolor\": \"#E5ECF6\", \"gridcolor\": \"white\", \"gridwidth\": 2, \"linecolor\": \"white\", \"showbackground\": true, \"ticks\": \"\", \"zerolinecolor\": \"white\"}, \"yaxis\": {\"backgroundcolor\": \"#E5ECF6\", \"gridcolor\": \"white\", \"gridwidth\": 2, \"linecolor\": \"white\", \"showbackground\": true, \"ticks\": \"\", \"zerolinecolor\": \"white\"}, \"zaxis\": {\"backgroundcolor\": \"#E5ECF6\", \"gridcolor\": \"white\", \"gridwidth\": 2, \"linecolor\": \"white\", \"showbackground\": true, \"ticks\": \"\", \"zerolinecolor\": \"white\"}}, \"shapedefaults\": {\"line\": {\"color\": \"#2a3f5f\"}}, \"ternary\": {\"aaxis\": {\"gridcolor\": \"white\", \"linecolor\": \"white\", \"ticks\": \"\"}, \"baxis\": {\"gridcolor\": \"white\", \"linecolor\": \"white\", \"ticks\": \"\"}, \"bgcolor\": \"#E5ECF6\", \"caxis\": {\"gridcolor\": \"white\", \"linecolor\": \"white\", \"ticks\": \"\"}}, \"title\": {\"x\": 0.05}, \"xaxis\": {\"automargin\": true, \"gridcolor\": \"white\", \"linecolor\": \"white\", \"ticks\": \"\", \"title\": {\"standoff\": 15}, \"zerolinecolor\": \"white\", \"zerolinewidth\": 2}, \"yaxis\": {\"automargin\": true, \"gridcolor\": \"white\", \"linecolor\": \"white\", \"ticks\": \"\", \"title\": {\"standoff\": 15}, \"zerolinecolor\": \"white\", \"zerolinewidth\": 2}}}, \"title\": {\"font\": {\"color\": \"#4D5663\"}}, \"xaxis\": {\"gridcolor\": \"#E1E5ED\", \"showgrid\": true, \"tickfont\": {\"color\": \"#4D5663\"}, \"title\": {\"font\": {\"color\": \"#4D5663\"}, \"text\": \"\"}, \"zerolinecolor\": \"#E1E5ED\"}, \"yaxis\": {\"gridcolor\": \"#E1E5ED\", \"showgrid\": true, \"tickfont\": {\"color\": \"#4D5663\"}, \"title\": {\"font\": {\"color\": \"#4D5663\"}, \"text\": \"\"}, \"zerolinecolor\": \"#E1E5ED\"}},\n",
       "                        {\"showLink\": true, \"linkText\": \"Export to plot.ly\", \"plotlyServerURL\": \"https://plot.ly\", \"responsive\": true}\n",
       "                    ).then(function(){\n",
       "                            \n",
       "var gd = document.getElementById('ac8f56a3-4aee-4a38-8f28-050359f7468e');\n",
       "var x = new MutationObserver(function (mutations, observer) {{\n",
       "        var display = window.getComputedStyle(gd).display;\n",
       "        if (!display || display === 'none') {{\n",
       "            console.log([gd, 'removed!']);\n",
       "            Plotly.purge(gd);\n",
       "            observer.disconnect();\n",
       "        }}\n",
       "}});\n",
       "\n",
       "// Listen for the removal of the full notebook cells\n",
       "var notebookContainer = gd.closest('#notebook-container');\n",
       "if (notebookContainer) {{\n",
       "    x.observe(notebookContainer, {childList: true});\n",
       "}}\n",
       "\n",
       "// Listen for the clearing of the current output cell\n",
       "var outputEl = gd.closest('.output');\n",
       "if (outputEl) {{\n",
       "    x.observe(outputEl, {childList: true});\n",
       "}}\n",
       "\n",
       "                        })\n",
       "                };\n",
       "                });\n",
       "            </script>\n",
       "        </div>"
      ]
     },
     "metadata": {},
     "output_type": "display_data"
    }
   ],
   "source": [
    "df2.iplot(kind='bar',x='Category',y='Values')"
   ]
  },
  {
   "cell_type": "code",
   "execution_count": 14,
   "metadata": {},
   "outputs": [
    {
     "data": {
      "application/vnd.plotly.v1+json": {
       "config": {
        "linkText": "Export to plot.ly",
        "plotlyServerURL": "https://plot.ly",
        "showLink": true
       },
       "data": [
        {
         "marker": {
          "color": "rgba(255, 153, 51, 0.6)",
          "line": {
           "color": "rgba(255, 153, 51, 1.0)",
           "width": 1
          }
         },
         "name": "None",
         "orientation": "v",
         "text": "",
         "type": "bar",
         "x": [
          "A",
          "B",
          "C",
          "D"
         ],
         "y": [
          100,
          100,
          100,
          100
         ]
        }
       ],
       "layout": {
        "legend": {
         "bgcolor": "#F5F6F9",
         "font": {
          "color": "#4D5663"
         }
        },
        "paper_bgcolor": "#F5F6F9",
        "plot_bgcolor": "#F5F6F9",
        "template": {
         "data": {
          "bar": [
           {
            "error_x": {
             "color": "#2a3f5f"
            },
            "error_y": {
             "color": "#2a3f5f"
            },
            "marker": {
             "line": {
              "color": "#E5ECF6",
              "width": 0.5
             }
            },
            "type": "bar"
           }
          ],
          "barpolar": [
           {
            "marker": {
             "line": {
              "color": "#E5ECF6",
              "width": 0.5
             }
            },
            "type": "barpolar"
           }
          ],
          "carpet": [
           {
            "aaxis": {
             "endlinecolor": "#2a3f5f",
             "gridcolor": "white",
             "linecolor": "white",
             "minorgridcolor": "white",
             "startlinecolor": "#2a3f5f"
            },
            "baxis": {
             "endlinecolor": "#2a3f5f",
             "gridcolor": "white",
             "linecolor": "white",
             "minorgridcolor": "white",
             "startlinecolor": "#2a3f5f"
            },
            "type": "carpet"
           }
          ],
          "choropleth": [
           {
            "colorbar": {
             "outlinewidth": 0,
             "ticks": ""
            },
            "type": "choropleth"
           }
          ],
          "contour": [
           {
            "colorbar": {
             "outlinewidth": 0,
             "ticks": ""
            },
            "colorscale": [
             [
              0,
              "#0d0887"
             ],
             [
              0.1111111111111111,
              "#46039f"
             ],
             [
              0.2222222222222222,
              "#7201a8"
             ],
             [
              0.3333333333333333,
              "#9c179e"
             ],
             [
              0.4444444444444444,
              "#bd3786"
             ],
             [
              0.5555555555555556,
              "#d8576b"
             ],
             [
              0.6666666666666666,
              "#ed7953"
             ],
             [
              0.7777777777777778,
              "#fb9f3a"
             ],
             [
              0.8888888888888888,
              "#fdca26"
             ],
             [
              1,
              "#f0f921"
             ]
            ],
            "type": "contour"
           }
          ],
          "contourcarpet": [
           {
            "colorbar": {
             "outlinewidth": 0,
             "ticks": ""
            },
            "type": "contourcarpet"
           }
          ],
          "heatmap": [
           {
            "colorbar": {
             "outlinewidth": 0,
             "ticks": ""
            },
            "colorscale": [
             [
              0,
              "#0d0887"
             ],
             [
              0.1111111111111111,
              "#46039f"
             ],
             [
              0.2222222222222222,
              "#7201a8"
             ],
             [
              0.3333333333333333,
              "#9c179e"
             ],
             [
              0.4444444444444444,
              "#bd3786"
             ],
             [
              0.5555555555555556,
              "#d8576b"
             ],
             [
              0.6666666666666666,
              "#ed7953"
             ],
             [
              0.7777777777777778,
              "#fb9f3a"
             ],
             [
              0.8888888888888888,
              "#fdca26"
             ],
             [
              1,
              "#f0f921"
             ]
            ],
            "type": "heatmap"
           }
          ],
          "heatmapgl": [
           {
            "colorbar": {
             "outlinewidth": 0,
             "ticks": ""
            },
            "colorscale": [
             [
              0,
              "#0d0887"
             ],
             [
              0.1111111111111111,
              "#46039f"
             ],
             [
              0.2222222222222222,
              "#7201a8"
             ],
             [
              0.3333333333333333,
              "#9c179e"
             ],
             [
              0.4444444444444444,
              "#bd3786"
             ],
             [
              0.5555555555555556,
              "#d8576b"
             ],
             [
              0.6666666666666666,
              "#ed7953"
             ],
             [
              0.7777777777777778,
              "#fb9f3a"
             ],
             [
              0.8888888888888888,
              "#fdca26"
             ],
             [
              1,
              "#f0f921"
             ]
            ],
            "type": "heatmapgl"
           }
          ],
          "histogram": [
           {
            "marker": {
             "colorbar": {
              "outlinewidth": 0,
              "ticks": ""
             }
            },
            "type": "histogram"
           }
          ],
          "histogram2d": [
           {
            "colorbar": {
             "outlinewidth": 0,
             "ticks": ""
            },
            "colorscale": [
             [
              0,
              "#0d0887"
             ],
             [
              0.1111111111111111,
              "#46039f"
             ],
             [
              0.2222222222222222,
              "#7201a8"
             ],
             [
              0.3333333333333333,
              "#9c179e"
             ],
             [
              0.4444444444444444,
              "#bd3786"
             ],
             [
              0.5555555555555556,
              "#d8576b"
             ],
             [
              0.6666666666666666,
              "#ed7953"
             ],
             [
              0.7777777777777778,
              "#fb9f3a"
             ],
             [
              0.8888888888888888,
              "#fdca26"
             ],
             [
              1,
              "#f0f921"
             ]
            ],
            "type": "histogram2d"
           }
          ],
          "histogram2dcontour": [
           {
            "colorbar": {
             "outlinewidth": 0,
             "ticks": ""
            },
            "colorscale": [
             [
              0,
              "#0d0887"
             ],
             [
              0.1111111111111111,
              "#46039f"
             ],
             [
              0.2222222222222222,
              "#7201a8"
             ],
             [
              0.3333333333333333,
              "#9c179e"
             ],
             [
              0.4444444444444444,
              "#bd3786"
             ],
             [
              0.5555555555555556,
              "#d8576b"
             ],
             [
              0.6666666666666666,
              "#ed7953"
             ],
             [
              0.7777777777777778,
              "#fb9f3a"
             ],
             [
              0.8888888888888888,
              "#fdca26"
             ],
             [
              1,
              "#f0f921"
             ]
            ],
            "type": "histogram2dcontour"
           }
          ],
          "mesh3d": [
           {
            "colorbar": {
             "outlinewidth": 0,
             "ticks": ""
            },
            "type": "mesh3d"
           }
          ],
          "parcoords": [
           {
            "line": {
             "colorbar": {
              "outlinewidth": 0,
              "ticks": ""
             }
            },
            "type": "parcoords"
           }
          ],
          "pie": [
           {
            "automargin": true,
            "type": "pie"
           }
          ],
          "scatter": [
           {
            "marker": {
             "colorbar": {
              "outlinewidth": 0,
              "ticks": ""
             }
            },
            "type": "scatter"
           }
          ],
          "scatter3d": [
           {
            "line": {
             "colorbar": {
              "outlinewidth": 0,
              "ticks": ""
             }
            },
            "marker": {
             "colorbar": {
              "outlinewidth": 0,
              "ticks": ""
             }
            },
            "type": "scatter3d"
           }
          ],
          "scattercarpet": [
           {
            "marker": {
             "colorbar": {
              "outlinewidth": 0,
              "ticks": ""
             }
            },
            "type": "scattercarpet"
           }
          ],
          "scattergeo": [
           {
            "marker": {
             "colorbar": {
              "outlinewidth": 0,
              "ticks": ""
             }
            },
            "type": "scattergeo"
           }
          ],
          "scattergl": [
           {
            "marker": {
             "colorbar": {
              "outlinewidth": 0,
              "ticks": ""
             }
            },
            "type": "scattergl"
           }
          ],
          "scattermapbox": [
           {
            "marker": {
             "colorbar": {
              "outlinewidth": 0,
              "ticks": ""
             }
            },
            "type": "scattermapbox"
           }
          ],
          "scatterpolar": [
           {
            "marker": {
             "colorbar": {
              "outlinewidth": 0,
              "ticks": ""
             }
            },
            "type": "scatterpolar"
           }
          ],
          "scatterpolargl": [
           {
            "marker": {
             "colorbar": {
              "outlinewidth": 0,
              "ticks": ""
             }
            },
            "type": "scatterpolargl"
           }
          ],
          "scatterternary": [
           {
            "marker": {
             "colorbar": {
              "outlinewidth": 0,
              "ticks": ""
             }
            },
            "type": "scatterternary"
           }
          ],
          "surface": [
           {
            "colorbar": {
             "outlinewidth": 0,
             "ticks": ""
            },
            "colorscale": [
             [
              0,
              "#0d0887"
             ],
             [
              0.1111111111111111,
              "#46039f"
             ],
             [
              0.2222222222222222,
              "#7201a8"
             ],
             [
              0.3333333333333333,
              "#9c179e"
             ],
             [
              0.4444444444444444,
              "#bd3786"
             ],
             [
              0.5555555555555556,
              "#d8576b"
             ],
             [
              0.6666666666666666,
              "#ed7953"
             ],
             [
              0.7777777777777778,
              "#fb9f3a"
             ],
             [
              0.8888888888888888,
              "#fdca26"
             ],
             [
              1,
              "#f0f921"
             ]
            ],
            "type": "surface"
           }
          ],
          "table": [
           {
            "cells": {
             "fill": {
              "color": "#EBF0F8"
             },
             "line": {
              "color": "white"
             }
            },
            "header": {
             "fill": {
              "color": "#C8D4E3"
             },
             "line": {
              "color": "white"
             }
            },
            "type": "table"
           }
          ]
         },
         "layout": {
          "annotationdefaults": {
           "arrowcolor": "#2a3f5f",
           "arrowhead": 0,
           "arrowwidth": 1
          },
          "coloraxis": {
           "colorbar": {
            "outlinewidth": 0,
            "ticks": ""
           }
          },
          "colorscale": {
           "diverging": [
            [
             0,
             "#8e0152"
            ],
            [
             0.1,
             "#c51b7d"
            ],
            [
             0.2,
             "#de77ae"
            ],
            [
             0.3,
             "#f1b6da"
            ],
            [
             0.4,
             "#fde0ef"
            ],
            [
             0.5,
             "#f7f7f7"
            ],
            [
             0.6,
             "#e6f5d0"
            ],
            [
             0.7,
             "#b8e186"
            ],
            [
             0.8,
             "#7fbc41"
            ],
            [
             0.9,
             "#4d9221"
            ],
            [
             1,
             "#276419"
            ]
           ],
           "sequential": [
            [
             0,
             "#0d0887"
            ],
            [
             0.1111111111111111,
             "#46039f"
            ],
            [
             0.2222222222222222,
             "#7201a8"
            ],
            [
             0.3333333333333333,
             "#9c179e"
            ],
            [
             0.4444444444444444,
             "#bd3786"
            ],
            [
             0.5555555555555556,
             "#d8576b"
            ],
            [
             0.6666666666666666,
             "#ed7953"
            ],
            [
             0.7777777777777778,
             "#fb9f3a"
            ],
            [
             0.8888888888888888,
             "#fdca26"
            ],
            [
             1,
             "#f0f921"
            ]
           ],
           "sequentialminus": [
            [
             0,
             "#0d0887"
            ],
            [
             0.1111111111111111,
             "#46039f"
            ],
            [
             0.2222222222222222,
             "#7201a8"
            ],
            [
             0.3333333333333333,
             "#9c179e"
            ],
            [
             0.4444444444444444,
             "#bd3786"
            ],
            [
             0.5555555555555556,
             "#d8576b"
            ],
            [
             0.6666666666666666,
             "#ed7953"
            ],
            [
             0.7777777777777778,
             "#fb9f3a"
            ],
            [
             0.8888888888888888,
             "#fdca26"
            ],
            [
             1,
             "#f0f921"
            ]
           ]
          },
          "colorway": [
           "#636efa",
           "#EF553B",
           "#00cc96",
           "#ab63fa",
           "#FFA15A",
           "#19d3f3",
           "#FF6692",
           "#B6E880",
           "#FF97FF",
           "#FECB52"
          ],
          "font": {
           "color": "#2a3f5f"
          },
          "geo": {
           "bgcolor": "white",
           "lakecolor": "white",
           "landcolor": "#E5ECF6",
           "showlakes": true,
           "showland": true,
           "subunitcolor": "white"
          },
          "hoverlabel": {
           "align": "left"
          },
          "hovermode": "closest",
          "mapbox": {
           "style": "light"
          },
          "paper_bgcolor": "white",
          "plot_bgcolor": "#E5ECF6",
          "polar": {
           "angularaxis": {
            "gridcolor": "white",
            "linecolor": "white",
            "ticks": ""
           },
           "bgcolor": "#E5ECF6",
           "radialaxis": {
            "gridcolor": "white",
            "linecolor": "white",
            "ticks": ""
           }
          },
          "scene": {
           "xaxis": {
            "backgroundcolor": "#E5ECF6",
            "gridcolor": "white",
            "gridwidth": 2,
            "linecolor": "white",
            "showbackground": true,
            "ticks": "",
            "zerolinecolor": "white"
           },
           "yaxis": {
            "backgroundcolor": "#E5ECF6",
            "gridcolor": "white",
            "gridwidth": 2,
            "linecolor": "white",
            "showbackground": true,
            "ticks": "",
            "zerolinecolor": "white"
           },
           "zaxis": {
            "backgroundcolor": "#E5ECF6",
            "gridcolor": "white",
            "gridwidth": 2,
            "linecolor": "white",
            "showbackground": true,
            "ticks": "",
            "zerolinecolor": "white"
           }
          },
          "shapedefaults": {
           "line": {
            "color": "#2a3f5f"
           }
          },
          "ternary": {
           "aaxis": {
            "gridcolor": "white",
            "linecolor": "white",
            "ticks": ""
           },
           "baxis": {
            "gridcolor": "white",
            "linecolor": "white",
            "ticks": ""
           },
           "bgcolor": "#E5ECF6",
           "caxis": {
            "gridcolor": "white",
            "linecolor": "white",
            "ticks": ""
           }
          },
          "title": {
           "x": 0.05
          },
          "xaxis": {
           "automargin": true,
           "gridcolor": "white",
           "linecolor": "white",
           "ticks": "",
           "title": {
            "standoff": 15
           },
           "zerolinecolor": "white",
           "zerolinewidth": 2
          },
          "yaxis": {
           "automargin": true,
           "gridcolor": "white",
           "linecolor": "white",
           "ticks": "",
           "title": {
            "standoff": 15
           },
           "zerolinecolor": "white",
           "zerolinewidth": 2
          }
         }
        },
        "title": {
         "font": {
          "color": "#4D5663"
         }
        },
        "xaxis": {
         "gridcolor": "#E1E5ED",
         "showgrid": true,
         "tickfont": {
          "color": "#4D5663"
         },
         "title": {
          "font": {
           "color": "#4D5663"
          },
          "text": ""
         },
         "zerolinecolor": "#E1E5ED"
        },
        "yaxis": {
         "gridcolor": "#E1E5ED",
         "showgrid": true,
         "tickfont": {
          "color": "#4D5663"
         },
         "title": {
          "font": {
           "color": "#4D5663"
          },
          "text": ""
         },
         "zerolinecolor": "#E1E5ED"
        }
       }
      },
      "text/html": [
       "<div>\n",
       "        \n",
       "        \n",
       "            <div id=\"1de4a62a-fe16-472e-bc33-8dbc639ec3ff\" class=\"plotly-graph-div\" style=\"height:525px; width:100%;\"></div>\n",
       "            <script type=\"text/javascript\">\n",
       "                require([\"plotly\"], function(Plotly) {\n",
       "                    window.PLOTLYENV=window.PLOTLYENV || {};\n",
       "                    window.PLOTLYENV.BASE_URL='https://plot.ly';\n",
       "                    \n",
       "                if (document.getElementById(\"1de4a62a-fe16-472e-bc33-8dbc639ec3ff\")) {\n",
       "                    Plotly.newPlot(\n",
       "                        '1de4a62a-fe16-472e-bc33-8dbc639ec3ff',\n",
       "                        [{\"marker\": {\"color\": \"rgba(255, 153, 51, 0.6)\", \"line\": {\"color\": \"rgba(255, 153, 51, 1.0)\", \"width\": 1}}, \"name\": \"None\", \"orientation\": \"v\", \"text\": \"\", \"type\": \"bar\", \"x\": [\"A\", \"B\", \"C\", \"D\"], \"y\": [100, 100, 100, 100]}],\n",
       "                        {\"legend\": {\"bgcolor\": \"#F5F6F9\", \"font\": {\"color\": \"#4D5663\"}}, \"paper_bgcolor\": \"#F5F6F9\", \"plot_bgcolor\": \"#F5F6F9\", \"template\": {\"data\": {\"bar\": [{\"error_x\": {\"color\": \"#2a3f5f\"}, \"error_y\": {\"color\": \"#2a3f5f\"}, \"marker\": {\"line\": {\"color\": \"#E5ECF6\", \"width\": 0.5}}, \"type\": \"bar\"}], \"barpolar\": [{\"marker\": {\"line\": {\"color\": \"#E5ECF6\", \"width\": 0.5}}, \"type\": \"barpolar\"}], \"carpet\": [{\"aaxis\": {\"endlinecolor\": \"#2a3f5f\", \"gridcolor\": \"white\", \"linecolor\": \"white\", \"minorgridcolor\": \"white\", \"startlinecolor\": \"#2a3f5f\"}, \"baxis\": {\"endlinecolor\": \"#2a3f5f\", \"gridcolor\": \"white\", \"linecolor\": \"white\", \"minorgridcolor\": \"white\", \"startlinecolor\": \"#2a3f5f\"}, \"type\": \"carpet\"}], \"choropleth\": [{\"colorbar\": {\"outlinewidth\": 0, \"ticks\": \"\"}, \"type\": \"choropleth\"}], \"contour\": [{\"colorbar\": {\"outlinewidth\": 0, \"ticks\": \"\"}, \"colorscale\": [[0.0, \"#0d0887\"], [0.1111111111111111, \"#46039f\"], [0.2222222222222222, \"#7201a8\"], [0.3333333333333333, \"#9c179e\"], [0.4444444444444444, \"#bd3786\"], [0.5555555555555556, \"#d8576b\"], [0.6666666666666666, \"#ed7953\"], [0.7777777777777778, \"#fb9f3a\"], [0.8888888888888888, \"#fdca26\"], [1.0, \"#f0f921\"]], \"type\": \"contour\"}], \"contourcarpet\": [{\"colorbar\": {\"outlinewidth\": 0, \"ticks\": \"\"}, \"type\": \"contourcarpet\"}], \"heatmap\": [{\"colorbar\": {\"outlinewidth\": 0, \"ticks\": \"\"}, \"colorscale\": [[0.0, \"#0d0887\"], [0.1111111111111111, \"#46039f\"], [0.2222222222222222, \"#7201a8\"], [0.3333333333333333, \"#9c179e\"], [0.4444444444444444, \"#bd3786\"], [0.5555555555555556, \"#d8576b\"], [0.6666666666666666, \"#ed7953\"], [0.7777777777777778, \"#fb9f3a\"], [0.8888888888888888, \"#fdca26\"], [1.0, \"#f0f921\"]], \"type\": \"heatmap\"}], \"heatmapgl\": [{\"colorbar\": {\"outlinewidth\": 0, \"ticks\": \"\"}, \"colorscale\": [[0.0, \"#0d0887\"], [0.1111111111111111, \"#46039f\"], [0.2222222222222222, \"#7201a8\"], [0.3333333333333333, \"#9c179e\"], [0.4444444444444444, \"#bd3786\"], [0.5555555555555556, \"#d8576b\"], [0.6666666666666666, \"#ed7953\"], [0.7777777777777778, \"#fb9f3a\"], [0.8888888888888888, \"#fdca26\"], [1.0, \"#f0f921\"]], \"type\": \"heatmapgl\"}], \"histogram\": [{\"marker\": {\"colorbar\": {\"outlinewidth\": 0, \"ticks\": \"\"}}, \"type\": \"histogram\"}], \"histogram2d\": [{\"colorbar\": {\"outlinewidth\": 0, \"ticks\": \"\"}, \"colorscale\": [[0.0, \"#0d0887\"], [0.1111111111111111, \"#46039f\"], [0.2222222222222222, \"#7201a8\"], [0.3333333333333333, \"#9c179e\"], [0.4444444444444444, \"#bd3786\"], [0.5555555555555556, \"#d8576b\"], [0.6666666666666666, \"#ed7953\"], [0.7777777777777778, \"#fb9f3a\"], [0.8888888888888888, \"#fdca26\"], [1.0, \"#f0f921\"]], \"type\": \"histogram2d\"}], \"histogram2dcontour\": [{\"colorbar\": {\"outlinewidth\": 0, \"ticks\": \"\"}, \"colorscale\": [[0.0, \"#0d0887\"], [0.1111111111111111, \"#46039f\"], [0.2222222222222222, \"#7201a8\"], [0.3333333333333333, \"#9c179e\"], [0.4444444444444444, \"#bd3786\"], [0.5555555555555556, \"#d8576b\"], [0.6666666666666666, \"#ed7953\"], [0.7777777777777778, \"#fb9f3a\"], [0.8888888888888888, \"#fdca26\"], [1.0, \"#f0f921\"]], \"type\": \"histogram2dcontour\"}], \"mesh3d\": [{\"colorbar\": {\"outlinewidth\": 0, \"ticks\": \"\"}, \"type\": \"mesh3d\"}], \"parcoords\": [{\"line\": {\"colorbar\": {\"outlinewidth\": 0, \"ticks\": \"\"}}, \"type\": \"parcoords\"}], \"pie\": [{\"automargin\": true, \"type\": \"pie\"}], \"scatter\": [{\"marker\": {\"colorbar\": {\"outlinewidth\": 0, \"ticks\": \"\"}}, \"type\": \"scatter\"}], \"scatter3d\": [{\"line\": {\"colorbar\": {\"outlinewidth\": 0, \"ticks\": \"\"}}, \"marker\": {\"colorbar\": {\"outlinewidth\": 0, \"ticks\": \"\"}}, \"type\": \"scatter3d\"}], \"scattercarpet\": [{\"marker\": {\"colorbar\": {\"outlinewidth\": 0, \"ticks\": \"\"}}, \"type\": \"scattercarpet\"}], \"scattergeo\": [{\"marker\": {\"colorbar\": {\"outlinewidth\": 0, \"ticks\": \"\"}}, \"type\": \"scattergeo\"}], \"scattergl\": [{\"marker\": {\"colorbar\": {\"outlinewidth\": 0, \"ticks\": \"\"}}, \"type\": \"scattergl\"}], \"scattermapbox\": [{\"marker\": {\"colorbar\": {\"outlinewidth\": 0, \"ticks\": \"\"}}, \"type\": \"scattermapbox\"}], \"scatterpolar\": [{\"marker\": {\"colorbar\": {\"outlinewidth\": 0, \"ticks\": \"\"}}, \"type\": \"scatterpolar\"}], \"scatterpolargl\": [{\"marker\": {\"colorbar\": {\"outlinewidth\": 0, \"ticks\": \"\"}}, \"type\": \"scatterpolargl\"}], \"scatterternary\": [{\"marker\": {\"colorbar\": {\"outlinewidth\": 0, \"ticks\": \"\"}}, \"type\": \"scatterternary\"}], \"surface\": [{\"colorbar\": {\"outlinewidth\": 0, \"ticks\": \"\"}, \"colorscale\": [[0.0, \"#0d0887\"], [0.1111111111111111, \"#46039f\"], [0.2222222222222222, \"#7201a8\"], [0.3333333333333333, \"#9c179e\"], [0.4444444444444444, \"#bd3786\"], [0.5555555555555556, \"#d8576b\"], [0.6666666666666666, \"#ed7953\"], [0.7777777777777778, \"#fb9f3a\"], [0.8888888888888888, \"#fdca26\"], [1.0, \"#f0f921\"]], \"type\": \"surface\"}], \"table\": [{\"cells\": {\"fill\": {\"color\": \"#EBF0F8\"}, \"line\": {\"color\": \"white\"}}, \"header\": {\"fill\": {\"color\": \"#C8D4E3\"}, \"line\": {\"color\": \"white\"}}, \"type\": \"table\"}]}, \"layout\": {\"annotationdefaults\": {\"arrowcolor\": \"#2a3f5f\", \"arrowhead\": 0, \"arrowwidth\": 1}, \"coloraxis\": {\"colorbar\": {\"outlinewidth\": 0, \"ticks\": \"\"}}, \"colorscale\": {\"diverging\": [[0, \"#8e0152\"], [0.1, \"#c51b7d\"], [0.2, \"#de77ae\"], [0.3, \"#f1b6da\"], [0.4, \"#fde0ef\"], [0.5, \"#f7f7f7\"], [0.6, \"#e6f5d0\"], [0.7, \"#b8e186\"], [0.8, \"#7fbc41\"], [0.9, \"#4d9221\"], [1, \"#276419\"]], \"sequential\": [[0.0, \"#0d0887\"], [0.1111111111111111, \"#46039f\"], [0.2222222222222222, \"#7201a8\"], [0.3333333333333333, \"#9c179e\"], [0.4444444444444444, \"#bd3786\"], [0.5555555555555556, \"#d8576b\"], [0.6666666666666666, \"#ed7953\"], [0.7777777777777778, \"#fb9f3a\"], [0.8888888888888888, \"#fdca26\"], [1.0, \"#f0f921\"]], \"sequentialminus\": [[0.0, \"#0d0887\"], [0.1111111111111111, \"#46039f\"], [0.2222222222222222, \"#7201a8\"], [0.3333333333333333, \"#9c179e\"], [0.4444444444444444, \"#bd3786\"], [0.5555555555555556, \"#d8576b\"], [0.6666666666666666, \"#ed7953\"], [0.7777777777777778, \"#fb9f3a\"], [0.8888888888888888, \"#fdca26\"], [1.0, \"#f0f921\"]]}, \"colorway\": [\"#636efa\", \"#EF553B\", \"#00cc96\", \"#ab63fa\", \"#FFA15A\", \"#19d3f3\", \"#FF6692\", \"#B6E880\", \"#FF97FF\", \"#FECB52\"], \"font\": {\"color\": \"#2a3f5f\"}, \"geo\": {\"bgcolor\": \"white\", \"lakecolor\": \"white\", \"landcolor\": \"#E5ECF6\", \"showlakes\": true, \"showland\": true, \"subunitcolor\": \"white\"}, \"hoverlabel\": {\"align\": \"left\"}, \"hovermode\": \"closest\", \"mapbox\": {\"style\": \"light\"}, \"paper_bgcolor\": \"white\", \"plot_bgcolor\": \"#E5ECF6\", \"polar\": {\"angularaxis\": {\"gridcolor\": \"white\", \"linecolor\": \"white\", \"ticks\": \"\"}, \"bgcolor\": \"#E5ECF6\", \"radialaxis\": {\"gridcolor\": \"white\", \"linecolor\": \"white\", \"ticks\": \"\"}}, \"scene\": {\"xaxis\": {\"backgroundcolor\": \"#E5ECF6\", \"gridcolor\": \"white\", \"gridwidth\": 2, \"linecolor\": \"white\", \"showbackground\": true, \"ticks\": \"\", \"zerolinecolor\": \"white\"}, \"yaxis\": {\"backgroundcolor\": \"#E5ECF6\", \"gridcolor\": \"white\", \"gridwidth\": 2, \"linecolor\": \"white\", \"showbackground\": true, \"ticks\": \"\", \"zerolinecolor\": \"white\"}, \"zaxis\": {\"backgroundcolor\": \"#E5ECF6\", \"gridcolor\": \"white\", \"gridwidth\": 2, \"linecolor\": \"white\", \"showbackground\": true, \"ticks\": \"\", \"zerolinecolor\": \"white\"}}, \"shapedefaults\": {\"line\": {\"color\": \"#2a3f5f\"}}, \"ternary\": {\"aaxis\": {\"gridcolor\": \"white\", \"linecolor\": \"white\", \"ticks\": \"\"}, \"baxis\": {\"gridcolor\": \"white\", \"linecolor\": \"white\", \"ticks\": \"\"}, \"bgcolor\": \"#E5ECF6\", \"caxis\": {\"gridcolor\": \"white\", \"linecolor\": \"white\", \"ticks\": \"\"}}, \"title\": {\"x\": 0.05}, \"xaxis\": {\"automargin\": true, \"gridcolor\": \"white\", \"linecolor\": \"white\", \"ticks\": \"\", \"title\": {\"standoff\": 15}, \"zerolinecolor\": \"white\", \"zerolinewidth\": 2}, \"yaxis\": {\"automargin\": true, \"gridcolor\": \"white\", \"linecolor\": \"white\", \"ticks\": \"\", \"title\": {\"standoff\": 15}, \"zerolinecolor\": \"white\", \"zerolinewidth\": 2}}}, \"title\": {\"font\": {\"color\": \"#4D5663\"}}, \"xaxis\": {\"gridcolor\": \"#E1E5ED\", \"showgrid\": true, \"tickfont\": {\"color\": \"#4D5663\"}, \"title\": {\"font\": {\"color\": \"#4D5663\"}, \"text\": \"\"}, \"zerolinecolor\": \"#E1E5ED\"}, \"yaxis\": {\"gridcolor\": \"#E1E5ED\", \"showgrid\": true, \"tickfont\": {\"color\": \"#4D5663\"}, \"title\": {\"font\": {\"color\": \"#4D5663\"}, \"text\": \"\"}, \"zerolinecolor\": \"#E1E5ED\"}},\n",
       "                        {\"showLink\": true, \"linkText\": \"Export to plot.ly\", \"plotlyServerURL\": \"https://plot.ly\", \"responsive\": true}\n",
       "                    ).then(function(){\n",
       "                            \n",
       "var gd = document.getElementById('1de4a62a-fe16-472e-bc33-8dbc639ec3ff');\n",
       "var x = new MutationObserver(function (mutations, observer) {{\n",
       "        var display = window.getComputedStyle(gd).display;\n",
       "        if (!display || display === 'none') {{\n",
       "            console.log([gd, 'removed!']);\n",
       "            Plotly.purge(gd);\n",
       "            observer.disconnect();\n",
       "        }}\n",
       "}});\n",
       "\n",
       "// Listen for the removal of the full notebook cells\n",
       "var notebookContainer = gd.closest('#notebook-container');\n",
       "if (notebookContainer) {{\n",
       "    x.observe(notebookContainer, {childList: true});\n",
       "}}\n",
       "\n",
       "// Listen for the clearing of the current output cell\n",
       "var outputEl = gd.closest('.output');\n",
       "if (outputEl) {{\n",
       "    x.observe(outputEl, {childList: true});\n",
       "}}\n",
       "\n",
       "                        })\n",
       "                };\n",
       "                });\n",
       "            </script>\n",
       "        </div>"
      ]
     },
     "metadata": {},
     "output_type": "display_data"
    }
   ],
   "source": [
    "df.count().iplot(kind='bar')"
   ]
  },
  {
   "cell_type": "markdown",
   "metadata": {},
   "source": [
    "## Boxplots"
   ]
  },
  {
   "cell_type": "code",
   "execution_count": 15,
   "metadata": {},
   "outputs": [
    {
     "data": {
      "application/vnd.plotly.v1+json": {
       "config": {
        "linkText": "Export to plot.ly",
        "plotlyServerURL": "https://plot.ly",
        "showLink": true
       },
       "data": [
        {
         "boxpoints": false,
         "line": {
          "width": 1.3
         },
         "marker": {
          "color": "rgba(255, 153, 51, 1.0)"
         },
         "name": "A",
         "orientation": "v",
         "type": "box",
         "y": [
          -2.3454141693589876,
          0.6237775380275742,
          0.5084665209175578,
          1.0077383239871212,
          -1.596862641714782,
          -2.374942969830823,
          -1.3706328842809488,
          1.3747352172717342,
          -0.7622432557064147,
          -1.9184039896950638,
          1.5017960911885953,
          -0.7114451376865186,
          -0.29446634553217194,
          -1.4876954594826903,
          0.6995466429849003,
          -0.9080622620621699,
          0.0037148475874004623,
          -0.8606836096783335,
          1.5500856254168882,
          0.8681259238151428,
          -0.25157963103361447,
          -0.6950867661351647,
          -1.2977326913712255,
          1.0792884415738364,
          1.9215810061890053,
          1.6391562586670962,
          0.8532070522380638,
          0.9960034559394392,
          1.0384819480958472,
          -0.4416790016043128,
          0.6272585044640208,
          1.6568382627476808,
          0.17604804120284398,
          -0.12173009136600939,
          1.786145195510604,
          1.0620956079199924,
          -1.6487794157955151,
          0.5134853837511637,
          -0.09341126386297298,
          0.5748210842959969,
          -0.34773144268786665,
          1.4495352760328146,
          0.55589609988229,
          -0.19407908794453177,
          1.954553549389376,
          -1.4401496294154514,
          -1.687016031719059,
          0.9152212524783871,
          -0.9701130342584917,
          0.2781872419962723,
          -0.42465351126078166,
          0.21363104414796674,
          0.6798391516567996,
          -0.21693900500613778,
          1.1253269510990103,
          -0.4364919033627248,
          0.5070307915178102,
          -0.6938482394362632,
          -1.4709020923143088,
          -0.3005468309159597,
          0.10117735963741527,
          -0.2739784055963156,
          -1.592983100175776,
          -0.7550289749943683,
          -1.8804241568882007,
          0.09895966465769129,
          1.280991037813301,
          0.18446847622744528,
          2.514156053080135,
          0.887922034620755,
          0.22026729871991257,
          -0.058148079602631304,
          0.11519546694262874,
          1.3733167398735402,
          0.7719722757739921,
          -0.11131557918308087,
          0.12928439944667708,
          0.656916890088794,
          1.2254282520039692,
          -2.3574405969002927,
          0.520182684697464,
          0.49226230720825487,
          -0.2946532839128033,
          1.5850905733271186,
          -0.4894593363475711,
          2.6413792649821013,
          0.13735097170865115,
          -0.9828018800837163,
          0.13801858167033576,
          -0.6215647789215498,
          -0.15010559951578073,
          0.39313077400096924,
          -0.9745423404621509,
          -0.41287483235514105,
          1.406315163167479,
          0.13788703768854482,
          1.2731159007446353,
          -0.2163497464314463,
          1.0853126714886798,
          0.5353673129325547
         ]
        },
        {
         "boxpoints": false,
         "line": {
          "width": 1.3
         },
         "marker": {
          "color": "rgba(55, 128, 191, 1.0)"
         },
         "name": "B",
         "orientation": "v",
         "type": "box",
         "y": [
          -1.2116920522282546,
          -2.4182256642840154,
          -0.4467089062786822,
          -1.9392425928013934,
          0.9457088641174468,
          -1.4107952784259432,
          0.7722514959948863,
          -0.45758893217485086,
          -1.3697226133349176,
          -2.046223214968447,
          -0.9579602434170336,
          1.4299651060248795,
          0.6747291885765265,
          -2.446185003930176,
          -0.4786337657758917,
          -0.4937053710053525,
          0.2403915067061822,
          0.1756572084243671,
          -0.9455598067160645,
          -0.056992586205770676,
          1.0699334051439484,
          1.673208526089509,
          -0.6395578941823503,
          0.25843104956249363,
          0.9463770770249402,
          -1.173249590196306,
          -1.3898254730875272,
          -1.9485443421261375,
          -0.7990195508075936,
          -0.31886903775938763,
          -0.08574570155079406,
          1.3516886194648055,
          2.2149074403731497,
          -0.7949499836639242,
          0.6349268210678864,
          -1.2078356601723703,
          0.3787942389731917,
          -0.6891367639313457,
          1.3739612750682195,
          1.049897380525511,
          -0.018372121788850865,
          -0.2245124095889812,
          -1.1217196388681876,
          0.13626183916315088,
          0.7831733334090794,
          -0.29080499799221227,
          0.4448251856275786,
          1.146475088094464,
          -0.3875437175635493,
          -1.619961941950166,
          1.9877975354122728,
          0.3112587438792633,
          -1.0975621453609536,
          1.3884885691095525,
          -2.253520984677293,
          0.8172734212747151,
          0.6798692585838515,
          0.9418421759704245,
          -1.3652789631659974,
          1.2276374079163535,
          -0.948723105258126,
          1.2325710575478996,
          1.6427249926188614,
          -0.008728784354691151,
          1.5770304307221095,
          -0.9423567084179673,
          0.36669310906068375,
          1.4950786618013892,
          0.04239700440360714,
          0.7492246927132604,
          0.9362248498051818,
          -1.0210447539510035,
          -0.557769626378885,
          0.8585655547526226,
          0.5500178298829814,
          0.49205297793010305,
          -1.8099585130722016,
          0.6170410700662037,
          0.4698120642968544,
          0.6243133179356815,
          -0.23817960494236465,
          -1.5594009134291225,
          -1.1132549789519153,
          0.037206911943428185,
          -0.44926998300567894,
          -0.7848515495976766,
          0.1280030808290587,
          0.7618062697149731,
          -1.2480442658733897,
          -0.5126732212013174,
          -1.8977786099295044,
          0.9258361552336678,
          0.17023070984428282,
          0.5668693240350743,
          -1.2976881194121161,
          -0.2908984427086773,
          -0.32529334782616276,
          2.208923211463274,
          -0.3527371000449035,
          0.017930464472224805
         ]
        },
        {
         "boxpoints": false,
         "line": {
          "width": 1.3
         },
         "marker": {
          "color": "rgba(50, 171, 96, 1.0)"
         },
         "name": "C",
         "orientation": "v",
         "type": "box",
         "y": [
          -1.3558438844649783,
          -0.8759976250780299,
          -1.5226576052910572,
          0.6859913101905638,
          -1.4745329764700488,
          0.6828771878184736,
          -1.0849106006902465,
          1.523352301399798,
          -0.9853422207451589,
          0.6932108339167925,
          0.7633868090179348,
          0.8916412099722324,
          0.050204442993994174,
          0.7423238229395155,
          1.0159031903899545,
          1.9054442649114558,
          -0.3424359452933501,
          -1.1316300670809745,
          0.2573871580683922,
          -0.15460877096012696,
          -1.0669518039993229,
          -1.62095710266104,
          1.1313206485772982,
          -0.04241686948250148,
          0.45170817231399074,
          0.6521585599767435,
          -0.08866608902559109,
          0.5450815082077972,
          -0.07550183915437703,
          0.5634332612313229,
          0.6192110696992771,
          1.328597023291623,
          0.1660352535032697,
          0.4928882922850011,
          -0.29024550597846444,
          0.49113434479810897,
          -1.7320823264752663,
          -0.13318914581762933,
          -0.32230663550846983,
          -0.8452934758305347,
          0.2804586884358228,
          -0.44216324939486046,
          -1.5693868593842886,
          0.3935376557697536,
          -1.5149644526197097,
          1.885525396279445,
          0.9230739549753205,
          0.17700846714231913,
          -0.9174290087499014,
          2.3067041365835443,
          0.8347911211930508,
          -1.213245818120258,
          -0.24678184949387347,
          0.9397310665816551,
          0.8358759383276779,
          2.5671593128238825,
          0.4975380022059849,
          0.21113908418866448,
          0.05840251974011824,
          -0.012614051025127521,
          0.696886783023304,
          0.22378385348623372,
          0.873109004056181,
          -0.32025250402305927,
          0.43733412531067234,
          -2.1796323143831837,
          1.131526488980349,
          -0.07244899849102823,
          -0.9437760466154475,
          0.8288808965124419,
          0.1647900730078459,
          -1.4977327430030567,
          -0.07078240164283371,
          -1.4672832268638136,
          -0.8957403277218311,
          1.2066408411869143,
          -0.6131415822158299,
          -0.3542694521430507,
          1.4734580494242786,
          -0.22336917295915848,
          0.7176827579863617,
          0.4179099732903556,
          -1.7543318718026637,
          -1.0046119566794123,
          1.8065138686324629,
          0.44619412525863655,
          0.14211198950617412,
          1.422548521554508,
          -2.0531765991102695,
          -1.0830746724660953,
          -0.8849179035837618,
          0.09549812911970507,
          1.1962487937594568,
          1.5150217189675301,
          -0.9410171911457614,
          -1.4334005060478348,
          -0.44280607208682105,
          0.53523974901187,
          0.37164692109689645,
          0.1040283798888921
         ]
        },
        {
         "boxpoints": false,
         "line": {
          "width": 1.3
         },
         "marker": {
          "color": "rgba(128, 0, 128, 1.0)"
         },
         "name": "D",
         "orientation": "v",
         "type": "box",
         "y": [
          -0.5385350988622541,
          0.545901013423756,
          -0.484352741184118,
          -0.46190751635045596,
          -0.9864472694700864,
          -0.8175474195057619,
          0.47103677748724615,
          0.675230684755957,
          -0.10416988785091413,
          -3.0498796434260305,
          2.1844358483993105,
          1.7035314838510314,
          1.1818011482558322,
          -0.05764068868728147,
          0.875240808030797,
          0.8445498239359918,
          -2.6993526916534805,
          3.5018773878275753,
          -0.5497885060867724,
          -0.11402025883309072,
          0.19040843485006825,
          -0.6094078828465187,
          0.91407171843882,
          0.32677708763507246,
          -0.7225541635588506,
          -2.8455246675306607,
          0.2593710337822382,
          -0.010714464792365598,
          0.20929993629527077,
          1.2117607161159156,
          -0.6263118673260771,
          0.18202777913921045,
          2.8839889868661213,
          -0.9394631656759914,
          -0.3382480830479188,
          -1.0316131721230972,
          -0.940759421829133,
          -1.142661400611097,
          -1.1207629798998748,
          -0.30407617327330594,
          0.01194736837885959,
          -0.5367360380188764,
          0.40792335064706836,
          0.2249811905872184,
          -1.3229022056214161,
          2.312984299958345,
          0.5165522721147605,
          0.9854095568838235,
          -1.3226052135507627,
          0.8486040230276036,
          -0.2521225960134387,
          -0.5224242350369688,
          -0.554304986298737,
          -0.5324415024467941,
          -0.3484727911798317,
          -0.7388708300901486,
          1.396927959756421,
          -0.8009571887199037,
          0.3045629564754834,
          0.6846385240046091,
          0.800656349914363,
          -0.06784582296782894,
          0.8900207825068571,
          0.21443581846267742,
          -0.280102573472488,
          2.0884667467000635,
          -0.4419798386688738,
          2.6887519963338753,
          -0.9196940630292755,
          -0.9212369832955514,
          0.8133584889109357,
          0.7173235238779602,
          1.1969024311188128,
          -1.1665944546981923,
          0.2363393276438888,
          1.6181666228688691,
          0.45301029796524706,
          1.030380009820546,
          1.26476133737168,
          1.5328111104261763,
          -1.7280659889187395,
          0.242470022573717,
          -2.174788288833403,
          1.5865000513117713,
          0.4814596575341235,
          0.5184744665088035,
          -0.7294118236889608,
          1.950115929880263,
          -0.9717717204544494,
          -0.2907075440869592,
          1.2995914390506236,
          0.8183366678883612,
          1.4025268131317277,
          0.1736542530931986,
          0.1834584779516139,
          0.5777805229615387,
          0.6905852621422153,
          1.1515404398354685,
          0.41779603838887935,
          0.2176100327546996
         ]
        }
       ],
       "layout": {
        "legend": {
         "bgcolor": "#F5F6F9",
         "font": {
          "color": "#4D5663"
         }
        },
        "paper_bgcolor": "#F5F6F9",
        "plot_bgcolor": "#F5F6F9",
        "template": {
         "data": {
          "bar": [
           {
            "error_x": {
             "color": "#2a3f5f"
            },
            "error_y": {
             "color": "#2a3f5f"
            },
            "marker": {
             "line": {
              "color": "#E5ECF6",
              "width": 0.5
             }
            },
            "type": "bar"
           }
          ],
          "barpolar": [
           {
            "marker": {
             "line": {
              "color": "#E5ECF6",
              "width": 0.5
             }
            },
            "type": "barpolar"
           }
          ],
          "carpet": [
           {
            "aaxis": {
             "endlinecolor": "#2a3f5f",
             "gridcolor": "white",
             "linecolor": "white",
             "minorgridcolor": "white",
             "startlinecolor": "#2a3f5f"
            },
            "baxis": {
             "endlinecolor": "#2a3f5f",
             "gridcolor": "white",
             "linecolor": "white",
             "minorgridcolor": "white",
             "startlinecolor": "#2a3f5f"
            },
            "type": "carpet"
           }
          ],
          "choropleth": [
           {
            "colorbar": {
             "outlinewidth": 0,
             "ticks": ""
            },
            "type": "choropleth"
           }
          ],
          "contour": [
           {
            "colorbar": {
             "outlinewidth": 0,
             "ticks": ""
            },
            "colorscale": [
             [
              0,
              "#0d0887"
             ],
             [
              0.1111111111111111,
              "#46039f"
             ],
             [
              0.2222222222222222,
              "#7201a8"
             ],
             [
              0.3333333333333333,
              "#9c179e"
             ],
             [
              0.4444444444444444,
              "#bd3786"
             ],
             [
              0.5555555555555556,
              "#d8576b"
             ],
             [
              0.6666666666666666,
              "#ed7953"
             ],
             [
              0.7777777777777778,
              "#fb9f3a"
             ],
             [
              0.8888888888888888,
              "#fdca26"
             ],
             [
              1,
              "#f0f921"
             ]
            ],
            "type": "contour"
           }
          ],
          "contourcarpet": [
           {
            "colorbar": {
             "outlinewidth": 0,
             "ticks": ""
            },
            "type": "contourcarpet"
           }
          ],
          "heatmap": [
           {
            "colorbar": {
             "outlinewidth": 0,
             "ticks": ""
            },
            "colorscale": [
             [
              0,
              "#0d0887"
             ],
             [
              0.1111111111111111,
              "#46039f"
             ],
             [
              0.2222222222222222,
              "#7201a8"
             ],
             [
              0.3333333333333333,
              "#9c179e"
             ],
             [
              0.4444444444444444,
              "#bd3786"
             ],
             [
              0.5555555555555556,
              "#d8576b"
             ],
             [
              0.6666666666666666,
              "#ed7953"
             ],
             [
              0.7777777777777778,
              "#fb9f3a"
             ],
             [
              0.8888888888888888,
              "#fdca26"
             ],
             [
              1,
              "#f0f921"
             ]
            ],
            "type": "heatmap"
           }
          ],
          "heatmapgl": [
           {
            "colorbar": {
             "outlinewidth": 0,
             "ticks": ""
            },
            "colorscale": [
             [
              0,
              "#0d0887"
             ],
             [
              0.1111111111111111,
              "#46039f"
             ],
             [
              0.2222222222222222,
              "#7201a8"
             ],
             [
              0.3333333333333333,
              "#9c179e"
             ],
             [
              0.4444444444444444,
              "#bd3786"
             ],
             [
              0.5555555555555556,
              "#d8576b"
             ],
             [
              0.6666666666666666,
              "#ed7953"
             ],
             [
              0.7777777777777778,
              "#fb9f3a"
             ],
             [
              0.8888888888888888,
              "#fdca26"
             ],
             [
              1,
              "#f0f921"
             ]
            ],
            "type": "heatmapgl"
           }
          ],
          "histogram": [
           {
            "marker": {
             "colorbar": {
              "outlinewidth": 0,
              "ticks": ""
             }
            },
            "type": "histogram"
           }
          ],
          "histogram2d": [
           {
            "colorbar": {
             "outlinewidth": 0,
             "ticks": ""
            },
            "colorscale": [
             [
              0,
              "#0d0887"
             ],
             [
              0.1111111111111111,
              "#46039f"
             ],
             [
              0.2222222222222222,
              "#7201a8"
             ],
             [
              0.3333333333333333,
              "#9c179e"
             ],
             [
              0.4444444444444444,
              "#bd3786"
             ],
             [
              0.5555555555555556,
              "#d8576b"
             ],
             [
              0.6666666666666666,
              "#ed7953"
             ],
             [
              0.7777777777777778,
              "#fb9f3a"
             ],
             [
              0.8888888888888888,
              "#fdca26"
             ],
             [
              1,
              "#f0f921"
             ]
            ],
            "type": "histogram2d"
           }
          ],
          "histogram2dcontour": [
           {
            "colorbar": {
             "outlinewidth": 0,
             "ticks": ""
            },
            "colorscale": [
             [
              0,
              "#0d0887"
             ],
             [
              0.1111111111111111,
              "#46039f"
             ],
             [
              0.2222222222222222,
              "#7201a8"
             ],
             [
              0.3333333333333333,
              "#9c179e"
             ],
             [
              0.4444444444444444,
              "#bd3786"
             ],
             [
              0.5555555555555556,
              "#d8576b"
             ],
             [
              0.6666666666666666,
              "#ed7953"
             ],
             [
              0.7777777777777778,
              "#fb9f3a"
             ],
             [
              0.8888888888888888,
              "#fdca26"
             ],
             [
              1,
              "#f0f921"
             ]
            ],
            "type": "histogram2dcontour"
           }
          ],
          "mesh3d": [
           {
            "colorbar": {
             "outlinewidth": 0,
             "ticks": ""
            },
            "type": "mesh3d"
           }
          ],
          "parcoords": [
           {
            "line": {
             "colorbar": {
              "outlinewidth": 0,
              "ticks": ""
             }
            },
            "type": "parcoords"
           }
          ],
          "pie": [
           {
            "automargin": true,
            "type": "pie"
           }
          ],
          "scatter": [
           {
            "marker": {
             "colorbar": {
              "outlinewidth": 0,
              "ticks": ""
             }
            },
            "type": "scatter"
           }
          ],
          "scatter3d": [
           {
            "line": {
             "colorbar": {
              "outlinewidth": 0,
              "ticks": ""
             }
            },
            "marker": {
             "colorbar": {
              "outlinewidth": 0,
              "ticks": ""
             }
            },
            "type": "scatter3d"
           }
          ],
          "scattercarpet": [
           {
            "marker": {
             "colorbar": {
              "outlinewidth": 0,
              "ticks": ""
             }
            },
            "type": "scattercarpet"
           }
          ],
          "scattergeo": [
           {
            "marker": {
             "colorbar": {
              "outlinewidth": 0,
              "ticks": ""
             }
            },
            "type": "scattergeo"
           }
          ],
          "scattergl": [
           {
            "marker": {
             "colorbar": {
              "outlinewidth": 0,
              "ticks": ""
             }
            },
            "type": "scattergl"
           }
          ],
          "scattermapbox": [
           {
            "marker": {
             "colorbar": {
              "outlinewidth": 0,
              "ticks": ""
             }
            },
            "type": "scattermapbox"
           }
          ],
          "scatterpolar": [
           {
            "marker": {
             "colorbar": {
              "outlinewidth": 0,
              "ticks": ""
             }
            },
            "type": "scatterpolar"
           }
          ],
          "scatterpolargl": [
           {
            "marker": {
             "colorbar": {
              "outlinewidth": 0,
              "ticks": ""
             }
            },
            "type": "scatterpolargl"
           }
          ],
          "scatterternary": [
           {
            "marker": {
             "colorbar": {
              "outlinewidth": 0,
              "ticks": ""
             }
            },
            "type": "scatterternary"
           }
          ],
          "surface": [
           {
            "colorbar": {
             "outlinewidth": 0,
             "ticks": ""
            },
            "colorscale": [
             [
              0,
              "#0d0887"
             ],
             [
              0.1111111111111111,
              "#46039f"
             ],
             [
              0.2222222222222222,
              "#7201a8"
             ],
             [
              0.3333333333333333,
              "#9c179e"
             ],
             [
              0.4444444444444444,
              "#bd3786"
             ],
             [
              0.5555555555555556,
              "#d8576b"
             ],
             [
              0.6666666666666666,
              "#ed7953"
             ],
             [
              0.7777777777777778,
              "#fb9f3a"
             ],
             [
              0.8888888888888888,
              "#fdca26"
             ],
             [
              1,
              "#f0f921"
             ]
            ],
            "type": "surface"
           }
          ],
          "table": [
           {
            "cells": {
             "fill": {
              "color": "#EBF0F8"
             },
             "line": {
              "color": "white"
             }
            },
            "header": {
             "fill": {
              "color": "#C8D4E3"
             },
             "line": {
              "color": "white"
             }
            },
            "type": "table"
           }
          ]
         },
         "layout": {
          "annotationdefaults": {
           "arrowcolor": "#2a3f5f",
           "arrowhead": 0,
           "arrowwidth": 1
          },
          "coloraxis": {
           "colorbar": {
            "outlinewidth": 0,
            "ticks": ""
           }
          },
          "colorscale": {
           "diverging": [
            [
             0,
             "#8e0152"
            ],
            [
             0.1,
             "#c51b7d"
            ],
            [
             0.2,
             "#de77ae"
            ],
            [
             0.3,
             "#f1b6da"
            ],
            [
             0.4,
             "#fde0ef"
            ],
            [
             0.5,
             "#f7f7f7"
            ],
            [
             0.6,
             "#e6f5d0"
            ],
            [
             0.7,
             "#b8e186"
            ],
            [
             0.8,
             "#7fbc41"
            ],
            [
             0.9,
             "#4d9221"
            ],
            [
             1,
             "#276419"
            ]
           ],
           "sequential": [
            [
             0,
             "#0d0887"
            ],
            [
             0.1111111111111111,
             "#46039f"
            ],
            [
             0.2222222222222222,
             "#7201a8"
            ],
            [
             0.3333333333333333,
             "#9c179e"
            ],
            [
             0.4444444444444444,
             "#bd3786"
            ],
            [
             0.5555555555555556,
             "#d8576b"
            ],
            [
             0.6666666666666666,
             "#ed7953"
            ],
            [
             0.7777777777777778,
             "#fb9f3a"
            ],
            [
             0.8888888888888888,
             "#fdca26"
            ],
            [
             1,
             "#f0f921"
            ]
           ],
           "sequentialminus": [
            [
             0,
             "#0d0887"
            ],
            [
             0.1111111111111111,
             "#46039f"
            ],
            [
             0.2222222222222222,
             "#7201a8"
            ],
            [
             0.3333333333333333,
             "#9c179e"
            ],
            [
             0.4444444444444444,
             "#bd3786"
            ],
            [
             0.5555555555555556,
             "#d8576b"
            ],
            [
             0.6666666666666666,
             "#ed7953"
            ],
            [
             0.7777777777777778,
             "#fb9f3a"
            ],
            [
             0.8888888888888888,
             "#fdca26"
            ],
            [
             1,
             "#f0f921"
            ]
           ]
          },
          "colorway": [
           "#636efa",
           "#EF553B",
           "#00cc96",
           "#ab63fa",
           "#FFA15A",
           "#19d3f3",
           "#FF6692",
           "#B6E880",
           "#FF97FF",
           "#FECB52"
          ],
          "font": {
           "color": "#2a3f5f"
          },
          "geo": {
           "bgcolor": "white",
           "lakecolor": "white",
           "landcolor": "#E5ECF6",
           "showlakes": true,
           "showland": true,
           "subunitcolor": "white"
          },
          "hoverlabel": {
           "align": "left"
          },
          "hovermode": "closest",
          "mapbox": {
           "style": "light"
          },
          "paper_bgcolor": "white",
          "plot_bgcolor": "#E5ECF6",
          "polar": {
           "angularaxis": {
            "gridcolor": "white",
            "linecolor": "white",
            "ticks": ""
           },
           "bgcolor": "#E5ECF6",
           "radialaxis": {
            "gridcolor": "white",
            "linecolor": "white",
            "ticks": ""
           }
          },
          "scene": {
           "xaxis": {
            "backgroundcolor": "#E5ECF6",
            "gridcolor": "white",
            "gridwidth": 2,
            "linecolor": "white",
            "showbackground": true,
            "ticks": "",
            "zerolinecolor": "white"
           },
           "yaxis": {
            "backgroundcolor": "#E5ECF6",
            "gridcolor": "white",
            "gridwidth": 2,
            "linecolor": "white",
            "showbackground": true,
            "ticks": "",
            "zerolinecolor": "white"
           },
           "zaxis": {
            "backgroundcolor": "#E5ECF6",
            "gridcolor": "white",
            "gridwidth": 2,
            "linecolor": "white",
            "showbackground": true,
            "ticks": "",
            "zerolinecolor": "white"
           }
          },
          "shapedefaults": {
           "line": {
            "color": "#2a3f5f"
           }
          },
          "ternary": {
           "aaxis": {
            "gridcolor": "white",
            "linecolor": "white",
            "ticks": ""
           },
           "baxis": {
            "gridcolor": "white",
            "linecolor": "white",
            "ticks": ""
           },
           "bgcolor": "#E5ECF6",
           "caxis": {
            "gridcolor": "white",
            "linecolor": "white",
            "ticks": ""
           }
          },
          "title": {
           "x": 0.05
          },
          "xaxis": {
           "automargin": true,
           "gridcolor": "white",
           "linecolor": "white",
           "ticks": "",
           "title": {
            "standoff": 15
           },
           "zerolinecolor": "white",
           "zerolinewidth": 2
          },
          "yaxis": {
           "automargin": true,
           "gridcolor": "white",
           "linecolor": "white",
           "ticks": "",
           "title": {
            "standoff": 15
           },
           "zerolinecolor": "white",
           "zerolinewidth": 2
          }
         }
        },
        "title": {
         "font": {
          "color": "#4D5663"
         }
        },
        "xaxis": {
         "gridcolor": "#E1E5ED",
         "showgrid": true,
         "tickfont": {
          "color": "#4D5663"
         },
         "title": {
          "font": {
           "color": "#4D5663"
          },
          "text": ""
         },
         "zerolinecolor": "#E1E5ED"
        },
        "yaxis": {
         "gridcolor": "#E1E5ED",
         "showgrid": true,
         "tickfont": {
          "color": "#4D5663"
         },
         "title": {
          "font": {
           "color": "#4D5663"
          },
          "text": ""
         },
         "zerolinecolor": "#E1E5ED"
        }
       }
      },
      "text/html": [
       "<div>\n",
       "        \n",
       "        \n",
       "            <div id=\"6189fb43-4e42-44a3-bbd3-ce112415990e\" class=\"plotly-graph-div\" style=\"height:525px; width:100%;\"></div>\n",
       "            <script type=\"text/javascript\">\n",
       "                require([\"plotly\"], function(Plotly) {\n",
       "                    window.PLOTLYENV=window.PLOTLYENV || {};\n",
       "                    window.PLOTLYENV.BASE_URL='https://plot.ly';\n",
       "                    \n",
       "                if (document.getElementById(\"6189fb43-4e42-44a3-bbd3-ce112415990e\")) {\n",
       "                    Plotly.newPlot(\n",
       "                        '6189fb43-4e42-44a3-bbd3-ce112415990e',\n",
       "                        [{\"boxpoints\": false, \"line\": {\"width\": 1.3}, \"marker\": {\"color\": \"rgba(255, 153, 51, 1.0)\"}, \"name\": \"A\", \"orientation\": \"v\", \"type\": \"box\", \"y\": [-2.3454141693589876, 0.6237775380275742, 0.5084665209175578, 1.0077383239871212, -1.596862641714782, -2.374942969830823, -1.3706328842809488, 1.3747352172717342, -0.7622432557064147, -1.9184039896950638, 1.5017960911885953, -0.7114451376865186, -0.29446634553217194, -1.4876954594826903, 0.6995466429849003, -0.9080622620621699, 0.0037148475874004623, -0.8606836096783335, 1.5500856254168882, 0.8681259238151428, -0.25157963103361447, -0.6950867661351647, -1.2977326913712255, 1.0792884415738364, 1.9215810061890053, 1.6391562586670962, 0.8532070522380638, 0.9960034559394392, 1.0384819480958472, -0.4416790016043128, 0.6272585044640208, 1.6568382627476808, 0.17604804120284398, -0.12173009136600939, 1.786145195510604, 1.0620956079199924, -1.6487794157955151, 0.5134853837511637, -0.09341126386297298, 0.5748210842959969, -0.34773144268786665, 1.4495352760328146, 0.55589609988229, -0.19407908794453177, 1.954553549389376, -1.4401496294154514, -1.687016031719059, 0.9152212524783871, -0.9701130342584917, 0.2781872419962723, -0.42465351126078166, 0.21363104414796674, 0.6798391516567996, -0.21693900500613778, 1.1253269510990103, -0.4364919033627248, 0.5070307915178102, -0.6938482394362632, -1.4709020923143088, -0.3005468309159597, 0.10117735963741527, -0.2739784055963156, -1.592983100175776, -0.7550289749943683, -1.8804241568882007, 0.09895966465769129, 1.280991037813301, 0.18446847622744528, 2.514156053080135, 0.887922034620755, 0.22026729871991257, -0.058148079602631304, 0.11519546694262874, 1.3733167398735402, 0.7719722757739921, -0.11131557918308087, 0.12928439944667708, 0.656916890088794, 1.2254282520039692, -2.3574405969002927, 0.520182684697464, 0.49226230720825487, -0.2946532839128033, 1.5850905733271186, -0.4894593363475711, 2.6413792649821013, 0.13735097170865115, -0.9828018800837163, 0.13801858167033576, -0.6215647789215498, -0.15010559951578073, 0.39313077400096924, -0.9745423404621509, -0.41287483235514105, 1.406315163167479, 0.13788703768854482, 1.2731159007446353, -0.2163497464314463, 1.0853126714886798, 0.5353673129325547]}, {\"boxpoints\": false, \"line\": {\"width\": 1.3}, \"marker\": {\"color\": \"rgba(55, 128, 191, 1.0)\"}, \"name\": \"B\", \"orientation\": \"v\", \"type\": \"box\", \"y\": [-1.2116920522282546, -2.4182256642840154, -0.4467089062786822, -1.9392425928013934, 0.9457088641174468, -1.4107952784259432, 0.7722514959948863, -0.45758893217485086, -1.3697226133349176, -2.046223214968447, -0.9579602434170336, 1.4299651060248795, 0.6747291885765265, -2.446185003930176, -0.4786337657758917, -0.4937053710053525, 0.2403915067061822, 0.1756572084243671, -0.9455598067160645, -0.056992586205770676, 1.0699334051439484, 1.673208526089509, -0.6395578941823503, 0.25843104956249363, 0.9463770770249402, -1.173249590196306, -1.3898254730875272, -1.9485443421261375, -0.7990195508075936, -0.31886903775938763, -0.08574570155079406, 1.3516886194648055, 2.2149074403731497, -0.7949499836639242, 0.6349268210678864, -1.2078356601723703, 0.3787942389731917, -0.6891367639313457, 1.3739612750682195, 1.049897380525511, -0.018372121788850865, -0.2245124095889812, -1.1217196388681876, 0.13626183916315088, 0.7831733334090794, -0.29080499799221227, 0.4448251856275786, 1.146475088094464, -0.3875437175635493, -1.619961941950166, 1.9877975354122728, 0.3112587438792633, -1.0975621453609536, 1.3884885691095525, -2.253520984677293, 0.8172734212747151, 0.6798692585838515, 0.9418421759704245, -1.3652789631659974, 1.2276374079163535, -0.948723105258126, 1.2325710575478996, 1.6427249926188614, -0.008728784354691151, 1.5770304307221095, -0.9423567084179673, 0.36669310906068375, 1.4950786618013892, 0.04239700440360714, 0.7492246927132604, 0.9362248498051818, -1.0210447539510035, -0.557769626378885, 0.8585655547526226, 0.5500178298829814, 0.49205297793010305, -1.8099585130722016, 0.6170410700662037, 0.4698120642968544, 0.6243133179356815, -0.23817960494236465, -1.5594009134291225, -1.1132549789519153, 0.037206911943428185, -0.44926998300567894, -0.7848515495976766, 0.1280030808290587, 0.7618062697149731, -1.2480442658733897, -0.5126732212013174, -1.8977786099295044, 0.9258361552336678, 0.17023070984428282, 0.5668693240350743, -1.2976881194121161, -0.2908984427086773, -0.32529334782616276, 2.208923211463274, -0.3527371000449035, 0.017930464472224805]}, {\"boxpoints\": false, \"line\": {\"width\": 1.3}, \"marker\": {\"color\": \"rgba(50, 171, 96, 1.0)\"}, \"name\": \"C\", \"orientation\": \"v\", \"type\": \"box\", \"y\": [-1.3558438844649783, -0.8759976250780299, -1.5226576052910572, 0.6859913101905638, -1.4745329764700488, 0.6828771878184736, -1.0849106006902465, 1.523352301399798, -0.9853422207451589, 0.6932108339167925, 0.7633868090179348, 0.8916412099722324, 0.050204442993994174, 0.7423238229395155, 1.0159031903899545, 1.9054442649114558, -0.3424359452933501, -1.1316300670809745, 0.2573871580683922, -0.15460877096012696, -1.0669518039993229, -1.62095710266104, 1.1313206485772982, -0.04241686948250148, 0.45170817231399074, 0.6521585599767435, -0.08866608902559109, 0.5450815082077972, -0.07550183915437703, 0.5634332612313229, 0.6192110696992771, 1.328597023291623, 0.1660352535032697, 0.4928882922850011, -0.29024550597846444, 0.49113434479810897, -1.7320823264752663, -0.13318914581762933, -0.32230663550846983, -0.8452934758305347, 0.2804586884358228, -0.44216324939486046, -1.5693868593842886, 0.3935376557697536, -1.5149644526197097, 1.885525396279445, 0.9230739549753205, 0.17700846714231913, -0.9174290087499014, 2.3067041365835443, 0.8347911211930508, -1.213245818120258, -0.24678184949387347, 0.9397310665816551, 0.8358759383276779, 2.5671593128238825, 0.4975380022059849, 0.21113908418866448, 0.05840251974011824, -0.012614051025127521, 0.696886783023304, 0.22378385348623372, 0.873109004056181, -0.32025250402305927, 0.43733412531067234, -2.1796323143831837, 1.131526488980349, -0.07244899849102823, -0.9437760466154475, 0.8288808965124419, 0.1647900730078459, -1.4977327430030567, -0.07078240164283371, -1.4672832268638136, -0.8957403277218311, 1.2066408411869143, -0.6131415822158299, -0.3542694521430507, 1.4734580494242786, -0.22336917295915848, 0.7176827579863617, 0.4179099732903556, -1.7543318718026637, -1.0046119566794123, 1.8065138686324629, 0.44619412525863655, 0.14211198950617412, 1.422548521554508, -2.0531765991102695, -1.0830746724660953, -0.8849179035837618, 0.09549812911970507, 1.1962487937594568, 1.5150217189675301, -0.9410171911457614, -1.4334005060478348, -0.44280607208682105, 0.53523974901187, 0.37164692109689645, 0.1040283798888921]}, {\"boxpoints\": false, \"line\": {\"width\": 1.3}, \"marker\": {\"color\": \"rgba(128, 0, 128, 1.0)\"}, \"name\": \"D\", \"orientation\": \"v\", \"type\": \"box\", \"y\": [-0.5385350988622541, 0.545901013423756, -0.484352741184118, -0.46190751635045596, -0.9864472694700864, -0.8175474195057619, 0.47103677748724615, 0.675230684755957, -0.10416988785091413, -3.0498796434260305, 2.1844358483993105, 1.7035314838510314, 1.1818011482558322, -0.05764068868728147, 0.875240808030797, 0.8445498239359918, -2.6993526916534805, 3.5018773878275753, -0.5497885060867724, -0.11402025883309072, 0.19040843485006825, -0.6094078828465187, 0.91407171843882, 0.32677708763507246, -0.7225541635588506, -2.8455246675306607, 0.2593710337822382, -0.010714464792365598, 0.20929993629527077, 1.2117607161159156, -0.6263118673260771, 0.18202777913921045, 2.8839889868661213, -0.9394631656759914, -0.3382480830479188, -1.0316131721230972, -0.940759421829133, -1.142661400611097, -1.1207629798998748, -0.30407617327330594, 0.01194736837885959, -0.5367360380188764, 0.40792335064706836, 0.2249811905872184, -1.3229022056214161, 2.312984299958345, 0.5165522721147605, 0.9854095568838235, -1.3226052135507627, 0.8486040230276036, -0.2521225960134387, -0.5224242350369688, -0.554304986298737, -0.5324415024467941, -0.3484727911798317, -0.7388708300901486, 1.396927959756421, -0.8009571887199037, 0.3045629564754834, 0.6846385240046091, 0.800656349914363, -0.06784582296782894, 0.8900207825068571, 0.21443581846267742, -0.280102573472488, 2.0884667467000635, -0.4419798386688738, 2.6887519963338753, -0.9196940630292755, -0.9212369832955514, 0.8133584889109357, 0.7173235238779602, 1.1969024311188128, -1.1665944546981923, 0.2363393276438888, 1.6181666228688691, 0.45301029796524706, 1.030380009820546, 1.26476133737168, 1.5328111104261763, -1.7280659889187395, 0.242470022573717, -2.174788288833403, 1.5865000513117713, 0.4814596575341235, 0.5184744665088035, -0.7294118236889608, 1.950115929880263, -0.9717717204544494, -0.2907075440869592, 1.2995914390506236, 0.8183366678883612, 1.4025268131317277, 0.1736542530931986, 0.1834584779516139, 0.5777805229615387, 0.6905852621422153, 1.1515404398354685, 0.41779603838887935, 0.2176100327546996]}],\n",
       "                        {\"legend\": {\"bgcolor\": \"#F5F6F9\", \"font\": {\"color\": \"#4D5663\"}}, \"paper_bgcolor\": \"#F5F6F9\", \"plot_bgcolor\": \"#F5F6F9\", \"template\": {\"data\": {\"bar\": [{\"error_x\": {\"color\": \"#2a3f5f\"}, \"error_y\": {\"color\": \"#2a3f5f\"}, \"marker\": {\"line\": {\"color\": \"#E5ECF6\", \"width\": 0.5}}, \"type\": \"bar\"}], \"barpolar\": [{\"marker\": {\"line\": {\"color\": \"#E5ECF6\", \"width\": 0.5}}, \"type\": \"barpolar\"}], \"carpet\": [{\"aaxis\": {\"endlinecolor\": \"#2a3f5f\", \"gridcolor\": \"white\", \"linecolor\": \"white\", \"minorgridcolor\": \"white\", \"startlinecolor\": \"#2a3f5f\"}, \"baxis\": {\"endlinecolor\": \"#2a3f5f\", \"gridcolor\": \"white\", \"linecolor\": \"white\", \"minorgridcolor\": \"white\", \"startlinecolor\": \"#2a3f5f\"}, \"type\": \"carpet\"}], \"choropleth\": [{\"colorbar\": {\"outlinewidth\": 0, \"ticks\": \"\"}, \"type\": \"choropleth\"}], \"contour\": [{\"colorbar\": {\"outlinewidth\": 0, \"ticks\": \"\"}, \"colorscale\": [[0.0, \"#0d0887\"], [0.1111111111111111, \"#46039f\"], [0.2222222222222222, \"#7201a8\"], [0.3333333333333333, \"#9c179e\"], [0.4444444444444444, \"#bd3786\"], [0.5555555555555556, \"#d8576b\"], [0.6666666666666666, \"#ed7953\"], [0.7777777777777778, \"#fb9f3a\"], [0.8888888888888888, \"#fdca26\"], [1.0, \"#f0f921\"]], \"type\": \"contour\"}], \"contourcarpet\": [{\"colorbar\": {\"outlinewidth\": 0, \"ticks\": \"\"}, \"type\": \"contourcarpet\"}], \"heatmap\": [{\"colorbar\": {\"outlinewidth\": 0, \"ticks\": \"\"}, \"colorscale\": [[0.0, \"#0d0887\"], [0.1111111111111111, \"#46039f\"], [0.2222222222222222, \"#7201a8\"], [0.3333333333333333, \"#9c179e\"], [0.4444444444444444, \"#bd3786\"], [0.5555555555555556, \"#d8576b\"], [0.6666666666666666, \"#ed7953\"], [0.7777777777777778, \"#fb9f3a\"], [0.8888888888888888, \"#fdca26\"], [1.0, \"#f0f921\"]], \"type\": \"heatmap\"}], \"heatmapgl\": [{\"colorbar\": {\"outlinewidth\": 0, \"ticks\": \"\"}, \"colorscale\": [[0.0, \"#0d0887\"], [0.1111111111111111, \"#46039f\"], [0.2222222222222222, \"#7201a8\"], [0.3333333333333333, \"#9c179e\"], [0.4444444444444444, \"#bd3786\"], [0.5555555555555556, \"#d8576b\"], [0.6666666666666666, \"#ed7953\"], [0.7777777777777778, \"#fb9f3a\"], [0.8888888888888888, \"#fdca26\"], [1.0, \"#f0f921\"]], \"type\": \"heatmapgl\"}], \"histogram\": [{\"marker\": {\"colorbar\": {\"outlinewidth\": 0, \"ticks\": \"\"}}, \"type\": \"histogram\"}], \"histogram2d\": [{\"colorbar\": {\"outlinewidth\": 0, \"ticks\": \"\"}, \"colorscale\": [[0.0, \"#0d0887\"], [0.1111111111111111, \"#46039f\"], [0.2222222222222222, \"#7201a8\"], [0.3333333333333333, \"#9c179e\"], [0.4444444444444444, \"#bd3786\"], [0.5555555555555556, \"#d8576b\"], [0.6666666666666666, \"#ed7953\"], [0.7777777777777778, \"#fb9f3a\"], [0.8888888888888888, \"#fdca26\"], [1.0, \"#f0f921\"]], \"type\": \"histogram2d\"}], \"histogram2dcontour\": [{\"colorbar\": {\"outlinewidth\": 0, \"ticks\": \"\"}, \"colorscale\": [[0.0, \"#0d0887\"], [0.1111111111111111, \"#46039f\"], [0.2222222222222222, \"#7201a8\"], [0.3333333333333333, \"#9c179e\"], [0.4444444444444444, \"#bd3786\"], [0.5555555555555556, \"#d8576b\"], [0.6666666666666666, \"#ed7953\"], [0.7777777777777778, \"#fb9f3a\"], [0.8888888888888888, \"#fdca26\"], [1.0, \"#f0f921\"]], \"type\": \"histogram2dcontour\"}], \"mesh3d\": [{\"colorbar\": {\"outlinewidth\": 0, \"ticks\": \"\"}, \"type\": \"mesh3d\"}], \"parcoords\": [{\"line\": {\"colorbar\": {\"outlinewidth\": 0, \"ticks\": \"\"}}, \"type\": \"parcoords\"}], \"pie\": [{\"automargin\": true, \"type\": \"pie\"}], \"scatter\": [{\"marker\": {\"colorbar\": {\"outlinewidth\": 0, \"ticks\": \"\"}}, \"type\": \"scatter\"}], \"scatter3d\": [{\"line\": {\"colorbar\": {\"outlinewidth\": 0, \"ticks\": \"\"}}, \"marker\": {\"colorbar\": {\"outlinewidth\": 0, \"ticks\": \"\"}}, \"type\": \"scatter3d\"}], \"scattercarpet\": [{\"marker\": {\"colorbar\": {\"outlinewidth\": 0, \"ticks\": \"\"}}, \"type\": \"scattercarpet\"}], \"scattergeo\": [{\"marker\": {\"colorbar\": {\"outlinewidth\": 0, \"ticks\": \"\"}}, \"type\": \"scattergeo\"}], \"scattergl\": [{\"marker\": {\"colorbar\": {\"outlinewidth\": 0, \"ticks\": \"\"}}, \"type\": \"scattergl\"}], \"scattermapbox\": [{\"marker\": {\"colorbar\": {\"outlinewidth\": 0, \"ticks\": \"\"}}, \"type\": \"scattermapbox\"}], \"scatterpolar\": [{\"marker\": {\"colorbar\": {\"outlinewidth\": 0, \"ticks\": \"\"}}, \"type\": \"scatterpolar\"}], \"scatterpolargl\": [{\"marker\": {\"colorbar\": {\"outlinewidth\": 0, \"ticks\": \"\"}}, \"type\": \"scatterpolargl\"}], \"scatterternary\": [{\"marker\": {\"colorbar\": {\"outlinewidth\": 0, \"ticks\": \"\"}}, \"type\": \"scatterternary\"}], \"surface\": [{\"colorbar\": {\"outlinewidth\": 0, \"ticks\": \"\"}, \"colorscale\": [[0.0, \"#0d0887\"], [0.1111111111111111, \"#46039f\"], [0.2222222222222222, \"#7201a8\"], [0.3333333333333333, \"#9c179e\"], [0.4444444444444444, \"#bd3786\"], [0.5555555555555556, \"#d8576b\"], [0.6666666666666666, \"#ed7953\"], [0.7777777777777778, \"#fb9f3a\"], [0.8888888888888888, \"#fdca26\"], [1.0, \"#f0f921\"]], \"type\": \"surface\"}], \"table\": [{\"cells\": {\"fill\": {\"color\": \"#EBF0F8\"}, \"line\": {\"color\": \"white\"}}, \"header\": {\"fill\": {\"color\": \"#C8D4E3\"}, \"line\": {\"color\": \"white\"}}, \"type\": \"table\"}]}, \"layout\": {\"annotationdefaults\": {\"arrowcolor\": \"#2a3f5f\", \"arrowhead\": 0, \"arrowwidth\": 1}, \"coloraxis\": {\"colorbar\": {\"outlinewidth\": 0, \"ticks\": \"\"}}, \"colorscale\": {\"diverging\": [[0, \"#8e0152\"], [0.1, \"#c51b7d\"], [0.2, \"#de77ae\"], [0.3, \"#f1b6da\"], [0.4, \"#fde0ef\"], [0.5, \"#f7f7f7\"], [0.6, \"#e6f5d0\"], [0.7, \"#b8e186\"], [0.8, \"#7fbc41\"], [0.9, \"#4d9221\"], [1, \"#276419\"]], \"sequential\": [[0.0, \"#0d0887\"], [0.1111111111111111, \"#46039f\"], [0.2222222222222222, \"#7201a8\"], [0.3333333333333333, \"#9c179e\"], [0.4444444444444444, \"#bd3786\"], [0.5555555555555556, \"#d8576b\"], [0.6666666666666666, \"#ed7953\"], [0.7777777777777778, \"#fb9f3a\"], [0.8888888888888888, \"#fdca26\"], [1.0, \"#f0f921\"]], \"sequentialminus\": [[0.0, \"#0d0887\"], [0.1111111111111111, \"#46039f\"], [0.2222222222222222, \"#7201a8\"], [0.3333333333333333, \"#9c179e\"], [0.4444444444444444, \"#bd3786\"], [0.5555555555555556, \"#d8576b\"], [0.6666666666666666, \"#ed7953\"], [0.7777777777777778, \"#fb9f3a\"], [0.8888888888888888, \"#fdca26\"], [1.0, \"#f0f921\"]]}, \"colorway\": [\"#636efa\", \"#EF553B\", \"#00cc96\", \"#ab63fa\", \"#FFA15A\", \"#19d3f3\", \"#FF6692\", \"#B6E880\", \"#FF97FF\", \"#FECB52\"], \"font\": {\"color\": \"#2a3f5f\"}, \"geo\": {\"bgcolor\": \"white\", \"lakecolor\": \"white\", \"landcolor\": \"#E5ECF6\", \"showlakes\": true, \"showland\": true, \"subunitcolor\": \"white\"}, \"hoverlabel\": {\"align\": \"left\"}, \"hovermode\": \"closest\", \"mapbox\": {\"style\": \"light\"}, \"paper_bgcolor\": \"white\", \"plot_bgcolor\": \"#E5ECF6\", \"polar\": {\"angularaxis\": {\"gridcolor\": \"white\", \"linecolor\": \"white\", \"ticks\": \"\"}, \"bgcolor\": \"#E5ECF6\", \"radialaxis\": {\"gridcolor\": \"white\", \"linecolor\": \"white\", \"ticks\": \"\"}}, \"scene\": {\"xaxis\": {\"backgroundcolor\": \"#E5ECF6\", \"gridcolor\": \"white\", \"gridwidth\": 2, \"linecolor\": \"white\", \"showbackground\": true, \"ticks\": \"\", \"zerolinecolor\": \"white\"}, \"yaxis\": {\"backgroundcolor\": \"#E5ECF6\", \"gridcolor\": \"white\", \"gridwidth\": 2, \"linecolor\": \"white\", \"showbackground\": true, \"ticks\": \"\", \"zerolinecolor\": \"white\"}, \"zaxis\": {\"backgroundcolor\": \"#E5ECF6\", \"gridcolor\": \"white\", \"gridwidth\": 2, \"linecolor\": \"white\", \"showbackground\": true, \"ticks\": \"\", \"zerolinecolor\": \"white\"}}, \"shapedefaults\": {\"line\": {\"color\": \"#2a3f5f\"}}, \"ternary\": {\"aaxis\": {\"gridcolor\": \"white\", \"linecolor\": \"white\", \"ticks\": \"\"}, \"baxis\": {\"gridcolor\": \"white\", \"linecolor\": \"white\", \"ticks\": \"\"}, \"bgcolor\": \"#E5ECF6\", \"caxis\": {\"gridcolor\": \"white\", \"linecolor\": \"white\", \"ticks\": \"\"}}, \"title\": {\"x\": 0.05}, \"xaxis\": {\"automargin\": true, \"gridcolor\": \"white\", \"linecolor\": \"white\", \"ticks\": \"\", \"title\": {\"standoff\": 15}, \"zerolinecolor\": \"white\", \"zerolinewidth\": 2}, \"yaxis\": {\"automargin\": true, \"gridcolor\": \"white\", \"linecolor\": \"white\", \"ticks\": \"\", \"title\": {\"standoff\": 15}, \"zerolinecolor\": \"white\", \"zerolinewidth\": 2}}}, \"title\": {\"font\": {\"color\": \"#4D5663\"}}, \"xaxis\": {\"gridcolor\": \"#E1E5ED\", \"showgrid\": true, \"tickfont\": {\"color\": \"#4D5663\"}, \"title\": {\"font\": {\"color\": \"#4D5663\"}, \"text\": \"\"}, \"zerolinecolor\": \"#E1E5ED\"}, \"yaxis\": {\"gridcolor\": \"#E1E5ED\", \"showgrid\": true, \"tickfont\": {\"color\": \"#4D5663\"}, \"title\": {\"font\": {\"color\": \"#4D5663\"}, \"text\": \"\"}, \"zerolinecolor\": \"#E1E5ED\"}},\n",
       "                        {\"showLink\": true, \"linkText\": \"Export to plot.ly\", \"plotlyServerURL\": \"https://plot.ly\", \"responsive\": true}\n",
       "                    ).then(function(){\n",
       "                            \n",
       "var gd = document.getElementById('6189fb43-4e42-44a3-bbd3-ce112415990e');\n",
       "var x = new MutationObserver(function (mutations, observer) {{\n",
       "        var display = window.getComputedStyle(gd).display;\n",
       "        if (!display || display === 'none') {{\n",
       "            console.log([gd, 'removed!']);\n",
       "            Plotly.purge(gd);\n",
       "            observer.disconnect();\n",
       "        }}\n",
       "}});\n",
       "\n",
       "// Listen for the removal of the full notebook cells\n",
       "var notebookContainer = gd.closest('#notebook-container');\n",
       "if (notebookContainer) {{\n",
       "    x.observe(notebookContainer, {childList: true});\n",
       "}}\n",
       "\n",
       "// Listen for the clearing of the current output cell\n",
       "var outputEl = gd.closest('.output');\n",
       "if (outputEl) {{\n",
       "    x.observe(outputEl, {childList: true});\n",
       "}}\n",
       "\n",
       "                        })\n",
       "                };\n",
       "                });\n",
       "            </script>\n",
       "        </div>"
      ]
     },
     "metadata": {},
     "output_type": "display_data"
    }
   ],
   "source": [
    "df.iplot(kind='box')"
   ]
  },
  {
   "cell_type": "markdown",
   "metadata": {},
   "source": [
    "## 3d Surface"
   ]
  },
  {
   "cell_type": "code",
   "execution_count": 16,
   "metadata": {},
   "outputs": [
    {
     "data": {
      "application/vnd.plotly.v1+json": {
       "config": {
        "linkText": "Export to plot.ly",
        "plotlyServerURL": "https://plot.ly",
        "showLink": true
       },
       "data": [
        {
         "colorscale": [
          [
           0,
           "rgb(165,0,38)"
          ],
          [
           0.1,
           "rgb(215,48,39)"
          ],
          [
           0.2,
           "rgb(244,109,67)"
          ],
          [
           0.3,
           "rgb(253,174,97)"
          ],
          [
           0.4,
           "rgb(254,224,144)"
          ],
          [
           0.5,
           "rgb(255,255,191)"
          ],
          [
           0.6,
           "rgb(224,243,248)"
          ],
          [
           0.7,
           "rgb(171,217,233)"
          ],
          [
           0.8,
           "rgb(116,173,209)"
          ],
          [
           0.9,
           "rgb(69,117,180)"
          ],
          [
           1,
           "rgb(49,54,149)"
          ]
         ],
         "type": "surface",
         "x": [
          0,
          1,
          2,
          3,
          4
         ],
         "y": [
          "x",
          "y",
          "z"
         ],
         "z": [
          [
           1,
           2,
           3,
           4,
           5
          ],
          [
           10,
           20,
           30,
           20,
           10
          ],
          [
           5,
           4,
           3,
           2,
           1
          ]
         ]
        }
       ],
       "layout": {
        "legend": {
         "bgcolor": "#F5F6F9",
         "font": {
          "color": "#4D5663"
         }
        },
        "paper_bgcolor": "#F5F6F9",
        "plot_bgcolor": "#F5F6F9",
        "template": {
         "data": {
          "bar": [
           {
            "error_x": {
             "color": "#2a3f5f"
            },
            "error_y": {
             "color": "#2a3f5f"
            },
            "marker": {
             "line": {
              "color": "#E5ECF6",
              "width": 0.5
             }
            },
            "type": "bar"
           }
          ],
          "barpolar": [
           {
            "marker": {
             "line": {
              "color": "#E5ECF6",
              "width": 0.5
             }
            },
            "type": "barpolar"
           }
          ],
          "carpet": [
           {
            "aaxis": {
             "endlinecolor": "#2a3f5f",
             "gridcolor": "white",
             "linecolor": "white",
             "minorgridcolor": "white",
             "startlinecolor": "#2a3f5f"
            },
            "baxis": {
             "endlinecolor": "#2a3f5f",
             "gridcolor": "white",
             "linecolor": "white",
             "minorgridcolor": "white",
             "startlinecolor": "#2a3f5f"
            },
            "type": "carpet"
           }
          ],
          "choropleth": [
           {
            "colorbar": {
             "outlinewidth": 0,
             "ticks": ""
            },
            "type": "choropleth"
           }
          ],
          "contour": [
           {
            "colorbar": {
             "outlinewidth": 0,
             "ticks": ""
            },
            "colorscale": [
             [
              0,
              "#0d0887"
             ],
             [
              0.1111111111111111,
              "#46039f"
             ],
             [
              0.2222222222222222,
              "#7201a8"
             ],
             [
              0.3333333333333333,
              "#9c179e"
             ],
             [
              0.4444444444444444,
              "#bd3786"
             ],
             [
              0.5555555555555556,
              "#d8576b"
             ],
             [
              0.6666666666666666,
              "#ed7953"
             ],
             [
              0.7777777777777778,
              "#fb9f3a"
             ],
             [
              0.8888888888888888,
              "#fdca26"
             ],
             [
              1,
              "#f0f921"
             ]
            ],
            "type": "contour"
           }
          ],
          "contourcarpet": [
           {
            "colorbar": {
             "outlinewidth": 0,
             "ticks": ""
            },
            "type": "contourcarpet"
           }
          ],
          "heatmap": [
           {
            "colorbar": {
             "outlinewidth": 0,
             "ticks": ""
            },
            "colorscale": [
             [
              0,
              "#0d0887"
             ],
             [
              0.1111111111111111,
              "#46039f"
             ],
             [
              0.2222222222222222,
              "#7201a8"
             ],
             [
              0.3333333333333333,
              "#9c179e"
             ],
             [
              0.4444444444444444,
              "#bd3786"
             ],
             [
              0.5555555555555556,
              "#d8576b"
             ],
             [
              0.6666666666666666,
              "#ed7953"
             ],
             [
              0.7777777777777778,
              "#fb9f3a"
             ],
             [
              0.8888888888888888,
              "#fdca26"
             ],
             [
              1,
              "#f0f921"
             ]
            ],
            "type": "heatmap"
           }
          ],
          "heatmapgl": [
           {
            "colorbar": {
             "outlinewidth": 0,
             "ticks": ""
            },
            "colorscale": [
             [
              0,
              "#0d0887"
             ],
             [
              0.1111111111111111,
              "#46039f"
             ],
             [
              0.2222222222222222,
              "#7201a8"
             ],
             [
              0.3333333333333333,
              "#9c179e"
             ],
             [
              0.4444444444444444,
              "#bd3786"
             ],
             [
              0.5555555555555556,
              "#d8576b"
             ],
             [
              0.6666666666666666,
              "#ed7953"
             ],
             [
              0.7777777777777778,
              "#fb9f3a"
             ],
             [
              0.8888888888888888,
              "#fdca26"
             ],
             [
              1,
              "#f0f921"
             ]
            ],
            "type": "heatmapgl"
           }
          ],
          "histogram": [
           {
            "marker": {
             "colorbar": {
              "outlinewidth": 0,
              "ticks": ""
             }
            },
            "type": "histogram"
           }
          ],
          "histogram2d": [
           {
            "colorbar": {
             "outlinewidth": 0,
             "ticks": ""
            },
            "colorscale": [
             [
              0,
              "#0d0887"
             ],
             [
              0.1111111111111111,
              "#46039f"
             ],
             [
              0.2222222222222222,
              "#7201a8"
             ],
             [
              0.3333333333333333,
              "#9c179e"
             ],
             [
              0.4444444444444444,
              "#bd3786"
             ],
             [
              0.5555555555555556,
              "#d8576b"
             ],
             [
              0.6666666666666666,
              "#ed7953"
             ],
             [
              0.7777777777777778,
              "#fb9f3a"
             ],
             [
              0.8888888888888888,
              "#fdca26"
             ],
             [
              1,
              "#f0f921"
             ]
            ],
            "type": "histogram2d"
           }
          ],
          "histogram2dcontour": [
           {
            "colorbar": {
             "outlinewidth": 0,
             "ticks": ""
            },
            "colorscale": [
             [
              0,
              "#0d0887"
             ],
             [
              0.1111111111111111,
              "#46039f"
             ],
             [
              0.2222222222222222,
              "#7201a8"
             ],
             [
              0.3333333333333333,
              "#9c179e"
             ],
             [
              0.4444444444444444,
              "#bd3786"
             ],
             [
              0.5555555555555556,
              "#d8576b"
             ],
             [
              0.6666666666666666,
              "#ed7953"
             ],
             [
              0.7777777777777778,
              "#fb9f3a"
             ],
             [
              0.8888888888888888,
              "#fdca26"
             ],
             [
              1,
              "#f0f921"
             ]
            ],
            "type": "histogram2dcontour"
           }
          ],
          "mesh3d": [
           {
            "colorbar": {
             "outlinewidth": 0,
             "ticks": ""
            },
            "type": "mesh3d"
           }
          ],
          "parcoords": [
           {
            "line": {
             "colorbar": {
              "outlinewidth": 0,
              "ticks": ""
             }
            },
            "type": "parcoords"
           }
          ],
          "pie": [
           {
            "automargin": true,
            "type": "pie"
           }
          ],
          "scatter": [
           {
            "marker": {
             "colorbar": {
              "outlinewidth": 0,
              "ticks": ""
             }
            },
            "type": "scatter"
           }
          ],
          "scatter3d": [
           {
            "line": {
             "colorbar": {
              "outlinewidth": 0,
              "ticks": ""
             }
            },
            "marker": {
             "colorbar": {
              "outlinewidth": 0,
              "ticks": ""
             }
            },
            "type": "scatter3d"
           }
          ],
          "scattercarpet": [
           {
            "marker": {
             "colorbar": {
              "outlinewidth": 0,
              "ticks": ""
             }
            },
            "type": "scattercarpet"
           }
          ],
          "scattergeo": [
           {
            "marker": {
             "colorbar": {
              "outlinewidth": 0,
              "ticks": ""
             }
            },
            "type": "scattergeo"
           }
          ],
          "scattergl": [
           {
            "marker": {
             "colorbar": {
              "outlinewidth": 0,
              "ticks": ""
             }
            },
            "type": "scattergl"
           }
          ],
          "scattermapbox": [
           {
            "marker": {
             "colorbar": {
              "outlinewidth": 0,
              "ticks": ""
             }
            },
            "type": "scattermapbox"
           }
          ],
          "scatterpolar": [
           {
            "marker": {
             "colorbar": {
              "outlinewidth": 0,
              "ticks": ""
             }
            },
            "type": "scatterpolar"
           }
          ],
          "scatterpolargl": [
           {
            "marker": {
             "colorbar": {
              "outlinewidth": 0,
              "ticks": ""
             }
            },
            "type": "scatterpolargl"
           }
          ],
          "scatterternary": [
           {
            "marker": {
             "colorbar": {
              "outlinewidth": 0,
              "ticks": ""
             }
            },
            "type": "scatterternary"
           }
          ],
          "surface": [
           {
            "colorbar": {
             "outlinewidth": 0,
             "ticks": ""
            },
            "colorscale": [
             [
              0,
              "#0d0887"
             ],
             [
              0.1111111111111111,
              "#46039f"
             ],
             [
              0.2222222222222222,
              "#7201a8"
             ],
             [
              0.3333333333333333,
              "#9c179e"
             ],
             [
              0.4444444444444444,
              "#bd3786"
             ],
             [
              0.5555555555555556,
              "#d8576b"
             ],
             [
              0.6666666666666666,
              "#ed7953"
             ],
             [
              0.7777777777777778,
              "#fb9f3a"
             ],
             [
              0.8888888888888888,
              "#fdca26"
             ],
             [
              1,
              "#f0f921"
             ]
            ],
            "type": "surface"
           }
          ],
          "table": [
           {
            "cells": {
             "fill": {
              "color": "#EBF0F8"
             },
             "line": {
              "color": "white"
             }
            },
            "header": {
             "fill": {
              "color": "#C8D4E3"
             },
             "line": {
              "color": "white"
             }
            },
            "type": "table"
           }
          ]
         },
         "layout": {
          "annotationdefaults": {
           "arrowcolor": "#2a3f5f",
           "arrowhead": 0,
           "arrowwidth": 1
          },
          "coloraxis": {
           "colorbar": {
            "outlinewidth": 0,
            "ticks": ""
           }
          },
          "colorscale": {
           "diverging": [
            [
             0,
             "#8e0152"
            ],
            [
             0.1,
             "#c51b7d"
            ],
            [
             0.2,
             "#de77ae"
            ],
            [
             0.3,
             "#f1b6da"
            ],
            [
             0.4,
             "#fde0ef"
            ],
            [
             0.5,
             "#f7f7f7"
            ],
            [
             0.6,
             "#e6f5d0"
            ],
            [
             0.7,
             "#b8e186"
            ],
            [
             0.8,
             "#7fbc41"
            ],
            [
             0.9,
             "#4d9221"
            ],
            [
             1,
             "#276419"
            ]
           ],
           "sequential": [
            [
             0,
             "#0d0887"
            ],
            [
             0.1111111111111111,
             "#46039f"
            ],
            [
             0.2222222222222222,
             "#7201a8"
            ],
            [
             0.3333333333333333,
             "#9c179e"
            ],
            [
             0.4444444444444444,
             "#bd3786"
            ],
            [
             0.5555555555555556,
             "#d8576b"
            ],
            [
             0.6666666666666666,
             "#ed7953"
            ],
            [
             0.7777777777777778,
             "#fb9f3a"
            ],
            [
             0.8888888888888888,
             "#fdca26"
            ],
            [
             1,
             "#f0f921"
            ]
           ],
           "sequentialminus": [
            [
             0,
             "#0d0887"
            ],
            [
             0.1111111111111111,
             "#46039f"
            ],
            [
             0.2222222222222222,
             "#7201a8"
            ],
            [
             0.3333333333333333,
             "#9c179e"
            ],
            [
             0.4444444444444444,
             "#bd3786"
            ],
            [
             0.5555555555555556,
             "#d8576b"
            ],
            [
             0.6666666666666666,
             "#ed7953"
            ],
            [
             0.7777777777777778,
             "#fb9f3a"
            ],
            [
             0.8888888888888888,
             "#fdca26"
            ],
            [
             1,
             "#f0f921"
            ]
           ]
          },
          "colorway": [
           "#636efa",
           "#EF553B",
           "#00cc96",
           "#ab63fa",
           "#FFA15A",
           "#19d3f3",
           "#FF6692",
           "#B6E880",
           "#FF97FF",
           "#FECB52"
          ],
          "font": {
           "color": "#2a3f5f"
          },
          "geo": {
           "bgcolor": "white",
           "lakecolor": "white",
           "landcolor": "#E5ECF6",
           "showlakes": true,
           "showland": true,
           "subunitcolor": "white"
          },
          "hoverlabel": {
           "align": "left"
          },
          "hovermode": "closest",
          "mapbox": {
           "style": "light"
          },
          "paper_bgcolor": "white",
          "plot_bgcolor": "#E5ECF6",
          "polar": {
           "angularaxis": {
            "gridcolor": "white",
            "linecolor": "white",
            "ticks": ""
           },
           "bgcolor": "#E5ECF6",
           "radialaxis": {
            "gridcolor": "white",
            "linecolor": "white",
            "ticks": ""
           }
          },
          "scene": {
           "xaxis": {
            "backgroundcolor": "#E5ECF6",
            "gridcolor": "white",
            "gridwidth": 2,
            "linecolor": "white",
            "showbackground": true,
            "ticks": "",
            "zerolinecolor": "white"
           },
           "yaxis": {
            "backgroundcolor": "#E5ECF6",
            "gridcolor": "white",
            "gridwidth": 2,
            "linecolor": "white",
            "showbackground": true,
            "ticks": "",
            "zerolinecolor": "white"
           },
           "zaxis": {
            "backgroundcolor": "#E5ECF6",
            "gridcolor": "white",
            "gridwidth": 2,
            "linecolor": "white",
            "showbackground": true,
            "ticks": "",
            "zerolinecolor": "white"
           }
          },
          "shapedefaults": {
           "line": {
            "color": "#2a3f5f"
           }
          },
          "ternary": {
           "aaxis": {
            "gridcolor": "white",
            "linecolor": "white",
            "ticks": ""
           },
           "baxis": {
            "gridcolor": "white",
            "linecolor": "white",
            "ticks": ""
           },
           "bgcolor": "#E5ECF6",
           "caxis": {
            "gridcolor": "white",
            "linecolor": "white",
            "ticks": ""
           }
          },
          "title": {
           "x": 0.05
          },
          "xaxis": {
           "automargin": true,
           "gridcolor": "white",
           "linecolor": "white",
           "ticks": "",
           "title": {
            "standoff": 15
           },
           "zerolinecolor": "white",
           "zerolinewidth": 2
          },
          "yaxis": {
           "automargin": true,
           "gridcolor": "white",
           "linecolor": "white",
           "ticks": "",
           "title": {
            "standoff": 15
           },
           "zerolinecolor": "white",
           "zerolinewidth": 2
          }
         }
        },
        "title": {
         "font": {
          "color": "#4D5663"
         }
        },
        "xaxis": {
         "gridcolor": "#E1E5ED",
         "showgrid": true,
         "tickfont": {
          "color": "#4D5663"
         },
         "title": {
          "font": {
           "color": "#4D5663"
          },
          "text": ""
         },
         "zerolinecolor": "#E1E5ED"
        },
        "yaxis": {
         "gridcolor": "#E1E5ED",
         "showgrid": true,
         "tickfont": {
          "color": "#4D5663"
         },
         "title": {
          "font": {
           "color": "#4D5663"
          },
          "text": ""
         },
         "zerolinecolor": "#E1E5ED"
        }
       }
      },
      "text/html": [
       "<div>\n",
       "        \n",
       "        \n",
       "            <div id=\"16f6f0bd-ca06-4b69-b39c-e4f7fce93bbf\" class=\"plotly-graph-div\" style=\"height:525px; width:100%;\"></div>\n",
       "            <script type=\"text/javascript\">\n",
       "                require([\"plotly\"], function(Plotly) {\n",
       "                    window.PLOTLYENV=window.PLOTLYENV || {};\n",
       "                    window.PLOTLYENV.BASE_URL='https://plot.ly';\n",
       "                    \n",
       "                if (document.getElementById(\"16f6f0bd-ca06-4b69-b39c-e4f7fce93bbf\")) {\n",
       "                    Plotly.newPlot(\n",
       "                        '16f6f0bd-ca06-4b69-b39c-e4f7fce93bbf',\n",
       "                        [{\"colorscale\": [[0.0, \"rgb(165,0,38)\"], [0.1, \"rgb(215,48,39)\"], [0.2, \"rgb(244,109,67)\"], [0.3, \"rgb(253,174,97)\"], [0.4, \"rgb(254,224,144)\"], [0.5, \"rgb(255,255,191)\"], [0.6, \"rgb(224,243,248)\"], [0.7, \"rgb(171,217,233)\"], [0.8, \"rgb(116,173,209)\"], [0.9, \"rgb(69,117,180)\"], [1.0, \"rgb(49,54,149)\"]], \"type\": \"surface\", \"x\": [0, 1, 2, 3, 4], \"y\": [\"x\", \"y\", \"z\"], \"z\": [[1, 2, 3, 4, 5], [10, 20, 30, 20, 10], [5, 4, 3, 2, 1]]}],\n",
       "                        {\"legend\": {\"bgcolor\": \"#F5F6F9\", \"font\": {\"color\": \"#4D5663\"}}, \"paper_bgcolor\": \"#F5F6F9\", \"plot_bgcolor\": \"#F5F6F9\", \"template\": {\"data\": {\"bar\": [{\"error_x\": {\"color\": \"#2a3f5f\"}, \"error_y\": {\"color\": \"#2a3f5f\"}, \"marker\": {\"line\": {\"color\": \"#E5ECF6\", \"width\": 0.5}}, \"type\": \"bar\"}], \"barpolar\": [{\"marker\": {\"line\": {\"color\": \"#E5ECF6\", \"width\": 0.5}}, \"type\": \"barpolar\"}], \"carpet\": [{\"aaxis\": {\"endlinecolor\": \"#2a3f5f\", \"gridcolor\": \"white\", \"linecolor\": \"white\", \"minorgridcolor\": \"white\", \"startlinecolor\": \"#2a3f5f\"}, \"baxis\": {\"endlinecolor\": \"#2a3f5f\", \"gridcolor\": \"white\", \"linecolor\": \"white\", \"minorgridcolor\": \"white\", \"startlinecolor\": \"#2a3f5f\"}, \"type\": \"carpet\"}], \"choropleth\": [{\"colorbar\": {\"outlinewidth\": 0, \"ticks\": \"\"}, \"type\": \"choropleth\"}], \"contour\": [{\"colorbar\": {\"outlinewidth\": 0, \"ticks\": \"\"}, \"colorscale\": [[0.0, \"#0d0887\"], [0.1111111111111111, \"#46039f\"], [0.2222222222222222, \"#7201a8\"], [0.3333333333333333, \"#9c179e\"], [0.4444444444444444, \"#bd3786\"], [0.5555555555555556, \"#d8576b\"], [0.6666666666666666, \"#ed7953\"], [0.7777777777777778, \"#fb9f3a\"], [0.8888888888888888, \"#fdca26\"], [1.0, \"#f0f921\"]], \"type\": \"contour\"}], \"contourcarpet\": [{\"colorbar\": {\"outlinewidth\": 0, \"ticks\": \"\"}, \"type\": \"contourcarpet\"}], \"heatmap\": [{\"colorbar\": {\"outlinewidth\": 0, \"ticks\": \"\"}, \"colorscale\": [[0.0, \"#0d0887\"], [0.1111111111111111, \"#46039f\"], [0.2222222222222222, \"#7201a8\"], [0.3333333333333333, \"#9c179e\"], [0.4444444444444444, \"#bd3786\"], [0.5555555555555556, \"#d8576b\"], [0.6666666666666666, \"#ed7953\"], [0.7777777777777778, \"#fb9f3a\"], [0.8888888888888888, \"#fdca26\"], [1.0, \"#f0f921\"]], \"type\": \"heatmap\"}], \"heatmapgl\": [{\"colorbar\": {\"outlinewidth\": 0, \"ticks\": \"\"}, \"colorscale\": [[0.0, \"#0d0887\"], [0.1111111111111111, \"#46039f\"], [0.2222222222222222, \"#7201a8\"], [0.3333333333333333, \"#9c179e\"], [0.4444444444444444, \"#bd3786\"], [0.5555555555555556, \"#d8576b\"], [0.6666666666666666, \"#ed7953\"], [0.7777777777777778, \"#fb9f3a\"], [0.8888888888888888, \"#fdca26\"], [1.0, \"#f0f921\"]], \"type\": \"heatmapgl\"}], \"histogram\": [{\"marker\": {\"colorbar\": {\"outlinewidth\": 0, \"ticks\": \"\"}}, \"type\": \"histogram\"}], \"histogram2d\": [{\"colorbar\": {\"outlinewidth\": 0, \"ticks\": \"\"}, \"colorscale\": [[0.0, \"#0d0887\"], [0.1111111111111111, \"#46039f\"], [0.2222222222222222, \"#7201a8\"], [0.3333333333333333, \"#9c179e\"], [0.4444444444444444, \"#bd3786\"], [0.5555555555555556, \"#d8576b\"], [0.6666666666666666, \"#ed7953\"], [0.7777777777777778, \"#fb9f3a\"], [0.8888888888888888, \"#fdca26\"], [1.0, \"#f0f921\"]], \"type\": \"histogram2d\"}], \"histogram2dcontour\": [{\"colorbar\": {\"outlinewidth\": 0, \"ticks\": \"\"}, \"colorscale\": [[0.0, \"#0d0887\"], [0.1111111111111111, \"#46039f\"], [0.2222222222222222, \"#7201a8\"], [0.3333333333333333, \"#9c179e\"], [0.4444444444444444, \"#bd3786\"], [0.5555555555555556, \"#d8576b\"], [0.6666666666666666, \"#ed7953\"], [0.7777777777777778, \"#fb9f3a\"], [0.8888888888888888, \"#fdca26\"], [1.0, \"#f0f921\"]], \"type\": \"histogram2dcontour\"}], \"mesh3d\": [{\"colorbar\": {\"outlinewidth\": 0, \"ticks\": \"\"}, \"type\": \"mesh3d\"}], \"parcoords\": [{\"line\": {\"colorbar\": {\"outlinewidth\": 0, \"ticks\": \"\"}}, \"type\": \"parcoords\"}], \"pie\": [{\"automargin\": true, \"type\": \"pie\"}], \"scatter\": [{\"marker\": {\"colorbar\": {\"outlinewidth\": 0, \"ticks\": \"\"}}, \"type\": \"scatter\"}], \"scatter3d\": [{\"line\": {\"colorbar\": {\"outlinewidth\": 0, \"ticks\": \"\"}}, \"marker\": {\"colorbar\": {\"outlinewidth\": 0, \"ticks\": \"\"}}, \"type\": \"scatter3d\"}], \"scattercarpet\": [{\"marker\": {\"colorbar\": {\"outlinewidth\": 0, \"ticks\": \"\"}}, \"type\": \"scattercarpet\"}], \"scattergeo\": [{\"marker\": {\"colorbar\": {\"outlinewidth\": 0, \"ticks\": \"\"}}, \"type\": \"scattergeo\"}], \"scattergl\": [{\"marker\": {\"colorbar\": {\"outlinewidth\": 0, \"ticks\": \"\"}}, \"type\": \"scattergl\"}], \"scattermapbox\": [{\"marker\": {\"colorbar\": {\"outlinewidth\": 0, \"ticks\": \"\"}}, \"type\": \"scattermapbox\"}], \"scatterpolar\": [{\"marker\": {\"colorbar\": {\"outlinewidth\": 0, \"ticks\": \"\"}}, \"type\": \"scatterpolar\"}], \"scatterpolargl\": [{\"marker\": {\"colorbar\": {\"outlinewidth\": 0, \"ticks\": \"\"}}, \"type\": \"scatterpolargl\"}], \"scatterternary\": [{\"marker\": {\"colorbar\": {\"outlinewidth\": 0, \"ticks\": \"\"}}, \"type\": \"scatterternary\"}], \"surface\": [{\"colorbar\": {\"outlinewidth\": 0, \"ticks\": \"\"}, \"colorscale\": [[0.0, \"#0d0887\"], [0.1111111111111111, \"#46039f\"], [0.2222222222222222, \"#7201a8\"], [0.3333333333333333, \"#9c179e\"], [0.4444444444444444, \"#bd3786\"], [0.5555555555555556, \"#d8576b\"], [0.6666666666666666, \"#ed7953\"], [0.7777777777777778, \"#fb9f3a\"], [0.8888888888888888, \"#fdca26\"], [1.0, \"#f0f921\"]], \"type\": \"surface\"}], \"table\": [{\"cells\": {\"fill\": {\"color\": \"#EBF0F8\"}, \"line\": {\"color\": \"white\"}}, \"header\": {\"fill\": {\"color\": \"#C8D4E3\"}, \"line\": {\"color\": \"white\"}}, \"type\": \"table\"}]}, \"layout\": {\"annotationdefaults\": {\"arrowcolor\": \"#2a3f5f\", \"arrowhead\": 0, \"arrowwidth\": 1}, \"coloraxis\": {\"colorbar\": {\"outlinewidth\": 0, \"ticks\": \"\"}}, \"colorscale\": {\"diverging\": [[0, \"#8e0152\"], [0.1, \"#c51b7d\"], [0.2, \"#de77ae\"], [0.3, \"#f1b6da\"], [0.4, \"#fde0ef\"], [0.5, \"#f7f7f7\"], [0.6, \"#e6f5d0\"], [0.7, \"#b8e186\"], [0.8, \"#7fbc41\"], [0.9, \"#4d9221\"], [1, \"#276419\"]], \"sequential\": [[0.0, \"#0d0887\"], [0.1111111111111111, \"#46039f\"], [0.2222222222222222, \"#7201a8\"], [0.3333333333333333, \"#9c179e\"], [0.4444444444444444, \"#bd3786\"], [0.5555555555555556, \"#d8576b\"], [0.6666666666666666, \"#ed7953\"], [0.7777777777777778, \"#fb9f3a\"], [0.8888888888888888, \"#fdca26\"], [1.0, \"#f0f921\"]], \"sequentialminus\": [[0.0, \"#0d0887\"], [0.1111111111111111, \"#46039f\"], [0.2222222222222222, \"#7201a8\"], [0.3333333333333333, \"#9c179e\"], [0.4444444444444444, \"#bd3786\"], [0.5555555555555556, \"#d8576b\"], [0.6666666666666666, \"#ed7953\"], [0.7777777777777778, \"#fb9f3a\"], [0.8888888888888888, \"#fdca26\"], [1.0, \"#f0f921\"]]}, \"colorway\": [\"#636efa\", \"#EF553B\", \"#00cc96\", \"#ab63fa\", \"#FFA15A\", \"#19d3f3\", \"#FF6692\", \"#B6E880\", \"#FF97FF\", \"#FECB52\"], \"font\": {\"color\": \"#2a3f5f\"}, \"geo\": {\"bgcolor\": \"white\", \"lakecolor\": \"white\", \"landcolor\": \"#E5ECF6\", \"showlakes\": true, \"showland\": true, \"subunitcolor\": \"white\"}, \"hoverlabel\": {\"align\": \"left\"}, \"hovermode\": \"closest\", \"mapbox\": {\"style\": \"light\"}, \"paper_bgcolor\": \"white\", \"plot_bgcolor\": \"#E5ECF6\", \"polar\": {\"angularaxis\": {\"gridcolor\": \"white\", \"linecolor\": \"white\", \"ticks\": \"\"}, \"bgcolor\": \"#E5ECF6\", \"radialaxis\": {\"gridcolor\": \"white\", \"linecolor\": \"white\", \"ticks\": \"\"}}, \"scene\": {\"xaxis\": {\"backgroundcolor\": \"#E5ECF6\", \"gridcolor\": \"white\", \"gridwidth\": 2, \"linecolor\": \"white\", \"showbackground\": true, \"ticks\": \"\", \"zerolinecolor\": \"white\"}, \"yaxis\": {\"backgroundcolor\": \"#E5ECF6\", \"gridcolor\": \"white\", \"gridwidth\": 2, \"linecolor\": \"white\", \"showbackground\": true, \"ticks\": \"\", \"zerolinecolor\": \"white\"}, \"zaxis\": {\"backgroundcolor\": \"#E5ECF6\", \"gridcolor\": \"white\", \"gridwidth\": 2, \"linecolor\": \"white\", \"showbackground\": true, \"ticks\": \"\", \"zerolinecolor\": \"white\"}}, \"shapedefaults\": {\"line\": {\"color\": \"#2a3f5f\"}}, \"ternary\": {\"aaxis\": {\"gridcolor\": \"white\", \"linecolor\": \"white\", \"ticks\": \"\"}, \"baxis\": {\"gridcolor\": \"white\", \"linecolor\": \"white\", \"ticks\": \"\"}, \"bgcolor\": \"#E5ECF6\", \"caxis\": {\"gridcolor\": \"white\", \"linecolor\": \"white\", \"ticks\": \"\"}}, \"title\": {\"x\": 0.05}, \"xaxis\": {\"automargin\": true, \"gridcolor\": \"white\", \"linecolor\": \"white\", \"ticks\": \"\", \"title\": {\"standoff\": 15}, \"zerolinecolor\": \"white\", \"zerolinewidth\": 2}, \"yaxis\": {\"automargin\": true, \"gridcolor\": \"white\", \"linecolor\": \"white\", \"ticks\": \"\", \"title\": {\"standoff\": 15}, \"zerolinecolor\": \"white\", \"zerolinewidth\": 2}}}, \"title\": {\"font\": {\"color\": \"#4D5663\"}}, \"xaxis\": {\"gridcolor\": \"#E1E5ED\", \"showgrid\": true, \"tickfont\": {\"color\": \"#4D5663\"}, \"title\": {\"font\": {\"color\": \"#4D5663\"}, \"text\": \"\"}, \"zerolinecolor\": \"#E1E5ED\"}, \"yaxis\": {\"gridcolor\": \"#E1E5ED\", \"showgrid\": true, \"tickfont\": {\"color\": \"#4D5663\"}, \"title\": {\"font\": {\"color\": \"#4D5663\"}, \"text\": \"\"}, \"zerolinecolor\": \"#E1E5ED\"}},\n",
       "                        {\"showLink\": true, \"linkText\": \"Export to plot.ly\", \"plotlyServerURL\": \"https://plot.ly\", \"responsive\": true}\n",
       "                    ).then(function(){\n",
       "                            \n",
       "var gd = document.getElementById('16f6f0bd-ca06-4b69-b39c-e4f7fce93bbf');\n",
       "var x = new MutationObserver(function (mutations, observer) {{\n",
       "        var display = window.getComputedStyle(gd).display;\n",
       "        if (!display || display === 'none') {{\n",
       "            console.log([gd, 'removed!']);\n",
       "            Plotly.purge(gd);\n",
       "            observer.disconnect();\n",
       "        }}\n",
       "}});\n",
       "\n",
       "// Listen for the removal of the full notebook cells\n",
       "var notebookContainer = gd.closest('#notebook-container');\n",
       "if (notebookContainer) {{\n",
       "    x.observe(notebookContainer, {childList: true});\n",
       "}}\n",
       "\n",
       "// Listen for the clearing of the current output cell\n",
       "var outputEl = gd.closest('.output');\n",
       "if (outputEl) {{\n",
       "    x.observe(outputEl, {childList: true});\n",
       "}}\n",
       "\n",
       "                        })\n",
       "                };\n",
       "                });\n",
       "            </script>\n",
       "        </div>"
      ]
     },
     "metadata": {},
     "output_type": "display_data"
    }
   ],
   "source": [
    "df3 = pd.DataFrame({'x':[1,2,3,4,5],'y':[10,20,30,20,10],'z':[5,4,3,2,1]})\n",
    "df3.iplot(kind='surface',colorscale='rdylbu')"
   ]
  },
  {
   "cell_type": "markdown",
   "metadata": {},
   "source": [
    "## Spread"
   ]
  },
  {
   "cell_type": "code",
   "execution_count": 17,
   "metadata": {},
   "outputs": [
    {
     "data": {
      "application/vnd.plotly.v1+json": {
       "config": {
        "linkText": "Export to plot.ly",
        "plotlyServerURL": "https://plot.ly",
        "showLink": true
       },
       "data": [
        {
         "line": {
          "color": "rgba(255, 153, 51, 1.0)",
          "dash": "solid",
          "shape": "linear",
          "width": 1.3
         },
         "mode": "lines",
         "name": "A",
         "text": "",
         "type": "scatter",
         "x": [
          0,
          1,
          2,
          3,
          4,
          5,
          6,
          7,
          8,
          9,
          10,
          11,
          12,
          13,
          14,
          15,
          16,
          17,
          18,
          19,
          20,
          21,
          22,
          23,
          24,
          25,
          26,
          27,
          28,
          29,
          30,
          31,
          32,
          33,
          34,
          35,
          36,
          37,
          38,
          39,
          40,
          41,
          42,
          43,
          44,
          45,
          46,
          47,
          48,
          49,
          50,
          51,
          52,
          53,
          54,
          55,
          56,
          57,
          58,
          59,
          60,
          61,
          62,
          63,
          64,
          65,
          66,
          67,
          68,
          69,
          70,
          71,
          72,
          73,
          74,
          75,
          76,
          77,
          78,
          79,
          80,
          81,
          82,
          83,
          84,
          85,
          86,
          87,
          88,
          89,
          90,
          91,
          92,
          93,
          94,
          95,
          96,
          97,
          98,
          99
         ],
         "y": [
          -2.3454141693589876,
          0.6237775380275742,
          0.5084665209175578,
          1.0077383239871212,
          -1.596862641714782,
          -2.374942969830823,
          -1.3706328842809488,
          1.3747352172717342,
          -0.7622432557064147,
          -1.9184039896950638,
          1.5017960911885953,
          -0.7114451376865186,
          -0.29446634553217194,
          -1.4876954594826903,
          0.6995466429849003,
          -0.9080622620621699,
          0.0037148475874004623,
          -0.8606836096783335,
          1.5500856254168882,
          0.8681259238151428,
          -0.25157963103361447,
          -0.6950867661351647,
          -1.2977326913712255,
          1.0792884415738364,
          1.9215810061890053,
          1.6391562586670962,
          0.8532070522380638,
          0.9960034559394392,
          1.0384819480958472,
          -0.4416790016043128,
          0.6272585044640208,
          1.6568382627476808,
          0.17604804120284398,
          -0.12173009136600939,
          1.786145195510604,
          1.0620956079199924,
          -1.6487794157955151,
          0.5134853837511637,
          -0.09341126386297298,
          0.5748210842959969,
          -0.34773144268786665,
          1.4495352760328146,
          0.55589609988229,
          -0.19407908794453177,
          1.954553549389376,
          -1.4401496294154514,
          -1.687016031719059,
          0.9152212524783871,
          -0.9701130342584917,
          0.2781872419962723,
          -0.42465351126078166,
          0.21363104414796674,
          0.6798391516567996,
          -0.21693900500613778,
          1.1253269510990103,
          -0.4364919033627248,
          0.5070307915178102,
          -0.6938482394362632,
          -1.4709020923143088,
          -0.3005468309159597,
          0.10117735963741527,
          -0.2739784055963156,
          -1.592983100175776,
          -0.7550289749943683,
          -1.8804241568882007,
          0.09895966465769129,
          1.280991037813301,
          0.18446847622744528,
          2.514156053080135,
          0.887922034620755,
          0.22026729871991257,
          -0.058148079602631304,
          0.11519546694262874,
          1.3733167398735402,
          0.7719722757739921,
          -0.11131557918308087,
          0.12928439944667708,
          0.656916890088794,
          1.2254282520039692,
          -2.3574405969002927,
          0.520182684697464,
          0.49226230720825487,
          -0.2946532839128033,
          1.5850905733271186,
          -0.4894593363475711,
          2.6413792649821013,
          0.13735097170865115,
          -0.9828018800837163,
          0.13801858167033576,
          -0.6215647789215498,
          -0.15010559951578073,
          0.39313077400096924,
          -0.9745423404621509,
          -0.41287483235514105,
          1.406315163167479,
          0.13788703768854482,
          1.2731159007446353,
          -0.2163497464314463,
          1.0853126714886798,
          0.5353673129325547
         ]
        },
        {
         "line": {
          "color": "rgba(55, 128, 191, 1.0)",
          "dash": "solid",
          "shape": "linear",
          "width": 1.3
         },
         "mode": "lines",
         "name": "B",
         "text": "",
         "type": "scatter",
         "x": [
          0,
          1,
          2,
          3,
          4,
          5,
          6,
          7,
          8,
          9,
          10,
          11,
          12,
          13,
          14,
          15,
          16,
          17,
          18,
          19,
          20,
          21,
          22,
          23,
          24,
          25,
          26,
          27,
          28,
          29,
          30,
          31,
          32,
          33,
          34,
          35,
          36,
          37,
          38,
          39,
          40,
          41,
          42,
          43,
          44,
          45,
          46,
          47,
          48,
          49,
          50,
          51,
          52,
          53,
          54,
          55,
          56,
          57,
          58,
          59,
          60,
          61,
          62,
          63,
          64,
          65,
          66,
          67,
          68,
          69,
          70,
          71,
          72,
          73,
          74,
          75,
          76,
          77,
          78,
          79,
          80,
          81,
          82,
          83,
          84,
          85,
          86,
          87,
          88,
          89,
          90,
          91,
          92,
          93,
          94,
          95,
          96,
          97,
          98,
          99
         ],
         "y": [
          -1.2116920522282546,
          -2.4182256642840154,
          -0.4467089062786822,
          -1.9392425928013934,
          0.9457088641174468,
          -1.4107952784259432,
          0.7722514959948863,
          -0.45758893217485086,
          -1.3697226133349176,
          -2.046223214968447,
          -0.9579602434170336,
          1.4299651060248795,
          0.6747291885765265,
          -2.446185003930176,
          -0.4786337657758917,
          -0.4937053710053525,
          0.2403915067061822,
          0.1756572084243671,
          -0.9455598067160645,
          -0.056992586205770676,
          1.0699334051439484,
          1.673208526089509,
          -0.6395578941823503,
          0.25843104956249363,
          0.9463770770249402,
          -1.173249590196306,
          -1.3898254730875272,
          -1.9485443421261375,
          -0.7990195508075936,
          -0.31886903775938763,
          -0.08574570155079406,
          1.3516886194648055,
          2.2149074403731497,
          -0.7949499836639242,
          0.6349268210678864,
          -1.2078356601723703,
          0.3787942389731917,
          -0.6891367639313457,
          1.3739612750682195,
          1.049897380525511,
          -0.018372121788850865,
          -0.2245124095889812,
          -1.1217196388681876,
          0.13626183916315088,
          0.7831733334090794,
          -0.29080499799221227,
          0.4448251856275786,
          1.146475088094464,
          -0.3875437175635493,
          -1.619961941950166,
          1.9877975354122728,
          0.3112587438792633,
          -1.0975621453609536,
          1.3884885691095525,
          -2.253520984677293,
          0.8172734212747151,
          0.6798692585838515,
          0.9418421759704245,
          -1.3652789631659974,
          1.2276374079163535,
          -0.948723105258126,
          1.2325710575478996,
          1.6427249926188614,
          -0.008728784354691151,
          1.5770304307221095,
          -0.9423567084179673,
          0.36669310906068375,
          1.4950786618013892,
          0.04239700440360714,
          0.7492246927132604,
          0.9362248498051818,
          -1.0210447539510035,
          -0.557769626378885,
          0.8585655547526226,
          0.5500178298829814,
          0.49205297793010305,
          -1.8099585130722016,
          0.6170410700662037,
          0.4698120642968544,
          0.6243133179356815,
          -0.23817960494236465,
          -1.5594009134291225,
          -1.1132549789519153,
          0.037206911943428185,
          -0.44926998300567894,
          -0.7848515495976766,
          0.1280030808290587,
          0.7618062697149731,
          -1.2480442658733897,
          -0.5126732212013174,
          -1.8977786099295044,
          0.9258361552336678,
          0.17023070984428282,
          0.5668693240350743,
          -1.2976881194121161,
          -0.2908984427086773,
          -0.32529334782616276,
          2.208923211463274,
          -0.3527371000449035,
          0.017930464472224805
         ]
        },
        {
         "connectgaps": false,
         "fill": "tozeroy",
         "line": {
          "color": "green",
          "dash": "solid",
          "shape": "linear",
          "width": 0.5
         },
         "mode": "lines",
         "name": "Spread",
         "showlegend": false,
         "type": "scatter",
         "x": [
          0,
          1,
          2,
          3,
          4,
          5,
          6,
          7,
          8,
          9,
          10,
          11,
          12,
          13,
          14,
          15,
          16,
          17,
          18,
          19,
          20,
          21,
          22,
          23,
          24,
          25,
          26,
          27,
          28,
          29,
          30,
          31,
          32,
          33,
          34,
          35,
          36,
          37,
          38,
          39,
          40,
          41,
          42,
          43,
          44,
          45,
          46,
          47,
          48,
          49,
          50,
          51,
          52,
          53,
          54,
          55,
          56,
          57,
          58,
          59,
          60,
          61,
          62,
          63,
          64,
          65,
          66,
          67,
          68,
          69,
          70,
          71,
          72,
          73,
          74,
          75,
          76,
          77,
          78,
          79,
          80,
          81,
          82,
          83,
          84,
          85,
          86,
          87,
          88,
          89,
          90,
          91,
          92,
          93,
          94,
          95,
          96,
          97,
          98,
          99
         ],
         "xaxis": "x2",
         "y": [
          "",
          3.0420032023115895,
          0.95517542719624,
          2.9469809167885144,
          "",
          "",
          "",
          1.8323241494465852,
          0.6074793576285029,
          0.12781922527338319,
          2.459756334605629,
          "",
          "",
          0.9584895444474857,
          1.178180408760792,
          "",
          "",
          "",
          2.4956454321329526,
          0.9251185100209134,
          "",
          "",
          "",
          0.8208573920113428,
          0.9752039291640651,
          2.8124058488634023,
          2.243032525325591,
          2.9445477980655768,
          1.8375014989034408,
          "",
          0.7130042060148148,
          0.3051496432828753,
          "",
          0.6732198922979148,
          1.1512183744427176,
          2.2699312680923627,
          "",
          1.2026221476825094,
          "",
          "",
          "",
          1.6740476856217958,
          1.6776157387504775,
          "",
          1.1713802159802966,
          "",
          "",
          "",
          "",
          1.8981491839464384,
          "",
          "",
          1.7774012970177533,
          "",
          3.378847935776303,
          "",
          "",
          "",
          "",
          "",
          1.0499004648955412,
          "",
          "",
          "",
          "",
          1.0413163730756585,
          0.9142979287526172,
          "",
          2.4717590486765277,
          0.1386973419074946,
          "",
          0.9628966743483721,
          0.6729650933215138,
          0.5147511851209176,
          0.22195444589101065,
          "",
          1.9392429125188786,
          0.03987582002259027,
          0.7556161877071148,
          "",
          0.7583622896398287,
          2.0516632206373773,
          0.818601695039112,
          1.5478836613836904,
          "",
          3.4262308145797777,
          0.009347890879592452,
          "",
          1.3860628475437253,
          "",
          1.7476730104137237,
          "",
          "",
          "",
          2.7040032825795954,
          0.42878548039722214,
          1.5984092485707981,
          "",
          1.4380497715335834,
          0.5174368484603299
         ],
         "yaxis": "y2"
        },
        {
         "connectgaps": false,
         "fill": "tozeroy",
         "line": {
          "color": "red",
          "dash": "solid",
          "shape": "linear",
          "width": 0.5
         },
         "mode": "lines",
         "name": "Spread",
         "showlegend": false,
         "type": "scatter",
         "x": [
          0,
          1,
          2,
          3,
          4,
          5,
          6,
          7,
          8,
          9,
          10,
          11,
          12,
          13,
          14,
          15,
          16,
          17,
          18,
          19,
          20,
          21,
          22,
          23,
          24,
          25,
          26,
          27,
          28,
          29,
          30,
          31,
          32,
          33,
          34,
          35,
          36,
          37,
          38,
          39,
          40,
          41,
          42,
          43,
          44,
          45,
          46,
          47,
          48,
          49,
          50,
          51,
          52,
          53,
          54,
          55,
          56,
          57,
          58,
          59,
          60,
          61,
          62,
          63,
          64,
          65,
          66,
          67,
          68,
          69,
          70,
          71,
          72,
          73,
          74,
          75,
          76,
          77,
          78,
          79,
          80,
          81,
          82,
          83,
          84,
          85,
          86,
          87,
          88,
          89,
          90,
          91,
          92,
          93,
          94,
          95,
          96,
          97,
          98,
          99
         ],
         "xaxis": "x2",
         "y": [
          -1.133722117130733,
          "",
          "",
          "",
          -2.5425715058322287,
          -0.9641476914048799,
          -2.1428843802758353,
          "",
          "",
          "",
          "",
          -2.141410243711398,
          -0.9691955341086984,
          "",
          "",
          -0.4143568910568174,
          -0.23667665911878175,
          -1.0363408181027005,
          "",
          "",
          -1.3215130361775629,
          -2.3682952922246736,
          -0.6581747971888752,
          "",
          "",
          "",
          "",
          "",
          "",
          -0.12280996384492515,
          "",
          "",
          -2.0388593991703057,
          "",
          "",
          "",
          -2.0275736547687067,
          "",
          -1.4673725389311925,
          -0.4750762962295141,
          -0.32935932089901576,
          "",
          "",
          -0.33034092710768265,
          "",
          -1.1493446314232392,
          -2.1318412173466377,
          -0.23125383561607693,
          -0.5825693166949424,
          "",
          -2.4124510466730547,
          -0.09762769973129654,
          "",
          -1.6054275741156903,
          "",
          -1.25376532463744,
          -0.17283846706604133,
          -1.6356904154066876,
          -0.1056231291483114,
          -1.528184238832313,
          "",
          -1.5065494631442151,
          -3.2357080927946376,
          -0.7463001906396771,
          -3.45745458761031,
          "",
          "",
          -1.3106101855739438,
          "",
          "",
          -0.7159575510852693,
          "",
          "",
          "",
          "",
          -0.6033685571131839,
          "",
          "",
          "",
          -2.9817539148359744,
          "",
          "",
          "",
          "",
          -0.040189353341892164,
          "",
          "",
          -1.7446081497986894,
          "",
          -0.1088915577202324,
          "",
          -0.5327053812326985,
          -1.1447730503064337,
          -0.9797441563902154,
          "",
          "",
          "",
          -2.42527295789472,
          "",
          ""
         ],
         "yaxis": "y2"
        }
       ],
       "layout": {
        "hovermode": "x",
        "legend": {
         "bgcolor": "#F5F6F9",
         "font": {
          "color": "#4D5663"
         }
        },
        "paper_bgcolor": "#F5F6F9",
        "plot_bgcolor": "#F5F6F9",
        "template": {
         "data": {
          "bar": [
           {
            "error_x": {
             "color": "#2a3f5f"
            },
            "error_y": {
             "color": "#2a3f5f"
            },
            "marker": {
             "line": {
              "color": "#E5ECF6",
              "width": 0.5
             }
            },
            "type": "bar"
           }
          ],
          "barpolar": [
           {
            "marker": {
             "line": {
              "color": "#E5ECF6",
              "width": 0.5
             }
            },
            "type": "barpolar"
           }
          ],
          "carpet": [
           {
            "aaxis": {
             "endlinecolor": "#2a3f5f",
             "gridcolor": "white",
             "linecolor": "white",
             "minorgridcolor": "white",
             "startlinecolor": "#2a3f5f"
            },
            "baxis": {
             "endlinecolor": "#2a3f5f",
             "gridcolor": "white",
             "linecolor": "white",
             "minorgridcolor": "white",
             "startlinecolor": "#2a3f5f"
            },
            "type": "carpet"
           }
          ],
          "choropleth": [
           {
            "colorbar": {
             "outlinewidth": 0,
             "ticks": ""
            },
            "type": "choropleth"
           }
          ],
          "contour": [
           {
            "colorbar": {
             "outlinewidth": 0,
             "ticks": ""
            },
            "colorscale": [
             [
              0,
              "#0d0887"
             ],
             [
              0.1111111111111111,
              "#46039f"
             ],
             [
              0.2222222222222222,
              "#7201a8"
             ],
             [
              0.3333333333333333,
              "#9c179e"
             ],
             [
              0.4444444444444444,
              "#bd3786"
             ],
             [
              0.5555555555555556,
              "#d8576b"
             ],
             [
              0.6666666666666666,
              "#ed7953"
             ],
             [
              0.7777777777777778,
              "#fb9f3a"
             ],
             [
              0.8888888888888888,
              "#fdca26"
             ],
             [
              1,
              "#f0f921"
             ]
            ],
            "type": "contour"
           }
          ],
          "contourcarpet": [
           {
            "colorbar": {
             "outlinewidth": 0,
             "ticks": ""
            },
            "type": "contourcarpet"
           }
          ],
          "heatmap": [
           {
            "colorbar": {
             "outlinewidth": 0,
             "ticks": ""
            },
            "colorscale": [
             [
              0,
              "#0d0887"
             ],
             [
              0.1111111111111111,
              "#46039f"
             ],
             [
              0.2222222222222222,
              "#7201a8"
             ],
             [
              0.3333333333333333,
              "#9c179e"
             ],
             [
              0.4444444444444444,
              "#bd3786"
             ],
             [
              0.5555555555555556,
              "#d8576b"
             ],
             [
              0.6666666666666666,
              "#ed7953"
             ],
             [
              0.7777777777777778,
              "#fb9f3a"
             ],
             [
              0.8888888888888888,
              "#fdca26"
             ],
             [
              1,
              "#f0f921"
             ]
            ],
            "type": "heatmap"
           }
          ],
          "heatmapgl": [
           {
            "colorbar": {
             "outlinewidth": 0,
             "ticks": ""
            },
            "colorscale": [
             [
              0,
              "#0d0887"
             ],
             [
              0.1111111111111111,
              "#46039f"
             ],
             [
              0.2222222222222222,
              "#7201a8"
             ],
             [
              0.3333333333333333,
              "#9c179e"
             ],
             [
              0.4444444444444444,
              "#bd3786"
             ],
             [
              0.5555555555555556,
              "#d8576b"
             ],
             [
              0.6666666666666666,
              "#ed7953"
             ],
             [
              0.7777777777777778,
              "#fb9f3a"
             ],
             [
              0.8888888888888888,
              "#fdca26"
             ],
             [
              1,
              "#f0f921"
             ]
            ],
            "type": "heatmapgl"
           }
          ],
          "histogram": [
           {
            "marker": {
             "colorbar": {
              "outlinewidth": 0,
              "ticks": ""
             }
            },
            "type": "histogram"
           }
          ],
          "histogram2d": [
           {
            "colorbar": {
             "outlinewidth": 0,
             "ticks": ""
            },
            "colorscale": [
             [
              0,
              "#0d0887"
             ],
             [
              0.1111111111111111,
              "#46039f"
             ],
             [
              0.2222222222222222,
              "#7201a8"
             ],
             [
              0.3333333333333333,
              "#9c179e"
             ],
             [
              0.4444444444444444,
              "#bd3786"
             ],
             [
              0.5555555555555556,
              "#d8576b"
             ],
             [
              0.6666666666666666,
              "#ed7953"
             ],
             [
              0.7777777777777778,
              "#fb9f3a"
             ],
             [
              0.8888888888888888,
              "#fdca26"
             ],
             [
              1,
              "#f0f921"
             ]
            ],
            "type": "histogram2d"
           }
          ],
          "histogram2dcontour": [
           {
            "colorbar": {
             "outlinewidth": 0,
             "ticks": ""
            },
            "colorscale": [
             [
              0,
              "#0d0887"
             ],
             [
              0.1111111111111111,
              "#46039f"
             ],
             [
              0.2222222222222222,
              "#7201a8"
             ],
             [
              0.3333333333333333,
              "#9c179e"
             ],
             [
              0.4444444444444444,
              "#bd3786"
             ],
             [
              0.5555555555555556,
              "#d8576b"
             ],
             [
              0.6666666666666666,
              "#ed7953"
             ],
             [
              0.7777777777777778,
              "#fb9f3a"
             ],
             [
              0.8888888888888888,
              "#fdca26"
             ],
             [
              1,
              "#f0f921"
             ]
            ],
            "type": "histogram2dcontour"
           }
          ],
          "mesh3d": [
           {
            "colorbar": {
             "outlinewidth": 0,
             "ticks": ""
            },
            "type": "mesh3d"
           }
          ],
          "parcoords": [
           {
            "line": {
             "colorbar": {
              "outlinewidth": 0,
              "ticks": ""
             }
            },
            "type": "parcoords"
           }
          ],
          "pie": [
           {
            "automargin": true,
            "type": "pie"
           }
          ],
          "scatter": [
           {
            "marker": {
             "colorbar": {
              "outlinewidth": 0,
              "ticks": ""
             }
            },
            "type": "scatter"
           }
          ],
          "scatter3d": [
           {
            "line": {
             "colorbar": {
              "outlinewidth": 0,
              "ticks": ""
             }
            },
            "marker": {
             "colorbar": {
              "outlinewidth": 0,
              "ticks": ""
             }
            },
            "type": "scatter3d"
           }
          ],
          "scattercarpet": [
           {
            "marker": {
             "colorbar": {
              "outlinewidth": 0,
              "ticks": ""
             }
            },
            "type": "scattercarpet"
           }
          ],
          "scattergeo": [
           {
            "marker": {
             "colorbar": {
              "outlinewidth": 0,
              "ticks": ""
             }
            },
            "type": "scattergeo"
           }
          ],
          "scattergl": [
           {
            "marker": {
             "colorbar": {
              "outlinewidth": 0,
              "ticks": ""
             }
            },
            "type": "scattergl"
           }
          ],
          "scattermapbox": [
           {
            "marker": {
             "colorbar": {
              "outlinewidth": 0,
              "ticks": ""
             }
            },
            "type": "scattermapbox"
           }
          ],
          "scatterpolar": [
           {
            "marker": {
             "colorbar": {
              "outlinewidth": 0,
              "ticks": ""
             }
            },
            "type": "scatterpolar"
           }
          ],
          "scatterpolargl": [
           {
            "marker": {
             "colorbar": {
              "outlinewidth": 0,
              "ticks": ""
             }
            },
            "type": "scatterpolargl"
           }
          ],
          "scatterternary": [
           {
            "marker": {
             "colorbar": {
              "outlinewidth": 0,
              "ticks": ""
             }
            },
            "type": "scatterternary"
           }
          ],
          "surface": [
           {
            "colorbar": {
             "outlinewidth": 0,
             "ticks": ""
            },
            "colorscale": [
             [
              0,
              "#0d0887"
             ],
             [
              0.1111111111111111,
              "#46039f"
             ],
             [
              0.2222222222222222,
              "#7201a8"
             ],
             [
              0.3333333333333333,
              "#9c179e"
             ],
             [
              0.4444444444444444,
              "#bd3786"
             ],
             [
              0.5555555555555556,
              "#d8576b"
             ],
             [
              0.6666666666666666,
              "#ed7953"
             ],
             [
              0.7777777777777778,
              "#fb9f3a"
             ],
             [
              0.8888888888888888,
              "#fdca26"
             ],
             [
              1,
              "#f0f921"
             ]
            ],
            "type": "surface"
           }
          ],
          "table": [
           {
            "cells": {
             "fill": {
              "color": "#EBF0F8"
             },
             "line": {
              "color": "white"
             }
            },
            "header": {
             "fill": {
              "color": "#C8D4E3"
             },
             "line": {
              "color": "white"
             }
            },
            "type": "table"
           }
          ]
         },
         "layout": {
          "annotationdefaults": {
           "arrowcolor": "#2a3f5f",
           "arrowhead": 0,
           "arrowwidth": 1
          },
          "coloraxis": {
           "colorbar": {
            "outlinewidth": 0,
            "ticks": ""
           }
          },
          "colorscale": {
           "diverging": [
            [
             0,
             "#8e0152"
            ],
            [
             0.1,
             "#c51b7d"
            ],
            [
             0.2,
             "#de77ae"
            ],
            [
             0.3,
             "#f1b6da"
            ],
            [
             0.4,
             "#fde0ef"
            ],
            [
             0.5,
             "#f7f7f7"
            ],
            [
             0.6,
             "#e6f5d0"
            ],
            [
             0.7,
             "#b8e186"
            ],
            [
             0.8,
             "#7fbc41"
            ],
            [
             0.9,
             "#4d9221"
            ],
            [
             1,
             "#276419"
            ]
           ],
           "sequential": [
            [
             0,
             "#0d0887"
            ],
            [
             0.1111111111111111,
             "#46039f"
            ],
            [
             0.2222222222222222,
             "#7201a8"
            ],
            [
             0.3333333333333333,
             "#9c179e"
            ],
            [
             0.4444444444444444,
             "#bd3786"
            ],
            [
             0.5555555555555556,
             "#d8576b"
            ],
            [
             0.6666666666666666,
             "#ed7953"
            ],
            [
             0.7777777777777778,
             "#fb9f3a"
            ],
            [
             0.8888888888888888,
             "#fdca26"
            ],
            [
             1,
             "#f0f921"
            ]
           ],
           "sequentialminus": [
            [
             0,
             "#0d0887"
            ],
            [
             0.1111111111111111,
             "#46039f"
            ],
            [
             0.2222222222222222,
             "#7201a8"
            ],
            [
             0.3333333333333333,
             "#9c179e"
            ],
            [
             0.4444444444444444,
             "#bd3786"
            ],
            [
             0.5555555555555556,
             "#d8576b"
            ],
            [
             0.6666666666666666,
             "#ed7953"
            ],
            [
             0.7777777777777778,
             "#fb9f3a"
            ],
            [
             0.8888888888888888,
             "#fdca26"
            ],
            [
             1,
             "#f0f921"
            ]
           ]
          },
          "colorway": [
           "#636efa",
           "#EF553B",
           "#00cc96",
           "#ab63fa",
           "#FFA15A",
           "#19d3f3",
           "#FF6692",
           "#B6E880",
           "#FF97FF",
           "#FECB52"
          ],
          "font": {
           "color": "#2a3f5f"
          },
          "geo": {
           "bgcolor": "white",
           "lakecolor": "white",
           "landcolor": "#E5ECF6",
           "showlakes": true,
           "showland": true,
           "subunitcolor": "white"
          },
          "hoverlabel": {
           "align": "left"
          },
          "hovermode": "closest",
          "mapbox": {
           "style": "light"
          },
          "paper_bgcolor": "white",
          "plot_bgcolor": "#E5ECF6",
          "polar": {
           "angularaxis": {
            "gridcolor": "white",
            "linecolor": "white",
            "ticks": ""
           },
           "bgcolor": "#E5ECF6",
           "radialaxis": {
            "gridcolor": "white",
            "linecolor": "white",
            "ticks": ""
           }
          },
          "scene": {
           "xaxis": {
            "backgroundcolor": "#E5ECF6",
            "gridcolor": "white",
            "gridwidth": 2,
            "linecolor": "white",
            "showbackground": true,
            "ticks": "",
            "zerolinecolor": "white"
           },
           "yaxis": {
            "backgroundcolor": "#E5ECF6",
            "gridcolor": "white",
            "gridwidth": 2,
            "linecolor": "white",
            "showbackground": true,
            "ticks": "",
            "zerolinecolor": "white"
           },
           "zaxis": {
            "backgroundcolor": "#E5ECF6",
            "gridcolor": "white",
            "gridwidth": 2,
            "linecolor": "white",
            "showbackground": true,
            "ticks": "",
            "zerolinecolor": "white"
           }
          },
          "shapedefaults": {
           "line": {
            "color": "#2a3f5f"
           }
          },
          "ternary": {
           "aaxis": {
            "gridcolor": "white",
            "linecolor": "white",
            "ticks": ""
           },
           "baxis": {
            "gridcolor": "white",
            "linecolor": "white",
            "ticks": ""
           },
           "bgcolor": "#E5ECF6",
           "caxis": {
            "gridcolor": "white",
            "linecolor": "white",
            "ticks": ""
           }
          },
          "title": {
           "x": 0.05
          },
          "xaxis": {
           "automargin": true,
           "gridcolor": "white",
           "linecolor": "white",
           "ticks": "",
           "title": {
            "standoff": 15
           },
           "zerolinecolor": "white",
           "zerolinewidth": 2
          },
          "yaxis": {
           "automargin": true,
           "gridcolor": "white",
           "linecolor": "white",
           "ticks": "",
           "title": {
            "standoff": 15
           },
           "zerolinecolor": "white",
           "zerolinewidth": 2
          }
         }
        },
        "title": {
         "font": {
          "color": "#4D5663"
         }
        },
        "xaxis": {
         "gridcolor": "#E1E5ED",
         "showgrid": true,
         "tickfont": {
          "color": "#4D5663"
         },
         "title": {
          "font": {
           "color": "#4D5663"
          },
          "text": ""
         },
         "zerolinecolor": "#E1E5ED"
        },
        "xaxis2": {
         "anchor": "y2",
         "gridcolor": "#E1E5ED",
         "showgrid": true,
         "showticklabels": false,
         "tickfont": {
          "color": "#4D5663"
         },
         "title": {
          "font": {
           "color": "#4D5663"
          },
          "text": ""
         },
         "zerolinecolor": "#E1E5ED"
        },
        "yaxis": {
         "domain": [
          0.3,
          1
         ],
         "gridcolor": "#E1E5ED",
         "showgrid": true,
         "tickfont": {
          "color": "#4D5663"
         },
         "title": {
          "font": {
           "color": "#4D5663"
          },
          "text": ""
         },
         "zerolinecolor": "#E1E5ED"
        },
        "yaxis2": {
         "domain": [
          0,
          0.25
         ],
         "gridcolor": "#E1E5ED",
         "showgrid": true,
         "tickfont": {
          "color": "#4D5663"
         },
         "title": {
          "font": {
           "color": "#4D5663"
          },
          "text": "Spread"
         },
         "zerolinecolor": "#E1E5ED"
        }
       }
      },
      "text/html": [
       "<div>\n",
       "        \n",
       "        \n",
       "            <div id=\"642a1b1e-8e66-4818-b102-72d1467f671c\" class=\"plotly-graph-div\" style=\"height:525px; width:100%;\"></div>\n",
       "            <script type=\"text/javascript\">\n",
       "                require([\"plotly\"], function(Plotly) {\n",
       "                    window.PLOTLYENV=window.PLOTLYENV || {};\n",
       "                    window.PLOTLYENV.BASE_URL='https://plot.ly';\n",
       "                    \n",
       "                if (document.getElementById(\"642a1b1e-8e66-4818-b102-72d1467f671c\")) {\n",
       "                    Plotly.newPlot(\n",
       "                        '642a1b1e-8e66-4818-b102-72d1467f671c',\n",
       "                        [{\"line\": {\"color\": \"rgba(255, 153, 51, 1.0)\", \"dash\": \"solid\", \"shape\": \"linear\", \"width\": 1.3}, \"mode\": \"lines\", \"name\": \"A\", \"text\": \"\", \"type\": \"scatter\", \"x\": [0, 1, 2, 3, 4, 5, 6, 7, 8, 9, 10, 11, 12, 13, 14, 15, 16, 17, 18, 19, 20, 21, 22, 23, 24, 25, 26, 27, 28, 29, 30, 31, 32, 33, 34, 35, 36, 37, 38, 39, 40, 41, 42, 43, 44, 45, 46, 47, 48, 49, 50, 51, 52, 53, 54, 55, 56, 57, 58, 59, 60, 61, 62, 63, 64, 65, 66, 67, 68, 69, 70, 71, 72, 73, 74, 75, 76, 77, 78, 79, 80, 81, 82, 83, 84, 85, 86, 87, 88, 89, 90, 91, 92, 93, 94, 95, 96, 97, 98, 99], \"y\": [-2.3454141693589876, 0.6237775380275742, 0.5084665209175578, 1.0077383239871212, -1.596862641714782, -2.374942969830823, -1.3706328842809488, 1.3747352172717342, -0.7622432557064147, -1.9184039896950638, 1.5017960911885953, -0.7114451376865186, -0.29446634553217194, -1.4876954594826903, 0.6995466429849003, -0.9080622620621699, 0.0037148475874004623, -0.8606836096783335, 1.5500856254168882, 0.8681259238151428, -0.25157963103361447, -0.6950867661351647, -1.2977326913712255, 1.0792884415738364, 1.9215810061890053, 1.6391562586670962, 0.8532070522380638, 0.9960034559394392, 1.0384819480958472, -0.4416790016043128, 0.6272585044640208, 1.6568382627476808, 0.17604804120284398, -0.12173009136600939, 1.786145195510604, 1.0620956079199924, -1.6487794157955151, 0.5134853837511637, -0.09341126386297298, 0.5748210842959969, -0.34773144268786665, 1.4495352760328146, 0.55589609988229, -0.19407908794453177, 1.954553549389376, -1.4401496294154514, -1.687016031719059, 0.9152212524783871, -0.9701130342584917, 0.2781872419962723, -0.42465351126078166, 0.21363104414796674, 0.6798391516567996, -0.21693900500613778, 1.1253269510990103, -0.4364919033627248, 0.5070307915178102, -0.6938482394362632, -1.4709020923143088, -0.3005468309159597, 0.10117735963741527, -0.2739784055963156, -1.592983100175776, -0.7550289749943683, -1.8804241568882007, 0.09895966465769129, 1.280991037813301, 0.18446847622744528, 2.514156053080135, 0.887922034620755, 0.22026729871991257, -0.058148079602631304, 0.11519546694262874, 1.3733167398735402, 0.7719722757739921, -0.11131557918308087, 0.12928439944667708, 0.656916890088794, 1.2254282520039692, -2.3574405969002927, 0.520182684697464, 0.49226230720825487, -0.2946532839128033, 1.5850905733271186, -0.4894593363475711, 2.6413792649821013, 0.13735097170865115, -0.9828018800837163, 0.13801858167033576, -0.6215647789215498, -0.15010559951578073, 0.39313077400096924, -0.9745423404621509, -0.41287483235514105, 1.406315163167479, 0.13788703768854482, 1.2731159007446353, -0.2163497464314463, 1.0853126714886798, 0.5353673129325547]}, {\"line\": {\"color\": \"rgba(55, 128, 191, 1.0)\", \"dash\": \"solid\", \"shape\": \"linear\", \"width\": 1.3}, \"mode\": \"lines\", \"name\": \"B\", \"text\": \"\", \"type\": \"scatter\", \"x\": [0, 1, 2, 3, 4, 5, 6, 7, 8, 9, 10, 11, 12, 13, 14, 15, 16, 17, 18, 19, 20, 21, 22, 23, 24, 25, 26, 27, 28, 29, 30, 31, 32, 33, 34, 35, 36, 37, 38, 39, 40, 41, 42, 43, 44, 45, 46, 47, 48, 49, 50, 51, 52, 53, 54, 55, 56, 57, 58, 59, 60, 61, 62, 63, 64, 65, 66, 67, 68, 69, 70, 71, 72, 73, 74, 75, 76, 77, 78, 79, 80, 81, 82, 83, 84, 85, 86, 87, 88, 89, 90, 91, 92, 93, 94, 95, 96, 97, 98, 99], \"y\": [-1.2116920522282546, -2.4182256642840154, -0.4467089062786822, -1.9392425928013934, 0.9457088641174468, -1.4107952784259432, 0.7722514959948863, -0.45758893217485086, -1.3697226133349176, -2.046223214968447, -0.9579602434170336, 1.4299651060248795, 0.6747291885765265, -2.446185003930176, -0.4786337657758917, -0.4937053710053525, 0.2403915067061822, 0.1756572084243671, -0.9455598067160645, -0.056992586205770676, 1.0699334051439484, 1.673208526089509, -0.6395578941823503, 0.25843104956249363, 0.9463770770249402, -1.173249590196306, -1.3898254730875272, -1.9485443421261375, -0.7990195508075936, -0.31886903775938763, -0.08574570155079406, 1.3516886194648055, 2.2149074403731497, -0.7949499836639242, 0.6349268210678864, -1.2078356601723703, 0.3787942389731917, -0.6891367639313457, 1.3739612750682195, 1.049897380525511, -0.018372121788850865, -0.2245124095889812, -1.1217196388681876, 0.13626183916315088, 0.7831733334090794, -0.29080499799221227, 0.4448251856275786, 1.146475088094464, -0.3875437175635493, -1.619961941950166, 1.9877975354122728, 0.3112587438792633, -1.0975621453609536, 1.3884885691095525, -2.253520984677293, 0.8172734212747151, 0.6798692585838515, 0.9418421759704245, -1.3652789631659974, 1.2276374079163535, -0.948723105258126, 1.2325710575478996, 1.6427249926188614, -0.008728784354691151, 1.5770304307221095, -0.9423567084179673, 0.36669310906068375, 1.4950786618013892, 0.04239700440360714, 0.7492246927132604, 0.9362248498051818, -1.0210447539510035, -0.557769626378885, 0.8585655547526226, 0.5500178298829814, 0.49205297793010305, -1.8099585130722016, 0.6170410700662037, 0.4698120642968544, 0.6243133179356815, -0.23817960494236465, -1.5594009134291225, -1.1132549789519153, 0.037206911943428185, -0.44926998300567894, -0.7848515495976766, 0.1280030808290587, 0.7618062697149731, -1.2480442658733897, -0.5126732212013174, -1.8977786099295044, 0.9258361552336678, 0.17023070984428282, 0.5668693240350743, -1.2976881194121161, -0.2908984427086773, -0.32529334782616276, 2.208923211463274, -0.3527371000449035, 0.017930464472224805]}, {\"connectgaps\": false, \"fill\": \"tozeroy\", \"line\": {\"color\": \"green\", \"dash\": \"solid\", \"shape\": \"linear\", \"width\": 0.5}, \"mode\": \"lines\", \"name\": \"Spread\", \"showlegend\": false, \"type\": \"scatter\", \"x\": [0, 1, 2, 3, 4, 5, 6, 7, 8, 9, 10, 11, 12, 13, 14, 15, 16, 17, 18, 19, 20, 21, 22, 23, 24, 25, 26, 27, 28, 29, 30, 31, 32, 33, 34, 35, 36, 37, 38, 39, 40, 41, 42, 43, 44, 45, 46, 47, 48, 49, 50, 51, 52, 53, 54, 55, 56, 57, 58, 59, 60, 61, 62, 63, 64, 65, 66, 67, 68, 69, 70, 71, 72, 73, 74, 75, 76, 77, 78, 79, 80, 81, 82, 83, 84, 85, 86, 87, 88, 89, 90, 91, 92, 93, 94, 95, 96, 97, 98, 99], \"xaxis\": \"x2\", \"y\": [\"\", 3.0420032023115895, 0.95517542719624, 2.9469809167885144, \"\", \"\", \"\", 1.8323241494465852, 0.6074793576285029, 0.12781922527338319, 2.459756334605629, \"\", \"\", 0.9584895444474857, 1.178180408760792, \"\", \"\", \"\", 2.4956454321329526, 0.9251185100209134, \"\", \"\", \"\", 0.8208573920113428, 0.9752039291640651, 2.8124058488634023, 2.243032525325591, 2.9445477980655768, 1.8375014989034408, \"\", 0.7130042060148148, 0.3051496432828753, \"\", 0.6732198922979148, 1.1512183744427176, 2.2699312680923627, \"\", 1.2026221476825094, \"\", \"\", \"\", 1.6740476856217958, 1.6776157387504775, \"\", 1.1713802159802966, \"\", \"\", \"\", \"\", 1.8981491839464384, \"\", \"\", 1.7774012970177533, \"\", 3.378847935776303, \"\", \"\", \"\", \"\", \"\", 1.0499004648955412, \"\", \"\", \"\", \"\", 1.0413163730756585, 0.9142979287526172, \"\", 2.4717590486765277, 0.1386973419074946, \"\", 0.9628966743483721, 0.6729650933215138, 0.5147511851209176, 0.22195444589101065, \"\", 1.9392429125188786, 0.03987582002259027, 0.7556161877071148, \"\", 0.7583622896398287, 2.0516632206373773, 0.818601695039112, 1.5478836613836904, \"\", 3.4262308145797777, 0.009347890879592452, \"\", 1.3860628475437253, \"\", 1.7476730104137237, \"\", \"\", \"\", 2.7040032825795954, 0.42878548039722214, 1.5984092485707981, \"\", 1.4380497715335834, 0.5174368484603299], \"yaxis\": \"y2\"}, {\"connectgaps\": false, \"fill\": \"tozeroy\", \"line\": {\"color\": \"red\", \"dash\": \"solid\", \"shape\": \"linear\", \"width\": 0.5}, \"mode\": \"lines\", \"name\": \"Spread\", \"showlegend\": false, \"type\": \"scatter\", \"x\": [0, 1, 2, 3, 4, 5, 6, 7, 8, 9, 10, 11, 12, 13, 14, 15, 16, 17, 18, 19, 20, 21, 22, 23, 24, 25, 26, 27, 28, 29, 30, 31, 32, 33, 34, 35, 36, 37, 38, 39, 40, 41, 42, 43, 44, 45, 46, 47, 48, 49, 50, 51, 52, 53, 54, 55, 56, 57, 58, 59, 60, 61, 62, 63, 64, 65, 66, 67, 68, 69, 70, 71, 72, 73, 74, 75, 76, 77, 78, 79, 80, 81, 82, 83, 84, 85, 86, 87, 88, 89, 90, 91, 92, 93, 94, 95, 96, 97, 98, 99], \"xaxis\": \"x2\", \"y\": [-1.133722117130733, \"\", \"\", \"\", -2.5425715058322287, -0.9641476914048799, -2.1428843802758353, \"\", \"\", \"\", \"\", -2.141410243711398, -0.9691955341086984, \"\", \"\", -0.4143568910568174, -0.23667665911878175, -1.0363408181027005, \"\", \"\", -1.3215130361775629, -2.3682952922246736, -0.6581747971888752, \"\", \"\", \"\", \"\", \"\", \"\", -0.12280996384492515, \"\", \"\", -2.0388593991703057, \"\", \"\", \"\", -2.0275736547687067, \"\", -1.4673725389311925, -0.4750762962295141, -0.32935932089901576, \"\", \"\", -0.33034092710768265, \"\", -1.1493446314232392, -2.1318412173466377, -0.23125383561607693, -0.5825693166949424, \"\", -2.4124510466730547, -0.09762769973129654, \"\", -1.6054275741156903, \"\", -1.25376532463744, -0.17283846706604133, -1.6356904154066876, -0.1056231291483114, -1.528184238832313, \"\", -1.5065494631442151, -3.2357080927946376, -0.7463001906396771, -3.45745458761031, \"\", \"\", -1.3106101855739438, \"\", \"\", -0.7159575510852693, \"\", \"\", \"\", \"\", -0.6033685571131839, \"\", \"\", \"\", -2.9817539148359744, \"\", \"\", \"\", \"\", -0.040189353341892164, \"\", \"\", -1.7446081497986894, \"\", -0.1088915577202324, \"\", -0.5327053812326985, -1.1447730503064337, -0.9797441563902154, \"\", \"\", \"\", -2.42527295789472, \"\", \"\"], \"yaxis\": \"y2\"}],\n",
       "                        {\"hovermode\": \"x\", \"legend\": {\"bgcolor\": \"#F5F6F9\", \"font\": {\"color\": \"#4D5663\"}}, \"paper_bgcolor\": \"#F5F6F9\", \"plot_bgcolor\": \"#F5F6F9\", \"template\": {\"data\": {\"bar\": [{\"error_x\": {\"color\": \"#2a3f5f\"}, \"error_y\": {\"color\": \"#2a3f5f\"}, \"marker\": {\"line\": {\"color\": \"#E5ECF6\", \"width\": 0.5}}, \"type\": \"bar\"}], \"barpolar\": [{\"marker\": {\"line\": {\"color\": \"#E5ECF6\", \"width\": 0.5}}, \"type\": \"barpolar\"}], \"carpet\": [{\"aaxis\": {\"endlinecolor\": \"#2a3f5f\", \"gridcolor\": \"white\", \"linecolor\": \"white\", \"minorgridcolor\": \"white\", \"startlinecolor\": \"#2a3f5f\"}, \"baxis\": {\"endlinecolor\": \"#2a3f5f\", \"gridcolor\": \"white\", \"linecolor\": \"white\", \"minorgridcolor\": \"white\", \"startlinecolor\": \"#2a3f5f\"}, \"type\": \"carpet\"}], \"choropleth\": [{\"colorbar\": {\"outlinewidth\": 0, \"ticks\": \"\"}, \"type\": \"choropleth\"}], \"contour\": [{\"colorbar\": {\"outlinewidth\": 0, \"ticks\": \"\"}, \"colorscale\": [[0.0, \"#0d0887\"], [0.1111111111111111, \"#46039f\"], [0.2222222222222222, \"#7201a8\"], [0.3333333333333333, \"#9c179e\"], [0.4444444444444444, \"#bd3786\"], [0.5555555555555556, \"#d8576b\"], [0.6666666666666666, \"#ed7953\"], [0.7777777777777778, \"#fb9f3a\"], [0.8888888888888888, \"#fdca26\"], [1.0, \"#f0f921\"]], \"type\": \"contour\"}], \"contourcarpet\": [{\"colorbar\": {\"outlinewidth\": 0, \"ticks\": \"\"}, \"type\": \"contourcarpet\"}], \"heatmap\": [{\"colorbar\": {\"outlinewidth\": 0, \"ticks\": \"\"}, \"colorscale\": [[0.0, \"#0d0887\"], [0.1111111111111111, \"#46039f\"], [0.2222222222222222, \"#7201a8\"], [0.3333333333333333, \"#9c179e\"], [0.4444444444444444, \"#bd3786\"], [0.5555555555555556, \"#d8576b\"], [0.6666666666666666, \"#ed7953\"], [0.7777777777777778, \"#fb9f3a\"], [0.8888888888888888, \"#fdca26\"], [1.0, \"#f0f921\"]], \"type\": \"heatmap\"}], \"heatmapgl\": [{\"colorbar\": {\"outlinewidth\": 0, \"ticks\": \"\"}, \"colorscale\": [[0.0, \"#0d0887\"], [0.1111111111111111, \"#46039f\"], [0.2222222222222222, \"#7201a8\"], [0.3333333333333333, \"#9c179e\"], [0.4444444444444444, \"#bd3786\"], [0.5555555555555556, \"#d8576b\"], [0.6666666666666666, \"#ed7953\"], [0.7777777777777778, \"#fb9f3a\"], [0.8888888888888888, \"#fdca26\"], [1.0, \"#f0f921\"]], \"type\": \"heatmapgl\"}], \"histogram\": [{\"marker\": {\"colorbar\": {\"outlinewidth\": 0, \"ticks\": \"\"}}, \"type\": \"histogram\"}], \"histogram2d\": [{\"colorbar\": {\"outlinewidth\": 0, \"ticks\": \"\"}, \"colorscale\": [[0.0, \"#0d0887\"], [0.1111111111111111, \"#46039f\"], [0.2222222222222222, \"#7201a8\"], [0.3333333333333333, \"#9c179e\"], [0.4444444444444444, \"#bd3786\"], [0.5555555555555556, \"#d8576b\"], [0.6666666666666666, \"#ed7953\"], [0.7777777777777778, \"#fb9f3a\"], [0.8888888888888888, \"#fdca26\"], [1.0, \"#f0f921\"]], \"type\": \"histogram2d\"}], \"histogram2dcontour\": [{\"colorbar\": {\"outlinewidth\": 0, \"ticks\": \"\"}, \"colorscale\": [[0.0, \"#0d0887\"], [0.1111111111111111, \"#46039f\"], [0.2222222222222222, \"#7201a8\"], [0.3333333333333333, \"#9c179e\"], [0.4444444444444444, \"#bd3786\"], [0.5555555555555556, \"#d8576b\"], [0.6666666666666666, \"#ed7953\"], [0.7777777777777778, \"#fb9f3a\"], [0.8888888888888888, \"#fdca26\"], [1.0, \"#f0f921\"]], \"type\": \"histogram2dcontour\"}], \"mesh3d\": [{\"colorbar\": {\"outlinewidth\": 0, \"ticks\": \"\"}, \"type\": \"mesh3d\"}], \"parcoords\": [{\"line\": {\"colorbar\": {\"outlinewidth\": 0, \"ticks\": \"\"}}, \"type\": \"parcoords\"}], \"pie\": [{\"automargin\": true, \"type\": \"pie\"}], \"scatter\": [{\"marker\": {\"colorbar\": {\"outlinewidth\": 0, \"ticks\": \"\"}}, \"type\": \"scatter\"}], \"scatter3d\": [{\"line\": {\"colorbar\": {\"outlinewidth\": 0, \"ticks\": \"\"}}, \"marker\": {\"colorbar\": {\"outlinewidth\": 0, \"ticks\": \"\"}}, \"type\": \"scatter3d\"}], \"scattercarpet\": [{\"marker\": {\"colorbar\": {\"outlinewidth\": 0, \"ticks\": \"\"}}, \"type\": \"scattercarpet\"}], \"scattergeo\": [{\"marker\": {\"colorbar\": {\"outlinewidth\": 0, \"ticks\": \"\"}}, \"type\": \"scattergeo\"}], \"scattergl\": [{\"marker\": {\"colorbar\": {\"outlinewidth\": 0, \"ticks\": \"\"}}, \"type\": \"scattergl\"}], \"scattermapbox\": [{\"marker\": {\"colorbar\": {\"outlinewidth\": 0, \"ticks\": \"\"}}, \"type\": \"scattermapbox\"}], \"scatterpolar\": [{\"marker\": {\"colorbar\": {\"outlinewidth\": 0, \"ticks\": \"\"}}, \"type\": \"scatterpolar\"}], \"scatterpolargl\": [{\"marker\": {\"colorbar\": {\"outlinewidth\": 0, \"ticks\": \"\"}}, \"type\": \"scatterpolargl\"}], \"scatterternary\": [{\"marker\": {\"colorbar\": {\"outlinewidth\": 0, \"ticks\": \"\"}}, \"type\": \"scatterternary\"}], \"surface\": [{\"colorbar\": {\"outlinewidth\": 0, \"ticks\": \"\"}, \"colorscale\": [[0.0, \"#0d0887\"], [0.1111111111111111, \"#46039f\"], [0.2222222222222222, \"#7201a8\"], [0.3333333333333333, \"#9c179e\"], [0.4444444444444444, \"#bd3786\"], [0.5555555555555556, \"#d8576b\"], [0.6666666666666666, \"#ed7953\"], [0.7777777777777778, \"#fb9f3a\"], [0.8888888888888888, \"#fdca26\"], [1.0, \"#f0f921\"]], \"type\": \"surface\"}], \"table\": [{\"cells\": {\"fill\": {\"color\": \"#EBF0F8\"}, \"line\": {\"color\": \"white\"}}, \"header\": {\"fill\": {\"color\": \"#C8D4E3\"}, \"line\": {\"color\": \"white\"}}, \"type\": \"table\"}]}, \"layout\": {\"annotationdefaults\": {\"arrowcolor\": \"#2a3f5f\", \"arrowhead\": 0, \"arrowwidth\": 1}, \"coloraxis\": {\"colorbar\": {\"outlinewidth\": 0, \"ticks\": \"\"}}, \"colorscale\": {\"diverging\": [[0, \"#8e0152\"], [0.1, \"#c51b7d\"], [0.2, \"#de77ae\"], [0.3, \"#f1b6da\"], [0.4, \"#fde0ef\"], [0.5, \"#f7f7f7\"], [0.6, \"#e6f5d0\"], [0.7, \"#b8e186\"], [0.8, \"#7fbc41\"], [0.9, \"#4d9221\"], [1, \"#276419\"]], \"sequential\": [[0.0, \"#0d0887\"], [0.1111111111111111, \"#46039f\"], [0.2222222222222222, \"#7201a8\"], [0.3333333333333333, \"#9c179e\"], [0.4444444444444444, \"#bd3786\"], [0.5555555555555556, \"#d8576b\"], [0.6666666666666666, \"#ed7953\"], [0.7777777777777778, \"#fb9f3a\"], [0.8888888888888888, \"#fdca26\"], [1.0, \"#f0f921\"]], \"sequentialminus\": [[0.0, \"#0d0887\"], [0.1111111111111111, \"#46039f\"], [0.2222222222222222, \"#7201a8\"], [0.3333333333333333, \"#9c179e\"], [0.4444444444444444, \"#bd3786\"], [0.5555555555555556, \"#d8576b\"], [0.6666666666666666, \"#ed7953\"], [0.7777777777777778, \"#fb9f3a\"], [0.8888888888888888, \"#fdca26\"], [1.0, \"#f0f921\"]]}, \"colorway\": [\"#636efa\", \"#EF553B\", \"#00cc96\", \"#ab63fa\", \"#FFA15A\", \"#19d3f3\", \"#FF6692\", \"#B6E880\", \"#FF97FF\", \"#FECB52\"], \"font\": {\"color\": \"#2a3f5f\"}, \"geo\": {\"bgcolor\": \"white\", \"lakecolor\": \"white\", \"landcolor\": \"#E5ECF6\", \"showlakes\": true, \"showland\": true, \"subunitcolor\": \"white\"}, \"hoverlabel\": {\"align\": \"left\"}, \"hovermode\": \"closest\", \"mapbox\": {\"style\": \"light\"}, \"paper_bgcolor\": \"white\", \"plot_bgcolor\": \"#E5ECF6\", \"polar\": {\"angularaxis\": {\"gridcolor\": \"white\", \"linecolor\": \"white\", \"ticks\": \"\"}, \"bgcolor\": \"#E5ECF6\", \"radialaxis\": {\"gridcolor\": \"white\", \"linecolor\": \"white\", \"ticks\": \"\"}}, \"scene\": {\"xaxis\": {\"backgroundcolor\": \"#E5ECF6\", \"gridcolor\": \"white\", \"gridwidth\": 2, \"linecolor\": \"white\", \"showbackground\": true, \"ticks\": \"\", \"zerolinecolor\": \"white\"}, \"yaxis\": {\"backgroundcolor\": \"#E5ECF6\", \"gridcolor\": \"white\", \"gridwidth\": 2, \"linecolor\": \"white\", \"showbackground\": true, \"ticks\": \"\", \"zerolinecolor\": \"white\"}, \"zaxis\": {\"backgroundcolor\": \"#E5ECF6\", \"gridcolor\": \"white\", \"gridwidth\": 2, \"linecolor\": \"white\", \"showbackground\": true, \"ticks\": \"\", \"zerolinecolor\": \"white\"}}, \"shapedefaults\": {\"line\": {\"color\": \"#2a3f5f\"}}, \"ternary\": {\"aaxis\": {\"gridcolor\": \"white\", \"linecolor\": \"white\", \"ticks\": \"\"}, \"baxis\": {\"gridcolor\": \"white\", \"linecolor\": \"white\", \"ticks\": \"\"}, \"bgcolor\": \"#E5ECF6\", \"caxis\": {\"gridcolor\": \"white\", \"linecolor\": \"white\", \"ticks\": \"\"}}, \"title\": {\"x\": 0.05}, \"xaxis\": {\"automargin\": true, \"gridcolor\": \"white\", \"linecolor\": \"white\", \"ticks\": \"\", \"title\": {\"standoff\": 15}, \"zerolinecolor\": \"white\", \"zerolinewidth\": 2}, \"yaxis\": {\"automargin\": true, \"gridcolor\": \"white\", \"linecolor\": \"white\", \"ticks\": \"\", \"title\": {\"standoff\": 15}, \"zerolinecolor\": \"white\", \"zerolinewidth\": 2}}}, \"title\": {\"font\": {\"color\": \"#4D5663\"}}, \"xaxis\": {\"gridcolor\": \"#E1E5ED\", \"showgrid\": true, \"tickfont\": {\"color\": \"#4D5663\"}, \"title\": {\"font\": {\"color\": \"#4D5663\"}, \"text\": \"\"}, \"zerolinecolor\": \"#E1E5ED\"}, \"xaxis2\": {\"anchor\": \"y2\", \"gridcolor\": \"#E1E5ED\", \"showgrid\": true, \"showticklabels\": false, \"tickfont\": {\"color\": \"#4D5663\"}, \"title\": {\"font\": {\"color\": \"#4D5663\"}, \"text\": \"\"}, \"zerolinecolor\": \"#E1E5ED\"}, \"yaxis\": {\"domain\": [0.3, 1], \"gridcolor\": \"#E1E5ED\", \"showgrid\": true, \"tickfont\": {\"color\": \"#4D5663\"}, \"title\": {\"font\": {\"color\": \"#4D5663\"}, \"text\": \"\"}, \"zerolinecolor\": \"#E1E5ED\"}, \"yaxis2\": {\"domain\": [0, 0.25], \"gridcolor\": \"#E1E5ED\", \"showgrid\": true, \"tickfont\": {\"color\": \"#4D5663\"}, \"title\": {\"font\": {\"color\": \"#4D5663\"}, \"text\": \"Spread\"}, \"zerolinecolor\": \"#E1E5ED\"}},\n",
       "                        {\"showLink\": true, \"linkText\": \"Export to plot.ly\", \"plotlyServerURL\": \"https://plot.ly\", \"responsive\": true}\n",
       "                    ).then(function(){\n",
       "                            \n",
       "var gd = document.getElementById('642a1b1e-8e66-4818-b102-72d1467f671c');\n",
       "var x = new MutationObserver(function (mutations, observer) {{\n",
       "        var display = window.getComputedStyle(gd).display;\n",
       "        if (!display || display === 'none') {{\n",
       "            console.log([gd, 'removed!']);\n",
       "            Plotly.purge(gd);\n",
       "            observer.disconnect();\n",
       "        }}\n",
       "}});\n",
       "\n",
       "// Listen for the removal of the full notebook cells\n",
       "var notebookContainer = gd.closest('#notebook-container');\n",
       "if (notebookContainer) {{\n",
       "    x.observe(notebookContainer, {childList: true});\n",
       "}}\n",
       "\n",
       "// Listen for the clearing of the current output cell\n",
       "var outputEl = gd.closest('.output');\n",
       "if (outputEl) {{\n",
       "    x.observe(outputEl, {childList: true});\n",
       "}}\n",
       "\n",
       "                        })\n",
       "                };\n",
       "                });\n",
       "            </script>\n",
       "        </div>"
      ]
     },
     "metadata": {},
     "output_type": "display_data"
    }
   ],
   "source": [
    "df[['A','B']].iplot(kind='spread')"
   ]
  },
  {
   "cell_type": "markdown",
   "metadata": {},
   "source": [
    "## histogram"
   ]
  },
  {
   "cell_type": "code",
   "execution_count": 18,
   "metadata": {},
   "outputs": [
    {
     "data": {
      "application/vnd.plotly.v1+json": {
       "config": {
        "linkText": "Export to plot.ly",
        "plotlyServerURL": "https://plot.ly",
        "showLink": true
       },
       "data": [
        {
         "histfunc": "count",
         "histnorm": "",
         "marker": {
          "color": "rgba(255, 153, 51, 1.0)",
          "line": {
           "color": "#4D5663",
           "width": 1.3
          }
         },
         "name": "A",
         "nbinsx": 25,
         "opacity": 0.8,
         "orientation": "v",
         "type": "histogram",
         "x": [
          -2.3454141693589876,
          0.6237775380275742,
          0.5084665209175578,
          1.0077383239871212,
          -1.596862641714782,
          -2.374942969830823,
          -1.3706328842809488,
          1.3747352172717342,
          -0.7622432557064147,
          -1.9184039896950638,
          1.5017960911885953,
          -0.7114451376865186,
          -0.29446634553217194,
          -1.4876954594826903,
          0.6995466429849003,
          -0.9080622620621699,
          0.0037148475874004623,
          -0.8606836096783335,
          1.5500856254168882,
          0.8681259238151428,
          -0.25157963103361447,
          -0.6950867661351647,
          -1.2977326913712255,
          1.0792884415738364,
          1.9215810061890053,
          1.6391562586670962,
          0.8532070522380638,
          0.9960034559394392,
          1.0384819480958472,
          -0.4416790016043128,
          0.6272585044640208,
          1.6568382627476808,
          0.17604804120284398,
          -0.12173009136600939,
          1.786145195510604,
          1.0620956079199924,
          -1.6487794157955151,
          0.5134853837511637,
          -0.09341126386297298,
          0.5748210842959969,
          -0.34773144268786665,
          1.4495352760328146,
          0.55589609988229,
          -0.19407908794453177,
          1.954553549389376,
          -1.4401496294154514,
          -1.687016031719059,
          0.9152212524783871,
          -0.9701130342584917,
          0.2781872419962723,
          -0.42465351126078166,
          0.21363104414796674,
          0.6798391516567996,
          -0.21693900500613778,
          1.1253269510990103,
          -0.4364919033627248,
          0.5070307915178102,
          -0.6938482394362632,
          -1.4709020923143088,
          -0.3005468309159597,
          0.10117735963741527,
          -0.2739784055963156,
          -1.592983100175776,
          -0.7550289749943683,
          -1.8804241568882007,
          0.09895966465769129,
          1.280991037813301,
          0.18446847622744528,
          2.514156053080135,
          0.887922034620755,
          0.22026729871991257,
          -0.058148079602631304,
          0.11519546694262874,
          1.3733167398735402,
          0.7719722757739921,
          -0.11131557918308087,
          0.12928439944667708,
          0.656916890088794,
          1.2254282520039692,
          -2.3574405969002927,
          0.520182684697464,
          0.49226230720825487,
          -0.2946532839128033,
          1.5850905733271186,
          -0.4894593363475711,
          2.6413792649821013,
          0.13735097170865115,
          -0.9828018800837163,
          0.13801858167033576,
          -0.6215647789215498,
          -0.15010559951578073,
          0.39313077400096924,
          -0.9745423404621509,
          -0.41287483235514105,
          1.406315163167479,
          0.13788703768854482,
          1.2731159007446353,
          -0.2163497464314463,
          1.0853126714886798,
          0.5353673129325547
         ]
        }
       ],
       "layout": {
        "barmode": "overlay",
        "legend": {
         "bgcolor": "#F5F6F9",
         "font": {
          "color": "#4D5663"
         }
        },
        "paper_bgcolor": "#F5F6F9",
        "plot_bgcolor": "#F5F6F9",
        "template": {
         "data": {
          "bar": [
           {
            "error_x": {
             "color": "#2a3f5f"
            },
            "error_y": {
             "color": "#2a3f5f"
            },
            "marker": {
             "line": {
              "color": "#E5ECF6",
              "width": 0.5
             }
            },
            "type": "bar"
           }
          ],
          "barpolar": [
           {
            "marker": {
             "line": {
              "color": "#E5ECF6",
              "width": 0.5
             }
            },
            "type": "barpolar"
           }
          ],
          "carpet": [
           {
            "aaxis": {
             "endlinecolor": "#2a3f5f",
             "gridcolor": "white",
             "linecolor": "white",
             "minorgridcolor": "white",
             "startlinecolor": "#2a3f5f"
            },
            "baxis": {
             "endlinecolor": "#2a3f5f",
             "gridcolor": "white",
             "linecolor": "white",
             "minorgridcolor": "white",
             "startlinecolor": "#2a3f5f"
            },
            "type": "carpet"
           }
          ],
          "choropleth": [
           {
            "colorbar": {
             "outlinewidth": 0,
             "ticks": ""
            },
            "type": "choropleth"
           }
          ],
          "contour": [
           {
            "colorbar": {
             "outlinewidth": 0,
             "ticks": ""
            },
            "colorscale": [
             [
              0,
              "#0d0887"
             ],
             [
              0.1111111111111111,
              "#46039f"
             ],
             [
              0.2222222222222222,
              "#7201a8"
             ],
             [
              0.3333333333333333,
              "#9c179e"
             ],
             [
              0.4444444444444444,
              "#bd3786"
             ],
             [
              0.5555555555555556,
              "#d8576b"
             ],
             [
              0.6666666666666666,
              "#ed7953"
             ],
             [
              0.7777777777777778,
              "#fb9f3a"
             ],
             [
              0.8888888888888888,
              "#fdca26"
             ],
             [
              1,
              "#f0f921"
             ]
            ],
            "type": "contour"
           }
          ],
          "contourcarpet": [
           {
            "colorbar": {
             "outlinewidth": 0,
             "ticks": ""
            },
            "type": "contourcarpet"
           }
          ],
          "heatmap": [
           {
            "colorbar": {
             "outlinewidth": 0,
             "ticks": ""
            },
            "colorscale": [
             [
              0,
              "#0d0887"
             ],
             [
              0.1111111111111111,
              "#46039f"
             ],
             [
              0.2222222222222222,
              "#7201a8"
             ],
             [
              0.3333333333333333,
              "#9c179e"
             ],
             [
              0.4444444444444444,
              "#bd3786"
             ],
             [
              0.5555555555555556,
              "#d8576b"
             ],
             [
              0.6666666666666666,
              "#ed7953"
             ],
             [
              0.7777777777777778,
              "#fb9f3a"
             ],
             [
              0.8888888888888888,
              "#fdca26"
             ],
             [
              1,
              "#f0f921"
             ]
            ],
            "type": "heatmap"
           }
          ],
          "heatmapgl": [
           {
            "colorbar": {
             "outlinewidth": 0,
             "ticks": ""
            },
            "colorscale": [
             [
              0,
              "#0d0887"
             ],
             [
              0.1111111111111111,
              "#46039f"
             ],
             [
              0.2222222222222222,
              "#7201a8"
             ],
             [
              0.3333333333333333,
              "#9c179e"
             ],
             [
              0.4444444444444444,
              "#bd3786"
             ],
             [
              0.5555555555555556,
              "#d8576b"
             ],
             [
              0.6666666666666666,
              "#ed7953"
             ],
             [
              0.7777777777777778,
              "#fb9f3a"
             ],
             [
              0.8888888888888888,
              "#fdca26"
             ],
             [
              1,
              "#f0f921"
             ]
            ],
            "type": "heatmapgl"
           }
          ],
          "histogram": [
           {
            "marker": {
             "colorbar": {
              "outlinewidth": 0,
              "ticks": ""
             }
            },
            "type": "histogram"
           }
          ],
          "histogram2d": [
           {
            "colorbar": {
             "outlinewidth": 0,
             "ticks": ""
            },
            "colorscale": [
             [
              0,
              "#0d0887"
             ],
             [
              0.1111111111111111,
              "#46039f"
             ],
             [
              0.2222222222222222,
              "#7201a8"
             ],
             [
              0.3333333333333333,
              "#9c179e"
             ],
             [
              0.4444444444444444,
              "#bd3786"
             ],
             [
              0.5555555555555556,
              "#d8576b"
             ],
             [
              0.6666666666666666,
              "#ed7953"
             ],
             [
              0.7777777777777778,
              "#fb9f3a"
             ],
             [
              0.8888888888888888,
              "#fdca26"
             ],
             [
              1,
              "#f0f921"
             ]
            ],
            "type": "histogram2d"
           }
          ],
          "histogram2dcontour": [
           {
            "colorbar": {
             "outlinewidth": 0,
             "ticks": ""
            },
            "colorscale": [
             [
              0,
              "#0d0887"
             ],
             [
              0.1111111111111111,
              "#46039f"
             ],
             [
              0.2222222222222222,
              "#7201a8"
             ],
             [
              0.3333333333333333,
              "#9c179e"
             ],
             [
              0.4444444444444444,
              "#bd3786"
             ],
             [
              0.5555555555555556,
              "#d8576b"
             ],
             [
              0.6666666666666666,
              "#ed7953"
             ],
             [
              0.7777777777777778,
              "#fb9f3a"
             ],
             [
              0.8888888888888888,
              "#fdca26"
             ],
             [
              1,
              "#f0f921"
             ]
            ],
            "type": "histogram2dcontour"
           }
          ],
          "mesh3d": [
           {
            "colorbar": {
             "outlinewidth": 0,
             "ticks": ""
            },
            "type": "mesh3d"
           }
          ],
          "parcoords": [
           {
            "line": {
             "colorbar": {
              "outlinewidth": 0,
              "ticks": ""
             }
            },
            "type": "parcoords"
           }
          ],
          "pie": [
           {
            "automargin": true,
            "type": "pie"
           }
          ],
          "scatter": [
           {
            "marker": {
             "colorbar": {
              "outlinewidth": 0,
              "ticks": ""
             }
            },
            "type": "scatter"
           }
          ],
          "scatter3d": [
           {
            "line": {
             "colorbar": {
              "outlinewidth": 0,
              "ticks": ""
             }
            },
            "marker": {
             "colorbar": {
              "outlinewidth": 0,
              "ticks": ""
             }
            },
            "type": "scatter3d"
           }
          ],
          "scattercarpet": [
           {
            "marker": {
             "colorbar": {
              "outlinewidth": 0,
              "ticks": ""
             }
            },
            "type": "scattercarpet"
           }
          ],
          "scattergeo": [
           {
            "marker": {
             "colorbar": {
              "outlinewidth": 0,
              "ticks": ""
             }
            },
            "type": "scattergeo"
           }
          ],
          "scattergl": [
           {
            "marker": {
             "colorbar": {
              "outlinewidth": 0,
              "ticks": ""
             }
            },
            "type": "scattergl"
           }
          ],
          "scattermapbox": [
           {
            "marker": {
             "colorbar": {
              "outlinewidth": 0,
              "ticks": ""
             }
            },
            "type": "scattermapbox"
           }
          ],
          "scatterpolar": [
           {
            "marker": {
             "colorbar": {
              "outlinewidth": 0,
              "ticks": ""
             }
            },
            "type": "scatterpolar"
           }
          ],
          "scatterpolargl": [
           {
            "marker": {
             "colorbar": {
              "outlinewidth": 0,
              "ticks": ""
             }
            },
            "type": "scatterpolargl"
           }
          ],
          "scatterternary": [
           {
            "marker": {
             "colorbar": {
              "outlinewidth": 0,
              "ticks": ""
             }
            },
            "type": "scatterternary"
           }
          ],
          "surface": [
           {
            "colorbar": {
             "outlinewidth": 0,
             "ticks": ""
            },
            "colorscale": [
             [
              0,
              "#0d0887"
             ],
             [
              0.1111111111111111,
              "#46039f"
             ],
             [
              0.2222222222222222,
              "#7201a8"
             ],
             [
              0.3333333333333333,
              "#9c179e"
             ],
             [
              0.4444444444444444,
              "#bd3786"
             ],
             [
              0.5555555555555556,
              "#d8576b"
             ],
             [
              0.6666666666666666,
              "#ed7953"
             ],
             [
              0.7777777777777778,
              "#fb9f3a"
             ],
             [
              0.8888888888888888,
              "#fdca26"
             ],
             [
              1,
              "#f0f921"
             ]
            ],
            "type": "surface"
           }
          ],
          "table": [
           {
            "cells": {
             "fill": {
              "color": "#EBF0F8"
             },
             "line": {
              "color": "white"
             }
            },
            "header": {
             "fill": {
              "color": "#C8D4E3"
             },
             "line": {
              "color": "white"
             }
            },
            "type": "table"
           }
          ]
         },
         "layout": {
          "annotationdefaults": {
           "arrowcolor": "#2a3f5f",
           "arrowhead": 0,
           "arrowwidth": 1
          },
          "coloraxis": {
           "colorbar": {
            "outlinewidth": 0,
            "ticks": ""
           }
          },
          "colorscale": {
           "diverging": [
            [
             0,
             "#8e0152"
            ],
            [
             0.1,
             "#c51b7d"
            ],
            [
             0.2,
             "#de77ae"
            ],
            [
             0.3,
             "#f1b6da"
            ],
            [
             0.4,
             "#fde0ef"
            ],
            [
             0.5,
             "#f7f7f7"
            ],
            [
             0.6,
             "#e6f5d0"
            ],
            [
             0.7,
             "#b8e186"
            ],
            [
             0.8,
             "#7fbc41"
            ],
            [
             0.9,
             "#4d9221"
            ],
            [
             1,
             "#276419"
            ]
           ],
           "sequential": [
            [
             0,
             "#0d0887"
            ],
            [
             0.1111111111111111,
             "#46039f"
            ],
            [
             0.2222222222222222,
             "#7201a8"
            ],
            [
             0.3333333333333333,
             "#9c179e"
            ],
            [
             0.4444444444444444,
             "#bd3786"
            ],
            [
             0.5555555555555556,
             "#d8576b"
            ],
            [
             0.6666666666666666,
             "#ed7953"
            ],
            [
             0.7777777777777778,
             "#fb9f3a"
            ],
            [
             0.8888888888888888,
             "#fdca26"
            ],
            [
             1,
             "#f0f921"
            ]
           ],
           "sequentialminus": [
            [
             0,
             "#0d0887"
            ],
            [
             0.1111111111111111,
             "#46039f"
            ],
            [
             0.2222222222222222,
             "#7201a8"
            ],
            [
             0.3333333333333333,
             "#9c179e"
            ],
            [
             0.4444444444444444,
             "#bd3786"
            ],
            [
             0.5555555555555556,
             "#d8576b"
            ],
            [
             0.6666666666666666,
             "#ed7953"
            ],
            [
             0.7777777777777778,
             "#fb9f3a"
            ],
            [
             0.8888888888888888,
             "#fdca26"
            ],
            [
             1,
             "#f0f921"
            ]
           ]
          },
          "colorway": [
           "#636efa",
           "#EF553B",
           "#00cc96",
           "#ab63fa",
           "#FFA15A",
           "#19d3f3",
           "#FF6692",
           "#B6E880",
           "#FF97FF",
           "#FECB52"
          ],
          "font": {
           "color": "#2a3f5f"
          },
          "geo": {
           "bgcolor": "white",
           "lakecolor": "white",
           "landcolor": "#E5ECF6",
           "showlakes": true,
           "showland": true,
           "subunitcolor": "white"
          },
          "hoverlabel": {
           "align": "left"
          },
          "hovermode": "closest",
          "mapbox": {
           "style": "light"
          },
          "paper_bgcolor": "white",
          "plot_bgcolor": "#E5ECF6",
          "polar": {
           "angularaxis": {
            "gridcolor": "white",
            "linecolor": "white",
            "ticks": ""
           },
           "bgcolor": "#E5ECF6",
           "radialaxis": {
            "gridcolor": "white",
            "linecolor": "white",
            "ticks": ""
           }
          },
          "scene": {
           "xaxis": {
            "backgroundcolor": "#E5ECF6",
            "gridcolor": "white",
            "gridwidth": 2,
            "linecolor": "white",
            "showbackground": true,
            "ticks": "",
            "zerolinecolor": "white"
           },
           "yaxis": {
            "backgroundcolor": "#E5ECF6",
            "gridcolor": "white",
            "gridwidth": 2,
            "linecolor": "white",
            "showbackground": true,
            "ticks": "",
            "zerolinecolor": "white"
           },
           "zaxis": {
            "backgroundcolor": "#E5ECF6",
            "gridcolor": "white",
            "gridwidth": 2,
            "linecolor": "white",
            "showbackground": true,
            "ticks": "",
            "zerolinecolor": "white"
           }
          },
          "shapedefaults": {
           "line": {
            "color": "#2a3f5f"
           }
          },
          "ternary": {
           "aaxis": {
            "gridcolor": "white",
            "linecolor": "white",
            "ticks": ""
           },
           "baxis": {
            "gridcolor": "white",
            "linecolor": "white",
            "ticks": ""
           },
           "bgcolor": "#E5ECF6",
           "caxis": {
            "gridcolor": "white",
            "linecolor": "white",
            "ticks": ""
           }
          },
          "title": {
           "x": 0.05
          },
          "xaxis": {
           "automargin": true,
           "gridcolor": "white",
           "linecolor": "white",
           "ticks": "",
           "title": {
            "standoff": 15
           },
           "zerolinecolor": "white",
           "zerolinewidth": 2
          },
          "yaxis": {
           "automargin": true,
           "gridcolor": "white",
           "linecolor": "white",
           "ticks": "",
           "title": {
            "standoff": 15
           },
           "zerolinecolor": "white",
           "zerolinewidth": 2
          }
         }
        },
        "title": {
         "font": {
          "color": "#4D5663"
         }
        },
        "xaxis": {
         "gridcolor": "#E1E5ED",
         "showgrid": true,
         "tickfont": {
          "color": "#4D5663"
         },
         "title": {
          "font": {
           "color": "#4D5663"
          },
          "text": ""
         },
         "zerolinecolor": "#E1E5ED"
        },
        "yaxis": {
         "gridcolor": "#E1E5ED",
         "showgrid": true,
         "tickfont": {
          "color": "#4D5663"
         },
         "title": {
          "font": {
           "color": "#4D5663"
          },
          "text": ""
         },
         "zerolinecolor": "#E1E5ED"
        }
       }
      },
      "text/html": [
       "<div>\n",
       "        \n",
       "        \n",
       "            <div id=\"fbac88b1-6599-4d72-81f9-1ead4ab236b1\" class=\"plotly-graph-div\" style=\"height:525px; width:100%;\"></div>\n",
       "            <script type=\"text/javascript\">\n",
       "                require([\"plotly\"], function(Plotly) {\n",
       "                    window.PLOTLYENV=window.PLOTLYENV || {};\n",
       "                    window.PLOTLYENV.BASE_URL='https://plot.ly';\n",
       "                    \n",
       "                if (document.getElementById(\"fbac88b1-6599-4d72-81f9-1ead4ab236b1\")) {\n",
       "                    Plotly.newPlot(\n",
       "                        'fbac88b1-6599-4d72-81f9-1ead4ab236b1',\n",
       "                        [{\"histfunc\": \"count\", \"histnorm\": \"\", \"marker\": {\"color\": \"rgba(255, 153, 51, 1.0)\", \"line\": {\"color\": \"#4D5663\", \"width\": 1.3}}, \"name\": \"A\", \"nbinsx\": 25, \"opacity\": 0.8, \"orientation\": \"v\", \"type\": \"histogram\", \"x\": [-2.3454141693589876, 0.6237775380275742, 0.5084665209175578, 1.0077383239871212, -1.596862641714782, -2.374942969830823, -1.3706328842809488, 1.3747352172717342, -0.7622432557064147, -1.9184039896950638, 1.5017960911885953, -0.7114451376865186, -0.29446634553217194, -1.4876954594826903, 0.6995466429849003, -0.9080622620621699, 0.0037148475874004623, -0.8606836096783335, 1.5500856254168882, 0.8681259238151428, -0.25157963103361447, -0.6950867661351647, -1.2977326913712255, 1.0792884415738364, 1.9215810061890053, 1.6391562586670962, 0.8532070522380638, 0.9960034559394392, 1.0384819480958472, -0.4416790016043128, 0.6272585044640208, 1.6568382627476808, 0.17604804120284398, -0.12173009136600939, 1.786145195510604, 1.0620956079199924, -1.6487794157955151, 0.5134853837511637, -0.09341126386297298, 0.5748210842959969, -0.34773144268786665, 1.4495352760328146, 0.55589609988229, -0.19407908794453177, 1.954553549389376, -1.4401496294154514, -1.687016031719059, 0.9152212524783871, -0.9701130342584917, 0.2781872419962723, -0.42465351126078166, 0.21363104414796674, 0.6798391516567996, -0.21693900500613778, 1.1253269510990103, -0.4364919033627248, 0.5070307915178102, -0.6938482394362632, -1.4709020923143088, -0.3005468309159597, 0.10117735963741527, -0.2739784055963156, -1.592983100175776, -0.7550289749943683, -1.8804241568882007, 0.09895966465769129, 1.280991037813301, 0.18446847622744528, 2.514156053080135, 0.887922034620755, 0.22026729871991257, -0.058148079602631304, 0.11519546694262874, 1.3733167398735402, 0.7719722757739921, -0.11131557918308087, 0.12928439944667708, 0.656916890088794, 1.2254282520039692, -2.3574405969002927, 0.520182684697464, 0.49226230720825487, -0.2946532839128033, 1.5850905733271186, -0.4894593363475711, 2.6413792649821013, 0.13735097170865115, -0.9828018800837163, 0.13801858167033576, -0.6215647789215498, -0.15010559951578073, 0.39313077400096924, -0.9745423404621509, -0.41287483235514105, 1.406315163167479, 0.13788703768854482, 1.2731159007446353, -0.2163497464314463, 1.0853126714886798, 0.5353673129325547]}],\n",
       "                        {\"barmode\": \"overlay\", \"legend\": {\"bgcolor\": \"#F5F6F9\", \"font\": {\"color\": \"#4D5663\"}}, \"paper_bgcolor\": \"#F5F6F9\", \"plot_bgcolor\": \"#F5F6F9\", \"template\": {\"data\": {\"bar\": [{\"error_x\": {\"color\": \"#2a3f5f\"}, \"error_y\": {\"color\": \"#2a3f5f\"}, \"marker\": {\"line\": {\"color\": \"#E5ECF6\", \"width\": 0.5}}, \"type\": \"bar\"}], \"barpolar\": [{\"marker\": {\"line\": {\"color\": \"#E5ECF6\", \"width\": 0.5}}, \"type\": \"barpolar\"}], \"carpet\": [{\"aaxis\": {\"endlinecolor\": \"#2a3f5f\", \"gridcolor\": \"white\", \"linecolor\": \"white\", \"minorgridcolor\": \"white\", \"startlinecolor\": \"#2a3f5f\"}, \"baxis\": {\"endlinecolor\": \"#2a3f5f\", \"gridcolor\": \"white\", \"linecolor\": \"white\", \"minorgridcolor\": \"white\", \"startlinecolor\": \"#2a3f5f\"}, \"type\": \"carpet\"}], \"choropleth\": [{\"colorbar\": {\"outlinewidth\": 0, \"ticks\": \"\"}, \"type\": \"choropleth\"}], \"contour\": [{\"colorbar\": {\"outlinewidth\": 0, \"ticks\": \"\"}, \"colorscale\": [[0.0, \"#0d0887\"], [0.1111111111111111, \"#46039f\"], [0.2222222222222222, \"#7201a8\"], [0.3333333333333333, \"#9c179e\"], [0.4444444444444444, \"#bd3786\"], [0.5555555555555556, \"#d8576b\"], [0.6666666666666666, \"#ed7953\"], [0.7777777777777778, \"#fb9f3a\"], [0.8888888888888888, \"#fdca26\"], [1.0, \"#f0f921\"]], \"type\": \"contour\"}], \"contourcarpet\": [{\"colorbar\": {\"outlinewidth\": 0, \"ticks\": \"\"}, \"type\": \"contourcarpet\"}], \"heatmap\": [{\"colorbar\": {\"outlinewidth\": 0, \"ticks\": \"\"}, \"colorscale\": [[0.0, \"#0d0887\"], [0.1111111111111111, \"#46039f\"], [0.2222222222222222, \"#7201a8\"], [0.3333333333333333, \"#9c179e\"], [0.4444444444444444, \"#bd3786\"], [0.5555555555555556, \"#d8576b\"], [0.6666666666666666, \"#ed7953\"], [0.7777777777777778, \"#fb9f3a\"], [0.8888888888888888, \"#fdca26\"], [1.0, \"#f0f921\"]], \"type\": \"heatmap\"}], \"heatmapgl\": [{\"colorbar\": {\"outlinewidth\": 0, \"ticks\": \"\"}, \"colorscale\": [[0.0, \"#0d0887\"], [0.1111111111111111, \"#46039f\"], [0.2222222222222222, \"#7201a8\"], [0.3333333333333333, \"#9c179e\"], [0.4444444444444444, \"#bd3786\"], [0.5555555555555556, \"#d8576b\"], [0.6666666666666666, \"#ed7953\"], [0.7777777777777778, \"#fb9f3a\"], [0.8888888888888888, \"#fdca26\"], [1.0, \"#f0f921\"]], \"type\": \"heatmapgl\"}], \"histogram\": [{\"marker\": {\"colorbar\": {\"outlinewidth\": 0, \"ticks\": \"\"}}, \"type\": \"histogram\"}], \"histogram2d\": [{\"colorbar\": {\"outlinewidth\": 0, \"ticks\": \"\"}, \"colorscale\": [[0.0, \"#0d0887\"], [0.1111111111111111, \"#46039f\"], [0.2222222222222222, \"#7201a8\"], [0.3333333333333333, \"#9c179e\"], [0.4444444444444444, \"#bd3786\"], [0.5555555555555556, \"#d8576b\"], [0.6666666666666666, \"#ed7953\"], [0.7777777777777778, \"#fb9f3a\"], [0.8888888888888888, \"#fdca26\"], [1.0, \"#f0f921\"]], \"type\": \"histogram2d\"}], \"histogram2dcontour\": [{\"colorbar\": {\"outlinewidth\": 0, \"ticks\": \"\"}, \"colorscale\": [[0.0, \"#0d0887\"], [0.1111111111111111, \"#46039f\"], [0.2222222222222222, \"#7201a8\"], [0.3333333333333333, \"#9c179e\"], [0.4444444444444444, \"#bd3786\"], [0.5555555555555556, \"#d8576b\"], [0.6666666666666666, \"#ed7953\"], [0.7777777777777778, \"#fb9f3a\"], [0.8888888888888888, \"#fdca26\"], [1.0, \"#f0f921\"]], \"type\": \"histogram2dcontour\"}], \"mesh3d\": [{\"colorbar\": {\"outlinewidth\": 0, \"ticks\": \"\"}, \"type\": \"mesh3d\"}], \"parcoords\": [{\"line\": {\"colorbar\": {\"outlinewidth\": 0, \"ticks\": \"\"}}, \"type\": \"parcoords\"}], \"pie\": [{\"automargin\": true, \"type\": \"pie\"}], \"scatter\": [{\"marker\": {\"colorbar\": {\"outlinewidth\": 0, \"ticks\": \"\"}}, \"type\": \"scatter\"}], \"scatter3d\": [{\"line\": {\"colorbar\": {\"outlinewidth\": 0, \"ticks\": \"\"}}, \"marker\": {\"colorbar\": {\"outlinewidth\": 0, \"ticks\": \"\"}}, \"type\": \"scatter3d\"}], \"scattercarpet\": [{\"marker\": {\"colorbar\": {\"outlinewidth\": 0, \"ticks\": \"\"}}, \"type\": \"scattercarpet\"}], \"scattergeo\": [{\"marker\": {\"colorbar\": {\"outlinewidth\": 0, \"ticks\": \"\"}}, \"type\": \"scattergeo\"}], \"scattergl\": [{\"marker\": {\"colorbar\": {\"outlinewidth\": 0, \"ticks\": \"\"}}, \"type\": \"scattergl\"}], \"scattermapbox\": [{\"marker\": {\"colorbar\": {\"outlinewidth\": 0, \"ticks\": \"\"}}, \"type\": \"scattermapbox\"}], \"scatterpolar\": [{\"marker\": {\"colorbar\": {\"outlinewidth\": 0, \"ticks\": \"\"}}, \"type\": \"scatterpolar\"}], \"scatterpolargl\": [{\"marker\": {\"colorbar\": {\"outlinewidth\": 0, \"ticks\": \"\"}}, \"type\": \"scatterpolargl\"}], \"scatterternary\": [{\"marker\": {\"colorbar\": {\"outlinewidth\": 0, \"ticks\": \"\"}}, \"type\": \"scatterternary\"}], \"surface\": [{\"colorbar\": {\"outlinewidth\": 0, \"ticks\": \"\"}, \"colorscale\": [[0.0, \"#0d0887\"], [0.1111111111111111, \"#46039f\"], [0.2222222222222222, \"#7201a8\"], [0.3333333333333333, \"#9c179e\"], [0.4444444444444444, \"#bd3786\"], [0.5555555555555556, \"#d8576b\"], [0.6666666666666666, \"#ed7953\"], [0.7777777777777778, \"#fb9f3a\"], [0.8888888888888888, \"#fdca26\"], [1.0, \"#f0f921\"]], \"type\": \"surface\"}], \"table\": [{\"cells\": {\"fill\": {\"color\": \"#EBF0F8\"}, \"line\": {\"color\": \"white\"}}, \"header\": {\"fill\": {\"color\": \"#C8D4E3\"}, \"line\": {\"color\": \"white\"}}, \"type\": \"table\"}]}, \"layout\": {\"annotationdefaults\": {\"arrowcolor\": \"#2a3f5f\", \"arrowhead\": 0, \"arrowwidth\": 1}, \"coloraxis\": {\"colorbar\": {\"outlinewidth\": 0, \"ticks\": \"\"}}, \"colorscale\": {\"diverging\": [[0, \"#8e0152\"], [0.1, \"#c51b7d\"], [0.2, \"#de77ae\"], [0.3, \"#f1b6da\"], [0.4, \"#fde0ef\"], [0.5, \"#f7f7f7\"], [0.6, \"#e6f5d0\"], [0.7, \"#b8e186\"], [0.8, \"#7fbc41\"], [0.9, \"#4d9221\"], [1, \"#276419\"]], \"sequential\": [[0.0, \"#0d0887\"], [0.1111111111111111, \"#46039f\"], [0.2222222222222222, \"#7201a8\"], [0.3333333333333333, \"#9c179e\"], [0.4444444444444444, \"#bd3786\"], [0.5555555555555556, \"#d8576b\"], [0.6666666666666666, \"#ed7953\"], [0.7777777777777778, \"#fb9f3a\"], [0.8888888888888888, \"#fdca26\"], [1.0, \"#f0f921\"]], \"sequentialminus\": [[0.0, \"#0d0887\"], [0.1111111111111111, \"#46039f\"], [0.2222222222222222, \"#7201a8\"], [0.3333333333333333, \"#9c179e\"], [0.4444444444444444, \"#bd3786\"], [0.5555555555555556, \"#d8576b\"], [0.6666666666666666, \"#ed7953\"], [0.7777777777777778, \"#fb9f3a\"], [0.8888888888888888, \"#fdca26\"], [1.0, \"#f0f921\"]]}, \"colorway\": [\"#636efa\", \"#EF553B\", \"#00cc96\", \"#ab63fa\", \"#FFA15A\", \"#19d3f3\", \"#FF6692\", \"#B6E880\", \"#FF97FF\", \"#FECB52\"], \"font\": {\"color\": \"#2a3f5f\"}, \"geo\": {\"bgcolor\": \"white\", \"lakecolor\": \"white\", \"landcolor\": \"#E5ECF6\", \"showlakes\": true, \"showland\": true, \"subunitcolor\": \"white\"}, \"hoverlabel\": {\"align\": \"left\"}, \"hovermode\": \"closest\", \"mapbox\": {\"style\": \"light\"}, \"paper_bgcolor\": \"white\", \"plot_bgcolor\": \"#E5ECF6\", \"polar\": {\"angularaxis\": {\"gridcolor\": \"white\", \"linecolor\": \"white\", \"ticks\": \"\"}, \"bgcolor\": \"#E5ECF6\", \"radialaxis\": {\"gridcolor\": \"white\", \"linecolor\": \"white\", \"ticks\": \"\"}}, \"scene\": {\"xaxis\": {\"backgroundcolor\": \"#E5ECF6\", \"gridcolor\": \"white\", \"gridwidth\": 2, \"linecolor\": \"white\", \"showbackground\": true, \"ticks\": \"\", \"zerolinecolor\": \"white\"}, \"yaxis\": {\"backgroundcolor\": \"#E5ECF6\", \"gridcolor\": \"white\", \"gridwidth\": 2, \"linecolor\": \"white\", \"showbackground\": true, \"ticks\": \"\", \"zerolinecolor\": \"white\"}, \"zaxis\": {\"backgroundcolor\": \"#E5ECF6\", \"gridcolor\": \"white\", \"gridwidth\": 2, \"linecolor\": \"white\", \"showbackground\": true, \"ticks\": \"\", \"zerolinecolor\": \"white\"}}, \"shapedefaults\": {\"line\": {\"color\": \"#2a3f5f\"}}, \"ternary\": {\"aaxis\": {\"gridcolor\": \"white\", \"linecolor\": \"white\", \"ticks\": \"\"}, \"baxis\": {\"gridcolor\": \"white\", \"linecolor\": \"white\", \"ticks\": \"\"}, \"bgcolor\": \"#E5ECF6\", \"caxis\": {\"gridcolor\": \"white\", \"linecolor\": \"white\", \"ticks\": \"\"}}, \"title\": {\"x\": 0.05}, \"xaxis\": {\"automargin\": true, \"gridcolor\": \"white\", \"linecolor\": \"white\", \"ticks\": \"\", \"title\": {\"standoff\": 15}, \"zerolinecolor\": \"white\", \"zerolinewidth\": 2}, \"yaxis\": {\"automargin\": true, \"gridcolor\": \"white\", \"linecolor\": \"white\", \"ticks\": \"\", \"title\": {\"standoff\": 15}, \"zerolinecolor\": \"white\", \"zerolinewidth\": 2}}}, \"title\": {\"font\": {\"color\": \"#4D5663\"}}, \"xaxis\": {\"gridcolor\": \"#E1E5ED\", \"showgrid\": true, \"tickfont\": {\"color\": \"#4D5663\"}, \"title\": {\"font\": {\"color\": \"#4D5663\"}, \"text\": \"\"}, \"zerolinecolor\": \"#E1E5ED\"}, \"yaxis\": {\"gridcolor\": \"#E1E5ED\", \"showgrid\": true, \"tickfont\": {\"color\": \"#4D5663\"}, \"title\": {\"font\": {\"color\": \"#4D5663\"}, \"text\": \"\"}, \"zerolinecolor\": \"#E1E5ED\"}},\n",
       "                        {\"showLink\": true, \"linkText\": \"Export to plot.ly\", \"plotlyServerURL\": \"https://plot.ly\", \"responsive\": true}\n",
       "                    ).then(function(){\n",
       "                            \n",
       "var gd = document.getElementById('fbac88b1-6599-4d72-81f9-1ead4ab236b1');\n",
       "var x = new MutationObserver(function (mutations, observer) {{\n",
       "        var display = window.getComputedStyle(gd).display;\n",
       "        if (!display || display === 'none') {{\n",
       "            console.log([gd, 'removed!']);\n",
       "            Plotly.purge(gd);\n",
       "            observer.disconnect();\n",
       "        }}\n",
       "}});\n",
       "\n",
       "// Listen for the removal of the full notebook cells\n",
       "var notebookContainer = gd.closest('#notebook-container');\n",
       "if (notebookContainer) {{\n",
       "    x.observe(notebookContainer, {childList: true});\n",
       "}}\n",
       "\n",
       "// Listen for the clearing of the current output cell\n",
       "var outputEl = gd.closest('.output');\n",
       "if (outputEl) {{\n",
       "    x.observe(outputEl, {childList: true});\n",
       "}}\n",
       "\n",
       "                        })\n",
       "                };\n",
       "                });\n",
       "            </script>\n",
       "        </div>"
      ]
     },
     "metadata": {},
     "output_type": "display_data"
    }
   ],
   "source": [
    "df['A'].iplot(kind='hist',bins=25)"
   ]
  },
  {
   "cell_type": "code",
   "execution_count": 19,
   "metadata": {},
   "outputs": [
    {
     "data": {
      "application/vnd.plotly.v1+json": {
       "config": {
        "linkText": "Export to plot.ly",
        "plotlyServerURL": "https://plot.ly",
        "showLink": true
       },
       "data": [
        {
         "marker": {
          "color": [
           "rgb(255, 153, 51)",
           "rgb(55, 128, 191)",
           "rgb(50, 171, 96)",
           "rgb(128, 0, 128)",
           "rgb(219, 64, 82)",
           "rgb(0, 128, 128)",
           "rgb(255, 255, 51)",
           "rgb(128, 128, 0)",
           "rgb(251, 128, 114)",
           "rgb(128, 177, 211)"
          ],
          "line": {
           "width": 1.3
          },
          "size": [
           29,
           39,
           25,
           72,
           26,
           72,
           35,
           90,
           37,
           72,
           74,
           76,
           58,
           73,
           79,
           98,
           50,
           34,
           63,
           54,
           35,
           23,
           81,
           57,
           67,
           71,
           56,
           69,
           56,
           69,
           70,
           85,
           61,
           68,
           51,
           68,
           21,
           55,
           51,
           40,
           63,
           48,
           24,
           66,
           26,
           97,
           77,
           61,
           38,
           106,
           75,
           32,
           52,
           77,
           75,
           112,
           68,
           62,
           59,
           57,
           72,
           62,
           76,
           51,
           67,
           12,
           81,
           56,
           38,
           75,
           61,
           26,
           56,
           27,
           39,
           83,
           45,
           50,
           88,
           53,
           73,
           66,
           20,
           36,
           95,
           67,
           60,
           87,
           14,
           35,
           39,
           59,
           83,
           89,
           38,
           27,
           48,
           69,
           65,
           60
          ],
          "symbol": "circle"
         },
         "mode": "markers",
         "text": "",
         "type": "scatter",
         "x": [
          -2.3454141693589876,
          0.6237775380275742,
          0.5084665209175578,
          1.0077383239871212,
          -1.596862641714782,
          -2.374942969830823,
          -1.3706328842809488,
          1.3747352172717342,
          -0.7622432557064147,
          -1.9184039896950638,
          1.5017960911885953,
          -0.7114451376865186,
          -0.29446634553217194,
          -1.4876954594826903,
          0.6995466429849003,
          -0.9080622620621699,
          0.0037148475874004623,
          -0.8606836096783335,
          1.5500856254168882,
          0.8681259238151428,
          -0.25157963103361447,
          -0.6950867661351647,
          -1.2977326913712255,
          1.0792884415738364,
          1.9215810061890053,
          1.6391562586670962,
          0.8532070522380638,
          0.9960034559394392,
          1.0384819480958472,
          -0.4416790016043128,
          0.6272585044640208,
          1.6568382627476808,
          0.17604804120284398,
          -0.12173009136600939,
          1.786145195510604,
          1.0620956079199924,
          -1.6487794157955151,
          0.5134853837511637,
          -0.09341126386297298,
          0.5748210842959969,
          -0.34773144268786665,
          1.4495352760328146,
          0.55589609988229,
          -0.19407908794453177,
          1.954553549389376,
          -1.4401496294154514,
          -1.687016031719059,
          0.9152212524783871,
          -0.9701130342584917,
          0.2781872419962723,
          -0.42465351126078166,
          0.21363104414796674,
          0.6798391516567996,
          -0.21693900500613778,
          1.1253269510990103,
          -0.4364919033627248,
          0.5070307915178102,
          -0.6938482394362632,
          -1.4709020923143088,
          -0.3005468309159597,
          0.10117735963741527,
          -0.2739784055963156,
          -1.592983100175776,
          -0.7550289749943683,
          -1.8804241568882007,
          0.09895966465769129,
          1.280991037813301,
          0.18446847622744528,
          2.514156053080135,
          0.887922034620755,
          0.22026729871991257,
          -0.058148079602631304,
          0.11519546694262874,
          1.3733167398735402,
          0.7719722757739921,
          -0.11131557918308087,
          0.12928439944667708,
          0.656916890088794,
          1.2254282520039692,
          -2.3574405969002927,
          0.520182684697464,
          0.49226230720825487,
          -0.2946532839128033,
          1.5850905733271186,
          -0.4894593363475711,
          2.6413792649821013,
          0.13735097170865115,
          -0.9828018800837163,
          0.13801858167033576,
          -0.6215647789215498,
          -0.15010559951578073,
          0.39313077400096924,
          -0.9745423404621509,
          -0.41287483235514105,
          1.406315163167479,
          0.13788703768854482,
          1.2731159007446353,
          -0.2163497464314463,
          1.0853126714886798,
          0.5353673129325547
         ],
         "y": [
          -1.2116920522282546,
          -2.4182256642840154,
          -0.4467089062786822,
          -1.9392425928013934,
          0.9457088641174468,
          -1.4107952784259432,
          0.7722514959948863,
          -0.45758893217485086,
          -1.3697226133349176,
          -2.046223214968447,
          -0.9579602434170336,
          1.4299651060248795,
          0.6747291885765265,
          -2.446185003930176,
          -0.4786337657758917,
          -0.4937053710053525,
          0.2403915067061822,
          0.1756572084243671,
          -0.9455598067160645,
          -0.056992586205770676,
          1.0699334051439484,
          1.673208526089509,
          -0.6395578941823503,
          0.25843104956249363,
          0.9463770770249402,
          -1.173249590196306,
          -1.3898254730875272,
          -1.9485443421261375,
          -0.7990195508075936,
          -0.31886903775938763,
          -0.08574570155079406,
          1.3516886194648055,
          2.2149074403731497,
          -0.7949499836639242,
          0.6349268210678864,
          -1.2078356601723703,
          0.3787942389731917,
          -0.6891367639313457,
          1.3739612750682195,
          1.049897380525511,
          -0.018372121788850865,
          -0.2245124095889812,
          -1.1217196388681876,
          0.13626183916315088,
          0.7831733334090794,
          -0.29080499799221227,
          0.4448251856275786,
          1.146475088094464,
          -0.3875437175635493,
          -1.619961941950166,
          1.9877975354122728,
          0.3112587438792633,
          -1.0975621453609536,
          1.3884885691095525,
          -2.253520984677293,
          0.8172734212747151,
          0.6798692585838515,
          0.9418421759704245,
          -1.3652789631659974,
          1.2276374079163535,
          -0.948723105258126,
          1.2325710575478996,
          1.6427249926188614,
          -0.008728784354691151,
          1.5770304307221095,
          -0.9423567084179673,
          0.36669310906068375,
          1.4950786618013892,
          0.04239700440360714,
          0.7492246927132604,
          0.9362248498051818,
          -1.0210447539510035,
          -0.557769626378885,
          0.8585655547526226,
          0.5500178298829814,
          0.49205297793010305,
          -1.8099585130722016,
          0.6170410700662037,
          0.4698120642968544,
          0.6243133179356815,
          -0.23817960494236465,
          -1.5594009134291225,
          -1.1132549789519153,
          0.037206911943428185,
          -0.44926998300567894,
          -0.7848515495976766,
          0.1280030808290587,
          0.7618062697149731,
          -1.2480442658733897,
          -0.5126732212013174,
          -1.8977786099295044,
          0.9258361552336678,
          0.17023070984428282,
          0.5668693240350743,
          -1.2976881194121161,
          -0.2908984427086773,
          -0.32529334782616276,
          2.208923211463274,
          -0.3527371000449035,
          0.017930464472224805
         ]
        }
       ],
       "layout": {
        "legend": {
         "bgcolor": "#F5F6F9",
         "font": {
          "color": "#4D5663"
         }
        },
        "paper_bgcolor": "#F5F6F9",
        "plot_bgcolor": "#F5F6F9",
        "template": {
         "data": {
          "bar": [
           {
            "error_x": {
             "color": "#2a3f5f"
            },
            "error_y": {
             "color": "#2a3f5f"
            },
            "marker": {
             "line": {
              "color": "#E5ECF6",
              "width": 0.5
             }
            },
            "type": "bar"
           }
          ],
          "barpolar": [
           {
            "marker": {
             "line": {
              "color": "#E5ECF6",
              "width": 0.5
             }
            },
            "type": "barpolar"
           }
          ],
          "carpet": [
           {
            "aaxis": {
             "endlinecolor": "#2a3f5f",
             "gridcolor": "white",
             "linecolor": "white",
             "minorgridcolor": "white",
             "startlinecolor": "#2a3f5f"
            },
            "baxis": {
             "endlinecolor": "#2a3f5f",
             "gridcolor": "white",
             "linecolor": "white",
             "minorgridcolor": "white",
             "startlinecolor": "#2a3f5f"
            },
            "type": "carpet"
           }
          ],
          "choropleth": [
           {
            "colorbar": {
             "outlinewidth": 0,
             "ticks": ""
            },
            "type": "choropleth"
           }
          ],
          "contour": [
           {
            "colorbar": {
             "outlinewidth": 0,
             "ticks": ""
            },
            "colorscale": [
             [
              0,
              "#0d0887"
             ],
             [
              0.1111111111111111,
              "#46039f"
             ],
             [
              0.2222222222222222,
              "#7201a8"
             ],
             [
              0.3333333333333333,
              "#9c179e"
             ],
             [
              0.4444444444444444,
              "#bd3786"
             ],
             [
              0.5555555555555556,
              "#d8576b"
             ],
             [
              0.6666666666666666,
              "#ed7953"
             ],
             [
              0.7777777777777778,
              "#fb9f3a"
             ],
             [
              0.8888888888888888,
              "#fdca26"
             ],
             [
              1,
              "#f0f921"
             ]
            ],
            "type": "contour"
           }
          ],
          "contourcarpet": [
           {
            "colorbar": {
             "outlinewidth": 0,
             "ticks": ""
            },
            "type": "contourcarpet"
           }
          ],
          "heatmap": [
           {
            "colorbar": {
             "outlinewidth": 0,
             "ticks": ""
            },
            "colorscale": [
             [
              0,
              "#0d0887"
             ],
             [
              0.1111111111111111,
              "#46039f"
             ],
             [
              0.2222222222222222,
              "#7201a8"
             ],
             [
              0.3333333333333333,
              "#9c179e"
             ],
             [
              0.4444444444444444,
              "#bd3786"
             ],
             [
              0.5555555555555556,
              "#d8576b"
             ],
             [
              0.6666666666666666,
              "#ed7953"
             ],
             [
              0.7777777777777778,
              "#fb9f3a"
             ],
             [
              0.8888888888888888,
              "#fdca26"
             ],
             [
              1,
              "#f0f921"
             ]
            ],
            "type": "heatmap"
           }
          ],
          "heatmapgl": [
           {
            "colorbar": {
             "outlinewidth": 0,
             "ticks": ""
            },
            "colorscale": [
             [
              0,
              "#0d0887"
             ],
             [
              0.1111111111111111,
              "#46039f"
             ],
             [
              0.2222222222222222,
              "#7201a8"
             ],
             [
              0.3333333333333333,
              "#9c179e"
             ],
             [
              0.4444444444444444,
              "#bd3786"
             ],
             [
              0.5555555555555556,
              "#d8576b"
             ],
             [
              0.6666666666666666,
              "#ed7953"
             ],
             [
              0.7777777777777778,
              "#fb9f3a"
             ],
             [
              0.8888888888888888,
              "#fdca26"
             ],
             [
              1,
              "#f0f921"
             ]
            ],
            "type": "heatmapgl"
           }
          ],
          "histogram": [
           {
            "marker": {
             "colorbar": {
              "outlinewidth": 0,
              "ticks": ""
             }
            },
            "type": "histogram"
           }
          ],
          "histogram2d": [
           {
            "colorbar": {
             "outlinewidth": 0,
             "ticks": ""
            },
            "colorscale": [
             [
              0,
              "#0d0887"
             ],
             [
              0.1111111111111111,
              "#46039f"
             ],
             [
              0.2222222222222222,
              "#7201a8"
             ],
             [
              0.3333333333333333,
              "#9c179e"
             ],
             [
              0.4444444444444444,
              "#bd3786"
             ],
             [
              0.5555555555555556,
              "#d8576b"
             ],
             [
              0.6666666666666666,
              "#ed7953"
             ],
             [
              0.7777777777777778,
              "#fb9f3a"
             ],
             [
              0.8888888888888888,
              "#fdca26"
             ],
             [
              1,
              "#f0f921"
             ]
            ],
            "type": "histogram2d"
           }
          ],
          "histogram2dcontour": [
           {
            "colorbar": {
             "outlinewidth": 0,
             "ticks": ""
            },
            "colorscale": [
             [
              0,
              "#0d0887"
             ],
             [
              0.1111111111111111,
              "#46039f"
             ],
             [
              0.2222222222222222,
              "#7201a8"
             ],
             [
              0.3333333333333333,
              "#9c179e"
             ],
             [
              0.4444444444444444,
              "#bd3786"
             ],
             [
              0.5555555555555556,
              "#d8576b"
             ],
             [
              0.6666666666666666,
              "#ed7953"
             ],
             [
              0.7777777777777778,
              "#fb9f3a"
             ],
             [
              0.8888888888888888,
              "#fdca26"
             ],
             [
              1,
              "#f0f921"
             ]
            ],
            "type": "histogram2dcontour"
           }
          ],
          "mesh3d": [
           {
            "colorbar": {
             "outlinewidth": 0,
             "ticks": ""
            },
            "type": "mesh3d"
           }
          ],
          "parcoords": [
           {
            "line": {
             "colorbar": {
              "outlinewidth": 0,
              "ticks": ""
             }
            },
            "type": "parcoords"
           }
          ],
          "pie": [
           {
            "automargin": true,
            "type": "pie"
           }
          ],
          "scatter": [
           {
            "marker": {
             "colorbar": {
              "outlinewidth": 0,
              "ticks": ""
             }
            },
            "type": "scatter"
           }
          ],
          "scatter3d": [
           {
            "line": {
             "colorbar": {
              "outlinewidth": 0,
              "ticks": ""
             }
            },
            "marker": {
             "colorbar": {
              "outlinewidth": 0,
              "ticks": ""
             }
            },
            "type": "scatter3d"
           }
          ],
          "scattercarpet": [
           {
            "marker": {
             "colorbar": {
              "outlinewidth": 0,
              "ticks": ""
             }
            },
            "type": "scattercarpet"
           }
          ],
          "scattergeo": [
           {
            "marker": {
             "colorbar": {
              "outlinewidth": 0,
              "ticks": ""
             }
            },
            "type": "scattergeo"
           }
          ],
          "scattergl": [
           {
            "marker": {
             "colorbar": {
              "outlinewidth": 0,
              "ticks": ""
             }
            },
            "type": "scattergl"
           }
          ],
          "scattermapbox": [
           {
            "marker": {
             "colorbar": {
              "outlinewidth": 0,
              "ticks": ""
             }
            },
            "type": "scattermapbox"
           }
          ],
          "scatterpolar": [
           {
            "marker": {
             "colorbar": {
              "outlinewidth": 0,
              "ticks": ""
             }
            },
            "type": "scatterpolar"
           }
          ],
          "scatterpolargl": [
           {
            "marker": {
             "colorbar": {
              "outlinewidth": 0,
              "ticks": ""
             }
            },
            "type": "scatterpolargl"
           }
          ],
          "scatterternary": [
           {
            "marker": {
             "colorbar": {
              "outlinewidth": 0,
              "ticks": ""
             }
            },
            "type": "scatterternary"
           }
          ],
          "surface": [
           {
            "colorbar": {
             "outlinewidth": 0,
             "ticks": ""
            },
            "colorscale": [
             [
              0,
              "#0d0887"
             ],
             [
              0.1111111111111111,
              "#46039f"
             ],
             [
              0.2222222222222222,
              "#7201a8"
             ],
             [
              0.3333333333333333,
              "#9c179e"
             ],
             [
              0.4444444444444444,
              "#bd3786"
             ],
             [
              0.5555555555555556,
              "#d8576b"
             ],
             [
              0.6666666666666666,
              "#ed7953"
             ],
             [
              0.7777777777777778,
              "#fb9f3a"
             ],
             [
              0.8888888888888888,
              "#fdca26"
             ],
             [
              1,
              "#f0f921"
             ]
            ],
            "type": "surface"
           }
          ],
          "table": [
           {
            "cells": {
             "fill": {
              "color": "#EBF0F8"
             },
             "line": {
              "color": "white"
             }
            },
            "header": {
             "fill": {
              "color": "#C8D4E3"
             },
             "line": {
              "color": "white"
             }
            },
            "type": "table"
           }
          ]
         },
         "layout": {
          "annotationdefaults": {
           "arrowcolor": "#2a3f5f",
           "arrowhead": 0,
           "arrowwidth": 1
          },
          "coloraxis": {
           "colorbar": {
            "outlinewidth": 0,
            "ticks": ""
           }
          },
          "colorscale": {
           "diverging": [
            [
             0,
             "#8e0152"
            ],
            [
             0.1,
             "#c51b7d"
            ],
            [
             0.2,
             "#de77ae"
            ],
            [
             0.3,
             "#f1b6da"
            ],
            [
             0.4,
             "#fde0ef"
            ],
            [
             0.5,
             "#f7f7f7"
            ],
            [
             0.6,
             "#e6f5d0"
            ],
            [
             0.7,
             "#b8e186"
            ],
            [
             0.8,
             "#7fbc41"
            ],
            [
             0.9,
             "#4d9221"
            ],
            [
             1,
             "#276419"
            ]
           ],
           "sequential": [
            [
             0,
             "#0d0887"
            ],
            [
             0.1111111111111111,
             "#46039f"
            ],
            [
             0.2222222222222222,
             "#7201a8"
            ],
            [
             0.3333333333333333,
             "#9c179e"
            ],
            [
             0.4444444444444444,
             "#bd3786"
            ],
            [
             0.5555555555555556,
             "#d8576b"
            ],
            [
             0.6666666666666666,
             "#ed7953"
            ],
            [
             0.7777777777777778,
             "#fb9f3a"
            ],
            [
             0.8888888888888888,
             "#fdca26"
            ],
            [
             1,
             "#f0f921"
            ]
           ],
           "sequentialminus": [
            [
             0,
             "#0d0887"
            ],
            [
             0.1111111111111111,
             "#46039f"
            ],
            [
             0.2222222222222222,
             "#7201a8"
            ],
            [
             0.3333333333333333,
             "#9c179e"
            ],
            [
             0.4444444444444444,
             "#bd3786"
            ],
            [
             0.5555555555555556,
             "#d8576b"
            ],
            [
             0.6666666666666666,
             "#ed7953"
            ],
            [
             0.7777777777777778,
             "#fb9f3a"
            ],
            [
             0.8888888888888888,
             "#fdca26"
            ],
            [
             1,
             "#f0f921"
            ]
           ]
          },
          "colorway": [
           "#636efa",
           "#EF553B",
           "#00cc96",
           "#ab63fa",
           "#FFA15A",
           "#19d3f3",
           "#FF6692",
           "#B6E880",
           "#FF97FF",
           "#FECB52"
          ],
          "font": {
           "color": "#2a3f5f"
          },
          "geo": {
           "bgcolor": "white",
           "lakecolor": "white",
           "landcolor": "#E5ECF6",
           "showlakes": true,
           "showland": true,
           "subunitcolor": "white"
          },
          "hoverlabel": {
           "align": "left"
          },
          "hovermode": "closest",
          "mapbox": {
           "style": "light"
          },
          "paper_bgcolor": "white",
          "plot_bgcolor": "#E5ECF6",
          "polar": {
           "angularaxis": {
            "gridcolor": "white",
            "linecolor": "white",
            "ticks": ""
           },
           "bgcolor": "#E5ECF6",
           "radialaxis": {
            "gridcolor": "white",
            "linecolor": "white",
            "ticks": ""
           }
          },
          "scene": {
           "xaxis": {
            "backgroundcolor": "#E5ECF6",
            "gridcolor": "white",
            "gridwidth": 2,
            "linecolor": "white",
            "showbackground": true,
            "ticks": "",
            "zerolinecolor": "white"
           },
           "yaxis": {
            "backgroundcolor": "#E5ECF6",
            "gridcolor": "white",
            "gridwidth": 2,
            "linecolor": "white",
            "showbackground": true,
            "ticks": "",
            "zerolinecolor": "white"
           },
           "zaxis": {
            "backgroundcolor": "#E5ECF6",
            "gridcolor": "white",
            "gridwidth": 2,
            "linecolor": "white",
            "showbackground": true,
            "ticks": "",
            "zerolinecolor": "white"
           }
          },
          "shapedefaults": {
           "line": {
            "color": "#2a3f5f"
           }
          },
          "ternary": {
           "aaxis": {
            "gridcolor": "white",
            "linecolor": "white",
            "ticks": ""
           },
           "baxis": {
            "gridcolor": "white",
            "linecolor": "white",
            "ticks": ""
           },
           "bgcolor": "#E5ECF6",
           "caxis": {
            "gridcolor": "white",
            "linecolor": "white",
            "ticks": ""
           }
          },
          "title": {
           "x": 0.05
          },
          "xaxis": {
           "automargin": true,
           "gridcolor": "white",
           "linecolor": "white",
           "ticks": "",
           "title": {
            "standoff": 15
           },
           "zerolinecolor": "white",
           "zerolinewidth": 2
          },
          "yaxis": {
           "automargin": true,
           "gridcolor": "white",
           "linecolor": "white",
           "ticks": "",
           "title": {
            "standoff": 15
           },
           "zerolinecolor": "white",
           "zerolinewidth": 2
          }
         }
        },
        "title": {
         "font": {
          "color": "#4D5663"
         }
        },
        "xaxis": {
         "gridcolor": "#E1E5ED",
         "showgrid": true,
         "tickfont": {
          "color": "#4D5663"
         },
         "title": {
          "font": {
           "color": "#4D5663"
          },
          "text": ""
         },
         "zerolinecolor": "#E1E5ED"
        },
        "yaxis": {
         "gridcolor": "#E1E5ED",
         "showgrid": true,
         "tickfont": {
          "color": "#4D5663"
         },
         "title": {
          "font": {
           "color": "#4D5663"
          },
          "text": ""
         },
         "zerolinecolor": "#E1E5ED"
        }
       }
      },
      "text/html": [
       "<div>\n",
       "        \n",
       "        \n",
       "            <div id=\"75078c11-d93a-47b6-86e1-3997c3bbd196\" class=\"plotly-graph-div\" style=\"height:525px; width:100%;\"></div>\n",
       "            <script type=\"text/javascript\">\n",
       "                require([\"plotly\"], function(Plotly) {\n",
       "                    window.PLOTLYENV=window.PLOTLYENV || {};\n",
       "                    window.PLOTLYENV.BASE_URL='https://plot.ly';\n",
       "                    \n",
       "                if (document.getElementById(\"75078c11-d93a-47b6-86e1-3997c3bbd196\")) {\n",
       "                    Plotly.newPlot(\n",
       "                        '75078c11-d93a-47b6-86e1-3997c3bbd196',\n",
       "                        [{\"marker\": {\"color\": [\"rgb(255, 153, 51)\", \"rgb(55, 128, 191)\", \"rgb(50, 171, 96)\", \"rgb(128, 0, 128)\", \"rgb(219, 64, 82)\", \"rgb(0, 128, 128)\", \"rgb(255, 255, 51)\", \"rgb(128, 128, 0)\", \"rgb(251, 128, 114)\", \"rgb(128, 177, 211)\"], \"line\": {\"width\": 1.3}, \"size\": [29, 39, 25, 72, 26, 72, 35, 90, 37, 72, 74, 76, 58, 73, 79, 98, 50, 34, 63, 54, 35, 23, 81, 57, 67, 71, 56, 69, 56, 69, 70, 85, 61, 68, 51, 68, 21, 55, 51, 40, 63, 48, 24, 66, 26, 97, 77, 61, 38, 106, 75, 32, 52, 77, 75, 112, 68, 62, 59, 57, 72, 62, 76, 51, 67, 12, 81, 56, 38, 75, 61, 26, 56, 27, 39, 83, 45, 50, 88, 53, 73, 66, 20, 36, 95, 67, 60, 87, 14, 35, 39, 59, 83, 89, 38, 27, 48, 69, 65, 60], \"symbol\": \"circle\"}, \"mode\": \"markers\", \"text\": \"\", \"type\": \"scatter\", \"x\": [-2.3454141693589876, 0.6237775380275742, 0.5084665209175578, 1.0077383239871212, -1.596862641714782, -2.374942969830823, -1.3706328842809488, 1.3747352172717342, -0.7622432557064147, -1.9184039896950638, 1.5017960911885953, -0.7114451376865186, -0.29446634553217194, -1.4876954594826903, 0.6995466429849003, -0.9080622620621699, 0.0037148475874004623, -0.8606836096783335, 1.5500856254168882, 0.8681259238151428, -0.25157963103361447, -0.6950867661351647, -1.2977326913712255, 1.0792884415738364, 1.9215810061890053, 1.6391562586670962, 0.8532070522380638, 0.9960034559394392, 1.0384819480958472, -0.4416790016043128, 0.6272585044640208, 1.6568382627476808, 0.17604804120284398, -0.12173009136600939, 1.786145195510604, 1.0620956079199924, -1.6487794157955151, 0.5134853837511637, -0.09341126386297298, 0.5748210842959969, -0.34773144268786665, 1.4495352760328146, 0.55589609988229, -0.19407908794453177, 1.954553549389376, -1.4401496294154514, -1.687016031719059, 0.9152212524783871, -0.9701130342584917, 0.2781872419962723, -0.42465351126078166, 0.21363104414796674, 0.6798391516567996, -0.21693900500613778, 1.1253269510990103, -0.4364919033627248, 0.5070307915178102, -0.6938482394362632, -1.4709020923143088, -0.3005468309159597, 0.10117735963741527, -0.2739784055963156, -1.592983100175776, -0.7550289749943683, -1.8804241568882007, 0.09895966465769129, 1.280991037813301, 0.18446847622744528, 2.514156053080135, 0.887922034620755, 0.22026729871991257, -0.058148079602631304, 0.11519546694262874, 1.3733167398735402, 0.7719722757739921, -0.11131557918308087, 0.12928439944667708, 0.656916890088794, 1.2254282520039692, -2.3574405969002927, 0.520182684697464, 0.49226230720825487, -0.2946532839128033, 1.5850905733271186, -0.4894593363475711, 2.6413792649821013, 0.13735097170865115, -0.9828018800837163, 0.13801858167033576, -0.6215647789215498, -0.15010559951578073, 0.39313077400096924, -0.9745423404621509, -0.41287483235514105, 1.406315163167479, 0.13788703768854482, 1.2731159007446353, -0.2163497464314463, 1.0853126714886798, 0.5353673129325547], \"y\": [-1.2116920522282546, -2.4182256642840154, -0.4467089062786822, -1.9392425928013934, 0.9457088641174468, -1.4107952784259432, 0.7722514959948863, -0.45758893217485086, -1.3697226133349176, -2.046223214968447, -0.9579602434170336, 1.4299651060248795, 0.6747291885765265, -2.446185003930176, -0.4786337657758917, -0.4937053710053525, 0.2403915067061822, 0.1756572084243671, -0.9455598067160645, -0.056992586205770676, 1.0699334051439484, 1.673208526089509, -0.6395578941823503, 0.25843104956249363, 0.9463770770249402, -1.173249590196306, -1.3898254730875272, -1.9485443421261375, -0.7990195508075936, -0.31886903775938763, -0.08574570155079406, 1.3516886194648055, 2.2149074403731497, -0.7949499836639242, 0.6349268210678864, -1.2078356601723703, 0.3787942389731917, -0.6891367639313457, 1.3739612750682195, 1.049897380525511, -0.018372121788850865, -0.2245124095889812, -1.1217196388681876, 0.13626183916315088, 0.7831733334090794, -0.29080499799221227, 0.4448251856275786, 1.146475088094464, -0.3875437175635493, -1.619961941950166, 1.9877975354122728, 0.3112587438792633, -1.0975621453609536, 1.3884885691095525, -2.253520984677293, 0.8172734212747151, 0.6798692585838515, 0.9418421759704245, -1.3652789631659974, 1.2276374079163535, -0.948723105258126, 1.2325710575478996, 1.6427249926188614, -0.008728784354691151, 1.5770304307221095, -0.9423567084179673, 0.36669310906068375, 1.4950786618013892, 0.04239700440360714, 0.7492246927132604, 0.9362248498051818, -1.0210447539510035, -0.557769626378885, 0.8585655547526226, 0.5500178298829814, 0.49205297793010305, -1.8099585130722016, 0.6170410700662037, 0.4698120642968544, 0.6243133179356815, -0.23817960494236465, -1.5594009134291225, -1.1132549789519153, 0.037206911943428185, -0.44926998300567894, -0.7848515495976766, 0.1280030808290587, 0.7618062697149731, -1.2480442658733897, -0.5126732212013174, -1.8977786099295044, 0.9258361552336678, 0.17023070984428282, 0.5668693240350743, -1.2976881194121161, -0.2908984427086773, -0.32529334782616276, 2.208923211463274, -0.3527371000449035, 0.017930464472224805]}],\n",
       "                        {\"legend\": {\"bgcolor\": \"#F5F6F9\", \"font\": {\"color\": \"#4D5663\"}}, \"paper_bgcolor\": \"#F5F6F9\", \"plot_bgcolor\": \"#F5F6F9\", \"template\": {\"data\": {\"bar\": [{\"error_x\": {\"color\": \"#2a3f5f\"}, \"error_y\": {\"color\": \"#2a3f5f\"}, \"marker\": {\"line\": {\"color\": \"#E5ECF6\", \"width\": 0.5}}, \"type\": \"bar\"}], \"barpolar\": [{\"marker\": {\"line\": {\"color\": \"#E5ECF6\", \"width\": 0.5}}, \"type\": \"barpolar\"}], \"carpet\": [{\"aaxis\": {\"endlinecolor\": \"#2a3f5f\", \"gridcolor\": \"white\", \"linecolor\": \"white\", \"minorgridcolor\": \"white\", \"startlinecolor\": \"#2a3f5f\"}, \"baxis\": {\"endlinecolor\": \"#2a3f5f\", \"gridcolor\": \"white\", \"linecolor\": \"white\", \"minorgridcolor\": \"white\", \"startlinecolor\": \"#2a3f5f\"}, \"type\": \"carpet\"}], \"choropleth\": [{\"colorbar\": {\"outlinewidth\": 0, \"ticks\": \"\"}, \"type\": \"choropleth\"}], \"contour\": [{\"colorbar\": {\"outlinewidth\": 0, \"ticks\": \"\"}, \"colorscale\": [[0.0, \"#0d0887\"], [0.1111111111111111, \"#46039f\"], [0.2222222222222222, \"#7201a8\"], [0.3333333333333333, \"#9c179e\"], [0.4444444444444444, \"#bd3786\"], [0.5555555555555556, \"#d8576b\"], [0.6666666666666666, \"#ed7953\"], [0.7777777777777778, \"#fb9f3a\"], [0.8888888888888888, \"#fdca26\"], [1.0, \"#f0f921\"]], \"type\": \"contour\"}], \"contourcarpet\": [{\"colorbar\": {\"outlinewidth\": 0, \"ticks\": \"\"}, \"type\": \"contourcarpet\"}], \"heatmap\": [{\"colorbar\": {\"outlinewidth\": 0, \"ticks\": \"\"}, \"colorscale\": [[0.0, \"#0d0887\"], [0.1111111111111111, \"#46039f\"], [0.2222222222222222, \"#7201a8\"], [0.3333333333333333, \"#9c179e\"], [0.4444444444444444, \"#bd3786\"], [0.5555555555555556, \"#d8576b\"], [0.6666666666666666, \"#ed7953\"], [0.7777777777777778, \"#fb9f3a\"], [0.8888888888888888, \"#fdca26\"], [1.0, \"#f0f921\"]], \"type\": \"heatmap\"}], \"heatmapgl\": [{\"colorbar\": {\"outlinewidth\": 0, \"ticks\": \"\"}, \"colorscale\": [[0.0, \"#0d0887\"], [0.1111111111111111, \"#46039f\"], [0.2222222222222222, \"#7201a8\"], [0.3333333333333333, \"#9c179e\"], [0.4444444444444444, \"#bd3786\"], [0.5555555555555556, \"#d8576b\"], [0.6666666666666666, \"#ed7953\"], [0.7777777777777778, \"#fb9f3a\"], [0.8888888888888888, \"#fdca26\"], [1.0, \"#f0f921\"]], \"type\": \"heatmapgl\"}], \"histogram\": [{\"marker\": {\"colorbar\": {\"outlinewidth\": 0, \"ticks\": \"\"}}, \"type\": \"histogram\"}], \"histogram2d\": [{\"colorbar\": {\"outlinewidth\": 0, \"ticks\": \"\"}, \"colorscale\": [[0.0, \"#0d0887\"], [0.1111111111111111, \"#46039f\"], [0.2222222222222222, \"#7201a8\"], [0.3333333333333333, \"#9c179e\"], [0.4444444444444444, \"#bd3786\"], [0.5555555555555556, \"#d8576b\"], [0.6666666666666666, \"#ed7953\"], [0.7777777777777778, \"#fb9f3a\"], [0.8888888888888888, \"#fdca26\"], [1.0, \"#f0f921\"]], \"type\": \"histogram2d\"}], \"histogram2dcontour\": [{\"colorbar\": {\"outlinewidth\": 0, \"ticks\": \"\"}, \"colorscale\": [[0.0, \"#0d0887\"], [0.1111111111111111, \"#46039f\"], [0.2222222222222222, \"#7201a8\"], [0.3333333333333333, \"#9c179e\"], [0.4444444444444444, \"#bd3786\"], [0.5555555555555556, \"#d8576b\"], [0.6666666666666666, \"#ed7953\"], [0.7777777777777778, \"#fb9f3a\"], [0.8888888888888888, \"#fdca26\"], [1.0, \"#f0f921\"]], \"type\": \"histogram2dcontour\"}], \"mesh3d\": [{\"colorbar\": {\"outlinewidth\": 0, \"ticks\": \"\"}, \"type\": \"mesh3d\"}], \"parcoords\": [{\"line\": {\"colorbar\": {\"outlinewidth\": 0, \"ticks\": \"\"}}, \"type\": \"parcoords\"}], \"pie\": [{\"automargin\": true, \"type\": \"pie\"}], \"scatter\": [{\"marker\": {\"colorbar\": {\"outlinewidth\": 0, \"ticks\": \"\"}}, \"type\": \"scatter\"}], \"scatter3d\": [{\"line\": {\"colorbar\": {\"outlinewidth\": 0, \"ticks\": \"\"}}, \"marker\": {\"colorbar\": {\"outlinewidth\": 0, \"ticks\": \"\"}}, \"type\": \"scatter3d\"}], \"scattercarpet\": [{\"marker\": {\"colorbar\": {\"outlinewidth\": 0, \"ticks\": \"\"}}, \"type\": \"scattercarpet\"}], \"scattergeo\": [{\"marker\": {\"colorbar\": {\"outlinewidth\": 0, \"ticks\": \"\"}}, \"type\": \"scattergeo\"}], \"scattergl\": [{\"marker\": {\"colorbar\": {\"outlinewidth\": 0, \"ticks\": \"\"}}, \"type\": \"scattergl\"}], \"scattermapbox\": [{\"marker\": {\"colorbar\": {\"outlinewidth\": 0, \"ticks\": \"\"}}, \"type\": \"scattermapbox\"}], \"scatterpolar\": [{\"marker\": {\"colorbar\": {\"outlinewidth\": 0, \"ticks\": \"\"}}, \"type\": \"scatterpolar\"}], \"scatterpolargl\": [{\"marker\": {\"colorbar\": {\"outlinewidth\": 0, \"ticks\": \"\"}}, \"type\": \"scatterpolargl\"}], \"scatterternary\": [{\"marker\": {\"colorbar\": {\"outlinewidth\": 0, \"ticks\": \"\"}}, \"type\": \"scatterternary\"}], \"surface\": [{\"colorbar\": {\"outlinewidth\": 0, \"ticks\": \"\"}, \"colorscale\": [[0.0, \"#0d0887\"], [0.1111111111111111, \"#46039f\"], [0.2222222222222222, \"#7201a8\"], [0.3333333333333333, \"#9c179e\"], [0.4444444444444444, \"#bd3786\"], [0.5555555555555556, \"#d8576b\"], [0.6666666666666666, \"#ed7953\"], [0.7777777777777778, \"#fb9f3a\"], [0.8888888888888888, \"#fdca26\"], [1.0, \"#f0f921\"]], \"type\": \"surface\"}], \"table\": [{\"cells\": {\"fill\": {\"color\": \"#EBF0F8\"}, \"line\": {\"color\": \"white\"}}, \"header\": {\"fill\": {\"color\": \"#C8D4E3\"}, \"line\": {\"color\": \"white\"}}, \"type\": \"table\"}]}, \"layout\": {\"annotationdefaults\": {\"arrowcolor\": \"#2a3f5f\", \"arrowhead\": 0, \"arrowwidth\": 1}, \"coloraxis\": {\"colorbar\": {\"outlinewidth\": 0, \"ticks\": \"\"}}, \"colorscale\": {\"diverging\": [[0, \"#8e0152\"], [0.1, \"#c51b7d\"], [0.2, \"#de77ae\"], [0.3, \"#f1b6da\"], [0.4, \"#fde0ef\"], [0.5, \"#f7f7f7\"], [0.6, \"#e6f5d0\"], [0.7, \"#b8e186\"], [0.8, \"#7fbc41\"], [0.9, \"#4d9221\"], [1, \"#276419\"]], \"sequential\": [[0.0, \"#0d0887\"], [0.1111111111111111, \"#46039f\"], [0.2222222222222222, \"#7201a8\"], [0.3333333333333333, \"#9c179e\"], [0.4444444444444444, \"#bd3786\"], [0.5555555555555556, \"#d8576b\"], [0.6666666666666666, \"#ed7953\"], [0.7777777777777778, \"#fb9f3a\"], [0.8888888888888888, \"#fdca26\"], [1.0, \"#f0f921\"]], \"sequentialminus\": [[0.0, \"#0d0887\"], [0.1111111111111111, \"#46039f\"], [0.2222222222222222, \"#7201a8\"], [0.3333333333333333, \"#9c179e\"], [0.4444444444444444, \"#bd3786\"], [0.5555555555555556, \"#d8576b\"], [0.6666666666666666, \"#ed7953\"], [0.7777777777777778, \"#fb9f3a\"], [0.8888888888888888, \"#fdca26\"], [1.0, \"#f0f921\"]]}, \"colorway\": [\"#636efa\", \"#EF553B\", \"#00cc96\", \"#ab63fa\", \"#FFA15A\", \"#19d3f3\", \"#FF6692\", \"#B6E880\", \"#FF97FF\", \"#FECB52\"], \"font\": {\"color\": \"#2a3f5f\"}, \"geo\": {\"bgcolor\": \"white\", \"lakecolor\": \"white\", \"landcolor\": \"#E5ECF6\", \"showlakes\": true, \"showland\": true, \"subunitcolor\": \"white\"}, \"hoverlabel\": {\"align\": \"left\"}, \"hovermode\": \"closest\", \"mapbox\": {\"style\": \"light\"}, \"paper_bgcolor\": \"white\", \"plot_bgcolor\": \"#E5ECF6\", \"polar\": {\"angularaxis\": {\"gridcolor\": \"white\", \"linecolor\": \"white\", \"ticks\": \"\"}, \"bgcolor\": \"#E5ECF6\", \"radialaxis\": {\"gridcolor\": \"white\", \"linecolor\": \"white\", \"ticks\": \"\"}}, \"scene\": {\"xaxis\": {\"backgroundcolor\": \"#E5ECF6\", \"gridcolor\": \"white\", \"gridwidth\": 2, \"linecolor\": \"white\", \"showbackground\": true, \"ticks\": \"\", \"zerolinecolor\": \"white\"}, \"yaxis\": {\"backgroundcolor\": \"#E5ECF6\", \"gridcolor\": \"white\", \"gridwidth\": 2, \"linecolor\": \"white\", \"showbackground\": true, \"ticks\": \"\", \"zerolinecolor\": \"white\"}, \"zaxis\": {\"backgroundcolor\": \"#E5ECF6\", \"gridcolor\": \"white\", \"gridwidth\": 2, \"linecolor\": \"white\", \"showbackground\": true, \"ticks\": \"\", \"zerolinecolor\": \"white\"}}, \"shapedefaults\": {\"line\": {\"color\": \"#2a3f5f\"}}, \"ternary\": {\"aaxis\": {\"gridcolor\": \"white\", \"linecolor\": \"white\", \"ticks\": \"\"}, \"baxis\": {\"gridcolor\": \"white\", \"linecolor\": \"white\", \"ticks\": \"\"}, \"bgcolor\": \"#E5ECF6\", \"caxis\": {\"gridcolor\": \"white\", \"linecolor\": \"white\", \"ticks\": \"\"}}, \"title\": {\"x\": 0.05}, \"xaxis\": {\"automargin\": true, \"gridcolor\": \"white\", \"linecolor\": \"white\", \"ticks\": \"\", \"title\": {\"standoff\": 15}, \"zerolinecolor\": \"white\", \"zerolinewidth\": 2}, \"yaxis\": {\"automargin\": true, \"gridcolor\": \"white\", \"linecolor\": \"white\", \"ticks\": \"\", \"title\": {\"standoff\": 15}, \"zerolinecolor\": \"white\", \"zerolinewidth\": 2}}}, \"title\": {\"font\": {\"color\": \"#4D5663\"}}, \"xaxis\": {\"gridcolor\": \"#E1E5ED\", \"showgrid\": true, \"tickfont\": {\"color\": \"#4D5663\"}, \"title\": {\"font\": {\"color\": \"#4D5663\"}, \"text\": \"\"}, \"zerolinecolor\": \"#E1E5ED\"}, \"yaxis\": {\"gridcolor\": \"#E1E5ED\", \"showgrid\": true, \"tickfont\": {\"color\": \"#4D5663\"}, \"title\": {\"font\": {\"color\": \"#4D5663\"}, \"text\": \"\"}, \"zerolinecolor\": \"#E1E5ED\"}},\n",
       "                        {\"showLink\": true, \"linkText\": \"Export to plot.ly\", \"plotlyServerURL\": \"https://plot.ly\", \"responsive\": true}\n",
       "                    ).then(function(){\n",
       "                            \n",
       "var gd = document.getElementById('75078c11-d93a-47b6-86e1-3997c3bbd196');\n",
       "var x = new MutationObserver(function (mutations, observer) {{\n",
       "        var display = window.getComputedStyle(gd).display;\n",
       "        if (!display || display === 'none') {{\n",
       "            console.log([gd, 'removed!']);\n",
       "            Plotly.purge(gd);\n",
       "            observer.disconnect();\n",
       "        }}\n",
       "}});\n",
       "\n",
       "// Listen for the removal of the full notebook cells\n",
       "var notebookContainer = gd.closest('#notebook-container');\n",
       "if (notebookContainer) {{\n",
       "    x.observe(notebookContainer, {childList: true});\n",
       "}}\n",
       "\n",
       "// Listen for the clearing of the current output cell\n",
       "var outputEl = gd.closest('.output');\n",
       "if (outputEl) {{\n",
       "    x.observe(outputEl, {childList: true});\n",
       "}}\n",
       "\n",
       "                        })\n",
       "                };\n",
       "                });\n",
       "            </script>\n",
       "        </div>"
      ]
     },
     "metadata": {},
     "output_type": "display_data"
    }
   ],
   "source": [
    "df.iplot(kind='bubble',x='A',y='B',size='C')"
   ]
  },
  {
   "cell_type": "markdown",
   "metadata": {},
   "source": [
    "## scatter_matrix()\n",
    "\n",
    "Similar to sns.pairplot()"
   ]
  },
  {
   "cell_type": "code",
   "execution_count": 20,
   "metadata": {},
   "outputs": [
    {
     "data": {
      "application/vnd.plotly.v1+json": {
       "config": {
        "linkText": "Export to plot.ly",
        "plotlyServerURL": "https://plot.ly",
        "showLink": true
       },
       "data": [
        {
         "histfunc": "count",
         "histnorm": "",
         "marker": {
          "color": "rgba(255, 153, 51, 1.0)",
          "line": {
           "color": "#4D5663",
           "width": 1.3
          }
         },
         "name": "A",
         "nbinsx": 10,
         "opacity": 0.8,
         "orientation": "v",
         "type": "histogram",
         "x": [
          -2.3454141693589876,
          0.6237775380275742,
          0.5084665209175578,
          1.0077383239871212,
          -1.596862641714782,
          -2.374942969830823,
          -1.3706328842809488,
          1.3747352172717342,
          -0.7622432557064147,
          -1.9184039896950638,
          1.5017960911885953,
          -0.7114451376865186,
          -0.29446634553217194,
          -1.4876954594826903,
          0.6995466429849003,
          -0.9080622620621699,
          0.0037148475874004623,
          -0.8606836096783335,
          1.5500856254168882,
          0.8681259238151428,
          -0.25157963103361447,
          -0.6950867661351647,
          -1.2977326913712255,
          1.0792884415738364,
          1.9215810061890053,
          1.6391562586670962,
          0.8532070522380638,
          0.9960034559394392,
          1.0384819480958472,
          -0.4416790016043128,
          0.6272585044640208,
          1.6568382627476808,
          0.17604804120284398,
          -0.12173009136600939,
          1.786145195510604,
          1.0620956079199924,
          -1.6487794157955151,
          0.5134853837511637,
          -0.09341126386297298,
          0.5748210842959969,
          -0.34773144268786665,
          1.4495352760328146,
          0.55589609988229,
          -0.19407908794453177,
          1.954553549389376,
          -1.4401496294154514,
          -1.687016031719059,
          0.9152212524783871,
          -0.9701130342584917,
          0.2781872419962723,
          -0.42465351126078166,
          0.21363104414796674,
          0.6798391516567996,
          -0.21693900500613778,
          1.1253269510990103,
          -0.4364919033627248,
          0.5070307915178102,
          -0.6938482394362632,
          -1.4709020923143088,
          -0.3005468309159597,
          0.10117735963741527,
          -0.2739784055963156,
          -1.592983100175776,
          -0.7550289749943683,
          -1.8804241568882007,
          0.09895966465769129,
          1.280991037813301,
          0.18446847622744528,
          2.514156053080135,
          0.887922034620755,
          0.22026729871991257,
          -0.058148079602631304,
          0.11519546694262874,
          1.3733167398735402,
          0.7719722757739921,
          -0.11131557918308087,
          0.12928439944667708,
          0.656916890088794,
          1.2254282520039692,
          -2.3574405969002927,
          0.520182684697464,
          0.49226230720825487,
          -0.2946532839128033,
          1.5850905733271186,
          -0.4894593363475711,
          2.6413792649821013,
          0.13735097170865115,
          -0.9828018800837163,
          0.13801858167033576,
          -0.6215647789215498,
          -0.15010559951578073,
          0.39313077400096924,
          -0.9745423404621509,
          -0.41287483235514105,
          1.406315163167479,
          0.13788703768854482,
          1.2731159007446353,
          -0.2163497464314463,
          1.0853126714886798,
          0.5353673129325547
         ],
         "xaxis": "x",
         "yaxis": "y"
        },
        {
         "line": {
          "color": "rgba(128, 128, 128, 1.0)",
          "dash": "solid",
          "shape": "linear",
          "width": 1.3
         },
         "marker": {
          "size": 2,
          "symbol": "circle"
         },
         "mode": "markers",
         "name": "A",
         "text": "",
         "type": "scatter",
         "x": [
          -1.2116920522282546,
          -2.4182256642840154,
          -0.4467089062786822,
          -1.9392425928013934,
          0.9457088641174468,
          -1.4107952784259432,
          0.7722514959948863,
          -0.45758893217485086,
          -1.3697226133349176,
          -2.046223214968447,
          -0.9579602434170336,
          1.4299651060248795,
          0.6747291885765265,
          -2.446185003930176,
          -0.4786337657758917,
          -0.4937053710053525,
          0.2403915067061822,
          0.1756572084243671,
          -0.9455598067160645,
          -0.056992586205770676,
          1.0699334051439484,
          1.673208526089509,
          -0.6395578941823503,
          0.25843104956249363,
          0.9463770770249402,
          -1.173249590196306,
          -1.3898254730875272,
          -1.9485443421261375,
          -0.7990195508075936,
          -0.31886903775938763,
          -0.08574570155079406,
          1.3516886194648055,
          2.2149074403731497,
          -0.7949499836639242,
          0.6349268210678864,
          -1.2078356601723703,
          0.3787942389731917,
          -0.6891367639313457,
          1.3739612750682195,
          1.049897380525511,
          -0.018372121788850865,
          -0.2245124095889812,
          -1.1217196388681876,
          0.13626183916315088,
          0.7831733334090794,
          -0.29080499799221227,
          0.4448251856275786,
          1.146475088094464,
          -0.3875437175635493,
          -1.619961941950166,
          1.9877975354122728,
          0.3112587438792633,
          -1.0975621453609536,
          1.3884885691095525,
          -2.253520984677293,
          0.8172734212747151,
          0.6798692585838515,
          0.9418421759704245,
          -1.3652789631659974,
          1.2276374079163535,
          -0.948723105258126,
          1.2325710575478996,
          1.6427249926188614,
          -0.008728784354691151,
          1.5770304307221095,
          -0.9423567084179673,
          0.36669310906068375,
          1.4950786618013892,
          0.04239700440360714,
          0.7492246927132604,
          0.9362248498051818,
          -1.0210447539510035,
          -0.557769626378885,
          0.8585655547526226,
          0.5500178298829814,
          0.49205297793010305,
          -1.8099585130722016,
          0.6170410700662037,
          0.4698120642968544,
          0.6243133179356815,
          -0.23817960494236465,
          -1.5594009134291225,
          -1.1132549789519153,
          0.037206911943428185,
          -0.44926998300567894,
          -0.7848515495976766,
          0.1280030808290587,
          0.7618062697149731,
          -1.2480442658733897,
          -0.5126732212013174,
          -1.8977786099295044,
          0.9258361552336678,
          0.17023070984428282,
          0.5668693240350743,
          -1.2976881194121161,
          -0.2908984427086773,
          -0.32529334782616276,
          2.208923211463274,
          -0.3527371000449035,
          0.017930464472224805
         ],
         "xaxis": "x2",
         "y": [
          -2.3454141693589876,
          0.6237775380275742,
          0.5084665209175578,
          1.0077383239871212,
          -1.596862641714782,
          -2.374942969830823,
          -1.3706328842809488,
          1.3747352172717342,
          -0.7622432557064147,
          -1.9184039896950638,
          1.5017960911885953,
          -0.7114451376865186,
          -0.29446634553217194,
          -1.4876954594826903,
          0.6995466429849003,
          -0.9080622620621699,
          0.0037148475874004623,
          -0.8606836096783335,
          1.5500856254168882,
          0.8681259238151428,
          -0.25157963103361447,
          -0.6950867661351647,
          -1.2977326913712255,
          1.0792884415738364,
          1.9215810061890053,
          1.6391562586670962,
          0.8532070522380638,
          0.9960034559394392,
          1.0384819480958472,
          -0.4416790016043128,
          0.6272585044640208,
          1.6568382627476808,
          0.17604804120284398,
          -0.12173009136600939,
          1.786145195510604,
          1.0620956079199924,
          -1.6487794157955151,
          0.5134853837511637,
          -0.09341126386297298,
          0.5748210842959969,
          -0.34773144268786665,
          1.4495352760328146,
          0.55589609988229,
          -0.19407908794453177,
          1.954553549389376,
          -1.4401496294154514,
          -1.687016031719059,
          0.9152212524783871,
          -0.9701130342584917,
          0.2781872419962723,
          -0.42465351126078166,
          0.21363104414796674,
          0.6798391516567996,
          -0.21693900500613778,
          1.1253269510990103,
          -0.4364919033627248,
          0.5070307915178102,
          -0.6938482394362632,
          -1.4709020923143088,
          -0.3005468309159597,
          0.10117735963741527,
          -0.2739784055963156,
          -1.592983100175776,
          -0.7550289749943683,
          -1.8804241568882007,
          0.09895966465769129,
          1.280991037813301,
          0.18446847622744528,
          2.514156053080135,
          0.887922034620755,
          0.22026729871991257,
          -0.058148079602631304,
          0.11519546694262874,
          1.3733167398735402,
          0.7719722757739921,
          -0.11131557918308087,
          0.12928439944667708,
          0.656916890088794,
          1.2254282520039692,
          -2.3574405969002927,
          0.520182684697464,
          0.49226230720825487,
          -0.2946532839128033,
          1.5850905733271186,
          -0.4894593363475711,
          2.6413792649821013,
          0.13735097170865115,
          -0.9828018800837163,
          0.13801858167033576,
          -0.6215647789215498,
          -0.15010559951578073,
          0.39313077400096924,
          -0.9745423404621509,
          -0.41287483235514105,
          1.406315163167479,
          0.13788703768854482,
          1.2731159007446353,
          -0.2163497464314463,
          1.0853126714886798,
          0.5353673129325547
         ],
         "yaxis": "y2"
        },
        {
         "line": {
          "color": "rgba(128, 128, 128, 1.0)",
          "dash": "solid",
          "shape": "linear",
          "width": 1.3
         },
         "marker": {
          "size": 2,
          "symbol": "circle"
         },
         "mode": "markers",
         "name": "A",
         "text": "",
         "type": "scatter",
         "x": [
          -1.3558438844649783,
          -0.8759976250780299,
          -1.5226576052910572,
          0.6859913101905638,
          -1.4745329764700488,
          0.6828771878184736,
          -1.0849106006902465,
          1.523352301399798,
          -0.9853422207451589,
          0.6932108339167925,
          0.7633868090179348,
          0.8916412099722324,
          0.050204442993994174,
          0.7423238229395155,
          1.0159031903899545,
          1.9054442649114558,
          -0.3424359452933501,
          -1.1316300670809745,
          0.2573871580683922,
          -0.15460877096012696,
          -1.0669518039993229,
          -1.62095710266104,
          1.1313206485772982,
          -0.04241686948250148,
          0.45170817231399074,
          0.6521585599767435,
          -0.08866608902559109,
          0.5450815082077972,
          -0.07550183915437703,
          0.5634332612313229,
          0.6192110696992771,
          1.328597023291623,
          0.1660352535032697,
          0.4928882922850011,
          -0.29024550597846444,
          0.49113434479810897,
          -1.7320823264752663,
          -0.13318914581762933,
          -0.32230663550846983,
          -0.8452934758305347,
          0.2804586884358228,
          -0.44216324939486046,
          -1.5693868593842886,
          0.3935376557697536,
          -1.5149644526197097,
          1.885525396279445,
          0.9230739549753205,
          0.17700846714231913,
          -0.9174290087499014,
          2.3067041365835443,
          0.8347911211930508,
          -1.213245818120258,
          -0.24678184949387347,
          0.9397310665816551,
          0.8358759383276779,
          2.5671593128238825,
          0.4975380022059849,
          0.21113908418866448,
          0.05840251974011824,
          -0.012614051025127521,
          0.696886783023304,
          0.22378385348623372,
          0.873109004056181,
          -0.32025250402305927,
          0.43733412531067234,
          -2.1796323143831837,
          1.131526488980349,
          -0.07244899849102823,
          -0.9437760466154475,
          0.8288808965124419,
          0.1647900730078459,
          -1.4977327430030567,
          -0.07078240164283371,
          -1.4672832268638136,
          -0.8957403277218311,
          1.2066408411869143,
          -0.6131415822158299,
          -0.3542694521430507,
          1.4734580494242786,
          -0.22336917295915848,
          0.7176827579863617,
          0.4179099732903556,
          -1.7543318718026637,
          -1.0046119566794123,
          1.8065138686324629,
          0.44619412525863655,
          0.14211198950617412,
          1.422548521554508,
          -2.0531765991102695,
          -1.0830746724660953,
          -0.8849179035837618,
          0.09549812911970507,
          1.1962487937594568,
          1.5150217189675301,
          -0.9410171911457614,
          -1.4334005060478348,
          -0.44280607208682105,
          0.53523974901187,
          0.37164692109689645,
          0.1040283798888921
         ],
         "xaxis": "x3",
         "y": [
          -2.3454141693589876,
          0.6237775380275742,
          0.5084665209175578,
          1.0077383239871212,
          -1.596862641714782,
          -2.374942969830823,
          -1.3706328842809488,
          1.3747352172717342,
          -0.7622432557064147,
          -1.9184039896950638,
          1.5017960911885953,
          -0.7114451376865186,
          -0.29446634553217194,
          -1.4876954594826903,
          0.6995466429849003,
          -0.9080622620621699,
          0.0037148475874004623,
          -0.8606836096783335,
          1.5500856254168882,
          0.8681259238151428,
          -0.25157963103361447,
          -0.6950867661351647,
          -1.2977326913712255,
          1.0792884415738364,
          1.9215810061890053,
          1.6391562586670962,
          0.8532070522380638,
          0.9960034559394392,
          1.0384819480958472,
          -0.4416790016043128,
          0.6272585044640208,
          1.6568382627476808,
          0.17604804120284398,
          -0.12173009136600939,
          1.786145195510604,
          1.0620956079199924,
          -1.6487794157955151,
          0.5134853837511637,
          -0.09341126386297298,
          0.5748210842959969,
          -0.34773144268786665,
          1.4495352760328146,
          0.55589609988229,
          -0.19407908794453177,
          1.954553549389376,
          -1.4401496294154514,
          -1.687016031719059,
          0.9152212524783871,
          -0.9701130342584917,
          0.2781872419962723,
          -0.42465351126078166,
          0.21363104414796674,
          0.6798391516567996,
          -0.21693900500613778,
          1.1253269510990103,
          -0.4364919033627248,
          0.5070307915178102,
          -0.6938482394362632,
          -1.4709020923143088,
          -0.3005468309159597,
          0.10117735963741527,
          -0.2739784055963156,
          -1.592983100175776,
          -0.7550289749943683,
          -1.8804241568882007,
          0.09895966465769129,
          1.280991037813301,
          0.18446847622744528,
          2.514156053080135,
          0.887922034620755,
          0.22026729871991257,
          -0.058148079602631304,
          0.11519546694262874,
          1.3733167398735402,
          0.7719722757739921,
          -0.11131557918308087,
          0.12928439944667708,
          0.656916890088794,
          1.2254282520039692,
          -2.3574405969002927,
          0.520182684697464,
          0.49226230720825487,
          -0.2946532839128033,
          1.5850905733271186,
          -0.4894593363475711,
          2.6413792649821013,
          0.13735097170865115,
          -0.9828018800837163,
          0.13801858167033576,
          -0.6215647789215498,
          -0.15010559951578073,
          0.39313077400096924,
          -0.9745423404621509,
          -0.41287483235514105,
          1.406315163167479,
          0.13788703768854482,
          1.2731159007446353,
          -0.2163497464314463,
          1.0853126714886798,
          0.5353673129325547
         ],
         "yaxis": "y3"
        },
        {
         "line": {
          "color": "rgba(128, 128, 128, 1.0)",
          "dash": "solid",
          "shape": "linear",
          "width": 1.3
         },
         "marker": {
          "size": 2,
          "symbol": "circle"
         },
         "mode": "markers",
         "name": "A",
         "text": "",
         "type": "scatter",
         "x": [
          -0.5385350988622541,
          0.545901013423756,
          -0.484352741184118,
          -0.46190751635045596,
          -0.9864472694700864,
          -0.8175474195057619,
          0.47103677748724615,
          0.675230684755957,
          -0.10416988785091413,
          -3.0498796434260305,
          2.1844358483993105,
          1.7035314838510314,
          1.1818011482558322,
          -0.05764068868728147,
          0.875240808030797,
          0.8445498239359918,
          -2.6993526916534805,
          3.5018773878275753,
          -0.5497885060867724,
          -0.11402025883309072,
          0.19040843485006825,
          -0.6094078828465187,
          0.91407171843882,
          0.32677708763507246,
          -0.7225541635588506,
          -2.8455246675306607,
          0.2593710337822382,
          -0.010714464792365598,
          0.20929993629527077,
          1.2117607161159156,
          -0.6263118673260771,
          0.18202777913921045,
          2.8839889868661213,
          -0.9394631656759914,
          -0.3382480830479188,
          -1.0316131721230972,
          -0.940759421829133,
          -1.142661400611097,
          -1.1207629798998748,
          -0.30407617327330594,
          0.01194736837885959,
          -0.5367360380188764,
          0.40792335064706836,
          0.2249811905872184,
          -1.3229022056214161,
          2.312984299958345,
          0.5165522721147605,
          0.9854095568838235,
          -1.3226052135507627,
          0.8486040230276036,
          -0.2521225960134387,
          -0.5224242350369688,
          -0.554304986298737,
          -0.5324415024467941,
          -0.3484727911798317,
          -0.7388708300901486,
          1.396927959756421,
          -0.8009571887199037,
          0.3045629564754834,
          0.6846385240046091,
          0.800656349914363,
          -0.06784582296782894,
          0.8900207825068571,
          0.21443581846267742,
          -0.280102573472488,
          2.0884667467000635,
          -0.4419798386688738,
          2.6887519963338753,
          -0.9196940630292755,
          -0.9212369832955514,
          0.8133584889109357,
          0.7173235238779602,
          1.1969024311188128,
          -1.1665944546981923,
          0.2363393276438888,
          1.6181666228688691,
          0.45301029796524706,
          1.030380009820546,
          1.26476133737168,
          1.5328111104261763,
          -1.7280659889187395,
          0.242470022573717,
          -2.174788288833403,
          1.5865000513117713,
          0.4814596575341235,
          0.5184744665088035,
          -0.7294118236889608,
          1.950115929880263,
          -0.9717717204544494,
          -0.2907075440869592,
          1.2995914390506236,
          0.8183366678883612,
          1.4025268131317277,
          0.1736542530931986,
          0.1834584779516139,
          0.5777805229615387,
          0.6905852621422153,
          1.1515404398354685,
          0.41779603838887935,
          0.2176100327546996
         ],
         "xaxis": "x4",
         "y": [
          -2.3454141693589876,
          0.6237775380275742,
          0.5084665209175578,
          1.0077383239871212,
          -1.596862641714782,
          -2.374942969830823,
          -1.3706328842809488,
          1.3747352172717342,
          -0.7622432557064147,
          -1.9184039896950638,
          1.5017960911885953,
          -0.7114451376865186,
          -0.29446634553217194,
          -1.4876954594826903,
          0.6995466429849003,
          -0.9080622620621699,
          0.0037148475874004623,
          -0.8606836096783335,
          1.5500856254168882,
          0.8681259238151428,
          -0.25157963103361447,
          -0.6950867661351647,
          -1.2977326913712255,
          1.0792884415738364,
          1.9215810061890053,
          1.6391562586670962,
          0.8532070522380638,
          0.9960034559394392,
          1.0384819480958472,
          -0.4416790016043128,
          0.6272585044640208,
          1.6568382627476808,
          0.17604804120284398,
          -0.12173009136600939,
          1.786145195510604,
          1.0620956079199924,
          -1.6487794157955151,
          0.5134853837511637,
          -0.09341126386297298,
          0.5748210842959969,
          -0.34773144268786665,
          1.4495352760328146,
          0.55589609988229,
          -0.19407908794453177,
          1.954553549389376,
          -1.4401496294154514,
          -1.687016031719059,
          0.9152212524783871,
          -0.9701130342584917,
          0.2781872419962723,
          -0.42465351126078166,
          0.21363104414796674,
          0.6798391516567996,
          -0.21693900500613778,
          1.1253269510990103,
          -0.4364919033627248,
          0.5070307915178102,
          -0.6938482394362632,
          -1.4709020923143088,
          -0.3005468309159597,
          0.10117735963741527,
          -0.2739784055963156,
          -1.592983100175776,
          -0.7550289749943683,
          -1.8804241568882007,
          0.09895966465769129,
          1.280991037813301,
          0.18446847622744528,
          2.514156053080135,
          0.887922034620755,
          0.22026729871991257,
          -0.058148079602631304,
          0.11519546694262874,
          1.3733167398735402,
          0.7719722757739921,
          -0.11131557918308087,
          0.12928439944667708,
          0.656916890088794,
          1.2254282520039692,
          -2.3574405969002927,
          0.520182684697464,
          0.49226230720825487,
          -0.2946532839128033,
          1.5850905733271186,
          -0.4894593363475711,
          2.6413792649821013,
          0.13735097170865115,
          -0.9828018800837163,
          0.13801858167033576,
          -0.6215647789215498,
          -0.15010559951578073,
          0.39313077400096924,
          -0.9745423404621509,
          -0.41287483235514105,
          1.406315163167479,
          0.13788703768854482,
          1.2731159007446353,
          -0.2163497464314463,
          1.0853126714886798,
          0.5353673129325547
         ],
         "yaxis": "y4"
        },
        {
         "line": {
          "color": "rgba(128, 128, 128, 1.0)",
          "dash": "solid",
          "shape": "linear",
          "width": 1.3
         },
         "marker": {
          "size": 2,
          "symbol": "circle"
         },
         "mode": "markers",
         "name": "B",
         "text": "",
         "type": "scatter",
         "x": [
          -2.3454141693589876,
          0.6237775380275742,
          0.5084665209175578,
          1.0077383239871212,
          -1.596862641714782,
          -2.374942969830823,
          -1.3706328842809488,
          1.3747352172717342,
          -0.7622432557064147,
          -1.9184039896950638,
          1.5017960911885953,
          -0.7114451376865186,
          -0.29446634553217194,
          -1.4876954594826903,
          0.6995466429849003,
          -0.9080622620621699,
          0.0037148475874004623,
          -0.8606836096783335,
          1.5500856254168882,
          0.8681259238151428,
          -0.25157963103361447,
          -0.6950867661351647,
          -1.2977326913712255,
          1.0792884415738364,
          1.9215810061890053,
          1.6391562586670962,
          0.8532070522380638,
          0.9960034559394392,
          1.0384819480958472,
          -0.4416790016043128,
          0.6272585044640208,
          1.6568382627476808,
          0.17604804120284398,
          -0.12173009136600939,
          1.786145195510604,
          1.0620956079199924,
          -1.6487794157955151,
          0.5134853837511637,
          -0.09341126386297298,
          0.5748210842959969,
          -0.34773144268786665,
          1.4495352760328146,
          0.55589609988229,
          -0.19407908794453177,
          1.954553549389376,
          -1.4401496294154514,
          -1.687016031719059,
          0.9152212524783871,
          -0.9701130342584917,
          0.2781872419962723,
          -0.42465351126078166,
          0.21363104414796674,
          0.6798391516567996,
          -0.21693900500613778,
          1.1253269510990103,
          -0.4364919033627248,
          0.5070307915178102,
          -0.6938482394362632,
          -1.4709020923143088,
          -0.3005468309159597,
          0.10117735963741527,
          -0.2739784055963156,
          -1.592983100175776,
          -0.7550289749943683,
          -1.8804241568882007,
          0.09895966465769129,
          1.280991037813301,
          0.18446847622744528,
          2.514156053080135,
          0.887922034620755,
          0.22026729871991257,
          -0.058148079602631304,
          0.11519546694262874,
          1.3733167398735402,
          0.7719722757739921,
          -0.11131557918308087,
          0.12928439944667708,
          0.656916890088794,
          1.2254282520039692,
          -2.3574405969002927,
          0.520182684697464,
          0.49226230720825487,
          -0.2946532839128033,
          1.5850905733271186,
          -0.4894593363475711,
          2.6413792649821013,
          0.13735097170865115,
          -0.9828018800837163,
          0.13801858167033576,
          -0.6215647789215498,
          -0.15010559951578073,
          0.39313077400096924,
          -0.9745423404621509,
          -0.41287483235514105,
          1.406315163167479,
          0.13788703768854482,
          1.2731159007446353,
          -0.2163497464314463,
          1.0853126714886798,
          0.5353673129325547
         ],
         "xaxis": "x5",
         "y": [
          -1.2116920522282546,
          -2.4182256642840154,
          -0.4467089062786822,
          -1.9392425928013934,
          0.9457088641174468,
          -1.4107952784259432,
          0.7722514959948863,
          -0.45758893217485086,
          -1.3697226133349176,
          -2.046223214968447,
          -0.9579602434170336,
          1.4299651060248795,
          0.6747291885765265,
          -2.446185003930176,
          -0.4786337657758917,
          -0.4937053710053525,
          0.2403915067061822,
          0.1756572084243671,
          -0.9455598067160645,
          -0.056992586205770676,
          1.0699334051439484,
          1.673208526089509,
          -0.6395578941823503,
          0.25843104956249363,
          0.9463770770249402,
          -1.173249590196306,
          -1.3898254730875272,
          -1.9485443421261375,
          -0.7990195508075936,
          -0.31886903775938763,
          -0.08574570155079406,
          1.3516886194648055,
          2.2149074403731497,
          -0.7949499836639242,
          0.6349268210678864,
          -1.2078356601723703,
          0.3787942389731917,
          -0.6891367639313457,
          1.3739612750682195,
          1.049897380525511,
          -0.018372121788850865,
          -0.2245124095889812,
          -1.1217196388681876,
          0.13626183916315088,
          0.7831733334090794,
          -0.29080499799221227,
          0.4448251856275786,
          1.146475088094464,
          -0.3875437175635493,
          -1.619961941950166,
          1.9877975354122728,
          0.3112587438792633,
          -1.0975621453609536,
          1.3884885691095525,
          -2.253520984677293,
          0.8172734212747151,
          0.6798692585838515,
          0.9418421759704245,
          -1.3652789631659974,
          1.2276374079163535,
          -0.948723105258126,
          1.2325710575478996,
          1.6427249926188614,
          -0.008728784354691151,
          1.5770304307221095,
          -0.9423567084179673,
          0.36669310906068375,
          1.4950786618013892,
          0.04239700440360714,
          0.7492246927132604,
          0.9362248498051818,
          -1.0210447539510035,
          -0.557769626378885,
          0.8585655547526226,
          0.5500178298829814,
          0.49205297793010305,
          -1.8099585130722016,
          0.6170410700662037,
          0.4698120642968544,
          0.6243133179356815,
          -0.23817960494236465,
          -1.5594009134291225,
          -1.1132549789519153,
          0.037206911943428185,
          -0.44926998300567894,
          -0.7848515495976766,
          0.1280030808290587,
          0.7618062697149731,
          -1.2480442658733897,
          -0.5126732212013174,
          -1.8977786099295044,
          0.9258361552336678,
          0.17023070984428282,
          0.5668693240350743,
          -1.2976881194121161,
          -0.2908984427086773,
          -0.32529334782616276,
          2.208923211463274,
          -0.3527371000449035,
          0.017930464472224805
         ],
         "yaxis": "y5"
        },
        {
         "histfunc": "count",
         "histnorm": "",
         "marker": {
          "color": "rgba(55, 128, 191, 1.0)",
          "line": {
           "color": "#4D5663",
           "width": 1.3
          }
         },
         "name": "B",
         "nbinsx": 10,
         "opacity": 0.8,
         "orientation": "v",
         "type": "histogram",
         "x": [
          -1.2116920522282546,
          -2.4182256642840154,
          -0.4467089062786822,
          -1.9392425928013934,
          0.9457088641174468,
          -1.4107952784259432,
          0.7722514959948863,
          -0.45758893217485086,
          -1.3697226133349176,
          -2.046223214968447,
          -0.9579602434170336,
          1.4299651060248795,
          0.6747291885765265,
          -2.446185003930176,
          -0.4786337657758917,
          -0.4937053710053525,
          0.2403915067061822,
          0.1756572084243671,
          -0.9455598067160645,
          -0.056992586205770676,
          1.0699334051439484,
          1.673208526089509,
          -0.6395578941823503,
          0.25843104956249363,
          0.9463770770249402,
          -1.173249590196306,
          -1.3898254730875272,
          -1.9485443421261375,
          -0.7990195508075936,
          -0.31886903775938763,
          -0.08574570155079406,
          1.3516886194648055,
          2.2149074403731497,
          -0.7949499836639242,
          0.6349268210678864,
          -1.2078356601723703,
          0.3787942389731917,
          -0.6891367639313457,
          1.3739612750682195,
          1.049897380525511,
          -0.018372121788850865,
          -0.2245124095889812,
          -1.1217196388681876,
          0.13626183916315088,
          0.7831733334090794,
          -0.29080499799221227,
          0.4448251856275786,
          1.146475088094464,
          -0.3875437175635493,
          -1.619961941950166,
          1.9877975354122728,
          0.3112587438792633,
          -1.0975621453609536,
          1.3884885691095525,
          -2.253520984677293,
          0.8172734212747151,
          0.6798692585838515,
          0.9418421759704245,
          -1.3652789631659974,
          1.2276374079163535,
          -0.948723105258126,
          1.2325710575478996,
          1.6427249926188614,
          -0.008728784354691151,
          1.5770304307221095,
          -0.9423567084179673,
          0.36669310906068375,
          1.4950786618013892,
          0.04239700440360714,
          0.7492246927132604,
          0.9362248498051818,
          -1.0210447539510035,
          -0.557769626378885,
          0.8585655547526226,
          0.5500178298829814,
          0.49205297793010305,
          -1.8099585130722016,
          0.6170410700662037,
          0.4698120642968544,
          0.6243133179356815,
          -0.23817960494236465,
          -1.5594009134291225,
          -1.1132549789519153,
          0.037206911943428185,
          -0.44926998300567894,
          -0.7848515495976766,
          0.1280030808290587,
          0.7618062697149731,
          -1.2480442658733897,
          -0.5126732212013174,
          -1.8977786099295044,
          0.9258361552336678,
          0.17023070984428282,
          0.5668693240350743,
          -1.2976881194121161,
          -0.2908984427086773,
          -0.32529334782616276,
          2.208923211463274,
          -0.3527371000449035,
          0.017930464472224805
         ],
         "xaxis": "x6",
         "yaxis": "y6"
        },
        {
         "line": {
          "color": "rgba(128, 128, 128, 1.0)",
          "dash": "solid",
          "shape": "linear",
          "width": 1.3
         },
         "marker": {
          "size": 2,
          "symbol": "circle"
         },
         "mode": "markers",
         "name": "B",
         "text": "",
         "type": "scatter",
         "x": [
          -1.3558438844649783,
          -0.8759976250780299,
          -1.5226576052910572,
          0.6859913101905638,
          -1.4745329764700488,
          0.6828771878184736,
          -1.0849106006902465,
          1.523352301399798,
          -0.9853422207451589,
          0.6932108339167925,
          0.7633868090179348,
          0.8916412099722324,
          0.050204442993994174,
          0.7423238229395155,
          1.0159031903899545,
          1.9054442649114558,
          -0.3424359452933501,
          -1.1316300670809745,
          0.2573871580683922,
          -0.15460877096012696,
          -1.0669518039993229,
          -1.62095710266104,
          1.1313206485772982,
          -0.04241686948250148,
          0.45170817231399074,
          0.6521585599767435,
          -0.08866608902559109,
          0.5450815082077972,
          -0.07550183915437703,
          0.5634332612313229,
          0.6192110696992771,
          1.328597023291623,
          0.1660352535032697,
          0.4928882922850011,
          -0.29024550597846444,
          0.49113434479810897,
          -1.7320823264752663,
          -0.13318914581762933,
          -0.32230663550846983,
          -0.8452934758305347,
          0.2804586884358228,
          -0.44216324939486046,
          -1.5693868593842886,
          0.3935376557697536,
          -1.5149644526197097,
          1.885525396279445,
          0.9230739549753205,
          0.17700846714231913,
          -0.9174290087499014,
          2.3067041365835443,
          0.8347911211930508,
          -1.213245818120258,
          -0.24678184949387347,
          0.9397310665816551,
          0.8358759383276779,
          2.5671593128238825,
          0.4975380022059849,
          0.21113908418866448,
          0.05840251974011824,
          -0.012614051025127521,
          0.696886783023304,
          0.22378385348623372,
          0.873109004056181,
          -0.32025250402305927,
          0.43733412531067234,
          -2.1796323143831837,
          1.131526488980349,
          -0.07244899849102823,
          -0.9437760466154475,
          0.8288808965124419,
          0.1647900730078459,
          -1.4977327430030567,
          -0.07078240164283371,
          -1.4672832268638136,
          -0.8957403277218311,
          1.2066408411869143,
          -0.6131415822158299,
          -0.3542694521430507,
          1.4734580494242786,
          -0.22336917295915848,
          0.7176827579863617,
          0.4179099732903556,
          -1.7543318718026637,
          -1.0046119566794123,
          1.8065138686324629,
          0.44619412525863655,
          0.14211198950617412,
          1.422548521554508,
          -2.0531765991102695,
          -1.0830746724660953,
          -0.8849179035837618,
          0.09549812911970507,
          1.1962487937594568,
          1.5150217189675301,
          -0.9410171911457614,
          -1.4334005060478348,
          -0.44280607208682105,
          0.53523974901187,
          0.37164692109689645,
          0.1040283798888921
         ],
         "xaxis": "x7",
         "y": [
          -1.2116920522282546,
          -2.4182256642840154,
          -0.4467089062786822,
          -1.9392425928013934,
          0.9457088641174468,
          -1.4107952784259432,
          0.7722514959948863,
          -0.45758893217485086,
          -1.3697226133349176,
          -2.046223214968447,
          -0.9579602434170336,
          1.4299651060248795,
          0.6747291885765265,
          -2.446185003930176,
          -0.4786337657758917,
          -0.4937053710053525,
          0.2403915067061822,
          0.1756572084243671,
          -0.9455598067160645,
          -0.056992586205770676,
          1.0699334051439484,
          1.673208526089509,
          -0.6395578941823503,
          0.25843104956249363,
          0.9463770770249402,
          -1.173249590196306,
          -1.3898254730875272,
          -1.9485443421261375,
          -0.7990195508075936,
          -0.31886903775938763,
          -0.08574570155079406,
          1.3516886194648055,
          2.2149074403731497,
          -0.7949499836639242,
          0.6349268210678864,
          -1.2078356601723703,
          0.3787942389731917,
          -0.6891367639313457,
          1.3739612750682195,
          1.049897380525511,
          -0.018372121788850865,
          -0.2245124095889812,
          -1.1217196388681876,
          0.13626183916315088,
          0.7831733334090794,
          -0.29080499799221227,
          0.4448251856275786,
          1.146475088094464,
          -0.3875437175635493,
          -1.619961941950166,
          1.9877975354122728,
          0.3112587438792633,
          -1.0975621453609536,
          1.3884885691095525,
          -2.253520984677293,
          0.8172734212747151,
          0.6798692585838515,
          0.9418421759704245,
          -1.3652789631659974,
          1.2276374079163535,
          -0.948723105258126,
          1.2325710575478996,
          1.6427249926188614,
          -0.008728784354691151,
          1.5770304307221095,
          -0.9423567084179673,
          0.36669310906068375,
          1.4950786618013892,
          0.04239700440360714,
          0.7492246927132604,
          0.9362248498051818,
          -1.0210447539510035,
          -0.557769626378885,
          0.8585655547526226,
          0.5500178298829814,
          0.49205297793010305,
          -1.8099585130722016,
          0.6170410700662037,
          0.4698120642968544,
          0.6243133179356815,
          -0.23817960494236465,
          -1.5594009134291225,
          -1.1132549789519153,
          0.037206911943428185,
          -0.44926998300567894,
          -0.7848515495976766,
          0.1280030808290587,
          0.7618062697149731,
          -1.2480442658733897,
          -0.5126732212013174,
          -1.8977786099295044,
          0.9258361552336678,
          0.17023070984428282,
          0.5668693240350743,
          -1.2976881194121161,
          -0.2908984427086773,
          -0.32529334782616276,
          2.208923211463274,
          -0.3527371000449035,
          0.017930464472224805
         ],
         "yaxis": "y7"
        },
        {
         "line": {
          "color": "rgba(128, 128, 128, 1.0)",
          "dash": "solid",
          "shape": "linear",
          "width": 1.3
         },
         "marker": {
          "size": 2,
          "symbol": "circle"
         },
         "mode": "markers",
         "name": "B",
         "text": "",
         "type": "scatter",
         "x": [
          -0.5385350988622541,
          0.545901013423756,
          -0.484352741184118,
          -0.46190751635045596,
          -0.9864472694700864,
          -0.8175474195057619,
          0.47103677748724615,
          0.675230684755957,
          -0.10416988785091413,
          -3.0498796434260305,
          2.1844358483993105,
          1.7035314838510314,
          1.1818011482558322,
          -0.05764068868728147,
          0.875240808030797,
          0.8445498239359918,
          -2.6993526916534805,
          3.5018773878275753,
          -0.5497885060867724,
          -0.11402025883309072,
          0.19040843485006825,
          -0.6094078828465187,
          0.91407171843882,
          0.32677708763507246,
          -0.7225541635588506,
          -2.8455246675306607,
          0.2593710337822382,
          -0.010714464792365598,
          0.20929993629527077,
          1.2117607161159156,
          -0.6263118673260771,
          0.18202777913921045,
          2.8839889868661213,
          -0.9394631656759914,
          -0.3382480830479188,
          -1.0316131721230972,
          -0.940759421829133,
          -1.142661400611097,
          -1.1207629798998748,
          -0.30407617327330594,
          0.01194736837885959,
          -0.5367360380188764,
          0.40792335064706836,
          0.2249811905872184,
          -1.3229022056214161,
          2.312984299958345,
          0.5165522721147605,
          0.9854095568838235,
          -1.3226052135507627,
          0.8486040230276036,
          -0.2521225960134387,
          -0.5224242350369688,
          -0.554304986298737,
          -0.5324415024467941,
          -0.3484727911798317,
          -0.7388708300901486,
          1.396927959756421,
          -0.8009571887199037,
          0.3045629564754834,
          0.6846385240046091,
          0.800656349914363,
          -0.06784582296782894,
          0.8900207825068571,
          0.21443581846267742,
          -0.280102573472488,
          2.0884667467000635,
          -0.4419798386688738,
          2.6887519963338753,
          -0.9196940630292755,
          -0.9212369832955514,
          0.8133584889109357,
          0.7173235238779602,
          1.1969024311188128,
          -1.1665944546981923,
          0.2363393276438888,
          1.6181666228688691,
          0.45301029796524706,
          1.030380009820546,
          1.26476133737168,
          1.5328111104261763,
          -1.7280659889187395,
          0.242470022573717,
          -2.174788288833403,
          1.5865000513117713,
          0.4814596575341235,
          0.5184744665088035,
          -0.7294118236889608,
          1.950115929880263,
          -0.9717717204544494,
          -0.2907075440869592,
          1.2995914390506236,
          0.8183366678883612,
          1.4025268131317277,
          0.1736542530931986,
          0.1834584779516139,
          0.5777805229615387,
          0.6905852621422153,
          1.1515404398354685,
          0.41779603838887935,
          0.2176100327546996
         ],
         "xaxis": "x8",
         "y": [
          -1.2116920522282546,
          -2.4182256642840154,
          -0.4467089062786822,
          -1.9392425928013934,
          0.9457088641174468,
          -1.4107952784259432,
          0.7722514959948863,
          -0.45758893217485086,
          -1.3697226133349176,
          -2.046223214968447,
          -0.9579602434170336,
          1.4299651060248795,
          0.6747291885765265,
          -2.446185003930176,
          -0.4786337657758917,
          -0.4937053710053525,
          0.2403915067061822,
          0.1756572084243671,
          -0.9455598067160645,
          -0.056992586205770676,
          1.0699334051439484,
          1.673208526089509,
          -0.6395578941823503,
          0.25843104956249363,
          0.9463770770249402,
          -1.173249590196306,
          -1.3898254730875272,
          -1.9485443421261375,
          -0.7990195508075936,
          -0.31886903775938763,
          -0.08574570155079406,
          1.3516886194648055,
          2.2149074403731497,
          -0.7949499836639242,
          0.6349268210678864,
          -1.2078356601723703,
          0.3787942389731917,
          -0.6891367639313457,
          1.3739612750682195,
          1.049897380525511,
          -0.018372121788850865,
          -0.2245124095889812,
          -1.1217196388681876,
          0.13626183916315088,
          0.7831733334090794,
          -0.29080499799221227,
          0.4448251856275786,
          1.146475088094464,
          -0.3875437175635493,
          -1.619961941950166,
          1.9877975354122728,
          0.3112587438792633,
          -1.0975621453609536,
          1.3884885691095525,
          -2.253520984677293,
          0.8172734212747151,
          0.6798692585838515,
          0.9418421759704245,
          -1.3652789631659974,
          1.2276374079163535,
          -0.948723105258126,
          1.2325710575478996,
          1.6427249926188614,
          -0.008728784354691151,
          1.5770304307221095,
          -0.9423567084179673,
          0.36669310906068375,
          1.4950786618013892,
          0.04239700440360714,
          0.7492246927132604,
          0.9362248498051818,
          -1.0210447539510035,
          -0.557769626378885,
          0.8585655547526226,
          0.5500178298829814,
          0.49205297793010305,
          -1.8099585130722016,
          0.6170410700662037,
          0.4698120642968544,
          0.6243133179356815,
          -0.23817960494236465,
          -1.5594009134291225,
          -1.1132549789519153,
          0.037206911943428185,
          -0.44926998300567894,
          -0.7848515495976766,
          0.1280030808290587,
          0.7618062697149731,
          -1.2480442658733897,
          -0.5126732212013174,
          -1.8977786099295044,
          0.9258361552336678,
          0.17023070984428282,
          0.5668693240350743,
          -1.2976881194121161,
          -0.2908984427086773,
          -0.32529334782616276,
          2.208923211463274,
          -0.3527371000449035,
          0.017930464472224805
         ],
         "yaxis": "y8"
        },
        {
         "line": {
          "color": "rgba(128, 128, 128, 1.0)",
          "dash": "solid",
          "shape": "linear",
          "width": 1.3
         },
         "marker": {
          "size": 2,
          "symbol": "circle"
         },
         "mode": "markers",
         "name": "C",
         "text": "",
         "type": "scatter",
         "x": [
          -2.3454141693589876,
          0.6237775380275742,
          0.5084665209175578,
          1.0077383239871212,
          -1.596862641714782,
          -2.374942969830823,
          -1.3706328842809488,
          1.3747352172717342,
          -0.7622432557064147,
          -1.9184039896950638,
          1.5017960911885953,
          -0.7114451376865186,
          -0.29446634553217194,
          -1.4876954594826903,
          0.6995466429849003,
          -0.9080622620621699,
          0.0037148475874004623,
          -0.8606836096783335,
          1.5500856254168882,
          0.8681259238151428,
          -0.25157963103361447,
          -0.6950867661351647,
          -1.2977326913712255,
          1.0792884415738364,
          1.9215810061890053,
          1.6391562586670962,
          0.8532070522380638,
          0.9960034559394392,
          1.0384819480958472,
          -0.4416790016043128,
          0.6272585044640208,
          1.6568382627476808,
          0.17604804120284398,
          -0.12173009136600939,
          1.786145195510604,
          1.0620956079199924,
          -1.6487794157955151,
          0.5134853837511637,
          -0.09341126386297298,
          0.5748210842959969,
          -0.34773144268786665,
          1.4495352760328146,
          0.55589609988229,
          -0.19407908794453177,
          1.954553549389376,
          -1.4401496294154514,
          -1.687016031719059,
          0.9152212524783871,
          -0.9701130342584917,
          0.2781872419962723,
          -0.42465351126078166,
          0.21363104414796674,
          0.6798391516567996,
          -0.21693900500613778,
          1.1253269510990103,
          -0.4364919033627248,
          0.5070307915178102,
          -0.6938482394362632,
          -1.4709020923143088,
          -0.3005468309159597,
          0.10117735963741527,
          -0.2739784055963156,
          -1.592983100175776,
          -0.7550289749943683,
          -1.8804241568882007,
          0.09895966465769129,
          1.280991037813301,
          0.18446847622744528,
          2.514156053080135,
          0.887922034620755,
          0.22026729871991257,
          -0.058148079602631304,
          0.11519546694262874,
          1.3733167398735402,
          0.7719722757739921,
          -0.11131557918308087,
          0.12928439944667708,
          0.656916890088794,
          1.2254282520039692,
          -2.3574405969002927,
          0.520182684697464,
          0.49226230720825487,
          -0.2946532839128033,
          1.5850905733271186,
          -0.4894593363475711,
          2.6413792649821013,
          0.13735097170865115,
          -0.9828018800837163,
          0.13801858167033576,
          -0.6215647789215498,
          -0.15010559951578073,
          0.39313077400096924,
          -0.9745423404621509,
          -0.41287483235514105,
          1.406315163167479,
          0.13788703768854482,
          1.2731159007446353,
          -0.2163497464314463,
          1.0853126714886798,
          0.5353673129325547
         ],
         "xaxis": "x9",
         "y": [
          -1.3558438844649783,
          -0.8759976250780299,
          -1.5226576052910572,
          0.6859913101905638,
          -1.4745329764700488,
          0.6828771878184736,
          -1.0849106006902465,
          1.523352301399798,
          -0.9853422207451589,
          0.6932108339167925,
          0.7633868090179348,
          0.8916412099722324,
          0.050204442993994174,
          0.7423238229395155,
          1.0159031903899545,
          1.9054442649114558,
          -0.3424359452933501,
          -1.1316300670809745,
          0.2573871580683922,
          -0.15460877096012696,
          -1.0669518039993229,
          -1.62095710266104,
          1.1313206485772982,
          -0.04241686948250148,
          0.45170817231399074,
          0.6521585599767435,
          -0.08866608902559109,
          0.5450815082077972,
          -0.07550183915437703,
          0.5634332612313229,
          0.6192110696992771,
          1.328597023291623,
          0.1660352535032697,
          0.4928882922850011,
          -0.29024550597846444,
          0.49113434479810897,
          -1.7320823264752663,
          -0.13318914581762933,
          -0.32230663550846983,
          -0.8452934758305347,
          0.2804586884358228,
          -0.44216324939486046,
          -1.5693868593842886,
          0.3935376557697536,
          -1.5149644526197097,
          1.885525396279445,
          0.9230739549753205,
          0.17700846714231913,
          -0.9174290087499014,
          2.3067041365835443,
          0.8347911211930508,
          -1.213245818120258,
          -0.24678184949387347,
          0.9397310665816551,
          0.8358759383276779,
          2.5671593128238825,
          0.4975380022059849,
          0.21113908418866448,
          0.05840251974011824,
          -0.012614051025127521,
          0.696886783023304,
          0.22378385348623372,
          0.873109004056181,
          -0.32025250402305927,
          0.43733412531067234,
          -2.1796323143831837,
          1.131526488980349,
          -0.07244899849102823,
          -0.9437760466154475,
          0.8288808965124419,
          0.1647900730078459,
          -1.4977327430030567,
          -0.07078240164283371,
          -1.4672832268638136,
          -0.8957403277218311,
          1.2066408411869143,
          -0.6131415822158299,
          -0.3542694521430507,
          1.4734580494242786,
          -0.22336917295915848,
          0.7176827579863617,
          0.4179099732903556,
          -1.7543318718026637,
          -1.0046119566794123,
          1.8065138686324629,
          0.44619412525863655,
          0.14211198950617412,
          1.422548521554508,
          -2.0531765991102695,
          -1.0830746724660953,
          -0.8849179035837618,
          0.09549812911970507,
          1.1962487937594568,
          1.5150217189675301,
          -0.9410171911457614,
          -1.4334005060478348,
          -0.44280607208682105,
          0.53523974901187,
          0.37164692109689645,
          0.1040283798888921
         ],
         "yaxis": "y9"
        },
        {
         "line": {
          "color": "rgba(128, 128, 128, 1.0)",
          "dash": "solid",
          "shape": "linear",
          "width": 1.3
         },
         "marker": {
          "size": 2,
          "symbol": "circle"
         },
         "mode": "markers",
         "name": "C",
         "text": "",
         "type": "scatter",
         "x": [
          -1.2116920522282546,
          -2.4182256642840154,
          -0.4467089062786822,
          -1.9392425928013934,
          0.9457088641174468,
          -1.4107952784259432,
          0.7722514959948863,
          -0.45758893217485086,
          -1.3697226133349176,
          -2.046223214968447,
          -0.9579602434170336,
          1.4299651060248795,
          0.6747291885765265,
          -2.446185003930176,
          -0.4786337657758917,
          -0.4937053710053525,
          0.2403915067061822,
          0.1756572084243671,
          -0.9455598067160645,
          -0.056992586205770676,
          1.0699334051439484,
          1.673208526089509,
          -0.6395578941823503,
          0.25843104956249363,
          0.9463770770249402,
          -1.173249590196306,
          -1.3898254730875272,
          -1.9485443421261375,
          -0.7990195508075936,
          -0.31886903775938763,
          -0.08574570155079406,
          1.3516886194648055,
          2.2149074403731497,
          -0.7949499836639242,
          0.6349268210678864,
          -1.2078356601723703,
          0.3787942389731917,
          -0.6891367639313457,
          1.3739612750682195,
          1.049897380525511,
          -0.018372121788850865,
          -0.2245124095889812,
          -1.1217196388681876,
          0.13626183916315088,
          0.7831733334090794,
          -0.29080499799221227,
          0.4448251856275786,
          1.146475088094464,
          -0.3875437175635493,
          -1.619961941950166,
          1.9877975354122728,
          0.3112587438792633,
          -1.0975621453609536,
          1.3884885691095525,
          -2.253520984677293,
          0.8172734212747151,
          0.6798692585838515,
          0.9418421759704245,
          -1.3652789631659974,
          1.2276374079163535,
          -0.948723105258126,
          1.2325710575478996,
          1.6427249926188614,
          -0.008728784354691151,
          1.5770304307221095,
          -0.9423567084179673,
          0.36669310906068375,
          1.4950786618013892,
          0.04239700440360714,
          0.7492246927132604,
          0.9362248498051818,
          -1.0210447539510035,
          -0.557769626378885,
          0.8585655547526226,
          0.5500178298829814,
          0.49205297793010305,
          -1.8099585130722016,
          0.6170410700662037,
          0.4698120642968544,
          0.6243133179356815,
          -0.23817960494236465,
          -1.5594009134291225,
          -1.1132549789519153,
          0.037206911943428185,
          -0.44926998300567894,
          -0.7848515495976766,
          0.1280030808290587,
          0.7618062697149731,
          -1.2480442658733897,
          -0.5126732212013174,
          -1.8977786099295044,
          0.9258361552336678,
          0.17023070984428282,
          0.5668693240350743,
          -1.2976881194121161,
          -0.2908984427086773,
          -0.32529334782616276,
          2.208923211463274,
          -0.3527371000449035,
          0.017930464472224805
         ],
         "xaxis": "x10",
         "y": [
          -1.3558438844649783,
          -0.8759976250780299,
          -1.5226576052910572,
          0.6859913101905638,
          -1.4745329764700488,
          0.6828771878184736,
          -1.0849106006902465,
          1.523352301399798,
          -0.9853422207451589,
          0.6932108339167925,
          0.7633868090179348,
          0.8916412099722324,
          0.050204442993994174,
          0.7423238229395155,
          1.0159031903899545,
          1.9054442649114558,
          -0.3424359452933501,
          -1.1316300670809745,
          0.2573871580683922,
          -0.15460877096012696,
          -1.0669518039993229,
          -1.62095710266104,
          1.1313206485772982,
          -0.04241686948250148,
          0.45170817231399074,
          0.6521585599767435,
          -0.08866608902559109,
          0.5450815082077972,
          -0.07550183915437703,
          0.5634332612313229,
          0.6192110696992771,
          1.328597023291623,
          0.1660352535032697,
          0.4928882922850011,
          -0.29024550597846444,
          0.49113434479810897,
          -1.7320823264752663,
          -0.13318914581762933,
          -0.32230663550846983,
          -0.8452934758305347,
          0.2804586884358228,
          -0.44216324939486046,
          -1.5693868593842886,
          0.3935376557697536,
          -1.5149644526197097,
          1.885525396279445,
          0.9230739549753205,
          0.17700846714231913,
          -0.9174290087499014,
          2.3067041365835443,
          0.8347911211930508,
          -1.213245818120258,
          -0.24678184949387347,
          0.9397310665816551,
          0.8358759383276779,
          2.5671593128238825,
          0.4975380022059849,
          0.21113908418866448,
          0.05840251974011824,
          -0.012614051025127521,
          0.696886783023304,
          0.22378385348623372,
          0.873109004056181,
          -0.32025250402305927,
          0.43733412531067234,
          -2.1796323143831837,
          1.131526488980349,
          -0.07244899849102823,
          -0.9437760466154475,
          0.8288808965124419,
          0.1647900730078459,
          -1.4977327430030567,
          -0.07078240164283371,
          -1.4672832268638136,
          -0.8957403277218311,
          1.2066408411869143,
          -0.6131415822158299,
          -0.3542694521430507,
          1.4734580494242786,
          -0.22336917295915848,
          0.7176827579863617,
          0.4179099732903556,
          -1.7543318718026637,
          -1.0046119566794123,
          1.8065138686324629,
          0.44619412525863655,
          0.14211198950617412,
          1.422548521554508,
          -2.0531765991102695,
          -1.0830746724660953,
          -0.8849179035837618,
          0.09549812911970507,
          1.1962487937594568,
          1.5150217189675301,
          -0.9410171911457614,
          -1.4334005060478348,
          -0.44280607208682105,
          0.53523974901187,
          0.37164692109689645,
          0.1040283798888921
         ],
         "yaxis": "y10"
        },
        {
         "histfunc": "count",
         "histnorm": "",
         "marker": {
          "color": "rgba(50, 171, 96, 1.0)",
          "line": {
           "color": "#4D5663",
           "width": 1.3
          }
         },
         "name": "C",
         "nbinsx": 10,
         "opacity": 0.8,
         "orientation": "v",
         "type": "histogram",
         "x": [
          -1.3558438844649783,
          -0.8759976250780299,
          -1.5226576052910572,
          0.6859913101905638,
          -1.4745329764700488,
          0.6828771878184736,
          -1.0849106006902465,
          1.523352301399798,
          -0.9853422207451589,
          0.6932108339167925,
          0.7633868090179348,
          0.8916412099722324,
          0.050204442993994174,
          0.7423238229395155,
          1.0159031903899545,
          1.9054442649114558,
          -0.3424359452933501,
          -1.1316300670809745,
          0.2573871580683922,
          -0.15460877096012696,
          -1.0669518039993229,
          -1.62095710266104,
          1.1313206485772982,
          -0.04241686948250148,
          0.45170817231399074,
          0.6521585599767435,
          -0.08866608902559109,
          0.5450815082077972,
          -0.07550183915437703,
          0.5634332612313229,
          0.6192110696992771,
          1.328597023291623,
          0.1660352535032697,
          0.4928882922850011,
          -0.29024550597846444,
          0.49113434479810897,
          -1.7320823264752663,
          -0.13318914581762933,
          -0.32230663550846983,
          -0.8452934758305347,
          0.2804586884358228,
          -0.44216324939486046,
          -1.5693868593842886,
          0.3935376557697536,
          -1.5149644526197097,
          1.885525396279445,
          0.9230739549753205,
          0.17700846714231913,
          -0.9174290087499014,
          2.3067041365835443,
          0.8347911211930508,
          -1.213245818120258,
          -0.24678184949387347,
          0.9397310665816551,
          0.8358759383276779,
          2.5671593128238825,
          0.4975380022059849,
          0.21113908418866448,
          0.05840251974011824,
          -0.012614051025127521,
          0.696886783023304,
          0.22378385348623372,
          0.873109004056181,
          -0.32025250402305927,
          0.43733412531067234,
          -2.1796323143831837,
          1.131526488980349,
          -0.07244899849102823,
          -0.9437760466154475,
          0.8288808965124419,
          0.1647900730078459,
          -1.4977327430030567,
          -0.07078240164283371,
          -1.4672832268638136,
          -0.8957403277218311,
          1.2066408411869143,
          -0.6131415822158299,
          -0.3542694521430507,
          1.4734580494242786,
          -0.22336917295915848,
          0.7176827579863617,
          0.4179099732903556,
          -1.7543318718026637,
          -1.0046119566794123,
          1.8065138686324629,
          0.44619412525863655,
          0.14211198950617412,
          1.422548521554508,
          -2.0531765991102695,
          -1.0830746724660953,
          -0.8849179035837618,
          0.09549812911970507,
          1.1962487937594568,
          1.5150217189675301,
          -0.9410171911457614,
          -1.4334005060478348,
          -0.44280607208682105,
          0.53523974901187,
          0.37164692109689645,
          0.1040283798888921
         ],
         "xaxis": "x11",
         "yaxis": "y11"
        },
        {
         "line": {
          "color": "rgba(128, 128, 128, 1.0)",
          "dash": "solid",
          "shape": "linear",
          "width": 1.3
         },
         "marker": {
          "size": 2,
          "symbol": "circle"
         },
         "mode": "markers",
         "name": "C",
         "text": "",
         "type": "scatter",
         "x": [
          -0.5385350988622541,
          0.545901013423756,
          -0.484352741184118,
          -0.46190751635045596,
          -0.9864472694700864,
          -0.8175474195057619,
          0.47103677748724615,
          0.675230684755957,
          -0.10416988785091413,
          -3.0498796434260305,
          2.1844358483993105,
          1.7035314838510314,
          1.1818011482558322,
          -0.05764068868728147,
          0.875240808030797,
          0.8445498239359918,
          -2.6993526916534805,
          3.5018773878275753,
          -0.5497885060867724,
          -0.11402025883309072,
          0.19040843485006825,
          -0.6094078828465187,
          0.91407171843882,
          0.32677708763507246,
          -0.7225541635588506,
          -2.8455246675306607,
          0.2593710337822382,
          -0.010714464792365598,
          0.20929993629527077,
          1.2117607161159156,
          -0.6263118673260771,
          0.18202777913921045,
          2.8839889868661213,
          -0.9394631656759914,
          -0.3382480830479188,
          -1.0316131721230972,
          -0.940759421829133,
          -1.142661400611097,
          -1.1207629798998748,
          -0.30407617327330594,
          0.01194736837885959,
          -0.5367360380188764,
          0.40792335064706836,
          0.2249811905872184,
          -1.3229022056214161,
          2.312984299958345,
          0.5165522721147605,
          0.9854095568838235,
          -1.3226052135507627,
          0.8486040230276036,
          -0.2521225960134387,
          -0.5224242350369688,
          -0.554304986298737,
          -0.5324415024467941,
          -0.3484727911798317,
          -0.7388708300901486,
          1.396927959756421,
          -0.8009571887199037,
          0.3045629564754834,
          0.6846385240046091,
          0.800656349914363,
          -0.06784582296782894,
          0.8900207825068571,
          0.21443581846267742,
          -0.280102573472488,
          2.0884667467000635,
          -0.4419798386688738,
          2.6887519963338753,
          -0.9196940630292755,
          -0.9212369832955514,
          0.8133584889109357,
          0.7173235238779602,
          1.1969024311188128,
          -1.1665944546981923,
          0.2363393276438888,
          1.6181666228688691,
          0.45301029796524706,
          1.030380009820546,
          1.26476133737168,
          1.5328111104261763,
          -1.7280659889187395,
          0.242470022573717,
          -2.174788288833403,
          1.5865000513117713,
          0.4814596575341235,
          0.5184744665088035,
          -0.7294118236889608,
          1.950115929880263,
          -0.9717717204544494,
          -0.2907075440869592,
          1.2995914390506236,
          0.8183366678883612,
          1.4025268131317277,
          0.1736542530931986,
          0.1834584779516139,
          0.5777805229615387,
          0.6905852621422153,
          1.1515404398354685,
          0.41779603838887935,
          0.2176100327546996
         ],
         "xaxis": "x12",
         "y": [
          -1.3558438844649783,
          -0.8759976250780299,
          -1.5226576052910572,
          0.6859913101905638,
          -1.4745329764700488,
          0.6828771878184736,
          -1.0849106006902465,
          1.523352301399798,
          -0.9853422207451589,
          0.6932108339167925,
          0.7633868090179348,
          0.8916412099722324,
          0.050204442993994174,
          0.7423238229395155,
          1.0159031903899545,
          1.9054442649114558,
          -0.3424359452933501,
          -1.1316300670809745,
          0.2573871580683922,
          -0.15460877096012696,
          -1.0669518039993229,
          -1.62095710266104,
          1.1313206485772982,
          -0.04241686948250148,
          0.45170817231399074,
          0.6521585599767435,
          -0.08866608902559109,
          0.5450815082077972,
          -0.07550183915437703,
          0.5634332612313229,
          0.6192110696992771,
          1.328597023291623,
          0.1660352535032697,
          0.4928882922850011,
          -0.29024550597846444,
          0.49113434479810897,
          -1.7320823264752663,
          -0.13318914581762933,
          -0.32230663550846983,
          -0.8452934758305347,
          0.2804586884358228,
          -0.44216324939486046,
          -1.5693868593842886,
          0.3935376557697536,
          -1.5149644526197097,
          1.885525396279445,
          0.9230739549753205,
          0.17700846714231913,
          -0.9174290087499014,
          2.3067041365835443,
          0.8347911211930508,
          -1.213245818120258,
          -0.24678184949387347,
          0.9397310665816551,
          0.8358759383276779,
          2.5671593128238825,
          0.4975380022059849,
          0.21113908418866448,
          0.05840251974011824,
          -0.012614051025127521,
          0.696886783023304,
          0.22378385348623372,
          0.873109004056181,
          -0.32025250402305927,
          0.43733412531067234,
          -2.1796323143831837,
          1.131526488980349,
          -0.07244899849102823,
          -0.9437760466154475,
          0.8288808965124419,
          0.1647900730078459,
          -1.4977327430030567,
          -0.07078240164283371,
          -1.4672832268638136,
          -0.8957403277218311,
          1.2066408411869143,
          -0.6131415822158299,
          -0.3542694521430507,
          1.4734580494242786,
          -0.22336917295915848,
          0.7176827579863617,
          0.4179099732903556,
          -1.7543318718026637,
          -1.0046119566794123,
          1.8065138686324629,
          0.44619412525863655,
          0.14211198950617412,
          1.422548521554508,
          -2.0531765991102695,
          -1.0830746724660953,
          -0.8849179035837618,
          0.09549812911970507,
          1.1962487937594568,
          1.5150217189675301,
          -0.9410171911457614,
          -1.4334005060478348,
          -0.44280607208682105,
          0.53523974901187,
          0.37164692109689645,
          0.1040283798888921
         ],
         "yaxis": "y12"
        },
        {
         "line": {
          "color": "rgba(128, 128, 128, 1.0)",
          "dash": "solid",
          "shape": "linear",
          "width": 1.3
         },
         "marker": {
          "size": 2,
          "symbol": "circle"
         },
         "mode": "markers",
         "name": "D",
         "text": "",
         "type": "scatter",
         "x": [
          -2.3454141693589876,
          0.6237775380275742,
          0.5084665209175578,
          1.0077383239871212,
          -1.596862641714782,
          -2.374942969830823,
          -1.3706328842809488,
          1.3747352172717342,
          -0.7622432557064147,
          -1.9184039896950638,
          1.5017960911885953,
          -0.7114451376865186,
          -0.29446634553217194,
          -1.4876954594826903,
          0.6995466429849003,
          -0.9080622620621699,
          0.0037148475874004623,
          -0.8606836096783335,
          1.5500856254168882,
          0.8681259238151428,
          -0.25157963103361447,
          -0.6950867661351647,
          -1.2977326913712255,
          1.0792884415738364,
          1.9215810061890053,
          1.6391562586670962,
          0.8532070522380638,
          0.9960034559394392,
          1.0384819480958472,
          -0.4416790016043128,
          0.6272585044640208,
          1.6568382627476808,
          0.17604804120284398,
          -0.12173009136600939,
          1.786145195510604,
          1.0620956079199924,
          -1.6487794157955151,
          0.5134853837511637,
          -0.09341126386297298,
          0.5748210842959969,
          -0.34773144268786665,
          1.4495352760328146,
          0.55589609988229,
          -0.19407908794453177,
          1.954553549389376,
          -1.4401496294154514,
          -1.687016031719059,
          0.9152212524783871,
          -0.9701130342584917,
          0.2781872419962723,
          -0.42465351126078166,
          0.21363104414796674,
          0.6798391516567996,
          -0.21693900500613778,
          1.1253269510990103,
          -0.4364919033627248,
          0.5070307915178102,
          -0.6938482394362632,
          -1.4709020923143088,
          -0.3005468309159597,
          0.10117735963741527,
          -0.2739784055963156,
          -1.592983100175776,
          -0.7550289749943683,
          -1.8804241568882007,
          0.09895966465769129,
          1.280991037813301,
          0.18446847622744528,
          2.514156053080135,
          0.887922034620755,
          0.22026729871991257,
          -0.058148079602631304,
          0.11519546694262874,
          1.3733167398735402,
          0.7719722757739921,
          -0.11131557918308087,
          0.12928439944667708,
          0.656916890088794,
          1.2254282520039692,
          -2.3574405969002927,
          0.520182684697464,
          0.49226230720825487,
          -0.2946532839128033,
          1.5850905733271186,
          -0.4894593363475711,
          2.6413792649821013,
          0.13735097170865115,
          -0.9828018800837163,
          0.13801858167033576,
          -0.6215647789215498,
          -0.15010559951578073,
          0.39313077400096924,
          -0.9745423404621509,
          -0.41287483235514105,
          1.406315163167479,
          0.13788703768854482,
          1.2731159007446353,
          -0.2163497464314463,
          1.0853126714886798,
          0.5353673129325547
         ],
         "xaxis": "x13",
         "y": [
          -0.5385350988622541,
          0.545901013423756,
          -0.484352741184118,
          -0.46190751635045596,
          -0.9864472694700864,
          -0.8175474195057619,
          0.47103677748724615,
          0.675230684755957,
          -0.10416988785091413,
          -3.0498796434260305,
          2.1844358483993105,
          1.7035314838510314,
          1.1818011482558322,
          -0.05764068868728147,
          0.875240808030797,
          0.8445498239359918,
          -2.6993526916534805,
          3.5018773878275753,
          -0.5497885060867724,
          -0.11402025883309072,
          0.19040843485006825,
          -0.6094078828465187,
          0.91407171843882,
          0.32677708763507246,
          -0.7225541635588506,
          -2.8455246675306607,
          0.2593710337822382,
          -0.010714464792365598,
          0.20929993629527077,
          1.2117607161159156,
          -0.6263118673260771,
          0.18202777913921045,
          2.8839889868661213,
          -0.9394631656759914,
          -0.3382480830479188,
          -1.0316131721230972,
          -0.940759421829133,
          -1.142661400611097,
          -1.1207629798998748,
          -0.30407617327330594,
          0.01194736837885959,
          -0.5367360380188764,
          0.40792335064706836,
          0.2249811905872184,
          -1.3229022056214161,
          2.312984299958345,
          0.5165522721147605,
          0.9854095568838235,
          -1.3226052135507627,
          0.8486040230276036,
          -0.2521225960134387,
          -0.5224242350369688,
          -0.554304986298737,
          -0.5324415024467941,
          -0.3484727911798317,
          -0.7388708300901486,
          1.396927959756421,
          -0.8009571887199037,
          0.3045629564754834,
          0.6846385240046091,
          0.800656349914363,
          -0.06784582296782894,
          0.8900207825068571,
          0.21443581846267742,
          -0.280102573472488,
          2.0884667467000635,
          -0.4419798386688738,
          2.6887519963338753,
          -0.9196940630292755,
          -0.9212369832955514,
          0.8133584889109357,
          0.7173235238779602,
          1.1969024311188128,
          -1.1665944546981923,
          0.2363393276438888,
          1.6181666228688691,
          0.45301029796524706,
          1.030380009820546,
          1.26476133737168,
          1.5328111104261763,
          -1.7280659889187395,
          0.242470022573717,
          -2.174788288833403,
          1.5865000513117713,
          0.4814596575341235,
          0.5184744665088035,
          -0.7294118236889608,
          1.950115929880263,
          -0.9717717204544494,
          -0.2907075440869592,
          1.2995914390506236,
          0.8183366678883612,
          1.4025268131317277,
          0.1736542530931986,
          0.1834584779516139,
          0.5777805229615387,
          0.6905852621422153,
          1.1515404398354685,
          0.41779603838887935,
          0.2176100327546996
         ],
         "yaxis": "y13"
        },
        {
         "line": {
          "color": "rgba(128, 128, 128, 1.0)",
          "dash": "solid",
          "shape": "linear",
          "width": 1.3
         },
         "marker": {
          "size": 2,
          "symbol": "circle"
         },
         "mode": "markers",
         "name": "D",
         "text": "",
         "type": "scatter",
         "x": [
          -1.2116920522282546,
          -2.4182256642840154,
          -0.4467089062786822,
          -1.9392425928013934,
          0.9457088641174468,
          -1.4107952784259432,
          0.7722514959948863,
          -0.45758893217485086,
          -1.3697226133349176,
          -2.046223214968447,
          -0.9579602434170336,
          1.4299651060248795,
          0.6747291885765265,
          -2.446185003930176,
          -0.4786337657758917,
          -0.4937053710053525,
          0.2403915067061822,
          0.1756572084243671,
          -0.9455598067160645,
          -0.056992586205770676,
          1.0699334051439484,
          1.673208526089509,
          -0.6395578941823503,
          0.25843104956249363,
          0.9463770770249402,
          -1.173249590196306,
          -1.3898254730875272,
          -1.9485443421261375,
          -0.7990195508075936,
          -0.31886903775938763,
          -0.08574570155079406,
          1.3516886194648055,
          2.2149074403731497,
          -0.7949499836639242,
          0.6349268210678864,
          -1.2078356601723703,
          0.3787942389731917,
          -0.6891367639313457,
          1.3739612750682195,
          1.049897380525511,
          -0.018372121788850865,
          -0.2245124095889812,
          -1.1217196388681876,
          0.13626183916315088,
          0.7831733334090794,
          -0.29080499799221227,
          0.4448251856275786,
          1.146475088094464,
          -0.3875437175635493,
          -1.619961941950166,
          1.9877975354122728,
          0.3112587438792633,
          -1.0975621453609536,
          1.3884885691095525,
          -2.253520984677293,
          0.8172734212747151,
          0.6798692585838515,
          0.9418421759704245,
          -1.3652789631659974,
          1.2276374079163535,
          -0.948723105258126,
          1.2325710575478996,
          1.6427249926188614,
          -0.008728784354691151,
          1.5770304307221095,
          -0.9423567084179673,
          0.36669310906068375,
          1.4950786618013892,
          0.04239700440360714,
          0.7492246927132604,
          0.9362248498051818,
          -1.0210447539510035,
          -0.557769626378885,
          0.8585655547526226,
          0.5500178298829814,
          0.49205297793010305,
          -1.8099585130722016,
          0.6170410700662037,
          0.4698120642968544,
          0.6243133179356815,
          -0.23817960494236465,
          -1.5594009134291225,
          -1.1132549789519153,
          0.037206911943428185,
          -0.44926998300567894,
          -0.7848515495976766,
          0.1280030808290587,
          0.7618062697149731,
          -1.2480442658733897,
          -0.5126732212013174,
          -1.8977786099295044,
          0.9258361552336678,
          0.17023070984428282,
          0.5668693240350743,
          -1.2976881194121161,
          -0.2908984427086773,
          -0.32529334782616276,
          2.208923211463274,
          -0.3527371000449035,
          0.017930464472224805
         ],
         "xaxis": "x14",
         "y": [
          -0.5385350988622541,
          0.545901013423756,
          -0.484352741184118,
          -0.46190751635045596,
          -0.9864472694700864,
          -0.8175474195057619,
          0.47103677748724615,
          0.675230684755957,
          -0.10416988785091413,
          -3.0498796434260305,
          2.1844358483993105,
          1.7035314838510314,
          1.1818011482558322,
          -0.05764068868728147,
          0.875240808030797,
          0.8445498239359918,
          -2.6993526916534805,
          3.5018773878275753,
          -0.5497885060867724,
          -0.11402025883309072,
          0.19040843485006825,
          -0.6094078828465187,
          0.91407171843882,
          0.32677708763507246,
          -0.7225541635588506,
          -2.8455246675306607,
          0.2593710337822382,
          -0.010714464792365598,
          0.20929993629527077,
          1.2117607161159156,
          -0.6263118673260771,
          0.18202777913921045,
          2.8839889868661213,
          -0.9394631656759914,
          -0.3382480830479188,
          -1.0316131721230972,
          -0.940759421829133,
          -1.142661400611097,
          -1.1207629798998748,
          -0.30407617327330594,
          0.01194736837885959,
          -0.5367360380188764,
          0.40792335064706836,
          0.2249811905872184,
          -1.3229022056214161,
          2.312984299958345,
          0.5165522721147605,
          0.9854095568838235,
          -1.3226052135507627,
          0.8486040230276036,
          -0.2521225960134387,
          -0.5224242350369688,
          -0.554304986298737,
          -0.5324415024467941,
          -0.3484727911798317,
          -0.7388708300901486,
          1.396927959756421,
          -0.8009571887199037,
          0.3045629564754834,
          0.6846385240046091,
          0.800656349914363,
          -0.06784582296782894,
          0.8900207825068571,
          0.21443581846267742,
          -0.280102573472488,
          2.0884667467000635,
          -0.4419798386688738,
          2.6887519963338753,
          -0.9196940630292755,
          -0.9212369832955514,
          0.8133584889109357,
          0.7173235238779602,
          1.1969024311188128,
          -1.1665944546981923,
          0.2363393276438888,
          1.6181666228688691,
          0.45301029796524706,
          1.030380009820546,
          1.26476133737168,
          1.5328111104261763,
          -1.7280659889187395,
          0.242470022573717,
          -2.174788288833403,
          1.5865000513117713,
          0.4814596575341235,
          0.5184744665088035,
          -0.7294118236889608,
          1.950115929880263,
          -0.9717717204544494,
          -0.2907075440869592,
          1.2995914390506236,
          0.8183366678883612,
          1.4025268131317277,
          0.1736542530931986,
          0.1834584779516139,
          0.5777805229615387,
          0.6905852621422153,
          1.1515404398354685,
          0.41779603838887935,
          0.2176100327546996
         ],
         "yaxis": "y14"
        },
        {
         "line": {
          "color": "rgba(128, 128, 128, 1.0)",
          "dash": "solid",
          "shape": "linear",
          "width": 1.3
         },
         "marker": {
          "size": 2,
          "symbol": "circle"
         },
         "mode": "markers",
         "name": "D",
         "text": "",
         "type": "scatter",
         "x": [
          -1.3558438844649783,
          -0.8759976250780299,
          -1.5226576052910572,
          0.6859913101905638,
          -1.4745329764700488,
          0.6828771878184736,
          -1.0849106006902465,
          1.523352301399798,
          -0.9853422207451589,
          0.6932108339167925,
          0.7633868090179348,
          0.8916412099722324,
          0.050204442993994174,
          0.7423238229395155,
          1.0159031903899545,
          1.9054442649114558,
          -0.3424359452933501,
          -1.1316300670809745,
          0.2573871580683922,
          -0.15460877096012696,
          -1.0669518039993229,
          -1.62095710266104,
          1.1313206485772982,
          -0.04241686948250148,
          0.45170817231399074,
          0.6521585599767435,
          -0.08866608902559109,
          0.5450815082077972,
          -0.07550183915437703,
          0.5634332612313229,
          0.6192110696992771,
          1.328597023291623,
          0.1660352535032697,
          0.4928882922850011,
          -0.29024550597846444,
          0.49113434479810897,
          -1.7320823264752663,
          -0.13318914581762933,
          -0.32230663550846983,
          -0.8452934758305347,
          0.2804586884358228,
          -0.44216324939486046,
          -1.5693868593842886,
          0.3935376557697536,
          -1.5149644526197097,
          1.885525396279445,
          0.9230739549753205,
          0.17700846714231913,
          -0.9174290087499014,
          2.3067041365835443,
          0.8347911211930508,
          -1.213245818120258,
          -0.24678184949387347,
          0.9397310665816551,
          0.8358759383276779,
          2.5671593128238825,
          0.4975380022059849,
          0.21113908418866448,
          0.05840251974011824,
          -0.012614051025127521,
          0.696886783023304,
          0.22378385348623372,
          0.873109004056181,
          -0.32025250402305927,
          0.43733412531067234,
          -2.1796323143831837,
          1.131526488980349,
          -0.07244899849102823,
          -0.9437760466154475,
          0.8288808965124419,
          0.1647900730078459,
          -1.4977327430030567,
          -0.07078240164283371,
          -1.4672832268638136,
          -0.8957403277218311,
          1.2066408411869143,
          -0.6131415822158299,
          -0.3542694521430507,
          1.4734580494242786,
          -0.22336917295915848,
          0.7176827579863617,
          0.4179099732903556,
          -1.7543318718026637,
          -1.0046119566794123,
          1.8065138686324629,
          0.44619412525863655,
          0.14211198950617412,
          1.422548521554508,
          -2.0531765991102695,
          -1.0830746724660953,
          -0.8849179035837618,
          0.09549812911970507,
          1.1962487937594568,
          1.5150217189675301,
          -0.9410171911457614,
          -1.4334005060478348,
          -0.44280607208682105,
          0.53523974901187,
          0.37164692109689645,
          0.1040283798888921
         ],
         "xaxis": "x15",
         "y": [
          -0.5385350988622541,
          0.545901013423756,
          -0.484352741184118,
          -0.46190751635045596,
          -0.9864472694700864,
          -0.8175474195057619,
          0.47103677748724615,
          0.675230684755957,
          -0.10416988785091413,
          -3.0498796434260305,
          2.1844358483993105,
          1.7035314838510314,
          1.1818011482558322,
          -0.05764068868728147,
          0.875240808030797,
          0.8445498239359918,
          -2.6993526916534805,
          3.5018773878275753,
          -0.5497885060867724,
          -0.11402025883309072,
          0.19040843485006825,
          -0.6094078828465187,
          0.91407171843882,
          0.32677708763507246,
          -0.7225541635588506,
          -2.8455246675306607,
          0.2593710337822382,
          -0.010714464792365598,
          0.20929993629527077,
          1.2117607161159156,
          -0.6263118673260771,
          0.18202777913921045,
          2.8839889868661213,
          -0.9394631656759914,
          -0.3382480830479188,
          -1.0316131721230972,
          -0.940759421829133,
          -1.142661400611097,
          -1.1207629798998748,
          -0.30407617327330594,
          0.01194736837885959,
          -0.5367360380188764,
          0.40792335064706836,
          0.2249811905872184,
          -1.3229022056214161,
          2.312984299958345,
          0.5165522721147605,
          0.9854095568838235,
          -1.3226052135507627,
          0.8486040230276036,
          -0.2521225960134387,
          -0.5224242350369688,
          -0.554304986298737,
          -0.5324415024467941,
          -0.3484727911798317,
          -0.7388708300901486,
          1.396927959756421,
          -0.8009571887199037,
          0.3045629564754834,
          0.6846385240046091,
          0.800656349914363,
          -0.06784582296782894,
          0.8900207825068571,
          0.21443581846267742,
          -0.280102573472488,
          2.0884667467000635,
          -0.4419798386688738,
          2.6887519963338753,
          -0.9196940630292755,
          -0.9212369832955514,
          0.8133584889109357,
          0.7173235238779602,
          1.1969024311188128,
          -1.1665944546981923,
          0.2363393276438888,
          1.6181666228688691,
          0.45301029796524706,
          1.030380009820546,
          1.26476133737168,
          1.5328111104261763,
          -1.7280659889187395,
          0.242470022573717,
          -2.174788288833403,
          1.5865000513117713,
          0.4814596575341235,
          0.5184744665088035,
          -0.7294118236889608,
          1.950115929880263,
          -0.9717717204544494,
          -0.2907075440869592,
          1.2995914390506236,
          0.8183366678883612,
          1.4025268131317277,
          0.1736542530931986,
          0.1834584779516139,
          0.5777805229615387,
          0.6905852621422153,
          1.1515404398354685,
          0.41779603838887935,
          0.2176100327546996
         ],
         "yaxis": "y15"
        },
        {
         "histfunc": "count",
         "histnorm": "",
         "marker": {
          "color": "rgba(128, 0, 128, 1.0)",
          "line": {
           "color": "#4D5663",
           "width": 1.3
          }
         },
         "name": "D",
         "nbinsx": 10,
         "opacity": 0.8,
         "orientation": "v",
         "type": "histogram",
         "x": [
          -0.5385350988622541,
          0.545901013423756,
          -0.484352741184118,
          -0.46190751635045596,
          -0.9864472694700864,
          -0.8175474195057619,
          0.47103677748724615,
          0.675230684755957,
          -0.10416988785091413,
          -3.0498796434260305,
          2.1844358483993105,
          1.7035314838510314,
          1.1818011482558322,
          -0.05764068868728147,
          0.875240808030797,
          0.8445498239359918,
          -2.6993526916534805,
          3.5018773878275753,
          -0.5497885060867724,
          -0.11402025883309072,
          0.19040843485006825,
          -0.6094078828465187,
          0.91407171843882,
          0.32677708763507246,
          -0.7225541635588506,
          -2.8455246675306607,
          0.2593710337822382,
          -0.010714464792365598,
          0.20929993629527077,
          1.2117607161159156,
          -0.6263118673260771,
          0.18202777913921045,
          2.8839889868661213,
          -0.9394631656759914,
          -0.3382480830479188,
          -1.0316131721230972,
          -0.940759421829133,
          -1.142661400611097,
          -1.1207629798998748,
          -0.30407617327330594,
          0.01194736837885959,
          -0.5367360380188764,
          0.40792335064706836,
          0.2249811905872184,
          -1.3229022056214161,
          2.312984299958345,
          0.5165522721147605,
          0.9854095568838235,
          -1.3226052135507627,
          0.8486040230276036,
          -0.2521225960134387,
          -0.5224242350369688,
          -0.554304986298737,
          -0.5324415024467941,
          -0.3484727911798317,
          -0.7388708300901486,
          1.396927959756421,
          -0.8009571887199037,
          0.3045629564754834,
          0.6846385240046091,
          0.800656349914363,
          -0.06784582296782894,
          0.8900207825068571,
          0.21443581846267742,
          -0.280102573472488,
          2.0884667467000635,
          -0.4419798386688738,
          2.6887519963338753,
          -0.9196940630292755,
          -0.9212369832955514,
          0.8133584889109357,
          0.7173235238779602,
          1.1969024311188128,
          -1.1665944546981923,
          0.2363393276438888,
          1.6181666228688691,
          0.45301029796524706,
          1.030380009820546,
          1.26476133737168,
          1.5328111104261763,
          -1.7280659889187395,
          0.242470022573717,
          -2.174788288833403,
          1.5865000513117713,
          0.4814596575341235,
          0.5184744665088035,
          -0.7294118236889608,
          1.950115929880263,
          -0.9717717204544494,
          -0.2907075440869592,
          1.2995914390506236,
          0.8183366678883612,
          1.4025268131317277,
          0.1736542530931986,
          0.1834584779516139,
          0.5777805229615387,
          0.6905852621422153,
          1.1515404398354685,
          0.41779603838887935,
          0.2176100327546996
         ],
         "xaxis": "x16",
         "yaxis": "y16"
        }
       ],
       "layout": {
        "bargap": 0.02,
        "legend": {
         "bgcolor": "#F5F6F9",
         "font": {
          "color": "#4D5663"
         }
        },
        "paper_bgcolor": "#F5F6F9",
        "plot_bgcolor": "#F5F6F9",
        "showlegend": false,
        "template": {
         "data": {
          "bar": [
           {
            "error_x": {
             "color": "#2a3f5f"
            },
            "error_y": {
             "color": "#2a3f5f"
            },
            "marker": {
             "line": {
              "color": "#E5ECF6",
              "width": 0.5
             }
            },
            "type": "bar"
           }
          ],
          "barpolar": [
           {
            "marker": {
             "line": {
              "color": "#E5ECF6",
              "width": 0.5
             }
            },
            "type": "barpolar"
           }
          ],
          "carpet": [
           {
            "aaxis": {
             "endlinecolor": "#2a3f5f",
             "gridcolor": "white",
             "linecolor": "white",
             "minorgridcolor": "white",
             "startlinecolor": "#2a3f5f"
            },
            "baxis": {
             "endlinecolor": "#2a3f5f",
             "gridcolor": "white",
             "linecolor": "white",
             "minorgridcolor": "white",
             "startlinecolor": "#2a3f5f"
            },
            "type": "carpet"
           }
          ],
          "choropleth": [
           {
            "colorbar": {
             "outlinewidth": 0,
             "ticks": ""
            },
            "type": "choropleth"
           }
          ],
          "contour": [
           {
            "colorbar": {
             "outlinewidth": 0,
             "ticks": ""
            },
            "colorscale": [
             [
              0,
              "#0d0887"
             ],
             [
              0.1111111111111111,
              "#46039f"
             ],
             [
              0.2222222222222222,
              "#7201a8"
             ],
             [
              0.3333333333333333,
              "#9c179e"
             ],
             [
              0.4444444444444444,
              "#bd3786"
             ],
             [
              0.5555555555555556,
              "#d8576b"
             ],
             [
              0.6666666666666666,
              "#ed7953"
             ],
             [
              0.7777777777777778,
              "#fb9f3a"
             ],
             [
              0.8888888888888888,
              "#fdca26"
             ],
             [
              1,
              "#f0f921"
             ]
            ],
            "type": "contour"
           }
          ],
          "contourcarpet": [
           {
            "colorbar": {
             "outlinewidth": 0,
             "ticks": ""
            },
            "type": "contourcarpet"
           }
          ],
          "heatmap": [
           {
            "colorbar": {
             "outlinewidth": 0,
             "ticks": ""
            },
            "colorscale": [
             [
              0,
              "#0d0887"
             ],
             [
              0.1111111111111111,
              "#46039f"
             ],
             [
              0.2222222222222222,
              "#7201a8"
             ],
             [
              0.3333333333333333,
              "#9c179e"
             ],
             [
              0.4444444444444444,
              "#bd3786"
             ],
             [
              0.5555555555555556,
              "#d8576b"
             ],
             [
              0.6666666666666666,
              "#ed7953"
             ],
             [
              0.7777777777777778,
              "#fb9f3a"
             ],
             [
              0.8888888888888888,
              "#fdca26"
             ],
             [
              1,
              "#f0f921"
             ]
            ],
            "type": "heatmap"
           }
          ],
          "heatmapgl": [
           {
            "colorbar": {
             "outlinewidth": 0,
             "ticks": ""
            },
            "colorscale": [
             [
              0,
              "#0d0887"
             ],
             [
              0.1111111111111111,
              "#46039f"
             ],
             [
              0.2222222222222222,
              "#7201a8"
             ],
             [
              0.3333333333333333,
              "#9c179e"
             ],
             [
              0.4444444444444444,
              "#bd3786"
             ],
             [
              0.5555555555555556,
              "#d8576b"
             ],
             [
              0.6666666666666666,
              "#ed7953"
             ],
             [
              0.7777777777777778,
              "#fb9f3a"
             ],
             [
              0.8888888888888888,
              "#fdca26"
             ],
             [
              1,
              "#f0f921"
             ]
            ],
            "type": "heatmapgl"
           }
          ],
          "histogram": [
           {
            "marker": {
             "colorbar": {
              "outlinewidth": 0,
              "ticks": ""
             }
            },
            "type": "histogram"
           }
          ],
          "histogram2d": [
           {
            "colorbar": {
             "outlinewidth": 0,
             "ticks": ""
            },
            "colorscale": [
             [
              0,
              "#0d0887"
             ],
             [
              0.1111111111111111,
              "#46039f"
             ],
             [
              0.2222222222222222,
              "#7201a8"
             ],
             [
              0.3333333333333333,
              "#9c179e"
             ],
             [
              0.4444444444444444,
              "#bd3786"
             ],
             [
              0.5555555555555556,
              "#d8576b"
             ],
             [
              0.6666666666666666,
              "#ed7953"
             ],
             [
              0.7777777777777778,
              "#fb9f3a"
             ],
             [
              0.8888888888888888,
              "#fdca26"
             ],
             [
              1,
              "#f0f921"
             ]
            ],
            "type": "histogram2d"
           }
          ],
          "histogram2dcontour": [
           {
            "colorbar": {
             "outlinewidth": 0,
             "ticks": ""
            },
            "colorscale": [
             [
              0,
              "#0d0887"
             ],
             [
              0.1111111111111111,
              "#46039f"
             ],
             [
              0.2222222222222222,
              "#7201a8"
             ],
             [
              0.3333333333333333,
              "#9c179e"
             ],
             [
              0.4444444444444444,
              "#bd3786"
             ],
             [
              0.5555555555555556,
              "#d8576b"
             ],
             [
              0.6666666666666666,
              "#ed7953"
             ],
             [
              0.7777777777777778,
              "#fb9f3a"
             ],
             [
              0.8888888888888888,
              "#fdca26"
             ],
             [
              1,
              "#f0f921"
             ]
            ],
            "type": "histogram2dcontour"
           }
          ],
          "mesh3d": [
           {
            "colorbar": {
             "outlinewidth": 0,
             "ticks": ""
            },
            "type": "mesh3d"
           }
          ],
          "parcoords": [
           {
            "line": {
             "colorbar": {
              "outlinewidth": 0,
              "ticks": ""
             }
            },
            "type": "parcoords"
           }
          ],
          "pie": [
           {
            "automargin": true,
            "type": "pie"
           }
          ],
          "scatter": [
           {
            "marker": {
             "colorbar": {
              "outlinewidth": 0,
              "ticks": ""
             }
            },
            "type": "scatter"
           }
          ],
          "scatter3d": [
           {
            "line": {
             "colorbar": {
              "outlinewidth": 0,
              "ticks": ""
             }
            },
            "marker": {
             "colorbar": {
              "outlinewidth": 0,
              "ticks": ""
             }
            },
            "type": "scatter3d"
           }
          ],
          "scattercarpet": [
           {
            "marker": {
             "colorbar": {
              "outlinewidth": 0,
              "ticks": ""
             }
            },
            "type": "scattercarpet"
           }
          ],
          "scattergeo": [
           {
            "marker": {
             "colorbar": {
              "outlinewidth": 0,
              "ticks": ""
             }
            },
            "type": "scattergeo"
           }
          ],
          "scattergl": [
           {
            "marker": {
             "colorbar": {
              "outlinewidth": 0,
              "ticks": ""
             }
            },
            "type": "scattergl"
           }
          ],
          "scattermapbox": [
           {
            "marker": {
             "colorbar": {
              "outlinewidth": 0,
              "ticks": ""
             }
            },
            "type": "scattermapbox"
           }
          ],
          "scatterpolar": [
           {
            "marker": {
             "colorbar": {
              "outlinewidth": 0,
              "ticks": ""
             }
            },
            "type": "scatterpolar"
           }
          ],
          "scatterpolargl": [
           {
            "marker": {
             "colorbar": {
              "outlinewidth": 0,
              "ticks": ""
             }
            },
            "type": "scatterpolargl"
           }
          ],
          "scatterternary": [
           {
            "marker": {
             "colorbar": {
              "outlinewidth": 0,
              "ticks": ""
             }
            },
            "type": "scatterternary"
           }
          ],
          "surface": [
           {
            "colorbar": {
             "outlinewidth": 0,
             "ticks": ""
            },
            "colorscale": [
             [
              0,
              "#0d0887"
             ],
             [
              0.1111111111111111,
              "#46039f"
             ],
             [
              0.2222222222222222,
              "#7201a8"
             ],
             [
              0.3333333333333333,
              "#9c179e"
             ],
             [
              0.4444444444444444,
              "#bd3786"
             ],
             [
              0.5555555555555556,
              "#d8576b"
             ],
             [
              0.6666666666666666,
              "#ed7953"
             ],
             [
              0.7777777777777778,
              "#fb9f3a"
             ],
             [
              0.8888888888888888,
              "#fdca26"
             ],
             [
              1,
              "#f0f921"
             ]
            ],
            "type": "surface"
           }
          ],
          "table": [
           {
            "cells": {
             "fill": {
              "color": "#EBF0F8"
             },
             "line": {
              "color": "white"
             }
            },
            "header": {
             "fill": {
              "color": "#C8D4E3"
             },
             "line": {
              "color": "white"
             }
            },
            "type": "table"
           }
          ]
         },
         "layout": {
          "annotationdefaults": {
           "arrowcolor": "#2a3f5f",
           "arrowhead": 0,
           "arrowwidth": 1
          },
          "coloraxis": {
           "colorbar": {
            "outlinewidth": 0,
            "ticks": ""
           }
          },
          "colorscale": {
           "diverging": [
            [
             0,
             "#8e0152"
            ],
            [
             0.1,
             "#c51b7d"
            ],
            [
             0.2,
             "#de77ae"
            ],
            [
             0.3,
             "#f1b6da"
            ],
            [
             0.4,
             "#fde0ef"
            ],
            [
             0.5,
             "#f7f7f7"
            ],
            [
             0.6,
             "#e6f5d0"
            ],
            [
             0.7,
             "#b8e186"
            ],
            [
             0.8,
             "#7fbc41"
            ],
            [
             0.9,
             "#4d9221"
            ],
            [
             1,
             "#276419"
            ]
           ],
           "sequential": [
            [
             0,
             "#0d0887"
            ],
            [
             0.1111111111111111,
             "#46039f"
            ],
            [
             0.2222222222222222,
             "#7201a8"
            ],
            [
             0.3333333333333333,
             "#9c179e"
            ],
            [
             0.4444444444444444,
             "#bd3786"
            ],
            [
             0.5555555555555556,
             "#d8576b"
            ],
            [
             0.6666666666666666,
             "#ed7953"
            ],
            [
             0.7777777777777778,
             "#fb9f3a"
            ],
            [
             0.8888888888888888,
             "#fdca26"
            ],
            [
             1,
             "#f0f921"
            ]
           ],
           "sequentialminus": [
            [
             0,
             "#0d0887"
            ],
            [
             0.1111111111111111,
             "#46039f"
            ],
            [
             0.2222222222222222,
             "#7201a8"
            ],
            [
             0.3333333333333333,
             "#9c179e"
            ],
            [
             0.4444444444444444,
             "#bd3786"
            ],
            [
             0.5555555555555556,
             "#d8576b"
            ],
            [
             0.6666666666666666,
             "#ed7953"
            ],
            [
             0.7777777777777778,
             "#fb9f3a"
            ],
            [
             0.8888888888888888,
             "#fdca26"
            ],
            [
             1,
             "#f0f921"
            ]
           ]
          },
          "colorway": [
           "#636efa",
           "#EF553B",
           "#00cc96",
           "#ab63fa",
           "#FFA15A",
           "#19d3f3",
           "#FF6692",
           "#B6E880",
           "#FF97FF",
           "#FECB52"
          ],
          "font": {
           "color": "#2a3f5f"
          },
          "geo": {
           "bgcolor": "white",
           "lakecolor": "white",
           "landcolor": "#E5ECF6",
           "showlakes": true,
           "showland": true,
           "subunitcolor": "white"
          },
          "hoverlabel": {
           "align": "left"
          },
          "hovermode": "closest",
          "mapbox": {
           "style": "light"
          },
          "paper_bgcolor": "white",
          "plot_bgcolor": "#E5ECF6",
          "polar": {
           "angularaxis": {
            "gridcolor": "white",
            "linecolor": "white",
            "ticks": ""
           },
           "bgcolor": "#E5ECF6",
           "radialaxis": {
            "gridcolor": "white",
            "linecolor": "white",
            "ticks": ""
           }
          },
          "scene": {
           "xaxis": {
            "backgroundcolor": "#E5ECF6",
            "gridcolor": "white",
            "gridwidth": 2,
            "linecolor": "white",
            "showbackground": true,
            "ticks": "",
            "zerolinecolor": "white"
           },
           "yaxis": {
            "backgroundcolor": "#E5ECF6",
            "gridcolor": "white",
            "gridwidth": 2,
            "linecolor": "white",
            "showbackground": true,
            "ticks": "",
            "zerolinecolor": "white"
           },
           "zaxis": {
            "backgroundcolor": "#E5ECF6",
            "gridcolor": "white",
            "gridwidth": 2,
            "linecolor": "white",
            "showbackground": true,
            "ticks": "",
            "zerolinecolor": "white"
           }
          },
          "shapedefaults": {
           "line": {
            "color": "#2a3f5f"
           }
          },
          "ternary": {
           "aaxis": {
            "gridcolor": "white",
            "linecolor": "white",
            "ticks": ""
           },
           "baxis": {
            "gridcolor": "white",
            "linecolor": "white",
            "ticks": ""
           },
           "bgcolor": "#E5ECF6",
           "caxis": {
            "gridcolor": "white",
            "linecolor": "white",
            "ticks": ""
           }
          },
          "title": {
           "x": 0.05
          },
          "xaxis": {
           "automargin": true,
           "gridcolor": "white",
           "linecolor": "white",
           "ticks": "",
           "title": {
            "standoff": 15
           },
           "zerolinecolor": "white",
           "zerolinewidth": 2
          },
          "yaxis": {
           "automargin": true,
           "gridcolor": "white",
           "linecolor": "white",
           "ticks": "",
           "title": {
            "standoff": 15
           },
           "zerolinecolor": "white",
           "zerolinewidth": 2
          }
         }
        },
        "title": {
         "font": {
          "color": "#4D5663"
         }
        },
        "xaxis": {
         "anchor": "y",
         "domain": [
          0,
          0.2125
         ],
         "gridcolor": "#E1E5ED",
         "showgrid": false,
         "tickfont": {
          "color": "#4D5663"
         },
         "title": {
          "font": {
           "color": "#4D5663"
          },
          "text": ""
         },
         "zerolinecolor": "#E1E5ED"
        },
        "xaxis10": {
         "anchor": "y10",
         "domain": [
          0.2625,
          0.475
         ],
         "gridcolor": "#E1E5ED",
         "showgrid": false,
         "tickfont": {
          "color": "#4D5663"
         },
         "title": {
          "font": {
           "color": "#4D5663"
          },
          "text": ""
         },
         "zerolinecolor": "#E1E5ED"
        },
        "xaxis11": {
         "anchor": "y11",
         "domain": [
          0.525,
          0.7375
         ],
         "gridcolor": "#E1E5ED",
         "showgrid": false,
         "tickfont": {
          "color": "#4D5663"
         },
         "title": {
          "font": {
           "color": "#4D5663"
          },
          "text": ""
         },
         "zerolinecolor": "#E1E5ED"
        },
        "xaxis12": {
         "anchor": "y12",
         "domain": [
          0.7875,
          1
         ],
         "gridcolor": "#E1E5ED",
         "showgrid": false,
         "tickfont": {
          "color": "#4D5663"
         },
         "title": {
          "font": {
           "color": "#4D5663"
          },
          "text": ""
         },
         "zerolinecolor": "#E1E5ED"
        },
        "xaxis13": {
         "anchor": "y13",
         "domain": [
          0,
          0.2125
         ],
         "gridcolor": "#E1E5ED",
         "showgrid": false,
         "tickfont": {
          "color": "#4D5663"
         },
         "title": {
          "font": {
           "color": "#4D5663"
          },
          "text": ""
         },
         "zerolinecolor": "#E1E5ED"
        },
        "xaxis14": {
         "anchor": "y14",
         "domain": [
          0.2625,
          0.475
         ],
         "gridcolor": "#E1E5ED",
         "showgrid": false,
         "tickfont": {
          "color": "#4D5663"
         },
         "title": {
          "font": {
           "color": "#4D5663"
          },
          "text": ""
         },
         "zerolinecolor": "#E1E5ED"
        },
        "xaxis15": {
         "anchor": "y15",
         "domain": [
          0.525,
          0.7375
         ],
         "gridcolor": "#E1E5ED",
         "showgrid": false,
         "tickfont": {
          "color": "#4D5663"
         },
         "title": {
          "font": {
           "color": "#4D5663"
          },
          "text": ""
         },
         "zerolinecolor": "#E1E5ED"
        },
        "xaxis16": {
         "anchor": "y16",
         "domain": [
          0.7875,
          1
         ],
         "gridcolor": "#E1E5ED",
         "showgrid": false,
         "tickfont": {
          "color": "#4D5663"
         },
         "title": {
          "font": {
           "color": "#4D5663"
          },
          "text": ""
         },
         "zerolinecolor": "#E1E5ED"
        },
        "xaxis2": {
         "anchor": "y2",
         "domain": [
          0.2625,
          0.475
         ],
         "gridcolor": "#E1E5ED",
         "showgrid": false,
         "tickfont": {
          "color": "#4D5663"
         },
         "title": {
          "font": {
           "color": "#4D5663"
          },
          "text": ""
         },
         "zerolinecolor": "#E1E5ED"
        },
        "xaxis3": {
         "anchor": "y3",
         "domain": [
          0.525,
          0.7375
         ],
         "gridcolor": "#E1E5ED",
         "showgrid": false,
         "tickfont": {
          "color": "#4D5663"
         },
         "title": {
          "font": {
           "color": "#4D5663"
          },
          "text": ""
         },
         "zerolinecolor": "#E1E5ED"
        },
        "xaxis4": {
         "anchor": "y4",
         "domain": [
          0.7875,
          1
         ],
         "gridcolor": "#E1E5ED",
         "showgrid": false,
         "tickfont": {
          "color": "#4D5663"
         },
         "title": {
          "font": {
           "color": "#4D5663"
          },
          "text": ""
         },
         "zerolinecolor": "#E1E5ED"
        },
        "xaxis5": {
         "anchor": "y5",
         "domain": [
          0,
          0.2125
         ],
         "gridcolor": "#E1E5ED",
         "showgrid": false,
         "tickfont": {
          "color": "#4D5663"
         },
         "title": {
          "font": {
           "color": "#4D5663"
          },
          "text": ""
         },
         "zerolinecolor": "#E1E5ED"
        },
        "xaxis6": {
         "anchor": "y6",
         "domain": [
          0.2625,
          0.475
         ],
         "gridcolor": "#E1E5ED",
         "showgrid": false,
         "tickfont": {
          "color": "#4D5663"
         },
         "title": {
          "font": {
           "color": "#4D5663"
          },
          "text": ""
         },
         "zerolinecolor": "#E1E5ED"
        },
        "xaxis7": {
         "anchor": "y7",
         "domain": [
          0.525,
          0.7375
         ],
         "gridcolor": "#E1E5ED",
         "showgrid": false,
         "tickfont": {
          "color": "#4D5663"
         },
         "title": {
          "font": {
           "color": "#4D5663"
          },
          "text": ""
         },
         "zerolinecolor": "#E1E5ED"
        },
        "xaxis8": {
         "anchor": "y8",
         "domain": [
          0.7875,
          1
         ],
         "gridcolor": "#E1E5ED",
         "showgrid": false,
         "tickfont": {
          "color": "#4D5663"
         },
         "title": {
          "font": {
           "color": "#4D5663"
          },
          "text": ""
         },
         "zerolinecolor": "#E1E5ED"
        },
        "xaxis9": {
         "anchor": "y9",
         "domain": [
          0,
          0.2125
         ],
         "gridcolor": "#E1E5ED",
         "showgrid": false,
         "tickfont": {
          "color": "#4D5663"
         },
         "title": {
          "font": {
           "color": "#4D5663"
          },
          "text": ""
         },
         "zerolinecolor": "#E1E5ED"
        },
        "yaxis": {
         "anchor": "x",
         "domain": [
          0.8025,
          1
         ],
         "gridcolor": "#E1E5ED",
         "showgrid": false,
         "tickfont": {
          "color": "#4D5663"
         },
         "title": {
          "font": {
           "color": "#4D5663"
          },
          "text": ""
         },
         "zerolinecolor": "#E1E5ED"
        },
        "yaxis10": {
         "anchor": "x10",
         "domain": [
          0.2675,
          0.465
         ],
         "gridcolor": "#E1E5ED",
         "showgrid": false,
         "tickfont": {
          "color": "#4D5663"
         },
         "title": {
          "font": {
           "color": "#4D5663"
          },
          "text": ""
         },
         "zerolinecolor": "#E1E5ED"
        },
        "yaxis11": {
         "anchor": "x11",
         "domain": [
          0.2675,
          0.465
         ],
         "gridcolor": "#E1E5ED",
         "showgrid": false,
         "tickfont": {
          "color": "#4D5663"
         },
         "title": {
          "font": {
           "color": "#4D5663"
          },
          "text": ""
         },
         "zerolinecolor": "#E1E5ED"
        },
        "yaxis12": {
         "anchor": "x12",
         "domain": [
          0.2675,
          0.465
         ],
         "gridcolor": "#E1E5ED",
         "showgrid": false,
         "tickfont": {
          "color": "#4D5663"
         },
         "title": {
          "font": {
           "color": "#4D5663"
          },
          "text": ""
         },
         "zerolinecolor": "#E1E5ED"
        },
        "yaxis13": {
         "anchor": "x13",
         "domain": [
          0,
          0.1975
         ],
         "gridcolor": "#E1E5ED",
         "showgrid": false,
         "tickfont": {
          "color": "#4D5663"
         },
         "title": {
          "font": {
           "color": "#4D5663"
          },
          "text": ""
         },
         "zerolinecolor": "#E1E5ED"
        },
        "yaxis14": {
         "anchor": "x14",
         "domain": [
          0,
          0.1975
         ],
         "gridcolor": "#E1E5ED",
         "showgrid": false,
         "tickfont": {
          "color": "#4D5663"
         },
         "title": {
          "font": {
           "color": "#4D5663"
          },
          "text": ""
         },
         "zerolinecolor": "#E1E5ED"
        },
        "yaxis15": {
         "anchor": "x15",
         "domain": [
          0,
          0.1975
         ],
         "gridcolor": "#E1E5ED",
         "showgrid": false,
         "tickfont": {
          "color": "#4D5663"
         },
         "title": {
          "font": {
           "color": "#4D5663"
          },
          "text": ""
         },
         "zerolinecolor": "#E1E5ED"
        },
        "yaxis16": {
         "anchor": "x16",
         "domain": [
          0,
          0.1975
         ],
         "gridcolor": "#E1E5ED",
         "showgrid": false,
         "tickfont": {
          "color": "#4D5663"
         },
         "title": {
          "font": {
           "color": "#4D5663"
          },
          "text": ""
         },
         "zerolinecolor": "#E1E5ED"
        },
        "yaxis2": {
         "anchor": "x2",
         "domain": [
          0.8025,
          1
         ],
         "gridcolor": "#E1E5ED",
         "showgrid": false,
         "tickfont": {
          "color": "#4D5663"
         },
         "title": {
          "font": {
           "color": "#4D5663"
          },
          "text": ""
         },
         "zerolinecolor": "#E1E5ED"
        },
        "yaxis3": {
         "anchor": "x3",
         "domain": [
          0.8025,
          1
         ],
         "gridcolor": "#E1E5ED",
         "showgrid": false,
         "tickfont": {
          "color": "#4D5663"
         },
         "title": {
          "font": {
           "color": "#4D5663"
          },
          "text": ""
         },
         "zerolinecolor": "#E1E5ED"
        },
        "yaxis4": {
         "anchor": "x4",
         "domain": [
          0.8025,
          1
         ],
         "gridcolor": "#E1E5ED",
         "showgrid": false,
         "tickfont": {
          "color": "#4D5663"
         },
         "title": {
          "font": {
           "color": "#4D5663"
          },
          "text": ""
         },
         "zerolinecolor": "#E1E5ED"
        },
        "yaxis5": {
         "anchor": "x5",
         "domain": [
          0.535,
          0.7325
         ],
         "gridcolor": "#E1E5ED",
         "showgrid": false,
         "tickfont": {
          "color": "#4D5663"
         },
         "title": {
          "font": {
           "color": "#4D5663"
          },
          "text": ""
         },
         "zerolinecolor": "#E1E5ED"
        },
        "yaxis6": {
         "anchor": "x6",
         "domain": [
          0.535,
          0.7325
         ],
         "gridcolor": "#E1E5ED",
         "showgrid": false,
         "tickfont": {
          "color": "#4D5663"
         },
         "title": {
          "font": {
           "color": "#4D5663"
          },
          "text": ""
         },
         "zerolinecolor": "#E1E5ED"
        },
        "yaxis7": {
         "anchor": "x7",
         "domain": [
          0.535,
          0.7325
         ],
         "gridcolor": "#E1E5ED",
         "showgrid": false,
         "tickfont": {
          "color": "#4D5663"
         },
         "title": {
          "font": {
           "color": "#4D5663"
          },
          "text": ""
         },
         "zerolinecolor": "#E1E5ED"
        },
        "yaxis8": {
         "anchor": "x8",
         "domain": [
          0.535,
          0.7325
         ],
         "gridcolor": "#E1E5ED",
         "showgrid": false,
         "tickfont": {
          "color": "#4D5663"
         },
         "title": {
          "font": {
           "color": "#4D5663"
          },
          "text": ""
         },
         "zerolinecolor": "#E1E5ED"
        },
        "yaxis9": {
         "anchor": "x9",
         "domain": [
          0.2675,
          0.465
         ],
         "gridcolor": "#E1E5ED",
         "showgrid": false,
         "tickfont": {
          "color": "#4D5663"
         },
         "title": {
          "font": {
           "color": "#4D5663"
          },
          "text": ""
         },
         "zerolinecolor": "#E1E5ED"
        }
       }
      },
      "text/html": [
       "<div>\n",
       "        \n",
       "        \n",
       "            <div id=\"67d68390-43f0-4f25-a1d5-090bd45d11af\" class=\"plotly-graph-div\" style=\"height:525px; width:100%;\"></div>\n",
       "            <script type=\"text/javascript\">\n",
       "                require([\"plotly\"], function(Plotly) {\n",
       "                    window.PLOTLYENV=window.PLOTLYENV || {};\n",
       "                    window.PLOTLYENV.BASE_URL='https://plot.ly';\n",
       "                    \n",
       "                if (document.getElementById(\"67d68390-43f0-4f25-a1d5-090bd45d11af\")) {\n",
       "                    Plotly.newPlot(\n",
       "                        '67d68390-43f0-4f25-a1d5-090bd45d11af',\n",
       "                        [{\"histfunc\": \"count\", \"histnorm\": \"\", \"marker\": {\"color\": \"rgba(255, 153, 51, 1.0)\", \"line\": {\"color\": \"#4D5663\", \"width\": 1.3}}, \"name\": \"A\", \"nbinsx\": 10, \"opacity\": 0.8, \"orientation\": \"v\", \"type\": \"histogram\", \"x\": [-2.3454141693589876, 0.6237775380275742, 0.5084665209175578, 1.0077383239871212, -1.596862641714782, -2.374942969830823, -1.3706328842809488, 1.3747352172717342, -0.7622432557064147, -1.9184039896950638, 1.5017960911885953, -0.7114451376865186, -0.29446634553217194, -1.4876954594826903, 0.6995466429849003, -0.9080622620621699, 0.0037148475874004623, -0.8606836096783335, 1.5500856254168882, 0.8681259238151428, -0.25157963103361447, -0.6950867661351647, -1.2977326913712255, 1.0792884415738364, 1.9215810061890053, 1.6391562586670962, 0.8532070522380638, 0.9960034559394392, 1.0384819480958472, -0.4416790016043128, 0.6272585044640208, 1.6568382627476808, 0.17604804120284398, -0.12173009136600939, 1.786145195510604, 1.0620956079199924, -1.6487794157955151, 0.5134853837511637, -0.09341126386297298, 0.5748210842959969, -0.34773144268786665, 1.4495352760328146, 0.55589609988229, -0.19407908794453177, 1.954553549389376, -1.4401496294154514, -1.687016031719059, 0.9152212524783871, -0.9701130342584917, 0.2781872419962723, -0.42465351126078166, 0.21363104414796674, 0.6798391516567996, -0.21693900500613778, 1.1253269510990103, -0.4364919033627248, 0.5070307915178102, -0.6938482394362632, -1.4709020923143088, -0.3005468309159597, 0.10117735963741527, -0.2739784055963156, -1.592983100175776, -0.7550289749943683, -1.8804241568882007, 0.09895966465769129, 1.280991037813301, 0.18446847622744528, 2.514156053080135, 0.887922034620755, 0.22026729871991257, -0.058148079602631304, 0.11519546694262874, 1.3733167398735402, 0.7719722757739921, -0.11131557918308087, 0.12928439944667708, 0.656916890088794, 1.2254282520039692, -2.3574405969002927, 0.520182684697464, 0.49226230720825487, -0.2946532839128033, 1.5850905733271186, -0.4894593363475711, 2.6413792649821013, 0.13735097170865115, -0.9828018800837163, 0.13801858167033576, -0.6215647789215498, -0.15010559951578073, 0.39313077400096924, -0.9745423404621509, -0.41287483235514105, 1.406315163167479, 0.13788703768854482, 1.2731159007446353, -0.2163497464314463, 1.0853126714886798, 0.5353673129325547], \"xaxis\": \"x\", \"yaxis\": \"y\"}, {\"line\": {\"color\": \"rgba(128, 128, 128, 1.0)\", \"dash\": \"solid\", \"shape\": \"linear\", \"width\": 1.3}, \"marker\": {\"size\": 2, \"symbol\": \"circle\"}, \"mode\": \"markers\", \"name\": \"A\", \"text\": \"\", \"type\": \"scatter\", \"x\": [-1.2116920522282546, -2.4182256642840154, -0.4467089062786822, -1.9392425928013934, 0.9457088641174468, -1.4107952784259432, 0.7722514959948863, -0.45758893217485086, -1.3697226133349176, -2.046223214968447, -0.9579602434170336, 1.4299651060248795, 0.6747291885765265, -2.446185003930176, -0.4786337657758917, -0.4937053710053525, 0.2403915067061822, 0.1756572084243671, -0.9455598067160645, -0.056992586205770676, 1.0699334051439484, 1.673208526089509, -0.6395578941823503, 0.25843104956249363, 0.9463770770249402, -1.173249590196306, -1.3898254730875272, -1.9485443421261375, -0.7990195508075936, -0.31886903775938763, -0.08574570155079406, 1.3516886194648055, 2.2149074403731497, -0.7949499836639242, 0.6349268210678864, -1.2078356601723703, 0.3787942389731917, -0.6891367639313457, 1.3739612750682195, 1.049897380525511, -0.018372121788850865, -0.2245124095889812, -1.1217196388681876, 0.13626183916315088, 0.7831733334090794, -0.29080499799221227, 0.4448251856275786, 1.146475088094464, -0.3875437175635493, -1.619961941950166, 1.9877975354122728, 0.3112587438792633, -1.0975621453609536, 1.3884885691095525, -2.253520984677293, 0.8172734212747151, 0.6798692585838515, 0.9418421759704245, -1.3652789631659974, 1.2276374079163535, -0.948723105258126, 1.2325710575478996, 1.6427249926188614, -0.008728784354691151, 1.5770304307221095, -0.9423567084179673, 0.36669310906068375, 1.4950786618013892, 0.04239700440360714, 0.7492246927132604, 0.9362248498051818, -1.0210447539510035, -0.557769626378885, 0.8585655547526226, 0.5500178298829814, 0.49205297793010305, -1.8099585130722016, 0.6170410700662037, 0.4698120642968544, 0.6243133179356815, -0.23817960494236465, -1.5594009134291225, -1.1132549789519153, 0.037206911943428185, -0.44926998300567894, -0.7848515495976766, 0.1280030808290587, 0.7618062697149731, -1.2480442658733897, -0.5126732212013174, -1.8977786099295044, 0.9258361552336678, 0.17023070984428282, 0.5668693240350743, -1.2976881194121161, -0.2908984427086773, -0.32529334782616276, 2.208923211463274, -0.3527371000449035, 0.017930464472224805], \"xaxis\": \"x2\", \"y\": [-2.3454141693589876, 0.6237775380275742, 0.5084665209175578, 1.0077383239871212, -1.596862641714782, -2.374942969830823, -1.3706328842809488, 1.3747352172717342, -0.7622432557064147, -1.9184039896950638, 1.5017960911885953, -0.7114451376865186, -0.29446634553217194, -1.4876954594826903, 0.6995466429849003, -0.9080622620621699, 0.0037148475874004623, -0.8606836096783335, 1.5500856254168882, 0.8681259238151428, -0.25157963103361447, -0.6950867661351647, -1.2977326913712255, 1.0792884415738364, 1.9215810061890053, 1.6391562586670962, 0.8532070522380638, 0.9960034559394392, 1.0384819480958472, -0.4416790016043128, 0.6272585044640208, 1.6568382627476808, 0.17604804120284398, -0.12173009136600939, 1.786145195510604, 1.0620956079199924, -1.6487794157955151, 0.5134853837511637, -0.09341126386297298, 0.5748210842959969, -0.34773144268786665, 1.4495352760328146, 0.55589609988229, -0.19407908794453177, 1.954553549389376, -1.4401496294154514, -1.687016031719059, 0.9152212524783871, -0.9701130342584917, 0.2781872419962723, -0.42465351126078166, 0.21363104414796674, 0.6798391516567996, -0.21693900500613778, 1.1253269510990103, -0.4364919033627248, 0.5070307915178102, -0.6938482394362632, -1.4709020923143088, -0.3005468309159597, 0.10117735963741527, -0.2739784055963156, -1.592983100175776, -0.7550289749943683, -1.8804241568882007, 0.09895966465769129, 1.280991037813301, 0.18446847622744528, 2.514156053080135, 0.887922034620755, 0.22026729871991257, -0.058148079602631304, 0.11519546694262874, 1.3733167398735402, 0.7719722757739921, -0.11131557918308087, 0.12928439944667708, 0.656916890088794, 1.2254282520039692, -2.3574405969002927, 0.520182684697464, 0.49226230720825487, -0.2946532839128033, 1.5850905733271186, -0.4894593363475711, 2.6413792649821013, 0.13735097170865115, -0.9828018800837163, 0.13801858167033576, -0.6215647789215498, -0.15010559951578073, 0.39313077400096924, -0.9745423404621509, -0.41287483235514105, 1.406315163167479, 0.13788703768854482, 1.2731159007446353, -0.2163497464314463, 1.0853126714886798, 0.5353673129325547], \"yaxis\": \"y2\"}, {\"line\": {\"color\": \"rgba(128, 128, 128, 1.0)\", \"dash\": \"solid\", \"shape\": \"linear\", \"width\": 1.3}, \"marker\": {\"size\": 2, \"symbol\": \"circle\"}, \"mode\": \"markers\", \"name\": \"A\", \"text\": \"\", \"type\": \"scatter\", \"x\": [-1.3558438844649783, -0.8759976250780299, -1.5226576052910572, 0.6859913101905638, -1.4745329764700488, 0.6828771878184736, -1.0849106006902465, 1.523352301399798, -0.9853422207451589, 0.6932108339167925, 0.7633868090179348, 0.8916412099722324, 0.050204442993994174, 0.7423238229395155, 1.0159031903899545, 1.9054442649114558, -0.3424359452933501, -1.1316300670809745, 0.2573871580683922, -0.15460877096012696, -1.0669518039993229, -1.62095710266104, 1.1313206485772982, -0.04241686948250148, 0.45170817231399074, 0.6521585599767435, -0.08866608902559109, 0.5450815082077972, -0.07550183915437703, 0.5634332612313229, 0.6192110696992771, 1.328597023291623, 0.1660352535032697, 0.4928882922850011, -0.29024550597846444, 0.49113434479810897, -1.7320823264752663, -0.13318914581762933, -0.32230663550846983, -0.8452934758305347, 0.2804586884358228, -0.44216324939486046, -1.5693868593842886, 0.3935376557697536, -1.5149644526197097, 1.885525396279445, 0.9230739549753205, 0.17700846714231913, -0.9174290087499014, 2.3067041365835443, 0.8347911211930508, -1.213245818120258, -0.24678184949387347, 0.9397310665816551, 0.8358759383276779, 2.5671593128238825, 0.4975380022059849, 0.21113908418866448, 0.05840251974011824, -0.012614051025127521, 0.696886783023304, 0.22378385348623372, 0.873109004056181, -0.32025250402305927, 0.43733412531067234, -2.1796323143831837, 1.131526488980349, -0.07244899849102823, -0.9437760466154475, 0.8288808965124419, 0.1647900730078459, -1.4977327430030567, -0.07078240164283371, -1.4672832268638136, -0.8957403277218311, 1.2066408411869143, -0.6131415822158299, -0.3542694521430507, 1.4734580494242786, -0.22336917295915848, 0.7176827579863617, 0.4179099732903556, -1.7543318718026637, -1.0046119566794123, 1.8065138686324629, 0.44619412525863655, 0.14211198950617412, 1.422548521554508, -2.0531765991102695, -1.0830746724660953, -0.8849179035837618, 0.09549812911970507, 1.1962487937594568, 1.5150217189675301, -0.9410171911457614, -1.4334005060478348, -0.44280607208682105, 0.53523974901187, 0.37164692109689645, 0.1040283798888921], \"xaxis\": \"x3\", \"y\": [-2.3454141693589876, 0.6237775380275742, 0.5084665209175578, 1.0077383239871212, -1.596862641714782, -2.374942969830823, -1.3706328842809488, 1.3747352172717342, -0.7622432557064147, -1.9184039896950638, 1.5017960911885953, -0.7114451376865186, -0.29446634553217194, -1.4876954594826903, 0.6995466429849003, -0.9080622620621699, 0.0037148475874004623, -0.8606836096783335, 1.5500856254168882, 0.8681259238151428, -0.25157963103361447, -0.6950867661351647, -1.2977326913712255, 1.0792884415738364, 1.9215810061890053, 1.6391562586670962, 0.8532070522380638, 0.9960034559394392, 1.0384819480958472, -0.4416790016043128, 0.6272585044640208, 1.6568382627476808, 0.17604804120284398, -0.12173009136600939, 1.786145195510604, 1.0620956079199924, -1.6487794157955151, 0.5134853837511637, -0.09341126386297298, 0.5748210842959969, -0.34773144268786665, 1.4495352760328146, 0.55589609988229, -0.19407908794453177, 1.954553549389376, -1.4401496294154514, -1.687016031719059, 0.9152212524783871, -0.9701130342584917, 0.2781872419962723, -0.42465351126078166, 0.21363104414796674, 0.6798391516567996, -0.21693900500613778, 1.1253269510990103, -0.4364919033627248, 0.5070307915178102, -0.6938482394362632, -1.4709020923143088, -0.3005468309159597, 0.10117735963741527, -0.2739784055963156, -1.592983100175776, -0.7550289749943683, -1.8804241568882007, 0.09895966465769129, 1.280991037813301, 0.18446847622744528, 2.514156053080135, 0.887922034620755, 0.22026729871991257, -0.058148079602631304, 0.11519546694262874, 1.3733167398735402, 0.7719722757739921, -0.11131557918308087, 0.12928439944667708, 0.656916890088794, 1.2254282520039692, -2.3574405969002927, 0.520182684697464, 0.49226230720825487, -0.2946532839128033, 1.5850905733271186, -0.4894593363475711, 2.6413792649821013, 0.13735097170865115, -0.9828018800837163, 0.13801858167033576, -0.6215647789215498, -0.15010559951578073, 0.39313077400096924, -0.9745423404621509, -0.41287483235514105, 1.406315163167479, 0.13788703768854482, 1.2731159007446353, -0.2163497464314463, 1.0853126714886798, 0.5353673129325547], \"yaxis\": \"y3\"}, {\"line\": {\"color\": \"rgba(128, 128, 128, 1.0)\", \"dash\": \"solid\", \"shape\": \"linear\", \"width\": 1.3}, \"marker\": {\"size\": 2, \"symbol\": \"circle\"}, \"mode\": \"markers\", \"name\": \"A\", \"text\": \"\", \"type\": \"scatter\", \"x\": [-0.5385350988622541, 0.545901013423756, -0.484352741184118, -0.46190751635045596, -0.9864472694700864, -0.8175474195057619, 0.47103677748724615, 0.675230684755957, -0.10416988785091413, -3.0498796434260305, 2.1844358483993105, 1.7035314838510314, 1.1818011482558322, -0.05764068868728147, 0.875240808030797, 0.8445498239359918, -2.6993526916534805, 3.5018773878275753, -0.5497885060867724, -0.11402025883309072, 0.19040843485006825, -0.6094078828465187, 0.91407171843882, 0.32677708763507246, -0.7225541635588506, -2.8455246675306607, 0.2593710337822382, -0.010714464792365598, 0.20929993629527077, 1.2117607161159156, -0.6263118673260771, 0.18202777913921045, 2.8839889868661213, -0.9394631656759914, -0.3382480830479188, -1.0316131721230972, -0.940759421829133, -1.142661400611097, -1.1207629798998748, -0.30407617327330594, 0.01194736837885959, -0.5367360380188764, 0.40792335064706836, 0.2249811905872184, -1.3229022056214161, 2.312984299958345, 0.5165522721147605, 0.9854095568838235, -1.3226052135507627, 0.8486040230276036, -0.2521225960134387, -0.5224242350369688, -0.554304986298737, -0.5324415024467941, -0.3484727911798317, -0.7388708300901486, 1.396927959756421, -0.8009571887199037, 0.3045629564754834, 0.6846385240046091, 0.800656349914363, -0.06784582296782894, 0.8900207825068571, 0.21443581846267742, -0.280102573472488, 2.0884667467000635, -0.4419798386688738, 2.6887519963338753, -0.9196940630292755, -0.9212369832955514, 0.8133584889109357, 0.7173235238779602, 1.1969024311188128, -1.1665944546981923, 0.2363393276438888, 1.6181666228688691, 0.45301029796524706, 1.030380009820546, 1.26476133737168, 1.5328111104261763, -1.7280659889187395, 0.242470022573717, -2.174788288833403, 1.5865000513117713, 0.4814596575341235, 0.5184744665088035, -0.7294118236889608, 1.950115929880263, -0.9717717204544494, -0.2907075440869592, 1.2995914390506236, 0.8183366678883612, 1.4025268131317277, 0.1736542530931986, 0.1834584779516139, 0.5777805229615387, 0.6905852621422153, 1.1515404398354685, 0.41779603838887935, 0.2176100327546996], \"xaxis\": \"x4\", \"y\": [-2.3454141693589876, 0.6237775380275742, 0.5084665209175578, 1.0077383239871212, -1.596862641714782, -2.374942969830823, -1.3706328842809488, 1.3747352172717342, -0.7622432557064147, -1.9184039896950638, 1.5017960911885953, -0.7114451376865186, -0.29446634553217194, -1.4876954594826903, 0.6995466429849003, -0.9080622620621699, 0.0037148475874004623, -0.8606836096783335, 1.5500856254168882, 0.8681259238151428, -0.25157963103361447, -0.6950867661351647, -1.2977326913712255, 1.0792884415738364, 1.9215810061890053, 1.6391562586670962, 0.8532070522380638, 0.9960034559394392, 1.0384819480958472, -0.4416790016043128, 0.6272585044640208, 1.6568382627476808, 0.17604804120284398, -0.12173009136600939, 1.786145195510604, 1.0620956079199924, -1.6487794157955151, 0.5134853837511637, -0.09341126386297298, 0.5748210842959969, -0.34773144268786665, 1.4495352760328146, 0.55589609988229, -0.19407908794453177, 1.954553549389376, -1.4401496294154514, -1.687016031719059, 0.9152212524783871, -0.9701130342584917, 0.2781872419962723, -0.42465351126078166, 0.21363104414796674, 0.6798391516567996, -0.21693900500613778, 1.1253269510990103, -0.4364919033627248, 0.5070307915178102, -0.6938482394362632, -1.4709020923143088, -0.3005468309159597, 0.10117735963741527, -0.2739784055963156, -1.592983100175776, -0.7550289749943683, -1.8804241568882007, 0.09895966465769129, 1.280991037813301, 0.18446847622744528, 2.514156053080135, 0.887922034620755, 0.22026729871991257, -0.058148079602631304, 0.11519546694262874, 1.3733167398735402, 0.7719722757739921, -0.11131557918308087, 0.12928439944667708, 0.656916890088794, 1.2254282520039692, -2.3574405969002927, 0.520182684697464, 0.49226230720825487, -0.2946532839128033, 1.5850905733271186, -0.4894593363475711, 2.6413792649821013, 0.13735097170865115, -0.9828018800837163, 0.13801858167033576, -0.6215647789215498, -0.15010559951578073, 0.39313077400096924, -0.9745423404621509, -0.41287483235514105, 1.406315163167479, 0.13788703768854482, 1.2731159007446353, -0.2163497464314463, 1.0853126714886798, 0.5353673129325547], \"yaxis\": \"y4\"}, {\"line\": {\"color\": \"rgba(128, 128, 128, 1.0)\", \"dash\": \"solid\", \"shape\": \"linear\", \"width\": 1.3}, \"marker\": {\"size\": 2, \"symbol\": \"circle\"}, \"mode\": \"markers\", \"name\": \"B\", \"text\": \"\", \"type\": \"scatter\", \"x\": [-2.3454141693589876, 0.6237775380275742, 0.5084665209175578, 1.0077383239871212, -1.596862641714782, -2.374942969830823, -1.3706328842809488, 1.3747352172717342, -0.7622432557064147, -1.9184039896950638, 1.5017960911885953, -0.7114451376865186, -0.29446634553217194, -1.4876954594826903, 0.6995466429849003, -0.9080622620621699, 0.0037148475874004623, -0.8606836096783335, 1.5500856254168882, 0.8681259238151428, -0.25157963103361447, -0.6950867661351647, -1.2977326913712255, 1.0792884415738364, 1.9215810061890053, 1.6391562586670962, 0.8532070522380638, 0.9960034559394392, 1.0384819480958472, -0.4416790016043128, 0.6272585044640208, 1.6568382627476808, 0.17604804120284398, -0.12173009136600939, 1.786145195510604, 1.0620956079199924, -1.6487794157955151, 0.5134853837511637, -0.09341126386297298, 0.5748210842959969, -0.34773144268786665, 1.4495352760328146, 0.55589609988229, -0.19407908794453177, 1.954553549389376, -1.4401496294154514, -1.687016031719059, 0.9152212524783871, -0.9701130342584917, 0.2781872419962723, -0.42465351126078166, 0.21363104414796674, 0.6798391516567996, -0.21693900500613778, 1.1253269510990103, -0.4364919033627248, 0.5070307915178102, -0.6938482394362632, -1.4709020923143088, -0.3005468309159597, 0.10117735963741527, -0.2739784055963156, -1.592983100175776, -0.7550289749943683, -1.8804241568882007, 0.09895966465769129, 1.280991037813301, 0.18446847622744528, 2.514156053080135, 0.887922034620755, 0.22026729871991257, -0.058148079602631304, 0.11519546694262874, 1.3733167398735402, 0.7719722757739921, -0.11131557918308087, 0.12928439944667708, 0.656916890088794, 1.2254282520039692, -2.3574405969002927, 0.520182684697464, 0.49226230720825487, -0.2946532839128033, 1.5850905733271186, -0.4894593363475711, 2.6413792649821013, 0.13735097170865115, -0.9828018800837163, 0.13801858167033576, -0.6215647789215498, -0.15010559951578073, 0.39313077400096924, -0.9745423404621509, -0.41287483235514105, 1.406315163167479, 0.13788703768854482, 1.2731159007446353, -0.2163497464314463, 1.0853126714886798, 0.5353673129325547], \"xaxis\": \"x5\", \"y\": [-1.2116920522282546, -2.4182256642840154, -0.4467089062786822, -1.9392425928013934, 0.9457088641174468, -1.4107952784259432, 0.7722514959948863, -0.45758893217485086, -1.3697226133349176, -2.046223214968447, -0.9579602434170336, 1.4299651060248795, 0.6747291885765265, -2.446185003930176, -0.4786337657758917, -0.4937053710053525, 0.2403915067061822, 0.1756572084243671, -0.9455598067160645, -0.056992586205770676, 1.0699334051439484, 1.673208526089509, -0.6395578941823503, 0.25843104956249363, 0.9463770770249402, -1.173249590196306, -1.3898254730875272, -1.9485443421261375, -0.7990195508075936, -0.31886903775938763, -0.08574570155079406, 1.3516886194648055, 2.2149074403731497, -0.7949499836639242, 0.6349268210678864, -1.2078356601723703, 0.3787942389731917, -0.6891367639313457, 1.3739612750682195, 1.049897380525511, -0.018372121788850865, -0.2245124095889812, -1.1217196388681876, 0.13626183916315088, 0.7831733334090794, -0.29080499799221227, 0.4448251856275786, 1.146475088094464, -0.3875437175635493, -1.619961941950166, 1.9877975354122728, 0.3112587438792633, -1.0975621453609536, 1.3884885691095525, -2.253520984677293, 0.8172734212747151, 0.6798692585838515, 0.9418421759704245, -1.3652789631659974, 1.2276374079163535, -0.948723105258126, 1.2325710575478996, 1.6427249926188614, -0.008728784354691151, 1.5770304307221095, -0.9423567084179673, 0.36669310906068375, 1.4950786618013892, 0.04239700440360714, 0.7492246927132604, 0.9362248498051818, -1.0210447539510035, -0.557769626378885, 0.8585655547526226, 0.5500178298829814, 0.49205297793010305, -1.8099585130722016, 0.6170410700662037, 0.4698120642968544, 0.6243133179356815, -0.23817960494236465, -1.5594009134291225, -1.1132549789519153, 0.037206911943428185, -0.44926998300567894, -0.7848515495976766, 0.1280030808290587, 0.7618062697149731, -1.2480442658733897, -0.5126732212013174, -1.8977786099295044, 0.9258361552336678, 0.17023070984428282, 0.5668693240350743, -1.2976881194121161, -0.2908984427086773, -0.32529334782616276, 2.208923211463274, -0.3527371000449035, 0.017930464472224805], \"yaxis\": \"y5\"}, {\"histfunc\": \"count\", \"histnorm\": \"\", \"marker\": {\"color\": \"rgba(55, 128, 191, 1.0)\", \"line\": {\"color\": \"#4D5663\", \"width\": 1.3}}, \"name\": \"B\", \"nbinsx\": 10, \"opacity\": 0.8, \"orientation\": \"v\", \"type\": \"histogram\", \"x\": [-1.2116920522282546, -2.4182256642840154, -0.4467089062786822, -1.9392425928013934, 0.9457088641174468, -1.4107952784259432, 0.7722514959948863, -0.45758893217485086, -1.3697226133349176, -2.046223214968447, -0.9579602434170336, 1.4299651060248795, 0.6747291885765265, -2.446185003930176, -0.4786337657758917, -0.4937053710053525, 0.2403915067061822, 0.1756572084243671, -0.9455598067160645, -0.056992586205770676, 1.0699334051439484, 1.673208526089509, -0.6395578941823503, 0.25843104956249363, 0.9463770770249402, -1.173249590196306, -1.3898254730875272, -1.9485443421261375, -0.7990195508075936, -0.31886903775938763, -0.08574570155079406, 1.3516886194648055, 2.2149074403731497, -0.7949499836639242, 0.6349268210678864, -1.2078356601723703, 0.3787942389731917, -0.6891367639313457, 1.3739612750682195, 1.049897380525511, -0.018372121788850865, -0.2245124095889812, -1.1217196388681876, 0.13626183916315088, 0.7831733334090794, -0.29080499799221227, 0.4448251856275786, 1.146475088094464, -0.3875437175635493, -1.619961941950166, 1.9877975354122728, 0.3112587438792633, -1.0975621453609536, 1.3884885691095525, -2.253520984677293, 0.8172734212747151, 0.6798692585838515, 0.9418421759704245, -1.3652789631659974, 1.2276374079163535, -0.948723105258126, 1.2325710575478996, 1.6427249926188614, -0.008728784354691151, 1.5770304307221095, -0.9423567084179673, 0.36669310906068375, 1.4950786618013892, 0.04239700440360714, 0.7492246927132604, 0.9362248498051818, -1.0210447539510035, -0.557769626378885, 0.8585655547526226, 0.5500178298829814, 0.49205297793010305, -1.8099585130722016, 0.6170410700662037, 0.4698120642968544, 0.6243133179356815, -0.23817960494236465, -1.5594009134291225, -1.1132549789519153, 0.037206911943428185, -0.44926998300567894, -0.7848515495976766, 0.1280030808290587, 0.7618062697149731, -1.2480442658733897, -0.5126732212013174, -1.8977786099295044, 0.9258361552336678, 0.17023070984428282, 0.5668693240350743, -1.2976881194121161, -0.2908984427086773, -0.32529334782616276, 2.208923211463274, -0.3527371000449035, 0.017930464472224805], \"xaxis\": \"x6\", \"yaxis\": \"y6\"}, {\"line\": {\"color\": \"rgba(128, 128, 128, 1.0)\", \"dash\": \"solid\", \"shape\": \"linear\", \"width\": 1.3}, \"marker\": {\"size\": 2, \"symbol\": \"circle\"}, \"mode\": \"markers\", \"name\": \"B\", \"text\": \"\", \"type\": \"scatter\", \"x\": [-1.3558438844649783, -0.8759976250780299, -1.5226576052910572, 0.6859913101905638, -1.4745329764700488, 0.6828771878184736, -1.0849106006902465, 1.523352301399798, -0.9853422207451589, 0.6932108339167925, 0.7633868090179348, 0.8916412099722324, 0.050204442993994174, 0.7423238229395155, 1.0159031903899545, 1.9054442649114558, -0.3424359452933501, -1.1316300670809745, 0.2573871580683922, -0.15460877096012696, -1.0669518039993229, -1.62095710266104, 1.1313206485772982, -0.04241686948250148, 0.45170817231399074, 0.6521585599767435, -0.08866608902559109, 0.5450815082077972, -0.07550183915437703, 0.5634332612313229, 0.6192110696992771, 1.328597023291623, 0.1660352535032697, 0.4928882922850011, -0.29024550597846444, 0.49113434479810897, -1.7320823264752663, -0.13318914581762933, -0.32230663550846983, -0.8452934758305347, 0.2804586884358228, -0.44216324939486046, -1.5693868593842886, 0.3935376557697536, -1.5149644526197097, 1.885525396279445, 0.9230739549753205, 0.17700846714231913, -0.9174290087499014, 2.3067041365835443, 0.8347911211930508, -1.213245818120258, -0.24678184949387347, 0.9397310665816551, 0.8358759383276779, 2.5671593128238825, 0.4975380022059849, 0.21113908418866448, 0.05840251974011824, -0.012614051025127521, 0.696886783023304, 0.22378385348623372, 0.873109004056181, -0.32025250402305927, 0.43733412531067234, -2.1796323143831837, 1.131526488980349, -0.07244899849102823, -0.9437760466154475, 0.8288808965124419, 0.1647900730078459, -1.4977327430030567, -0.07078240164283371, -1.4672832268638136, -0.8957403277218311, 1.2066408411869143, -0.6131415822158299, -0.3542694521430507, 1.4734580494242786, -0.22336917295915848, 0.7176827579863617, 0.4179099732903556, -1.7543318718026637, -1.0046119566794123, 1.8065138686324629, 0.44619412525863655, 0.14211198950617412, 1.422548521554508, -2.0531765991102695, -1.0830746724660953, -0.8849179035837618, 0.09549812911970507, 1.1962487937594568, 1.5150217189675301, -0.9410171911457614, -1.4334005060478348, -0.44280607208682105, 0.53523974901187, 0.37164692109689645, 0.1040283798888921], \"xaxis\": \"x7\", \"y\": [-1.2116920522282546, -2.4182256642840154, -0.4467089062786822, -1.9392425928013934, 0.9457088641174468, -1.4107952784259432, 0.7722514959948863, -0.45758893217485086, -1.3697226133349176, -2.046223214968447, -0.9579602434170336, 1.4299651060248795, 0.6747291885765265, -2.446185003930176, -0.4786337657758917, -0.4937053710053525, 0.2403915067061822, 0.1756572084243671, -0.9455598067160645, -0.056992586205770676, 1.0699334051439484, 1.673208526089509, -0.6395578941823503, 0.25843104956249363, 0.9463770770249402, -1.173249590196306, -1.3898254730875272, -1.9485443421261375, -0.7990195508075936, -0.31886903775938763, -0.08574570155079406, 1.3516886194648055, 2.2149074403731497, -0.7949499836639242, 0.6349268210678864, -1.2078356601723703, 0.3787942389731917, -0.6891367639313457, 1.3739612750682195, 1.049897380525511, -0.018372121788850865, -0.2245124095889812, -1.1217196388681876, 0.13626183916315088, 0.7831733334090794, -0.29080499799221227, 0.4448251856275786, 1.146475088094464, -0.3875437175635493, -1.619961941950166, 1.9877975354122728, 0.3112587438792633, -1.0975621453609536, 1.3884885691095525, -2.253520984677293, 0.8172734212747151, 0.6798692585838515, 0.9418421759704245, -1.3652789631659974, 1.2276374079163535, -0.948723105258126, 1.2325710575478996, 1.6427249926188614, -0.008728784354691151, 1.5770304307221095, -0.9423567084179673, 0.36669310906068375, 1.4950786618013892, 0.04239700440360714, 0.7492246927132604, 0.9362248498051818, -1.0210447539510035, -0.557769626378885, 0.8585655547526226, 0.5500178298829814, 0.49205297793010305, -1.8099585130722016, 0.6170410700662037, 0.4698120642968544, 0.6243133179356815, -0.23817960494236465, -1.5594009134291225, -1.1132549789519153, 0.037206911943428185, -0.44926998300567894, -0.7848515495976766, 0.1280030808290587, 0.7618062697149731, -1.2480442658733897, -0.5126732212013174, -1.8977786099295044, 0.9258361552336678, 0.17023070984428282, 0.5668693240350743, -1.2976881194121161, -0.2908984427086773, -0.32529334782616276, 2.208923211463274, -0.3527371000449035, 0.017930464472224805], \"yaxis\": \"y7\"}, {\"line\": {\"color\": \"rgba(128, 128, 128, 1.0)\", \"dash\": \"solid\", \"shape\": \"linear\", \"width\": 1.3}, \"marker\": {\"size\": 2, \"symbol\": \"circle\"}, \"mode\": \"markers\", \"name\": \"B\", \"text\": \"\", \"type\": \"scatter\", \"x\": [-0.5385350988622541, 0.545901013423756, -0.484352741184118, -0.46190751635045596, -0.9864472694700864, -0.8175474195057619, 0.47103677748724615, 0.675230684755957, -0.10416988785091413, -3.0498796434260305, 2.1844358483993105, 1.7035314838510314, 1.1818011482558322, -0.05764068868728147, 0.875240808030797, 0.8445498239359918, -2.6993526916534805, 3.5018773878275753, -0.5497885060867724, -0.11402025883309072, 0.19040843485006825, -0.6094078828465187, 0.91407171843882, 0.32677708763507246, -0.7225541635588506, -2.8455246675306607, 0.2593710337822382, -0.010714464792365598, 0.20929993629527077, 1.2117607161159156, -0.6263118673260771, 0.18202777913921045, 2.8839889868661213, -0.9394631656759914, -0.3382480830479188, -1.0316131721230972, -0.940759421829133, -1.142661400611097, -1.1207629798998748, -0.30407617327330594, 0.01194736837885959, -0.5367360380188764, 0.40792335064706836, 0.2249811905872184, -1.3229022056214161, 2.312984299958345, 0.5165522721147605, 0.9854095568838235, -1.3226052135507627, 0.8486040230276036, -0.2521225960134387, -0.5224242350369688, -0.554304986298737, -0.5324415024467941, -0.3484727911798317, -0.7388708300901486, 1.396927959756421, -0.8009571887199037, 0.3045629564754834, 0.6846385240046091, 0.800656349914363, -0.06784582296782894, 0.8900207825068571, 0.21443581846267742, -0.280102573472488, 2.0884667467000635, -0.4419798386688738, 2.6887519963338753, -0.9196940630292755, -0.9212369832955514, 0.8133584889109357, 0.7173235238779602, 1.1969024311188128, -1.1665944546981923, 0.2363393276438888, 1.6181666228688691, 0.45301029796524706, 1.030380009820546, 1.26476133737168, 1.5328111104261763, -1.7280659889187395, 0.242470022573717, -2.174788288833403, 1.5865000513117713, 0.4814596575341235, 0.5184744665088035, -0.7294118236889608, 1.950115929880263, -0.9717717204544494, -0.2907075440869592, 1.2995914390506236, 0.8183366678883612, 1.4025268131317277, 0.1736542530931986, 0.1834584779516139, 0.5777805229615387, 0.6905852621422153, 1.1515404398354685, 0.41779603838887935, 0.2176100327546996], \"xaxis\": \"x8\", \"y\": [-1.2116920522282546, -2.4182256642840154, -0.4467089062786822, -1.9392425928013934, 0.9457088641174468, -1.4107952784259432, 0.7722514959948863, -0.45758893217485086, -1.3697226133349176, -2.046223214968447, -0.9579602434170336, 1.4299651060248795, 0.6747291885765265, -2.446185003930176, -0.4786337657758917, -0.4937053710053525, 0.2403915067061822, 0.1756572084243671, -0.9455598067160645, -0.056992586205770676, 1.0699334051439484, 1.673208526089509, -0.6395578941823503, 0.25843104956249363, 0.9463770770249402, -1.173249590196306, -1.3898254730875272, -1.9485443421261375, -0.7990195508075936, -0.31886903775938763, -0.08574570155079406, 1.3516886194648055, 2.2149074403731497, -0.7949499836639242, 0.6349268210678864, -1.2078356601723703, 0.3787942389731917, -0.6891367639313457, 1.3739612750682195, 1.049897380525511, -0.018372121788850865, -0.2245124095889812, -1.1217196388681876, 0.13626183916315088, 0.7831733334090794, -0.29080499799221227, 0.4448251856275786, 1.146475088094464, -0.3875437175635493, -1.619961941950166, 1.9877975354122728, 0.3112587438792633, -1.0975621453609536, 1.3884885691095525, -2.253520984677293, 0.8172734212747151, 0.6798692585838515, 0.9418421759704245, -1.3652789631659974, 1.2276374079163535, -0.948723105258126, 1.2325710575478996, 1.6427249926188614, -0.008728784354691151, 1.5770304307221095, -0.9423567084179673, 0.36669310906068375, 1.4950786618013892, 0.04239700440360714, 0.7492246927132604, 0.9362248498051818, -1.0210447539510035, -0.557769626378885, 0.8585655547526226, 0.5500178298829814, 0.49205297793010305, -1.8099585130722016, 0.6170410700662037, 0.4698120642968544, 0.6243133179356815, -0.23817960494236465, -1.5594009134291225, -1.1132549789519153, 0.037206911943428185, -0.44926998300567894, -0.7848515495976766, 0.1280030808290587, 0.7618062697149731, -1.2480442658733897, -0.5126732212013174, -1.8977786099295044, 0.9258361552336678, 0.17023070984428282, 0.5668693240350743, -1.2976881194121161, -0.2908984427086773, -0.32529334782616276, 2.208923211463274, -0.3527371000449035, 0.017930464472224805], \"yaxis\": \"y8\"}, {\"line\": {\"color\": \"rgba(128, 128, 128, 1.0)\", \"dash\": \"solid\", \"shape\": \"linear\", \"width\": 1.3}, \"marker\": {\"size\": 2, \"symbol\": \"circle\"}, \"mode\": \"markers\", \"name\": \"C\", \"text\": \"\", \"type\": \"scatter\", \"x\": [-2.3454141693589876, 0.6237775380275742, 0.5084665209175578, 1.0077383239871212, -1.596862641714782, -2.374942969830823, -1.3706328842809488, 1.3747352172717342, -0.7622432557064147, -1.9184039896950638, 1.5017960911885953, -0.7114451376865186, -0.29446634553217194, -1.4876954594826903, 0.6995466429849003, -0.9080622620621699, 0.0037148475874004623, -0.8606836096783335, 1.5500856254168882, 0.8681259238151428, -0.25157963103361447, -0.6950867661351647, -1.2977326913712255, 1.0792884415738364, 1.9215810061890053, 1.6391562586670962, 0.8532070522380638, 0.9960034559394392, 1.0384819480958472, -0.4416790016043128, 0.6272585044640208, 1.6568382627476808, 0.17604804120284398, -0.12173009136600939, 1.786145195510604, 1.0620956079199924, -1.6487794157955151, 0.5134853837511637, -0.09341126386297298, 0.5748210842959969, -0.34773144268786665, 1.4495352760328146, 0.55589609988229, -0.19407908794453177, 1.954553549389376, -1.4401496294154514, -1.687016031719059, 0.9152212524783871, -0.9701130342584917, 0.2781872419962723, -0.42465351126078166, 0.21363104414796674, 0.6798391516567996, -0.21693900500613778, 1.1253269510990103, -0.4364919033627248, 0.5070307915178102, -0.6938482394362632, -1.4709020923143088, -0.3005468309159597, 0.10117735963741527, -0.2739784055963156, -1.592983100175776, -0.7550289749943683, -1.8804241568882007, 0.09895966465769129, 1.280991037813301, 0.18446847622744528, 2.514156053080135, 0.887922034620755, 0.22026729871991257, -0.058148079602631304, 0.11519546694262874, 1.3733167398735402, 0.7719722757739921, -0.11131557918308087, 0.12928439944667708, 0.656916890088794, 1.2254282520039692, -2.3574405969002927, 0.520182684697464, 0.49226230720825487, -0.2946532839128033, 1.5850905733271186, -0.4894593363475711, 2.6413792649821013, 0.13735097170865115, -0.9828018800837163, 0.13801858167033576, -0.6215647789215498, -0.15010559951578073, 0.39313077400096924, -0.9745423404621509, -0.41287483235514105, 1.406315163167479, 0.13788703768854482, 1.2731159007446353, -0.2163497464314463, 1.0853126714886798, 0.5353673129325547], \"xaxis\": \"x9\", \"y\": [-1.3558438844649783, -0.8759976250780299, -1.5226576052910572, 0.6859913101905638, -1.4745329764700488, 0.6828771878184736, -1.0849106006902465, 1.523352301399798, -0.9853422207451589, 0.6932108339167925, 0.7633868090179348, 0.8916412099722324, 0.050204442993994174, 0.7423238229395155, 1.0159031903899545, 1.9054442649114558, -0.3424359452933501, -1.1316300670809745, 0.2573871580683922, -0.15460877096012696, -1.0669518039993229, -1.62095710266104, 1.1313206485772982, -0.04241686948250148, 0.45170817231399074, 0.6521585599767435, -0.08866608902559109, 0.5450815082077972, -0.07550183915437703, 0.5634332612313229, 0.6192110696992771, 1.328597023291623, 0.1660352535032697, 0.4928882922850011, -0.29024550597846444, 0.49113434479810897, -1.7320823264752663, -0.13318914581762933, -0.32230663550846983, -0.8452934758305347, 0.2804586884358228, -0.44216324939486046, -1.5693868593842886, 0.3935376557697536, -1.5149644526197097, 1.885525396279445, 0.9230739549753205, 0.17700846714231913, -0.9174290087499014, 2.3067041365835443, 0.8347911211930508, -1.213245818120258, -0.24678184949387347, 0.9397310665816551, 0.8358759383276779, 2.5671593128238825, 0.4975380022059849, 0.21113908418866448, 0.05840251974011824, -0.012614051025127521, 0.696886783023304, 0.22378385348623372, 0.873109004056181, -0.32025250402305927, 0.43733412531067234, -2.1796323143831837, 1.131526488980349, -0.07244899849102823, -0.9437760466154475, 0.8288808965124419, 0.1647900730078459, -1.4977327430030567, -0.07078240164283371, -1.4672832268638136, -0.8957403277218311, 1.2066408411869143, -0.6131415822158299, -0.3542694521430507, 1.4734580494242786, -0.22336917295915848, 0.7176827579863617, 0.4179099732903556, -1.7543318718026637, -1.0046119566794123, 1.8065138686324629, 0.44619412525863655, 0.14211198950617412, 1.422548521554508, -2.0531765991102695, -1.0830746724660953, -0.8849179035837618, 0.09549812911970507, 1.1962487937594568, 1.5150217189675301, -0.9410171911457614, -1.4334005060478348, -0.44280607208682105, 0.53523974901187, 0.37164692109689645, 0.1040283798888921], \"yaxis\": \"y9\"}, {\"line\": {\"color\": \"rgba(128, 128, 128, 1.0)\", \"dash\": \"solid\", \"shape\": \"linear\", \"width\": 1.3}, \"marker\": {\"size\": 2, \"symbol\": \"circle\"}, \"mode\": \"markers\", \"name\": \"C\", \"text\": \"\", \"type\": \"scatter\", \"x\": [-1.2116920522282546, -2.4182256642840154, -0.4467089062786822, -1.9392425928013934, 0.9457088641174468, -1.4107952784259432, 0.7722514959948863, -0.45758893217485086, -1.3697226133349176, -2.046223214968447, -0.9579602434170336, 1.4299651060248795, 0.6747291885765265, -2.446185003930176, -0.4786337657758917, -0.4937053710053525, 0.2403915067061822, 0.1756572084243671, -0.9455598067160645, -0.056992586205770676, 1.0699334051439484, 1.673208526089509, -0.6395578941823503, 0.25843104956249363, 0.9463770770249402, -1.173249590196306, -1.3898254730875272, -1.9485443421261375, -0.7990195508075936, -0.31886903775938763, -0.08574570155079406, 1.3516886194648055, 2.2149074403731497, -0.7949499836639242, 0.6349268210678864, -1.2078356601723703, 0.3787942389731917, -0.6891367639313457, 1.3739612750682195, 1.049897380525511, -0.018372121788850865, -0.2245124095889812, -1.1217196388681876, 0.13626183916315088, 0.7831733334090794, -0.29080499799221227, 0.4448251856275786, 1.146475088094464, -0.3875437175635493, -1.619961941950166, 1.9877975354122728, 0.3112587438792633, -1.0975621453609536, 1.3884885691095525, -2.253520984677293, 0.8172734212747151, 0.6798692585838515, 0.9418421759704245, -1.3652789631659974, 1.2276374079163535, -0.948723105258126, 1.2325710575478996, 1.6427249926188614, -0.008728784354691151, 1.5770304307221095, -0.9423567084179673, 0.36669310906068375, 1.4950786618013892, 0.04239700440360714, 0.7492246927132604, 0.9362248498051818, -1.0210447539510035, -0.557769626378885, 0.8585655547526226, 0.5500178298829814, 0.49205297793010305, -1.8099585130722016, 0.6170410700662037, 0.4698120642968544, 0.6243133179356815, -0.23817960494236465, -1.5594009134291225, -1.1132549789519153, 0.037206911943428185, -0.44926998300567894, -0.7848515495976766, 0.1280030808290587, 0.7618062697149731, -1.2480442658733897, -0.5126732212013174, -1.8977786099295044, 0.9258361552336678, 0.17023070984428282, 0.5668693240350743, -1.2976881194121161, -0.2908984427086773, -0.32529334782616276, 2.208923211463274, -0.3527371000449035, 0.017930464472224805], \"xaxis\": \"x10\", \"y\": [-1.3558438844649783, -0.8759976250780299, -1.5226576052910572, 0.6859913101905638, -1.4745329764700488, 0.6828771878184736, -1.0849106006902465, 1.523352301399798, -0.9853422207451589, 0.6932108339167925, 0.7633868090179348, 0.8916412099722324, 0.050204442993994174, 0.7423238229395155, 1.0159031903899545, 1.9054442649114558, -0.3424359452933501, -1.1316300670809745, 0.2573871580683922, -0.15460877096012696, -1.0669518039993229, -1.62095710266104, 1.1313206485772982, -0.04241686948250148, 0.45170817231399074, 0.6521585599767435, -0.08866608902559109, 0.5450815082077972, -0.07550183915437703, 0.5634332612313229, 0.6192110696992771, 1.328597023291623, 0.1660352535032697, 0.4928882922850011, -0.29024550597846444, 0.49113434479810897, -1.7320823264752663, -0.13318914581762933, -0.32230663550846983, -0.8452934758305347, 0.2804586884358228, -0.44216324939486046, -1.5693868593842886, 0.3935376557697536, -1.5149644526197097, 1.885525396279445, 0.9230739549753205, 0.17700846714231913, -0.9174290087499014, 2.3067041365835443, 0.8347911211930508, -1.213245818120258, -0.24678184949387347, 0.9397310665816551, 0.8358759383276779, 2.5671593128238825, 0.4975380022059849, 0.21113908418866448, 0.05840251974011824, -0.012614051025127521, 0.696886783023304, 0.22378385348623372, 0.873109004056181, -0.32025250402305927, 0.43733412531067234, -2.1796323143831837, 1.131526488980349, -0.07244899849102823, -0.9437760466154475, 0.8288808965124419, 0.1647900730078459, -1.4977327430030567, -0.07078240164283371, -1.4672832268638136, -0.8957403277218311, 1.2066408411869143, -0.6131415822158299, -0.3542694521430507, 1.4734580494242786, -0.22336917295915848, 0.7176827579863617, 0.4179099732903556, -1.7543318718026637, -1.0046119566794123, 1.8065138686324629, 0.44619412525863655, 0.14211198950617412, 1.422548521554508, -2.0531765991102695, -1.0830746724660953, -0.8849179035837618, 0.09549812911970507, 1.1962487937594568, 1.5150217189675301, -0.9410171911457614, -1.4334005060478348, -0.44280607208682105, 0.53523974901187, 0.37164692109689645, 0.1040283798888921], \"yaxis\": \"y10\"}, {\"histfunc\": \"count\", \"histnorm\": \"\", \"marker\": {\"color\": \"rgba(50, 171, 96, 1.0)\", \"line\": {\"color\": \"#4D5663\", \"width\": 1.3}}, \"name\": \"C\", \"nbinsx\": 10, \"opacity\": 0.8, \"orientation\": \"v\", \"type\": \"histogram\", \"x\": [-1.3558438844649783, -0.8759976250780299, -1.5226576052910572, 0.6859913101905638, -1.4745329764700488, 0.6828771878184736, -1.0849106006902465, 1.523352301399798, -0.9853422207451589, 0.6932108339167925, 0.7633868090179348, 0.8916412099722324, 0.050204442993994174, 0.7423238229395155, 1.0159031903899545, 1.9054442649114558, -0.3424359452933501, -1.1316300670809745, 0.2573871580683922, -0.15460877096012696, -1.0669518039993229, -1.62095710266104, 1.1313206485772982, -0.04241686948250148, 0.45170817231399074, 0.6521585599767435, -0.08866608902559109, 0.5450815082077972, -0.07550183915437703, 0.5634332612313229, 0.6192110696992771, 1.328597023291623, 0.1660352535032697, 0.4928882922850011, -0.29024550597846444, 0.49113434479810897, -1.7320823264752663, -0.13318914581762933, -0.32230663550846983, -0.8452934758305347, 0.2804586884358228, -0.44216324939486046, -1.5693868593842886, 0.3935376557697536, -1.5149644526197097, 1.885525396279445, 0.9230739549753205, 0.17700846714231913, -0.9174290087499014, 2.3067041365835443, 0.8347911211930508, -1.213245818120258, -0.24678184949387347, 0.9397310665816551, 0.8358759383276779, 2.5671593128238825, 0.4975380022059849, 0.21113908418866448, 0.05840251974011824, -0.012614051025127521, 0.696886783023304, 0.22378385348623372, 0.873109004056181, -0.32025250402305927, 0.43733412531067234, -2.1796323143831837, 1.131526488980349, -0.07244899849102823, -0.9437760466154475, 0.8288808965124419, 0.1647900730078459, -1.4977327430030567, -0.07078240164283371, -1.4672832268638136, -0.8957403277218311, 1.2066408411869143, -0.6131415822158299, -0.3542694521430507, 1.4734580494242786, -0.22336917295915848, 0.7176827579863617, 0.4179099732903556, -1.7543318718026637, -1.0046119566794123, 1.8065138686324629, 0.44619412525863655, 0.14211198950617412, 1.422548521554508, -2.0531765991102695, -1.0830746724660953, -0.8849179035837618, 0.09549812911970507, 1.1962487937594568, 1.5150217189675301, -0.9410171911457614, -1.4334005060478348, -0.44280607208682105, 0.53523974901187, 0.37164692109689645, 0.1040283798888921], \"xaxis\": \"x11\", \"yaxis\": \"y11\"}, {\"line\": {\"color\": \"rgba(128, 128, 128, 1.0)\", \"dash\": \"solid\", \"shape\": \"linear\", \"width\": 1.3}, \"marker\": {\"size\": 2, \"symbol\": \"circle\"}, \"mode\": \"markers\", \"name\": \"C\", \"text\": \"\", \"type\": \"scatter\", \"x\": [-0.5385350988622541, 0.545901013423756, -0.484352741184118, -0.46190751635045596, -0.9864472694700864, -0.8175474195057619, 0.47103677748724615, 0.675230684755957, -0.10416988785091413, -3.0498796434260305, 2.1844358483993105, 1.7035314838510314, 1.1818011482558322, -0.05764068868728147, 0.875240808030797, 0.8445498239359918, -2.6993526916534805, 3.5018773878275753, -0.5497885060867724, -0.11402025883309072, 0.19040843485006825, -0.6094078828465187, 0.91407171843882, 0.32677708763507246, -0.7225541635588506, -2.8455246675306607, 0.2593710337822382, -0.010714464792365598, 0.20929993629527077, 1.2117607161159156, -0.6263118673260771, 0.18202777913921045, 2.8839889868661213, -0.9394631656759914, -0.3382480830479188, -1.0316131721230972, -0.940759421829133, -1.142661400611097, -1.1207629798998748, -0.30407617327330594, 0.01194736837885959, -0.5367360380188764, 0.40792335064706836, 0.2249811905872184, -1.3229022056214161, 2.312984299958345, 0.5165522721147605, 0.9854095568838235, -1.3226052135507627, 0.8486040230276036, -0.2521225960134387, -0.5224242350369688, -0.554304986298737, -0.5324415024467941, -0.3484727911798317, -0.7388708300901486, 1.396927959756421, -0.8009571887199037, 0.3045629564754834, 0.6846385240046091, 0.800656349914363, -0.06784582296782894, 0.8900207825068571, 0.21443581846267742, -0.280102573472488, 2.0884667467000635, -0.4419798386688738, 2.6887519963338753, -0.9196940630292755, -0.9212369832955514, 0.8133584889109357, 0.7173235238779602, 1.1969024311188128, -1.1665944546981923, 0.2363393276438888, 1.6181666228688691, 0.45301029796524706, 1.030380009820546, 1.26476133737168, 1.5328111104261763, -1.7280659889187395, 0.242470022573717, -2.174788288833403, 1.5865000513117713, 0.4814596575341235, 0.5184744665088035, -0.7294118236889608, 1.950115929880263, -0.9717717204544494, -0.2907075440869592, 1.2995914390506236, 0.8183366678883612, 1.4025268131317277, 0.1736542530931986, 0.1834584779516139, 0.5777805229615387, 0.6905852621422153, 1.1515404398354685, 0.41779603838887935, 0.2176100327546996], \"xaxis\": \"x12\", \"y\": [-1.3558438844649783, -0.8759976250780299, -1.5226576052910572, 0.6859913101905638, -1.4745329764700488, 0.6828771878184736, -1.0849106006902465, 1.523352301399798, -0.9853422207451589, 0.6932108339167925, 0.7633868090179348, 0.8916412099722324, 0.050204442993994174, 0.7423238229395155, 1.0159031903899545, 1.9054442649114558, -0.3424359452933501, -1.1316300670809745, 0.2573871580683922, -0.15460877096012696, -1.0669518039993229, -1.62095710266104, 1.1313206485772982, -0.04241686948250148, 0.45170817231399074, 0.6521585599767435, -0.08866608902559109, 0.5450815082077972, -0.07550183915437703, 0.5634332612313229, 0.6192110696992771, 1.328597023291623, 0.1660352535032697, 0.4928882922850011, -0.29024550597846444, 0.49113434479810897, -1.7320823264752663, -0.13318914581762933, -0.32230663550846983, -0.8452934758305347, 0.2804586884358228, -0.44216324939486046, -1.5693868593842886, 0.3935376557697536, -1.5149644526197097, 1.885525396279445, 0.9230739549753205, 0.17700846714231913, -0.9174290087499014, 2.3067041365835443, 0.8347911211930508, -1.213245818120258, -0.24678184949387347, 0.9397310665816551, 0.8358759383276779, 2.5671593128238825, 0.4975380022059849, 0.21113908418866448, 0.05840251974011824, -0.012614051025127521, 0.696886783023304, 0.22378385348623372, 0.873109004056181, -0.32025250402305927, 0.43733412531067234, -2.1796323143831837, 1.131526488980349, -0.07244899849102823, -0.9437760466154475, 0.8288808965124419, 0.1647900730078459, -1.4977327430030567, -0.07078240164283371, -1.4672832268638136, -0.8957403277218311, 1.2066408411869143, -0.6131415822158299, -0.3542694521430507, 1.4734580494242786, -0.22336917295915848, 0.7176827579863617, 0.4179099732903556, -1.7543318718026637, -1.0046119566794123, 1.8065138686324629, 0.44619412525863655, 0.14211198950617412, 1.422548521554508, -2.0531765991102695, -1.0830746724660953, -0.8849179035837618, 0.09549812911970507, 1.1962487937594568, 1.5150217189675301, -0.9410171911457614, -1.4334005060478348, -0.44280607208682105, 0.53523974901187, 0.37164692109689645, 0.1040283798888921], \"yaxis\": \"y12\"}, {\"line\": {\"color\": \"rgba(128, 128, 128, 1.0)\", \"dash\": \"solid\", \"shape\": \"linear\", \"width\": 1.3}, \"marker\": {\"size\": 2, \"symbol\": \"circle\"}, \"mode\": \"markers\", \"name\": \"D\", \"text\": \"\", \"type\": \"scatter\", \"x\": [-2.3454141693589876, 0.6237775380275742, 0.5084665209175578, 1.0077383239871212, -1.596862641714782, -2.374942969830823, -1.3706328842809488, 1.3747352172717342, -0.7622432557064147, -1.9184039896950638, 1.5017960911885953, -0.7114451376865186, -0.29446634553217194, -1.4876954594826903, 0.6995466429849003, -0.9080622620621699, 0.0037148475874004623, -0.8606836096783335, 1.5500856254168882, 0.8681259238151428, -0.25157963103361447, -0.6950867661351647, -1.2977326913712255, 1.0792884415738364, 1.9215810061890053, 1.6391562586670962, 0.8532070522380638, 0.9960034559394392, 1.0384819480958472, -0.4416790016043128, 0.6272585044640208, 1.6568382627476808, 0.17604804120284398, -0.12173009136600939, 1.786145195510604, 1.0620956079199924, -1.6487794157955151, 0.5134853837511637, -0.09341126386297298, 0.5748210842959969, -0.34773144268786665, 1.4495352760328146, 0.55589609988229, -0.19407908794453177, 1.954553549389376, -1.4401496294154514, -1.687016031719059, 0.9152212524783871, -0.9701130342584917, 0.2781872419962723, -0.42465351126078166, 0.21363104414796674, 0.6798391516567996, -0.21693900500613778, 1.1253269510990103, -0.4364919033627248, 0.5070307915178102, -0.6938482394362632, -1.4709020923143088, -0.3005468309159597, 0.10117735963741527, -0.2739784055963156, -1.592983100175776, -0.7550289749943683, -1.8804241568882007, 0.09895966465769129, 1.280991037813301, 0.18446847622744528, 2.514156053080135, 0.887922034620755, 0.22026729871991257, -0.058148079602631304, 0.11519546694262874, 1.3733167398735402, 0.7719722757739921, -0.11131557918308087, 0.12928439944667708, 0.656916890088794, 1.2254282520039692, -2.3574405969002927, 0.520182684697464, 0.49226230720825487, -0.2946532839128033, 1.5850905733271186, -0.4894593363475711, 2.6413792649821013, 0.13735097170865115, -0.9828018800837163, 0.13801858167033576, -0.6215647789215498, -0.15010559951578073, 0.39313077400096924, -0.9745423404621509, -0.41287483235514105, 1.406315163167479, 0.13788703768854482, 1.2731159007446353, -0.2163497464314463, 1.0853126714886798, 0.5353673129325547], \"xaxis\": \"x13\", \"y\": [-0.5385350988622541, 0.545901013423756, -0.484352741184118, -0.46190751635045596, -0.9864472694700864, -0.8175474195057619, 0.47103677748724615, 0.675230684755957, -0.10416988785091413, -3.0498796434260305, 2.1844358483993105, 1.7035314838510314, 1.1818011482558322, -0.05764068868728147, 0.875240808030797, 0.8445498239359918, -2.6993526916534805, 3.5018773878275753, -0.5497885060867724, -0.11402025883309072, 0.19040843485006825, -0.6094078828465187, 0.91407171843882, 0.32677708763507246, -0.7225541635588506, -2.8455246675306607, 0.2593710337822382, -0.010714464792365598, 0.20929993629527077, 1.2117607161159156, -0.6263118673260771, 0.18202777913921045, 2.8839889868661213, -0.9394631656759914, -0.3382480830479188, -1.0316131721230972, -0.940759421829133, -1.142661400611097, -1.1207629798998748, -0.30407617327330594, 0.01194736837885959, -0.5367360380188764, 0.40792335064706836, 0.2249811905872184, -1.3229022056214161, 2.312984299958345, 0.5165522721147605, 0.9854095568838235, -1.3226052135507627, 0.8486040230276036, -0.2521225960134387, -0.5224242350369688, -0.554304986298737, -0.5324415024467941, -0.3484727911798317, -0.7388708300901486, 1.396927959756421, -0.8009571887199037, 0.3045629564754834, 0.6846385240046091, 0.800656349914363, -0.06784582296782894, 0.8900207825068571, 0.21443581846267742, -0.280102573472488, 2.0884667467000635, -0.4419798386688738, 2.6887519963338753, -0.9196940630292755, -0.9212369832955514, 0.8133584889109357, 0.7173235238779602, 1.1969024311188128, -1.1665944546981923, 0.2363393276438888, 1.6181666228688691, 0.45301029796524706, 1.030380009820546, 1.26476133737168, 1.5328111104261763, -1.7280659889187395, 0.242470022573717, -2.174788288833403, 1.5865000513117713, 0.4814596575341235, 0.5184744665088035, -0.7294118236889608, 1.950115929880263, -0.9717717204544494, -0.2907075440869592, 1.2995914390506236, 0.8183366678883612, 1.4025268131317277, 0.1736542530931986, 0.1834584779516139, 0.5777805229615387, 0.6905852621422153, 1.1515404398354685, 0.41779603838887935, 0.2176100327546996], \"yaxis\": \"y13\"}, {\"line\": {\"color\": \"rgba(128, 128, 128, 1.0)\", \"dash\": \"solid\", \"shape\": \"linear\", \"width\": 1.3}, \"marker\": {\"size\": 2, \"symbol\": \"circle\"}, \"mode\": \"markers\", \"name\": \"D\", \"text\": \"\", \"type\": \"scatter\", \"x\": [-1.2116920522282546, -2.4182256642840154, -0.4467089062786822, -1.9392425928013934, 0.9457088641174468, -1.4107952784259432, 0.7722514959948863, -0.45758893217485086, -1.3697226133349176, -2.046223214968447, -0.9579602434170336, 1.4299651060248795, 0.6747291885765265, -2.446185003930176, -0.4786337657758917, -0.4937053710053525, 0.2403915067061822, 0.1756572084243671, -0.9455598067160645, -0.056992586205770676, 1.0699334051439484, 1.673208526089509, -0.6395578941823503, 0.25843104956249363, 0.9463770770249402, -1.173249590196306, -1.3898254730875272, -1.9485443421261375, -0.7990195508075936, -0.31886903775938763, -0.08574570155079406, 1.3516886194648055, 2.2149074403731497, -0.7949499836639242, 0.6349268210678864, -1.2078356601723703, 0.3787942389731917, -0.6891367639313457, 1.3739612750682195, 1.049897380525511, -0.018372121788850865, -0.2245124095889812, -1.1217196388681876, 0.13626183916315088, 0.7831733334090794, -0.29080499799221227, 0.4448251856275786, 1.146475088094464, -0.3875437175635493, -1.619961941950166, 1.9877975354122728, 0.3112587438792633, -1.0975621453609536, 1.3884885691095525, -2.253520984677293, 0.8172734212747151, 0.6798692585838515, 0.9418421759704245, -1.3652789631659974, 1.2276374079163535, -0.948723105258126, 1.2325710575478996, 1.6427249926188614, -0.008728784354691151, 1.5770304307221095, -0.9423567084179673, 0.36669310906068375, 1.4950786618013892, 0.04239700440360714, 0.7492246927132604, 0.9362248498051818, -1.0210447539510035, -0.557769626378885, 0.8585655547526226, 0.5500178298829814, 0.49205297793010305, -1.8099585130722016, 0.6170410700662037, 0.4698120642968544, 0.6243133179356815, -0.23817960494236465, -1.5594009134291225, -1.1132549789519153, 0.037206911943428185, -0.44926998300567894, -0.7848515495976766, 0.1280030808290587, 0.7618062697149731, -1.2480442658733897, -0.5126732212013174, -1.8977786099295044, 0.9258361552336678, 0.17023070984428282, 0.5668693240350743, -1.2976881194121161, -0.2908984427086773, -0.32529334782616276, 2.208923211463274, -0.3527371000449035, 0.017930464472224805], \"xaxis\": \"x14\", \"y\": [-0.5385350988622541, 0.545901013423756, -0.484352741184118, -0.46190751635045596, -0.9864472694700864, -0.8175474195057619, 0.47103677748724615, 0.675230684755957, -0.10416988785091413, -3.0498796434260305, 2.1844358483993105, 1.7035314838510314, 1.1818011482558322, -0.05764068868728147, 0.875240808030797, 0.8445498239359918, -2.6993526916534805, 3.5018773878275753, -0.5497885060867724, -0.11402025883309072, 0.19040843485006825, -0.6094078828465187, 0.91407171843882, 0.32677708763507246, -0.7225541635588506, -2.8455246675306607, 0.2593710337822382, -0.010714464792365598, 0.20929993629527077, 1.2117607161159156, -0.6263118673260771, 0.18202777913921045, 2.8839889868661213, -0.9394631656759914, -0.3382480830479188, -1.0316131721230972, -0.940759421829133, -1.142661400611097, -1.1207629798998748, -0.30407617327330594, 0.01194736837885959, -0.5367360380188764, 0.40792335064706836, 0.2249811905872184, -1.3229022056214161, 2.312984299958345, 0.5165522721147605, 0.9854095568838235, -1.3226052135507627, 0.8486040230276036, -0.2521225960134387, -0.5224242350369688, -0.554304986298737, -0.5324415024467941, -0.3484727911798317, -0.7388708300901486, 1.396927959756421, -0.8009571887199037, 0.3045629564754834, 0.6846385240046091, 0.800656349914363, -0.06784582296782894, 0.8900207825068571, 0.21443581846267742, -0.280102573472488, 2.0884667467000635, -0.4419798386688738, 2.6887519963338753, -0.9196940630292755, -0.9212369832955514, 0.8133584889109357, 0.7173235238779602, 1.1969024311188128, -1.1665944546981923, 0.2363393276438888, 1.6181666228688691, 0.45301029796524706, 1.030380009820546, 1.26476133737168, 1.5328111104261763, -1.7280659889187395, 0.242470022573717, -2.174788288833403, 1.5865000513117713, 0.4814596575341235, 0.5184744665088035, -0.7294118236889608, 1.950115929880263, -0.9717717204544494, -0.2907075440869592, 1.2995914390506236, 0.8183366678883612, 1.4025268131317277, 0.1736542530931986, 0.1834584779516139, 0.5777805229615387, 0.6905852621422153, 1.1515404398354685, 0.41779603838887935, 0.2176100327546996], \"yaxis\": \"y14\"}, {\"line\": {\"color\": \"rgba(128, 128, 128, 1.0)\", \"dash\": \"solid\", \"shape\": \"linear\", \"width\": 1.3}, \"marker\": {\"size\": 2, \"symbol\": \"circle\"}, \"mode\": \"markers\", \"name\": \"D\", \"text\": \"\", \"type\": \"scatter\", \"x\": [-1.3558438844649783, -0.8759976250780299, -1.5226576052910572, 0.6859913101905638, -1.4745329764700488, 0.6828771878184736, -1.0849106006902465, 1.523352301399798, -0.9853422207451589, 0.6932108339167925, 0.7633868090179348, 0.8916412099722324, 0.050204442993994174, 0.7423238229395155, 1.0159031903899545, 1.9054442649114558, -0.3424359452933501, -1.1316300670809745, 0.2573871580683922, -0.15460877096012696, -1.0669518039993229, -1.62095710266104, 1.1313206485772982, -0.04241686948250148, 0.45170817231399074, 0.6521585599767435, -0.08866608902559109, 0.5450815082077972, -0.07550183915437703, 0.5634332612313229, 0.6192110696992771, 1.328597023291623, 0.1660352535032697, 0.4928882922850011, -0.29024550597846444, 0.49113434479810897, -1.7320823264752663, -0.13318914581762933, -0.32230663550846983, -0.8452934758305347, 0.2804586884358228, -0.44216324939486046, -1.5693868593842886, 0.3935376557697536, -1.5149644526197097, 1.885525396279445, 0.9230739549753205, 0.17700846714231913, -0.9174290087499014, 2.3067041365835443, 0.8347911211930508, -1.213245818120258, -0.24678184949387347, 0.9397310665816551, 0.8358759383276779, 2.5671593128238825, 0.4975380022059849, 0.21113908418866448, 0.05840251974011824, -0.012614051025127521, 0.696886783023304, 0.22378385348623372, 0.873109004056181, -0.32025250402305927, 0.43733412531067234, -2.1796323143831837, 1.131526488980349, -0.07244899849102823, -0.9437760466154475, 0.8288808965124419, 0.1647900730078459, -1.4977327430030567, -0.07078240164283371, -1.4672832268638136, -0.8957403277218311, 1.2066408411869143, -0.6131415822158299, -0.3542694521430507, 1.4734580494242786, -0.22336917295915848, 0.7176827579863617, 0.4179099732903556, -1.7543318718026637, -1.0046119566794123, 1.8065138686324629, 0.44619412525863655, 0.14211198950617412, 1.422548521554508, -2.0531765991102695, -1.0830746724660953, -0.8849179035837618, 0.09549812911970507, 1.1962487937594568, 1.5150217189675301, -0.9410171911457614, -1.4334005060478348, -0.44280607208682105, 0.53523974901187, 0.37164692109689645, 0.1040283798888921], \"xaxis\": \"x15\", \"y\": [-0.5385350988622541, 0.545901013423756, -0.484352741184118, -0.46190751635045596, -0.9864472694700864, -0.8175474195057619, 0.47103677748724615, 0.675230684755957, -0.10416988785091413, -3.0498796434260305, 2.1844358483993105, 1.7035314838510314, 1.1818011482558322, -0.05764068868728147, 0.875240808030797, 0.8445498239359918, -2.6993526916534805, 3.5018773878275753, -0.5497885060867724, -0.11402025883309072, 0.19040843485006825, -0.6094078828465187, 0.91407171843882, 0.32677708763507246, -0.7225541635588506, -2.8455246675306607, 0.2593710337822382, -0.010714464792365598, 0.20929993629527077, 1.2117607161159156, -0.6263118673260771, 0.18202777913921045, 2.8839889868661213, -0.9394631656759914, -0.3382480830479188, -1.0316131721230972, -0.940759421829133, -1.142661400611097, -1.1207629798998748, -0.30407617327330594, 0.01194736837885959, -0.5367360380188764, 0.40792335064706836, 0.2249811905872184, -1.3229022056214161, 2.312984299958345, 0.5165522721147605, 0.9854095568838235, -1.3226052135507627, 0.8486040230276036, -0.2521225960134387, -0.5224242350369688, -0.554304986298737, -0.5324415024467941, -0.3484727911798317, -0.7388708300901486, 1.396927959756421, -0.8009571887199037, 0.3045629564754834, 0.6846385240046091, 0.800656349914363, -0.06784582296782894, 0.8900207825068571, 0.21443581846267742, -0.280102573472488, 2.0884667467000635, -0.4419798386688738, 2.6887519963338753, -0.9196940630292755, -0.9212369832955514, 0.8133584889109357, 0.7173235238779602, 1.1969024311188128, -1.1665944546981923, 0.2363393276438888, 1.6181666228688691, 0.45301029796524706, 1.030380009820546, 1.26476133737168, 1.5328111104261763, -1.7280659889187395, 0.242470022573717, -2.174788288833403, 1.5865000513117713, 0.4814596575341235, 0.5184744665088035, -0.7294118236889608, 1.950115929880263, -0.9717717204544494, -0.2907075440869592, 1.2995914390506236, 0.8183366678883612, 1.4025268131317277, 0.1736542530931986, 0.1834584779516139, 0.5777805229615387, 0.6905852621422153, 1.1515404398354685, 0.41779603838887935, 0.2176100327546996], \"yaxis\": \"y15\"}, {\"histfunc\": \"count\", \"histnorm\": \"\", \"marker\": {\"color\": \"rgba(128, 0, 128, 1.0)\", \"line\": {\"color\": \"#4D5663\", \"width\": 1.3}}, \"name\": \"D\", \"nbinsx\": 10, \"opacity\": 0.8, \"orientation\": \"v\", \"type\": \"histogram\", \"x\": [-0.5385350988622541, 0.545901013423756, -0.484352741184118, -0.46190751635045596, -0.9864472694700864, -0.8175474195057619, 0.47103677748724615, 0.675230684755957, -0.10416988785091413, -3.0498796434260305, 2.1844358483993105, 1.7035314838510314, 1.1818011482558322, -0.05764068868728147, 0.875240808030797, 0.8445498239359918, -2.6993526916534805, 3.5018773878275753, -0.5497885060867724, -0.11402025883309072, 0.19040843485006825, -0.6094078828465187, 0.91407171843882, 0.32677708763507246, -0.7225541635588506, -2.8455246675306607, 0.2593710337822382, -0.010714464792365598, 0.20929993629527077, 1.2117607161159156, -0.6263118673260771, 0.18202777913921045, 2.8839889868661213, -0.9394631656759914, -0.3382480830479188, -1.0316131721230972, -0.940759421829133, -1.142661400611097, -1.1207629798998748, -0.30407617327330594, 0.01194736837885959, -0.5367360380188764, 0.40792335064706836, 0.2249811905872184, -1.3229022056214161, 2.312984299958345, 0.5165522721147605, 0.9854095568838235, -1.3226052135507627, 0.8486040230276036, -0.2521225960134387, -0.5224242350369688, -0.554304986298737, -0.5324415024467941, -0.3484727911798317, -0.7388708300901486, 1.396927959756421, -0.8009571887199037, 0.3045629564754834, 0.6846385240046091, 0.800656349914363, -0.06784582296782894, 0.8900207825068571, 0.21443581846267742, -0.280102573472488, 2.0884667467000635, -0.4419798386688738, 2.6887519963338753, -0.9196940630292755, -0.9212369832955514, 0.8133584889109357, 0.7173235238779602, 1.1969024311188128, -1.1665944546981923, 0.2363393276438888, 1.6181666228688691, 0.45301029796524706, 1.030380009820546, 1.26476133737168, 1.5328111104261763, -1.7280659889187395, 0.242470022573717, -2.174788288833403, 1.5865000513117713, 0.4814596575341235, 0.5184744665088035, -0.7294118236889608, 1.950115929880263, -0.9717717204544494, -0.2907075440869592, 1.2995914390506236, 0.8183366678883612, 1.4025268131317277, 0.1736542530931986, 0.1834584779516139, 0.5777805229615387, 0.6905852621422153, 1.1515404398354685, 0.41779603838887935, 0.2176100327546996], \"xaxis\": \"x16\", \"yaxis\": \"y16\"}],\n",
       "                        {\"bargap\": 0.02, \"legend\": {\"bgcolor\": \"#F5F6F9\", \"font\": {\"color\": \"#4D5663\"}}, \"paper_bgcolor\": \"#F5F6F9\", \"plot_bgcolor\": \"#F5F6F9\", \"showlegend\": false, \"template\": {\"data\": {\"bar\": [{\"error_x\": {\"color\": \"#2a3f5f\"}, \"error_y\": {\"color\": \"#2a3f5f\"}, \"marker\": {\"line\": {\"color\": \"#E5ECF6\", \"width\": 0.5}}, \"type\": \"bar\"}], \"barpolar\": [{\"marker\": {\"line\": {\"color\": \"#E5ECF6\", \"width\": 0.5}}, \"type\": \"barpolar\"}], \"carpet\": [{\"aaxis\": {\"endlinecolor\": \"#2a3f5f\", \"gridcolor\": \"white\", \"linecolor\": \"white\", \"minorgridcolor\": \"white\", \"startlinecolor\": \"#2a3f5f\"}, \"baxis\": {\"endlinecolor\": \"#2a3f5f\", \"gridcolor\": \"white\", \"linecolor\": \"white\", \"minorgridcolor\": \"white\", \"startlinecolor\": \"#2a3f5f\"}, \"type\": \"carpet\"}], \"choropleth\": [{\"colorbar\": {\"outlinewidth\": 0, \"ticks\": \"\"}, \"type\": \"choropleth\"}], \"contour\": [{\"colorbar\": {\"outlinewidth\": 0, \"ticks\": \"\"}, \"colorscale\": [[0.0, \"#0d0887\"], [0.1111111111111111, \"#46039f\"], [0.2222222222222222, \"#7201a8\"], [0.3333333333333333, \"#9c179e\"], [0.4444444444444444, \"#bd3786\"], [0.5555555555555556, \"#d8576b\"], [0.6666666666666666, \"#ed7953\"], [0.7777777777777778, \"#fb9f3a\"], [0.8888888888888888, \"#fdca26\"], [1.0, \"#f0f921\"]], \"type\": \"contour\"}], \"contourcarpet\": [{\"colorbar\": {\"outlinewidth\": 0, \"ticks\": \"\"}, \"type\": \"contourcarpet\"}], \"heatmap\": [{\"colorbar\": {\"outlinewidth\": 0, \"ticks\": \"\"}, \"colorscale\": [[0.0, \"#0d0887\"], [0.1111111111111111, \"#46039f\"], [0.2222222222222222, \"#7201a8\"], [0.3333333333333333, \"#9c179e\"], [0.4444444444444444, \"#bd3786\"], [0.5555555555555556, \"#d8576b\"], [0.6666666666666666, \"#ed7953\"], [0.7777777777777778, \"#fb9f3a\"], [0.8888888888888888, \"#fdca26\"], [1.0, \"#f0f921\"]], \"type\": \"heatmap\"}], \"heatmapgl\": [{\"colorbar\": {\"outlinewidth\": 0, \"ticks\": \"\"}, \"colorscale\": [[0.0, \"#0d0887\"], [0.1111111111111111, \"#46039f\"], [0.2222222222222222, \"#7201a8\"], [0.3333333333333333, \"#9c179e\"], [0.4444444444444444, \"#bd3786\"], [0.5555555555555556, \"#d8576b\"], [0.6666666666666666, \"#ed7953\"], [0.7777777777777778, \"#fb9f3a\"], [0.8888888888888888, \"#fdca26\"], [1.0, \"#f0f921\"]], \"type\": \"heatmapgl\"}], \"histogram\": [{\"marker\": {\"colorbar\": {\"outlinewidth\": 0, \"ticks\": \"\"}}, \"type\": \"histogram\"}], \"histogram2d\": [{\"colorbar\": {\"outlinewidth\": 0, \"ticks\": \"\"}, \"colorscale\": [[0.0, \"#0d0887\"], [0.1111111111111111, \"#46039f\"], [0.2222222222222222, \"#7201a8\"], [0.3333333333333333, \"#9c179e\"], [0.4444444444444444, \"#bd3786\"], [0.5555555555555556, \"#d8576b\"], [0.6666666666666666, \"#ed7953\"], [0.7777777777777778, \"#fb9f3a\"], [0.8888888888888888, \"#fdca26\"], [1.0, \"#f0f921\"]], \"type\": \"histogram2d\"}], \"histogram2dcontour\": [{\"colorbar\": {\"outlinewidth\": 0, \"ticks\": \"\"}, \"colorscale\": [[0.0, \"#0d0887\"], [0.1111111111111111, \"#46039f\"], [0.2222222222222222, \"#7201a8\"], [0.3333333333333333, \"#9c179e\"], [0.4444444444444444, \"#bd3786\"], [0.5555555555555556, \"#d8576b\"], [0.6666666666666666, \"#ed7953\"], [0.7777777777777778, \"#fb9f3a\"], [0.8888888888888888, \"#fdca26\"], [1.0, \"#f0f921\"]], \"type\": \"histogram2dcontour\"}], \"mesh3d\": [{\"colorbar\": {\"outlinewidth\": 0, \"ticks\": \"\"}, \"type\": \"mesh3d\"}], \"parcoords\": [{\"line\": {\"colorbar\": {\"outlinewidth\": 0, \"ticks\": \"\"}}, \"type\": \"parcoords\"}], \"pie\": [{\"automargin\": true, \"type\": \"pie\"}], \"scatter\": [{\"marker\": {\"colorbar\": {\"outlinewidth\": 0, \"ticks\": \"\"}}, \"type\": \"scatter\"}], \"scatter3d\": [{\"line\": {\"colorbar\": {\"outlinewidth\": 0, \"ticks\": \"\"}}, \"marker\": {\"colorbar\": {\"outlinewidth\": 0, \"ticks\": \"\"}}, \"type\": \"scatter3d\"}], \"scattercarpet\": [{\"marker\": {\"colorbar\": {\"outlinewidth\": 0, \"ticks\": \"\"}}, \"type\": \"scattercarpet\"}], \"scattergeo\": [{\"marker\": {\"colorbar\": {\"outlinewidth\": 0, \"ticks\": \"\"}}, \"type\": \"scattergeo\"}], \"scattergl\": [{\"marker\": {\"colorbar\": {\"outlinewidth\": 0, \"ticks\": \"\"}}, \"type\": \"scattergl\"}], \"scattermapbox\": [{\"marker\": {\"colorbar\": {\"outlinewidth\": 0, \"ticks\": \"\"}}, \"type\": \"scattermapbox\"}], \"scatterpolar\": [{\"marker\": {\"colorbar\": {\"outlinewidth\": 0, \"ticks\": \"\"}}, \"type\": \"scatterpolar\"}], \"scatterpolargl\": [{\"marker\": {\"colorbar\": {\"outlinewidth\": 0, \"ticks\": \"\"}}, \"type\": \"scatterpolargl\"}], \"scatterternary\": [{\"marker\": {\"colorbar\": {\"outlinewidth\": 0, \"ticks\": \"\"}}, \"type\": \"scatterternary\"}], \"surface\": [{\"colorbar\": {\"outlinewidth\": 0, \"ticks\": \"\"}, \"colorscale\": [[0.0, \"#0d0887\"], [0.1111111111111111, \"#46039f\"], [0.2222222222222222, \"#7201a8\"], [0.3333333333333333, \"#9c179e\"], [0.4444444444444444, \"#bd3786\"], [0.5555555555555556, \"#d8576b\"], [0.6666666666666666, \"#ed7953\"], [0.7777777777777778, \"#fb9f3a\"], [0.8888888888888888, \"#fdca26\"], [1.0, \"#f0f921\"]], \"type\": \"surface\"}], \"table\": [{\"cells\": {\"fill\": {\"color\": \"#EBF0F8\"}, \"line\": {\"color\": \"white\"}}, \"header\": {\"fill\": {\"color\": \"#C8D4E3\"}, \"line\": {\"color\": \"white\"}}, \"type\": \"table\"}]}, \"layout\": {\"annotationdefaults\": {\"arrowcolor\": \"#2a3f5f\", \"arrowhead\": 0, \"arrowwidth\": 1}, \"coloraxis\": {\"colorbar\": {\"outlinewidth\": 0, \"ticks\": \"\"}}, \"colorscale\": {\"diverging\": [[0, \"#8e0152\"], [0.1, \"#c51b7d\"], [0.2, \"#de77ae\"], [0.3, \"#f1b6da\"], [0.4, \"#fde0ef\"], [0.5, \"#f7f7f7\"], [0.6, \"#e6f5d0\"], [0.7, \"#b8e186\"], [0.8, \"#7fbc41\"], [0.9, \"#4d9221\"], [1, \"#276419\"]], \"sequential\": [[0.0, \"#0d0887\"], [0.1111111111111111, \"#46039f\"], [0.2222222222222222, \"#7201a8\"], [0.3333333333333333, \"#9c179e\"], [0.4444444444444444, \"#bd3786\"], [0.5555555555555556, \"#d8576b\"], [0.6666666666666666, \"#ed7953\"], [0.7777777777777778, \"#fb9f3a\"], [0.8888888888888888, \"#fdca26\"], [1.0, \"#f0f921\"]], \"sequentialminus\": [[0.0, \"#0d0887\"], [0.1111111111111111, \"#46039f\"], [0.2222222222222222, \"#7201a8\"], [0.3333333333333333, \"#9c179e\"], [0.4444444444444444, \"#bd3786\"], [0.5555555555555556, \"#d8576b\"], [0.6666666666666666, \"#ed7953\"], [0.7777777777777778, \"#fb9f3a\"], [0.8888888888888888, \"#fdca26\"], [1.0, \"#f0f921\"]]}, \"colorway\": [\"#636efa\", \"#EF553B\", \"#00cc96\", \"#ab63fa\", \"#FFA15A\", \"#19d3f3\", \"#FF6692\", \"#B6E880\", \"#FF97FF\", \"#FECB52\"], \"font\": {\"color\": \"#2a3f5f\"}, \"geo\": {\"bgcolor\": \"white\", \"lakecolor\": \"white\", \"landcolor\": \"#E5ECF6\", \"showlakes\": true, \"showland\": true, \"subunitcolor\": \"white\"}, \"hoverlabel\": {\"align\": \"left\"}, \"hovermode\": \"closest\", \"mapbox\": {\"style\": \"light\"}, \"paper_bgcolor\": \"white\", \"plot_bgcolor\": \"#E5ECF6\", \"polar\": {\"angularaxis\": {\"gridcolor\": \"white\", \"linecolor\": \"white\", \"ticks\": \"\"}, \"bgcolor\": \"#E5ECF6\", \"radialaxis\": {\"gridcolor\": \"white\", \"linecolor\": \"white\", \"ticks\": \"\"}}, \"scene\": {\"xaxis\": {\"backgroundcolor\": \"#E5ECF6\", \"gridcolor\": \"white\", \"gridwidth\": 2, \"linecolor\": \"white\", \"showbackground\": true, \"ticks\": \"\", \"zerolinecolor\": \"white\"}, \"yaxis\": {\"backgroundcolor\": \"#E5ECF6\", \"gridcolor\": \"white\", \"gridwidth\": 2, \"linecolor\": \"white\", \"showbackground\": true, \"ticks\": \"\", \"zerolinecolor\": \"white\"}, \"zaxis\": {\"backgroundcolor\": \"#E5ECF6\", \"gridcolor\": \"white\", \"gridwidth\": 2, \"linecolor\": \"white\", \"showbackground\": true, \"ticks\": \"\", \"zerolinecolor\": \"white\"}}, \"shapedefaults\": {\"line\": {\"color\": \"#2a3f5f\"}}, \"ternary\": {\"aaxis\": {\"gridcolor\": \"white\", \"linecolor\": \"white\", \"ticks\": \"\"}, \"baxis\": {\"gridcolor\": \"white\", \"linecolor\": \"white\", \"ticks\": \"\"}, \"bgcolor\": \"#E5ECF6\", \"caxis\": {\"gridcolor\": \"white\", \"linecolor\": \"white\", \"ticks\": \"\"}}, \"title\": {\"x\": 0.05}, \"xaxis\": {\"automargin\": true, \"gridcolor\": \"white\", \"linecolor\": \"white\", \"ticks\": \"\", \"title\": {\"standoff\": 15}, \"zerolinecolor\": \"white\", \"zerolinewidth\": 2}, \"yaxis\": {\"automargin\": true, \"gridcolor\": \"white\", \"linecolor\": \"white\", \"ticks\": \"\", \"title\": {\"standoff\": 15}, \"zerolinecolor\": \"white\", \"zerolinewidth\": 2}}}, \"title\": {\"font\": {\"color\": \"#4D5663\"}}, \"xaxis\": {\"anchor\": \"y\", \"domain\": [0.0, 0.2125], \"gridcolor\": \"#E1E5ED\", \"showgrid\": false, \"tickfont\": {\"color\": \"#4D5663\"}, \"title\": {\"font\": {\"color\": \"#4D5663\"}, \"text\": \"\"}, \"zerolinecolor\": \"#E1E5ED\"}, \"xaxis10\": {\"anchor\": \"y10\", \"domain\": [0.2625, 0.475], \"gridcolor\": \"#E1E5ED\", \"showgrid\": false, \"tickfont\": {\"color\": \"#4D5663\"}, \"title\": {\"font\": {\"color\": \"#4D5663\"}, \"text\": \"\"}, \"zerolinecolor\": \"#E1E5ED\"}, \"xaxis11\": {\"anchor\": \"y11\", \"domain\": [0.525, 0.7375], \"gridcolor\": \"#E1E5ED\", \"showgrid\": false, \"tickfont\": {\"color\": \"#4D5663\"}, \"title\": {\"font\": {\"color\": \"#4D5663\"}, \"text\": \"\"}, \"zerolinecolor\": \"#E1E5ED\"}, \"xaxis12\": {\"anchor\": \"y12\", \"domain\": [0.7875, 1.0], \"gridcolor\": \"#E1E5ED\", \"showgrid\": false, \"tickfont\": {\"color\": \"#4D5663\"}, \"title\": {\"font\": {\"color\": \"#4D5663\"}, \"text\": \"\"}, \"zerolinecolor\": \"#E1E5ED\"}, \"xaxis13\": {\"anchor\": \"y13\", \"domain\": [0.0, 0.2125], \"gridcolor\": \"#E1E5ED\", \"showgrid\": false, \"tickfont\": {\"color\": \"#4D5663\"}, \"title\": {\"font\": {\"color\": \"#4D5663\"}, \"text\": \"\"}, \"zerolinecolor\": \"#E1E5ED\"}, \"xaxis14\": {\"anchor\": \"y14\", \"domain\": [0.2625, 0.475], \"gridcolor\": \"#E1E5ED\", \"showgrid\": false, \"tickfont\": {\"color\": \"#4D5663\"}, \"title\": {\"font\": {\"color\": \"#4D5663\"}, \"text\": \"\"}, \"zerolinecolor\": \"#E1E5ED\"}, \"xaxis15\": {\"anchor\": \"y15\", \"domain\": [0.525, 0.7375], \"gridcolor\": \"#E1E5ED\", \"showgrid\": false, \"tickfont\": {\"color\": \"#4D5663\"}, \"title\": {\"font\": {\"color\": \"#4D5663\"}, \"text\": \"\"}, \"zerolinecolor\": \"#E1E5ED\"}, \"xaxis16\": {\"anchor\": \"y16\", \"domain\": [0.7875, 1.0], \"gridcolor\": \"#E1E5ED\", \"showgrid\": false, \"tickfont\": {\"color\": \"#4D5663\"}, \"title\": {\"font\": {\"color\": \"#4D5663\"}, \"text\": \"\"}, \"zerolinecolor\": \"#E1E5ED\"}, \"xaxis2\": {\"anchor\": \"y2\", \"domain\": [0.2625, 0.475], \"gridcolor\": \"#E1E5ED\", \"showgrid\": false, \"tickfont\": {\"color\": \"#4D5663\"}, \"title\": {\"font\": {\"color\": \"#4D5663\"}, \"text\": \"\"}, \"zerolinecolor\": \"#E1E5ED\"}, \"xaxis3\": {\"anchor\": \"y3\", \"domain\": [0.525, 0.7375], \"gridcolor\": \"#E1E5ED\", \"showgrid\": false, \"tickfont\": {\"color\": \"#4D5663\"}, \"title\": {\"font\": {\"color\": \"#4D5663\"}, \"text\": \"\"}, \"zerolinecolor\": \"#E1E5ED\"}, \"xaxis4\": {\"anchor\": \"y4\", \"domain\": [0.7875, 1.0], \"gridcolor\": \"#E1E5ED\", \"showgrid\": false, \"tickfont\": {\"color\": \"#4D5663\"}, \"title\": {\"font\": {\"color\": \"#4D5663\"}, \"text\": \"\"}, \"zerolinecolor\": \"#E1E5ED\"}, \"xaxis5\": {\"anchor\": \"y5\", \"domain\": [0.0, 0.2125], \"gridcolor\": \"#E1E5ED\", \"showgrid\": false, \"tickfont\": {\"color\": \"#4D5663\"}, \"title\": {\"font\": {\"color\": \"#4D5663\"}, \"text\": \"\"}, \"zerolinecolor\": \"#E1E5ED\"}, \"xaxis6\": {\"anchor\": \"y6\", \"domain\": [0.2625, 0.475], \"gridcolor\": \"#E1E5ED\", \"showgrid\": false, \"tickfont\": {\"color\": \"#4D5663\"}, \"title\": {\"font\": {\"color\": \"#4D5663\"}, \"text\": \"\"}, \"zerolinecolor\": \"#E1E5ED\"}, \"xaxis7\": {\"anchor\": \"y7\", \"domain\": [0.525, 0.7375], \"gridcolor\": \"#E1E5ED\", \"showgrid\": false, \"tickfont\": {\"color\": \"#4D5663\"}, \"title\": {\"font\": {\"color\": \"#4D5663\"}, \"text\": \"\"}, \"zerolinecolor\": \"#E1E5ED\"}, \"xaxis8\": {\"anchor\": \"y8\", \"domain\": [0.7875, 1.0], \"gridcolor\": \"#E1E5ED\", \"showgrid\": false, \"tickfont\": {\"color\": \"#4D5663\"}, \"title\": {\"font\": {\"color\": \"#4D5663\"}, \"text\": \"\"}, \"zerolinecolor\": \"#E1E5ED\"}, \"xaxis9\": {\"anchor\": \"y9\", \"domain\": [0.0, 0.2125], \"gridcolor\": \"#E1E5ED\", \"showgrid\": false, \"tickfont\": {\"color\": \"#4D5663\"}, \"title\": {\"font\": {\"color\": \"#4D5663\"}, \"text\": \"\"}, \"zerolinecolor\": \"#E1E5ED\"}, \"yaxis\": {\"anchor\": \"x\", \"domain\": [0.8025, 1.0], \"gridcolor\": \"#E1E5ED\", \"showgrid\": false, \"tickfont\": {\"color\": \"#4D5663\"}, \"title\": {\"font\": {\"color\": \"#4D5663\"}, \"text\": \"\"}, \"zerolinecolor\": \"#E1E5ED\"}, \"yaxis10\": {\"anchor\": \"x10\", \"domain\": [0.2675, 0.465], \"gridcolor\": \"#E1E5ED\", \"showgrid\": false, \"tickfont\": {\"color\": \"#4D5663\"}, \"title\": {\"font\": {\"color\": \"#4D5663\"}, \"text\": \"\"}, \"zerolinecolor\": \"#E1E5ED\"}, \"yaxis11\": {\"anchor\": \"x11\", \"domain\": [0.2675, 0.465], \"gridcolor\": \"#E1E5ED\", \"showgrid\": false, \"tickfont\": {\"color\": \"#4D5663\"}, \"title\": {\"font\": {\"color\": \"#4D5663\"}, \"text\": \"\"}, \"zerolinecolor\": \"#E1E5ED\"}, \"yaxis12\": {\"anchor\": \"x12\", \"domain\": [0.2675, 0.465], \"gridcolor\": \"#E1E5ED\", \"showgrid\": false, \"tickfont\": {\"color\": \"#4D5663\"}, \"title\": {\"font\": {\"color\": \"#4D5663\"}, \"text\": \"\"}, \"zerolinecolor\": \"#E1E5ED\"}, \"yaxis13\": {\"anchor\": \"x13\", \"domain\": [0.0, 0.1975], \"gridcolor\": \"#E1E5ED\", \"showgrid\": false, \"tickfont\": {\"color\": \"#4D5663\"}, \"title\": {\"font\": {\"color\": \"#4D5663\"}, \"text\": \"\"}, \"zerolinecolor\": \"#E1E5ED\"}, \"yaxis14\": {\"anchor\": \"x14\", \"domain\": [0.0, 0.1975], \"gridcolor\": \"#E1E5ED\", \"showgrid\": false, \"tickfont\": {\"color\": \"#4D5663\"}, \"title\": {\"font\": {\"color\": \"#4D5663\"}, \"text\": \"\"}, \"zerolinecolor\": \"#E1E5ED\"}, \"yaxis15\": {\"anchor\": \"x15\", \"domain\": [0.0, 0.1975], \"gridcolor\": \"#E1E5ED\", \"showgrid\": false, \"tickfont\": {\"color\": \"#4D5663\"}, \"title\": {\"font\": {\"color\": \"#4D5663\"}, \"text\": \"\"}, \"zerolinecolor\": \"#E1E5ED\"}, \"yaxis16\": {\"anchor\": \"x16\", \"domain\": [0.0, 0.1975], \"gridcolor\": \"#E1E5ED\", \"showgrid\": false, \"tickfont\": {\"color\": \"#4D5663\"}, \"title\": {\"font\": {\"color\": \"#4D5663\"}, \"text\": \"\"}, \"zerolinecolor\": \"#E1E5ED\"}, \"yaxis2\": {\"anchor\": \"x2\", \"domain\": [0.8025, 1.0], \"gridcolor\": \"#E1E5ED\", \"showgrid\": false, \"tickfont\": {\"color\": \"#4D5663\"}, \"title\": {\"font\": {\"color\": \"#4D5663\"}, \"text\": \"\"}, \"zerolinecolor\": \"#E1E5ED\"}, \"yaxis3\": {\"anchor\": \"x3\", \"domain\": [0.8025, 1.0], \"gridcolor\": \"#E1E5ED\", \"showgrid\": false, \"tickfont\": {\"color\": \"#4D5663\"}, \"title\": {\"font\": {\"color\": \"#4D5663\"}, \"text\": \"\"}, \"zerolinecolor\": \"#E1E5ED\"}, \"yaxis4\": {\"anchor\": \"x4\", \"domain\": [0.8025, 1.0], \"gridcolor\": \"#E1E5ED\", \"showgrid\": false, \"tickfont\": {\"color\": \"#4D5663\"}, \"title\": {\"font\": {\"color\": \"#4D5663\"}, \"text\": \"\"}, \"zerolinecolor\": \"#E1E5ED\"}, \"yaxis5\": {\"anchor\": \"x5\", \"domain\": [0.535, 0.7325], \"gridcolor\": \"#E1E5ED\", \"showgrid\": false, \"tickfont\": {\"color\": \"#4D5663\"}, \"title\": {\"font\": {\"color\": \"#4D5663\"}, \"text\": \"\"}, \"zerolinecolor\": \"#E1E5ED\"}, \"yaxis6\": {\"anchor\": \"x6\", \"domain\": [0.535, 0.7325], \"gridcolor\": \"#E1E5ED\", \"showgrid\": false, \"tickfont\": {\"color\": \"#4D5663\"}, \"title\": {\"font\": {\"color\": \"#4D5663\"}, \"text\": \"\"}, \"zerolinecolor\": \"#E1E5ED\"}, \"yaxis7\": {\"anchor\": \"x7\", \"domain\": [0.535, 0.7325], \"gridcolor\": \"#E1E5ED\", \"showgrid\": false, \"tickfont\": {\"color\": \"#4D5663\"}, \"title\": {\"font\": {\"color\": \"#4D5663\"}, \"text\": \"\"}, \"zerolinecolor\": \"#E1E5ED\"}, \"yaxis8\": {\"anchor\": \"x8\", \"domain\": [0.535, 0.7325], \"gridcolor\": \"#E1E5ED\", \"showgrid\": false, \"tickfont\": {\"color\": \"#4D5663\"}, \"title\": {\"font\": {\"color\": \"#4D5663\"}, \"text\": \"\"}, \"zerolinecolor\": \"#E1E5ED\"}, \"yaxis9\": {\"anchor\": \"x9\", \"domain\": [0.2675, 0.465], \"gridcolor\": \"#E1E5ED\", \"showgrid\": false, \"tickfont\": {\"color\": \"#4D5663\"}, \"title\": {\"font\": {\"color\": \"#4D5663\"}, \"text\": \"\"}, \"zerolinecolor\": \"#E1E5ED\"}},\n",
       "                        {\"showLink\": true, \"linkText\": \"Export to plot.ly\", \"plotlyServerURL\": \"https://plot.ly\", \"responsive\": true}\n",
       "                    ).then(function(){\n",
       "                            \n",
       "var gd = document.getElementById('67d68390-43f0-4f25-a1d5-090bd45d11af');\n",
       "var x = new MutationObserver(function (mutations, observer) {{\n",
       "        var display = window.getComputedStyle(gd).display;\n",
       "        if (!display || display === 'none') {{\n",
       "            console.log([gd, 'removed!']);\n",
       "            Plotly.purge(gd);\n",
       "            observer.disconnect();\n",
       "        }}\n",
       "}});\n",
       "\n",
       "// Listen for the removal of the full notebook cells\n",
       "var notebookContainer = gd.closest('#notebook-container');\n",
       "if (notebookContainer) {{\n",
       "    x.observe(notebookContainer, {childList: true});\n",
       "}}\n",
       "\n",
       "// Listen for the clearing of the current output cell\n",
       "var outputEl = gd.closest('.output');\n",
       "if (outputEl) {{\n",
       "    x.observe(outputEl, {childList: true});\n",
       "}}\n",
       "\n",
       "                        })\n",
       "                };\n",
       "                });\n",
       "            </script>\n",
       "        </div>"
      ]
     },
     "metadata": {},
     "output_type": "display_data"
    }
   ],
   "source": [
    "df.scatter_matrix()"
   ]
  },
  {
   "cell_type": "markdown",
   "metadata": {
    "collapsed": true
   },
   "source": [
    "# Great Job!"
   ]
  }
 ],
 "metadata": {
  "kernelspec": {
   "display_name": "Python 3",
   "language": "python",
   "name": "python3"
  },
  "language_info": {
   "codemirror_mode": {
    "name": "ipython",
    "version": 3
   },
   "file_extension": ".py",
   "mimetype": "text/x-python",
   "name": "python",
   "nbconvert_exporter": "python",
   "pygments_lexer": "ipython3",
   "version": "3.7.3"
  }
 },
 "nbformat": 4,
 "nbformat_minor": 1
}
